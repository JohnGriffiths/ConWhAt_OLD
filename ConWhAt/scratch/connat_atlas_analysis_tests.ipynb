{
 "metadata": {
  "css": [
   ""
  ],
  "name": "",
  "signature": "sha256:adcfd060cc8701cef70d2ea9838d46356a2439d5c6179dc0b732a8eef4ff4d6a"
 },
 "nbformat": 3,
 "nbformat_minor": 0,
 "worksheets": [
  {
   "cells": [
    {
     "cell_type": "heading",
     "level": 1,
     "metadata": {},
     "source": [
      "Connat Atlas Analysis Tests"
     ]
    },
    {
     "cell_type": "code",
     "collapsed": false,
     "input": [
      "%matplotlib inline\n",
      "import seaborn as sns\n",
      "from nilearn.plotting import plot_stat_map\n",
      "import os,sys\n",
     ],
     "language": "python",
     "metadata": {},
     "outputs": [],
     "prompt_number": 124
    },
    {
     "cell_type": "code",
     "collapsed": false,
     "input": [
      "conwhat_dir = '/home/jgriffiths/Code/libraries_of_mine/github/ConWhAt'#;###/ConWhAt'\n",
      "scratch_dir = conwhat_dir  + '/ConWhAt/scratch'\n",
      "os.chdir(scratch_dir)\n",
      "sys.path.append(conwhat_dir)"
     ],
     "language": "python",
     "metadata": {},
     "outputs": [],
     "prompt_number": 125
    },
    {
     "cell_type": "code",
     "collapsed": false,
     "input": [
      "import ConWhAt\n",
      "from ConWhAt.volumetric import VolConnAtlas"
     ],
     "language": "python",
     "metadata": {},
     "outputs": [],
     "prompt_number": 126
    },
    {
     "cell_type": "code",
     "collapsed": false,
     "input": [
      "va = VolConnAtlas('dipy_dsi_sd4_l2k8_sc33')"
     ],
     "language": "python",
     "metadata": {},
     "outputs": [],
     "prompt_number": 127
    },
    {
     "cell_type": "code",
     "collapsed": false,
     "input": [
      "at_dir = '/home/jgriffiths/Code/libraries_of_mine/github/ConWhAt/ConWhAt/atlases/volumetric/dipy_dsi_sd4_l2k8_sc33'"
     ],
     "language": "python",
     "metadata": {},
     "outputs": [],
     "prompt_number": 128
    },
    {
     "cell_type": "code",
     "collapsed": false,
     "input": [
      "va.at_dir = at_dir"
     ],
     "language": "python",
     "metadata": {},
     "outputs": [],
     "prompt_number": 129
    },
    {
     "cell_type": "code",
     "collapsed": false,
     "input": [
      "test_file = 'test_lesionmask_rs1mm.nii.gz'"
     ],
     "language": "python",
     "metadata": {},
     "outputs": [],
     "prompt_number": 130
    },
    {
     "cell_type": "code",
     "collapsed": false,
     "input": [
      "idxs = [1,2,3]"
     ],
     "language": "python",
     "metadata": {},
     "outputs": [],
     "prompt_number": 131
    },
    {
     "cell_type": "code",
     "collapsed": false,
     "input": [
      "%timeit -n 1 res = va.compute_hit_stats(test_file,idxs)"
     ],
     "language": "python",
     "metadata": {},
     "outputs": [
      {
       "output_type": "stream",
       "stream": "stdout",
       "text": [
        "computing hit stats for roi test_lesionmask_rs1mm.nii.gz\n",
        "computing hit stats for roi test_lesionmask_rs1mm.nii.gz"
       ]
      },
      {
       "output_type": "stream",
       "stream": "stdout",
       "text": [
        "\n",
        "computing hit stats for roi test_lesionmask_rs1mm.nii.gz"
       ]
      },
      {
       "output_type": "stream",
       "stream": "stdout",
       "text": [
        "\n",
        "1 loops, best of 3: 5.05 s per loop"
       ]
      },
      {
       "output_type": "stream",
       "stream": "stdout",
       "text": [
        "\n"
       ]
      }
     ],
     "prompt_number": 132
    },
    {
     "cell_type": "code",
     "collapsed": false,
     "input": [
      "%timeit -n 1 res = va.compute_hit_stats(test_file,idxs)"
     ],
     "language": "python",
     "metadata": {},
     "outputs": [
      {
       "output_type": "stream",
       "stream": "stdout",
       "text": [
        "computing hit stats for roi test_lesionmask_rs1mm.nii.gz\n",
        "computing hit stats for roi test_lesionmask_rs1mm.nii.gz"
       ]
      },
      {
       "output_type": "stream",
       "stream": "stdout",
       "text": [
        "\n",
        "computing hit stats for roi test_lesionmask_rs1mm.nii.gz"
       ]
      },
      {
       "output_type": "stream",
       "stream": "stdout",
       "text": [
        "\n",
        "1 loops, best of 3: 6.66 s per loop"
       ]
      },
      {
       "output_type": "stream",
       "stream": "stdout",
       "text": [
        "\n"
       ]
      }
     ],
     "prompt_number": 13
    },
    {
     "cell_type": "code",
     "collapsed": false,
     "input": [
      "%timeit -n 1 res = va.compute_hit_stats(test_file,idxs,readwith='index_img')"
     ],
     "language": "python",
     "metadata": {},
     "outputs": [
      {
       "output_type": "stream",
       "stream": "stdout",
       "text": [
        "computing hit stats for roi test_lesionmask_rs1mm.nii.gz\n",
        "computing hit stats for roi test_lesionmask_rs1mm.nii.gz"
       ]
      },
      {
       "output_type": "stream",
       "stream": "stdout",
       "text": [
        "\n",
        "computing hit stats for roi test_lesionmask_rs1mm.nii.gz"
       ]
      },
      {
       "output_type": "stream",
       "stream": "stdout",
       "text": [
        "\n",
        "1 loops, best of 3: 1min 13s per loop"
       ]
      },
      {
       "output_type": "stream",
       "stream": "stdout",
       "text": [
        "\n"
       ]
      }
     ],
     "prompt_number": 17
    },
    {
     "cell_type": "code",
     "collapsed": false,
     "input": [
      "%timeit -n 1 res = va.compute_hit_stats(test_file,idxs,readwith='indexgzip')"
     ],
     "language": "python",
     "metadata": {},
     "outputs": [
      {
       "output_type": "stream",
       "stream": "stdout",
       "text": [
        "computing hit stats for roi test_lesionmask_rs1mm.nii.gz\n",
        "computing hit stats for roi test_lesionmask_rs1mm.nii.gz"
       ]
      },
      {
       "output_type": "stream",
       "stream": "stdout",
       "text": [
        "\n",
        "computing hit stats for roi test_lesionmask_rs1mm.nii.gz"
       ]
      },
      {
       "output_type": "stream",
       "stream": "stdout",
       "text": [
        "\n",
        "1 loops, best of 3: 6.53 s per loop"
       ]
      },
      {
       "output_type": "stream",
       "stream": "stdout",
       "text": [
        "\n"
       ]
      }
     ],
     "prompt_number": 16
    },
    {
     "cell_type": "markdown",
     "metadata": {},
     "source": [
      "alternative hit stats function"
     ]
    },
    {
     "cell_type": "code",
     "collapsed": false,
     "input": [
      "%timeit -n 1 res = va.compute_hit_stats_test(test_file,idxs)"
     ],
     "language": "python",
     "metadata": {},
     "outputs": [
      {
       "output_type": "stream",
       "stream": "stdout",
       "text": [
        "computing hit stats for roi test_lesionmask_rs1mm.nii.gz\n",
        "computing hit stats for roi test_lesionmask_rs1mm.nii.gz"
       ]
      },
      {
       "output_type": "stream",
       "stream": "stdout",
       "text": [
        "\n",
        "computing hit stats for roi test_lesionmask_rs1mm.nii.gz"
       ]
      },
      {
       "output_type": "stream",
       "stream": "stdout",
       "text": [
        "\n",
        "1 loops, best of 3: 26.6 s per loop"
       ]
      },
      {
       "output_type": "stream",
       "stream": "stdout",
       "text": [
        "\n"
       ]
      }
     ],
     "prompt_number": 20
    },
    {
     "cell_type": "markdown",
     "metadata": {},
     "source": [
      "try using tmp folder"
     ]
    },
    {
     "cell_type": "code",
     "collapsed": false,
     "input": [
      "va.at_dir = '/tmp/nifti_io_testing/dipy_dsi_sd4_l2k8_sc33'"
     ],
     "language": "python",
     "metadata": {},
     "outputs": [],
     "prompt_number": 24
    },
    {
     "cell_type": "code",
     "collapsed": false,
     "input": [
      "%timeit -n 1 res = va.compute_hit_stats(test_file,idxs)"
     ],
     "language": "python",
     "metadata": {},
     "outputs": [
      {
       "output_type": "stream",
       "stream": "stdout",
       "text": [
        "computing hit stats for roi test_lesionmask_rs1mm.nii.gz\n",
        "computing hit stats for roi test_lesionmask_rs1mm.nii.gz"
       ]
      },
      {
       "output_type": "stream",
       "stream": "stdout",
       "text": [
        "\n",
        "computing hit stats for roi test_lesionmask_rs1mm.nii.gz"
       ]
      },
      {
       "output_type": "stream",
       "stream": "stdout",
       "text": [
        "\n",
        "1 loops, best of 3: 6.69 s per loop"
       ]
      },
      {
       "output_type": "stream",
       "stream": "stdout",
       "text": [
        "\n"
       ]
      }
     ],
     "prompt_number": 25
    },
    {
     "cell_type": "code",
     "collapsed": false,
     "input": [
      "va.at_dir = '/tmp/nifti_io_testing/dipy_dsi_sd4_l2k8_sc33'"
     ],
     "language": "python",
     "metadata": {},
     "outputs": [],
     "prompt_number": 26
    },
    {
     "cell_type": "code",
     "collapsed": false,
     "input": [
      "%timeit -n 1 res = va.compute_hit_stats(test_file,idxs)"
     ],
     "language": "python",
     "metadata": {},
     "outputs": [
      {
       "output_type": "stream",
       "stream": "stdout",
       "text": [
        "computing hit stats for roi test_lesionmask_rs1mm.nii.gz\n",
        "computing hit stats for roi test_lesionmask_rs1mm.nii.gz"
       ]
      },
      {
       "output_type": "stream",
       "stream": "stdout",
       "text": [
        "\n",
        "computing hit stats for roi test_lesionmask_rs1mm.nii.gz"
       ]
      },
      {
       "output_type": "stream",
       "stream": "stdout",
       "text": [
        "\n",
        "1 loops, best of 3: 7.04 s per loop"
       ]
      },
      {
       "output_type": "stream",
       "stream": "stdout",
       "text": [
        "\n"
       ]
      }
     ],
     "prompt_number": 27
    },
    {
     "cell_type": "markdown",
     "metadata": {},
     "source": [
      "---"
     ]
    },
    {
     "cell_type": "markdown",
     "metadata": {},
     "source": [
      "try reading from tmp"
     ]
    },
    {
     "cell_type": "code",
     "collapsed": false,
     "input": [
      "va.at_dir = '/tmp/nifti_io_testing/dipy_dsi_sd4_l2k8_sc33'"
     ],
     "language": "python",
     "metadata": {},
     "outputs": [],
     "prompt_number": 19
    },
    {
     "cell_type": "code",
     "collapsed": false,
     "input": [
      "%timeit -n 1 res = va.compute_hit_stats(test_file,idxs,readwith='indexgzip')"
     ],
     "language": "python",
     "metadata": {},
     "outputs": []
    },
    {
     "cell_type": "markdown",
     "metadata": {},
     "source": [
      "---"
     ]
    },
    {
     "cell_type": "markdown",
     "metadata": {},
     "source": [
      "try making sparse matrix"
     ]
    },
    {
     "cell_type": "code",
     "collapsed": false,
     "input": [
      "ls"
     ],
     "language": "python",
     "metadata": {
      "run_control": {
       "state": "n"
      }
     },
     "outputs": [
      {
       "output_type": "stream",
       "stream": "stdout",
       "text": [
        "/home/john/Software/anaconda/envs/_ipython2.4/lib/python2.7/site-packages/matplotlib/font_manager.py:273: UserWarning: Matplotlib is building the font cache using fc-list. This may take a moment.\n",
        "  warnings.warn('Matplotlib is building the font cache using fc-list. This may take a moment.')\n"
       ]
      }
     ],
    },
    {
     "cell_type": "code",
     "collapsed": false,
     "input": [
      "conwhat_dir = '/media/sf_SharedFolder/Code/libraries_of_mine/github/ConWhAt'\n",
      "scratch_dir = conwhat_dir  + '/ConWhAt/scratch'\n",
      "os.chdir(scratch_dir)\n",
      "sys.path.append(conwhat_dir)"
     ],
     "language": "python",
     "metadata": {},
     "outputs": [
      {
       "output_type": "stream",
       "stream": "stdout",
       "text": [
        "/home/jgriffiths/Code/libraries_of_mine/github/ConWhAt/ConWhAt\n"
       ]
      }
     ],
     "prompt_number": 39
    },
    {
     "cell_type": "code",
     "collapsed": false,
     "input": [
      "f = 'atlases/volumetric/dipy_dsi_sd4_l2k8_sc33/vismap_grp_cat_rois_v2_2_norm.nii.gz'"
>>>>>>> 08a3847844d40f3d9cc9f8c86c1b2bc593b8456f
     ],
     "language": "python",
     "metadata": {
      "run_control": {
       "state": "n"
      }
     },
     "outputs": [],
<<<<<<< HEAD
     "prompt_number": 2
=======
     "prompt_number": 42
>>>>>>> 08a3847844d40f3d9cc9f8c86c1b2bc593b8456f
    },
    {
     "cell_type": "code",
     "collapsed": false,
     "input": [
<<<<<<< HEAD
      "import ConWhAt"
=======
      "import nibabel as nib\n",
      "import csv"
>>>>>>> 08a3847844d40f3d9cc9f8c86c1b2bc593b8456f
     ],
     "language": "python",
     "metadata": {
      "run_control": {
       "state": "n"
      }
     },
     "outputs": [],
<<<<<<< HEAD
     "prompt_number": 3
=======
     "prompt_number": 48
>>>>>>> 08a3847844d40f3d9cc9f8c86c1b2bc593b8456f
    },
    {
     "cell_type": "code",
     "collapsed": false,
     "input": [
<<<<<<< HEAD
      "from ConWhAt.volumetric import VolConnAtlas"
=======
      "img = nib.load(f)"
>>>>>>> 08a3847844d40f3d9cc9f8c86c1b2bc593b8456f
     ],
     "language": "python",
     "metadata": {
      "run_control": {
       "state": "n"
      }
     },
     "outputs": [],
<<<<<<< HEAD
     "prompt_number": 4
=======
     "prompt_number": 45
>>>>>>> 08a3847844d40f3d9cc9f8c86c1b2bc593b8456f
    },
    {
     "cell_type": "code",
     "collapsed": false,
     "input": [
<<<<<<< HEAD
      "va = VolConnAtlas('dipy_dsi_sd4_l2k8_sc33')"
=======
      "dat = img.get_data()#[:,:,:,0].ravel()"
>>>>>>> 08a3847844d40f3d9cc9f8c86c1b2bc593b8456f
     ],
     "language": "python",
     "metadata": {
      "run_control": {
       "state": "n"
      }
     },
     "outputs": [],
<<<<<<< HEAD
     "prompt_number": 5
=======
     "prompt_number": 114
>>>>>>> 08a3847844d40f3d9cc9f8c86c1b2bc593b8456f
    },
    {
     "cell_type": "code",
     "collapsed": false,
     "input": [
<<<<<<< HEAD
      "test_file = 'test_lesionmask_rs1mm.nii.gz' #llesion_test_file_from_jhu.nii.gz'# 'mni_lesionmask_12331_rs1mm.nii.gz'"
=======
      "csr_dat = csr_matrix([dat[:,:,:,i].ravel() for i in np.arange(img.shape[3]-1)])"
>>>>>>> 08a3847844d40f3d9cc9f8c86c1b2bc593b8456f
     ],
     "language": "python",
     "metadata": {
      "run_control": {
       "state": "n"
      }
     },
     "outputs": [],
<<<<<<< HEAD
     "prompt_number": 6
=======
     "prompt_number": 118
>>>>>>> 08a3847844d40f3d9cc9f8c86c1b2bc593b8456f
    },
    {
     "cell_type": "code",
     "collapsed": false,
     "input": [
<<<<<<< HEAD
      "plot_stat_map(test_file,vmax=2.)"
=======
      "csr_dat.shape"
>>>>>>> 08a3847844d40f3d9cc9f8c86c1b2bc593b8456f
     ],
     "language": "python",
     "metadata": {
      "run_control": {
       "state": "n"
      }
     },
     "outputs": [
      {
       "metadata": {},
       "output_type": "pyout",
<<<<<<< HEAD
       "prompt_number": 18,
       "text": [
        "<nilearn.plotting.displays.OrthoSlicer at 0x7fc368a67fd0>"
       ]
      },
      {
       "metadata": {},
       "output_type": "display_data",
       "png": "iVBORw0KGgoAAAANSUhEUgAAAjsAAADfCAYAAAAQnBLmAAAABHNCSVQICAgIfAhkiAAAAAlwSFlz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\nDmfxFWVs13YAAAAASUVORK5CYII=\n",
       "text": [
        "<matplotlib.figure.Figure at 0x7fc3a2209290>"
       ]
      }
     ],
     "prompt_number": 18
=======
       "prompt_number": 119,
       "text": [
        "(83, 7221032)"
       ]
      }
     ],
     "prompt_number": 119
    },
    {
     "cell_type": "code",
     "collapsed": false,
     "input": [],
     "language": "python",
     "metadata": {},
     "outputs": []
    },
    {
     "cell_type": "code",
     "collapsed": false,
     "input": [],
     "language": "python",
     "metadata": {},
     "outputs": []
    },
    {
     "cell_type": "code",
     "collapsed": false,
     "input": [],
     "language": "python",
     "metadata": {},
     "outputs": []
    },
    {
     "cell_type": "code",
     "collapsed": false,
     "input": [],
     "language": "python",
     "metadata": {},
     "outputs": []
    },
    {
     "cell_type": "code",
     "collapsed": false,
     "input": [],
     "language": "python",
     "metadata": {},
     "outputs": []
>>>>>>> 08a3847844d40f3d9cc9f8c86c1b2bc593b8456f
    },
    {
     "cell_type": "code",
     "collapsed": false,
     "input": [
<<<<<<< HEAD
      "idxs = [0,3,5,7]"
=======
      "import h5py"
>>>>>>> 08a3847844d40f3d9cc9f8c86c1b2bc593b8456f
     ],
     "language": "python",
     "metadata": {
      "run_control": {
       "state": "n"
      }
     },
     "outputs": [],
<<<<<<< HEAD
     "prompt_number": 19
=======
     "prompt_number": 95
>>>>>>> 08a3847844d40f3d9cc9f8c86c1b2bc593b8456f
    },
    {
     "cell_type": "code",
     "collapsed": false,
     "input": [
<<<<<<< HEAD
      "va.at_dir = '/media/sf_SharedFolder/Code/libraries_of_mine/github/ConWhAt/ConWhAt/atlases/volumetric/dipy_dsi_sd4_l2k8_sc33'"
=======
      "F = h5py.File('test_sparser.h5', 'w')"
>>>>>>> 08a3847844d40f3d9cc9f8c86c1b2bc593b8456f
     ],
     "language": "python",
     "metadata": {
      "run_control": {
       "state": "n"
      }
     },
     "outputs": [],
<<<<<<< HEAD
     "prompt_number": 21
=======
     "prompt_number": 96
>>>>>>> 08a3847844d40f3d9cc9f8c86c1b2bc593b8456f
    },
    {
     "cell_type": "code",
     "collapsed": false,
     "input": [
<<<<<<< HEAD
      "res,df = va.compute_hit_stats(test_file,idxs)"
     ],
     "language": "python",
     "metadata": {
      "run_control": {
       "state": "n"
      }
     },
     "outputs": [
      {
       "output_type": "stream",
       "stream": "stdout",
       "text": [
        "computing hit stats for roi test_lesionmask_rs1mm.nii.gz\n"
       ]
      },
      {
       "ename": "KeyboardInterrupt",
       "evalue": "",
       "output_type": "pyerr",
       "traceback": [
        "\u001b[1;31m---------------------------------------------------------------------------\u001b[0m\n\u001b[1;31mKeyboardInterrupt\u001b[0m                         Traceback (most recent call last)",
        "\u001b[1;32m<ipython-input-22-80d438e25b97>\u001b[0m in \u001b[0;36m<module>\u001b[1;34m()\u001b[0m\n\u001b[1;32m----> 1\u001b[1;33m \u001b[0mres\u001b[0m\u001b[1;33m,\u001b[0m\u001b[0mdf\u001b[0m \u001b[1;33m=\u001b[0m \u001b[0mva\u001b[0m\u001b[1;33m.\u001b[0m\u001b[0mcompute_hit_stats\u001b[0m\u001b[1;33m(\u001b[0m\u001b[0mtest_file\u001b[0m\u001b[1;33m,\u001b[0m\u001b[0midxs\u001b[0m\u001b[1;33m)\u001b[0m\u001b[1;33m\u001b[0m\u001b[0m\n\u001b[0m",
        "\u001b[1;32m/media/sf_SharedFolder/Code/libraries_of_mine/github/ConWhAt/ConWhAt/volumetric/atlas_volumetric.py\u001b[0m in \u001b[0;36mcompute_hit_stats\u001b[1;34m(self, roi_file, idxs)\u001b[0m\n\u001b[0;32m     72\u001b[0m       \u001b[0mcnxn_img\u001b[0m \u001b[1;33m=\u001b[0m \u001b[0mindex_img\u001b[0m\u001b[1;33m(\u001b[0m\u001b[0m_file\u001b[0m\u001b[1;33m,\u001b[0m\u001b[0m_vol\u001b[0m\u001b[1;33m)\u001b[0m\u001b[1;33m\u001b[0m\u001b[0m\n\u001b[0;32m     73\u001b[0m \u001b[1;33m\u001b[0m\u001b[0m\n\u001b[1;32m---> 74\u001b[1;33m       \u001b[0mcomp\u001b[0m \u001b[1;33m=\u001b[0m \u001b[0mcompare_images\u001b[0m\u001b[1;33m(\u001b[0m\u001b[0mroi_img\u001b[0m\u001b[1;33m,\u001b[0m\u001b[0mcnxn_img\u001b[0m\u001b[1;33m)\u001b[0m\u001b[1;33m\u001b[0m\u001b[0m\n\u001b[0m\u001b[0;32m     75\u001b[0m \u001b[1;33m\u001b[0m\u001b[0m\n\u001b[0;32m     76\u001b[0m       \u001b[0mres\u001b[0m\u001b[1;33m.\u001b[0m\u001b[0mappend\u001b[0m\u001b[1;33m(\u001b[0m\u001b[1;33m[\u001b[0m\u001b[0m_name\u001b[0m\u001b[1;33m,\u001b[0m\u001b[0m_file\u001b[0m\u001b[1;33m,\u001b[0m\u001b[0m_vol\u001b[0m\u001b[1;33m,\u001b[0m\u001b[0mcomp\u001b[0m\u001b[1;33m]\u001b[0m\u001b[1;33m)\u001b[0m\u001b[1;33m\u001b[0m\u001b[0m\n",
        "\u001b[1;32m/media/sf_SharedFolder/Code/libraries_of_mine/github/ConWhAt/ConWhAt/base/hit_stats.pyc\u001b[0m in \u001b[0;36mcompare_images\u001b[1;34m(f1, f2, thr1, thr2)\u001b[0m\n\u001b[0;32m     75\u001b[0m   \u001b[1;32melse\u001b[0m\u001b[1;33m:\u001b[0m\u001b[1;33m\u001b[0m\u001b[0m\n\u001b[0;32m     76\u001b[0m     \u001b[0mimg1\u001b[0m \u001b[1;33m=\u001b[0m \u001b[0mf1\u001b[0m\u001b[1;33m\u001b[0m\u001b[0m\n\u001b[1;32m---> 77\u001b[1;33m     \u001b[0mdat1\u001b[0m \u001b[1;33m=\u001b[0m \u001b[0mimg1\u001b[0m\u001b[1;33m.\u001b[0m\u001b[0mget_data\u001b[0m\u001b[1;33m(\u001b[0m\u001b[1;33m)\u001b[0m\u001b[1;33m\u001b[0m\u001b[0m\n\u001b[0m\u001b[0;32m     78\u001b[0m \u001b[1;33m\u001b[0m\u001b[0m\n\u001b[0;32m     79\u001b[0m \u001b[1;33m\u001b[0m\u001b[0m\n",
        "\u001b[1;32m/home/john/Software/anaconda/envs/_ipython2.4/lib/python2.7/site-packages/nibabel/spatialimages.pyc\u001b[0m in \u001b[0;36mget_data\u001b[1;34m(self, caching)\u001b[0m\n\u001b[0;32m    580\u001b[0m         \u001b[1;32mif\u001b[0m \u001b[0mself\u001b[0m\u001b[1;33m.\u001b[0m\u001b[0m_data_cache\u001b[0m \u001b[1;32mis\u001b[0m \u001b[1;32mnot\u001b[0m \u001b[0mNone\u001b[0m\u001b[1;33m:\u001b[0m\u001b[1;33m\u001b[0m\u001b[0m\n\u001b[0;32m    581\u001b[0m             \u001b[1;32mreturn\u001b[0m \u001b[0mself\u001b[0m\u001b[1;33m.\u001b[0m\u001b[0m_data_cache\u001b[0m\u001b[1;33m\u001b[0m\u001b[0m\n\u001b[1;32m--> 582\u001b[1;33m         \u001b[0mdata\u001b[0m \u001b[1;33m=\u001b[0m \u001b[0mnp\u001b[0m\u001b[1;33m.\u001b[0m\u001b[0masanyarray\u001b[0m\u001b[1;33m(\u001b[0m\u001b[0mself\u001b[0m\u001b[1;33m.\u001b[0m\u001b[0m_dataobj\u001b[0m\u001b[1;33m)\u001b[0m\u001b[1;33m\u001b[0m\u001b[0m\n\u001b[0m\u001b[0;32m    583\u001b[0m         \u001b[1;32mif\u001b[0m \u001b[0mcaching\u001b[0m \u001b[1;33m==\u001b[0m \u001b[1;34m'fill'\u001b[0m\u001b[1;33m:\u001b[0m\u001b[1;33m\u001b[0m\u001b[0m\n\u001b[0;32m    584\u001b[0m             \u001b[0mself\u001b[0m\u001b[1;33m.\u001b[0m\u001b[0m_data_cache\u001b[0m \u001b[1;33m=\u001b[0m \u001b[0mdata\u001b[0m\u001b[1;33m\u001b[0m\u001b[0m\n",
        "\u001b[1;32m/home/john/Software/anaconda/envs/_ipython2.4/lib/python2.7/site-packages/numpy/core/numeric.pyc\u001b[0m in \u001b[0;36masanyarray\u001b[1;34m(a, dtype, order)\u001b[0m\n\u001b[0;32m    531\u001b[0m \u001b[1;33m\u001b[0m\u001b[0m\n\u001b[0;32m    532\u001b[0m     \"\"\"\n\u001b[1;32m--> 533\u001b[1;33m     \u001b[1;32mreturn\u001b[0m \u001b[0marray\u001b[0m\u001b[1;33m(\u001b[0m\u001b[0ma\u001b[0m\u001b[1;33m,\u001b[0m \u001b[0mdtype\u001b[0m\u001b[1;33m,\u001b[0m \u001b[0mcopy\u001b[0m\u001b[1;33m=\u001b[0m\u001b[0mFalse\u001b[0m\u001b[1;33m,\u001b[0m \u001b[0morder\u001b[0m\u001b[1;33m=\u001b[0m\u001b[0morder\u001b[0m\u001b[1;33m,\u001b[0m \u001b[0msubok\u001b[0m\u001b[1;33m=\u001b[0m\u001b[0mTrue\u001b[0m\u001b[1;33m)\u001b[0m\u001b[1;33m\u001b[0m\u001b[0m\n\u001b[0m\u001b[0;32m    534\u001b[0m \u001b[1;33m\u001b[0m\u001b[0m\n\u001b[0;32m    535\u001b[0m \u001b[1;32mdef\u001b[0m \u001b[0mascontiguousarray\u001b[0m\u001b[1;33m(\u001b[0m\u001b[0ma\u001b[0m\u001b[1;33m,\u001b[0m \u001b[0mdtype\u001b[0m\u001b[1;33m=\u001b[0m\u001b[0mNone\u001b[0m\u001b[1;33m)\u001b[0m\u001b[1;33m:\u001b[0m\u001b[1;33m\u001b[0m\u001b[0m\n",
        "\u001b[1;32m/home/john/Software/anaconda/envs/_ipython2.4/lib/python2.7/site-packages/nibabel/arrayproxy.pyc\u001b[0m in \u001b[0;36m__array__\u001b[1;34m(self)\u001b[0m\n\u001b[0;32m    142\u001b[0m     \u001b[1;32mdef\u001b[0m \u001b[0m__array__\u001b[0m\u001b[1;33m(\u001b[0m\u001b[0mself\u001b[0m\u001b[1;33m)\u001b[0m\u001b[1;33m:\u001b[0m\u001b[1;33m\u001b[0m\u001b[0m\n\u001b[0;32m    143\u001b[0m         \u001b[1;31m# Read array and scale\u001b[0m\u001b[1;33m\u001b[0m\u001b[1;33m\u001b[0m\u001b[0m\n\u001b[1;32m--> 144\u001b[1;33m         \u001b[0mraw_data\u001b[0m \u001b[1;33m=\u001b[0m \u001b[0mself\u001b[0m\u001b[1;33m.\u001b[0m\u001b[0mget_unscaled\u001b[0m\u001b[1;33m(\u001b[0m\u001b[1;33m)\u001b[0m\u001b[1;33m\u001b[0m\u001b[0m\n\u001b[0m\u001b[0;32m    145\u001b[0m         \u001b[1;32mreturn\u001b[0m \u001b[0mapply_read_scaling\u001b[0m\u001b[1;33m(\u001b[0m\u001b[0mraw_data\u001b[0m\u001b[1;33m,\u001b[0m \u001b[0mself\u001b[0m\u001b[1;33m.\u001b[0m\u001b[0m_slope\u001b[0m\u001b[1;33m,\u001b[0m \u001b[0mself\u001b[0m\u001b[1;33m.\u001b[0m\u001b[0m_inter\u001b[0m\u001b[1;33m)\u001b[0m\u001b[1;33m\u001b[0m\u001b[0m\n\u001b[0;32m    146\u001b[0m \u001b[1;33m\u001b[0m\u001b[0m\n",
        "\u001b[1;32m/home/john/Software/anaconda/envs/_ipython2.4/lib/python2.7/site-packages/nibabel/arrayproxy.pyc\u001b[0m in \u001b[0;36mget_unscaled\u001b[1;34m(self)\u001b[0m\n\u001b[0;32m    137\u001b[0m                                        \u001b[0moffset\u001b[0m\u001b[1;33m=\u001b[0m\u001b[0mself\u001b[0m\u001b[1;33m.\u001b[0m\u001b[0m_offset\u001b[0m\u001b[1;33m,\u001b[0m\u001b[1;33m\u001b[0m\u001b[0m\n\u001b[0;32m    138\u001b[0m                                        \u001b[0morder\u001b[0m\u001b[1;33m=\u001b[0m\u001b[0mself\u001b[0m\u001b[1;33m.\u001b[0m\u001b[0morder\u001b[0m\u001b[1;33m,\u001b[0m\u001b[1;33m\u001b[0m\u001b[0m\n\u001b[1;32m--> 139\u001b[1;33m                                        mmap=self._mmap)\n\u001b[0m\u001b[0;32m    140\u001b[0m         \u001b[1;32mreturn\u001b[0m \u001b[0mraw_data\u001b[0m\u001b[1;33m\u001b[0m\u001b[0m\n\u001b[0;32m    141\u001b[0m \u001b[1;33m\u001b[0m\u001b[0m\n",
        "\u001b[1;32m/home/john/Software/anaconda/envs/_ipython2.4/lib/python2.7/site-packages/nibabel/volumeutils.pyc\u001b[0m in \u001b[0;36marray_from_file\u001b[1;34m(shape, in_dtype, infile, offset, order, mmap)\u001b[0m\n\u001b[0;32m    515\u001b[0m     \u001b[1;32mif\u001b[0m \u001b[0mhasattr\u001b[0m\u001b[1;33m(\u001b[0m\u001b[0minfile\u001b[0m\u001b[1;33m,\u001b[0m \u001b[1;34m'readinto'\u001b[0m\u001b[1;33m)\u001b[0m\u001b[1;33m:\u001b[0m\u001b[1;33m\u001b[0m\u001b[0m\n\u001b[0;32m    516\u001b[0m         \u001b[0mdata_bytes\u001b[0m \u001b[1;33m=\u001b[0m \u001b[0mbytearray\u001b[0m\u001b[1;33m(\u001b[0m\u001b[0mn_bytes\u001b[0m\u001b[1;33m)\u001b[0m\u001b[1;33m\u001b[0m\u001b[0m\n\u001b[1;32m--> 517\u001b[1;33m         \u001b[0mn_read\u001b[0m \u001b[1;33m=\u001b[0m \u001b[0minfile\u001b[0m\u001b[1;33m.\u001b[0m\u001b[0mreadinto\u001b[0m\u001b[1;33m(\u001b[0m\u001b[0mdata_bytes\u001b[0m\u001b[1;33m)\u001b[0m\u001b[1;33m\u001b[0m\u001b[0m\n\u001b[0m\u001b[0;32m    518\u001b[0m         \u001b[0mneeds_copy\u001b[0m \u001b[1;33m=\u001b[0m \u001b[0mFalse\u001b[0m\u001b[1;33m\u001b[0m\u001b[0m\n\u001b[0;32m    519\u001b[0m     \u001b[1;32melse\u001b[0m\u001b[1;33m:\u001b[0m\u001b[1;33m\u001b[0m\u001b[0m\n",
        "\u001b[1;32m/home/john/Software/anaconda/envs/_ipython2.4/lib/python2.7/gzip.pyc\u001b[0m in \u001b[0;36mread\u001b[1;34m(self, size)\u001b[0m\n\u001b[0;32m    266\u001b[0m             \u001b[1;32mtry\u001b[0m\u001b[1;33m:\u001b[0m\u001b[1;33m\u001b[0m\u001b[0m\n\u001b[0;32m    267\u001b[0m                 \u001b[1;32mwhile\u001b[0m \u001b[0msize\u001b[0m \u001b[1;33m>\u001b[0m \u001b[0mself\u001b[0m\u001b[1;33m.\u001b[0m\u001b[0mextrasize\u001b[0m\u001b[1;33m:\u001b[0m\u001b[1;33m\u001b[0m\u001b[0m\n\u001b[1;32m--> 268\u001b[1;33m                     \u001b[0mself\u001b[0m\u001b[1;33m.\u001b[0m\u001b[0m_read\u001b[0m\u001b[1;33m(\u001b[0m\u001b[0mreadsize\u001b[0m\u001b[1;33m)\u001b[0m\u001b[1;33m\u001b[0m\u001b[0m\n\u001b[0m\u001b[0;32m    269\u001b[0m                     \u001b[0mreadsize\u001b[0m \u001b[1;33m=\u001b[0m \u001b[0mmin\u001b[0m\u001b[1;33m(\u001b[0m\u001b[0mself\u001b[0m\u001b[1;33m.\u001b[0m\u001b[0mmax_read_chunk\u001b[0m\u001b[1;33m,\u001b[0m \u001b[0mreadsize\u001b[0m \u001b[1;33m*\u001b[0m \u001b[1;36m2\u001b[0m\u001b[1;33m)\u001b[0m\u001b[1;33m\u001b[0m\u001b[0m\n\u001b[0;32m    270\u001b[0m             \u001b[1;32mexcept\u001b[0m \u001b[0mEOFError\u001b[0m\u001b[1;33m:\u001b[0m\u001b[1;33m\u001b[0m\u001b[0m\n",
        "\u001b[1;32m/home/john/Software/anaconda/envs/_ipython2.4/lib/python2.7/gzip.pyc\u001b[0m in \u001b[0;36m_read\u001b[1;34m(self, size)\u001b[0m\n\u001b[0;32m    318\u001b[0m \u001b[1;33m\u001b[0m\u001b[0m\n\u001b[0;32m    319\u001b[0m         \u001b[0muncompress\u001b[0m \u001b[1;33m=\u001b[0m \u001b[0mself\u001b[0m\u001b[1;33m.\u001b[0m\u001b[0mdecompress\u001b[0m\u001b[1;33m.\u001b[0m\u001b[0mdecompress\u001b[0m\u001b[1;33m(\u001b[0m\u001b[0mbuf\u001b[0m\u001b[1;33m)\u001b[0m\u001b[1;33m\u001b[0m\u001b[0m\n\u001b[1;32m--> 320\u001b[1;33m         \u001b[0mself\u001b[0m\u001b[1;33m.\u001b[0m\u001b[0m_add_read_data\u001b[0m\u001b[1;33m(\u001b[0m \u001b[0muncompress\u001b[0m \u001b[1;33m)\u001b[0m\u001b[1;33m\u001b[0m\u001b[0m\n\u001b[0m\u001b[0;32m    321\u001b[0m \u001b[1;33m\u001b[0m\u001b[0m\n\u001b[0;32m    322\u001b[0m         \u001b[1;32mif\u001b[0m \u001b[0mself\u001b[0m\u001b[1;33m.\u001b[0m\u001b[0mdecompress\u001b[0m\u001b[1;33m.\u001b[0m\u001b[0munused_data\u001b[0m \u001b[1;33m!=\u001b[0m \u001b[1;34m\"\"\u001b[0m\u001b[1;33m:\u001b[0m\u001b[1;33m\u001b[0m\u001b[0m\n",
        "\u001b[1;32m/home/john/Software/anaconda/envs/_ipython2.4/lib/python2.7/gzip.pyc\u001b[0m in \u001b[0;36m_add_read_data\u001b[1;34m(self, data)\u001b[0m\n\u001b[0;32m    336\u001b[0m         \u001b[0mself\u001b[0m\u001b[1;33m.\u001b[0m\u001b[0mcrc\u001b[0m \u001b[1;33m=\u001b[0m \u001b[0mzlib\u001b[0m\u001b[1;33m.\u001b[0m\u001b[0mcrc32\u001b[0m\u001b[1;33m(\u001b[0m\u001b[0mdata\u001b[0m\u001b[1;33m,\u001b[0m \u001b[0mself\u001b[0m\u001b[1;33m.\u001b[0m\u001b[0mcrc\u001b[0m\u001b[1;33m)\u001b[0m \u001b[1;33m&\u001b[0m \u001b[1;36m0xffffffffL\u001b[0m\u001b[1;33m\u001b[0m\u001b[0m\n\u001b[0;32m    337\u001b[0m         \u001b[0moffset\u001b[0m \u001b[1;33m=\u001b[0m \u001b[0mself\u001b[0m\u001b[1;33m.\u001b[0m\u001b[0moffset\u001b[0m \u001b[1;33m-\u001b[0m \u001b[0mself\u001b[0m\u001b[1;33m.\u001b[0m\u001b[0mextrastart\u001b[0m\u001b[1;33m\u001b[0m\u001b[0m\n\u001b[1;32m--> 338\u001b[1;33m         \u001b[0mself\u001b[0m\u001b[1;33m.\u001b[0m\u001b[0mextrabuf\u001b[0m \u001b[1;33m=\u001b[0m \u001b[0mself\u001b[0m\u001b[1;33m.\u001b[0m\u001b[0mextrabuf\u001b[0m\u001b[1;33m[\u001b[0m\u001b[0moffset\u001b[0m\u001b[1;33m:\u001b[0m\u001b[1;33m]\u001b[0m \u001b[1;33m+\u001b[0m \u001b[0mdata\u001b[0m\u001b[1;33m\u001b[0m\u001b[0m\n\u001b[0m\u001b[0;32m    339\u001b[0m         \u001b[0mself\u001b[0m\u001b[1;33m.\u001b[0m\u001b[0mextrasize\u001b[0m \u001b[1;33m=\u001b[0m \u001b[0mself\u001b[0m\u001b[1;33m.\u001b[0m\u001b[0mextrasize\u001b[0m \u001b[1;33m+\u001b[0m \u001b[0mlen\u001b[0m\u001b[1;33m(\u001b[0m\u001b[0mdata\u001b[0m\u001b[1;33m)\u001b[0m\u001b[1;33m\u001b[0m\u001b[0m\n\u001b[0;32m    340\u001b[0m         \u001b[0mself\u001b[0m\u001b[1;33m.\u001b[0m\u001b[0mextrastart\u001b[0m \u001b[1;33m=\u001b[0m \u001b[0mself\u001b[0m\u001b[1;33m.\u001b[0m\u001b[0moffset\u001b[0m\u001b[1;33m\u001b[0m\u001b[0m\n",
        "\u001b[1;31mKeyboardInterrupt\u001b[0m: "
       ]
      }
     ],
     "prompt_number": 22
=======
      "csr_dat.astype('float32')"
     ],
     "language": "python",
     "metadata": {},
     "outputs": [
      {
       "metadata": {},
       "output_type": "pyout",
       "prompt_number": 102,
       "text": [
        "<83x7221032 sparse matrix of type '<type 'numpy.float32'>'\n",
        "\twith 654924 stored elements in Compressed Sparse Row format>"
       ]
      }
     ],
     "prompt_number": 102
>>>>>>> 08a3847844d40f3d9cc9f8c86c1b2bc593b8456f
    },
    {
     "cell_type": "code",
     "collapsed": false,
     "input": [
<<<<<<< HEAD
      "from datetime import datetime\n",
      "start = datetime.now()\n",
      "idxs = range(10)# [0,1,2] # 'all'\n",
      "res,df = va.compute_hit_stats(test_file,idxs)\n",
      "finish = datetime.now()\n",
      "dur = finish-start\n",
      "str(dur)"
=======
      "csr_dat.astype('float32')"
>>>>>>> 08a3847844d40f3d9cc9f8c86c1b2bc593b8456f
     ],
     "language": "python",
     "metadata": {
      "run_control": {
       "state": "n"
      }
     },
     "outputs": []
    },
    {
     "cell_type": "code",
     "collapsed": false,
     "input": [
      "from datetime import datetime\n",
      "start = datetime.now()\n",
      "idxs = range(10)# [0,1,2] # 'all'\n",
      "res,df = va.compute_hit_stats_test(test_file,idxs)\n",
      "finish = datetime.now()\n",
      "dur = finish-start\n",
      "str(dur)"
     ],
     "language": "python",
     "metadata": {
      "run_control": {
       "state": "n"
      }
     },
     "outputs": [
      {
<<<<<<< HEAD
       "output_type": "stream",
       "stream": "stdout",
       "text": [
        "computing hit stats for roi test_lesionmask_rs1mm.nii.gz\n"
       ]
      },
      {
       "ename": "MemoryError",
       "evalue": "",
       "output_type": "pyerr",
       "traceback": [
        "\u001b[1;31m---------------------------------------------------------------------------\u001b[0m\n\u001b[1;31mMemoryError\u001b[0m                               Traceback (most recent call last)",
        "\u001b[1;32m<ipython-input-23-283254f24179>\u001b[0m in \u001b[0;36m<module>\u001b[1;34m()\u001b[0m\n\u001b[0;32m      2\u001b[0m \u001b[0mstart\u001b[0m \u001b[1;33m=\u001b[0m \u001b[0mdatetime\u001b[0m\u001b[1;33m.\u001b[0m\u001b[0mnow\u001b[0m\u001b[1;33m(\u001b[0m\u001b[1;33m)\u001b[0m\u001b[1;33m\u001b[0m\u001b[0m\n\u001b[0;32m      3\u001b[0m \u001b[0midxs\u001b[0m \u001b[1;33m=\u001b[0m \u001b[0mrange\u001b[0m\u001b[1;33m(\u001b[0m\u001b[1;36m10\u001b[0m\u001b[1;33m)\u001b[0m\u001b[1;31m# [0,1,2] # 'all'\u001b[0m\u001b[1;33m\u001b[0m\u001b[0m\n\u001b[1;32m----> 4\u001b[1;33m \u001b[0mres\u001b[0m\u001b[1;33m,\u001b[0m\u001b[0mdf\u001b[0m \u001b[1;33m=\u001b[0m \u001b[0mva\u001b[0m\u001b[1;33m.\u001b[0m\u001b[0mcompute_hit_stats_test\u001b[0m\u001b[1;33m(\u001b[0m\u001b[0mtest_file\u001b[0m\u001b[1;33m,\u001b[0m\u001b[0midxs\u001b[0m\u001b[1;33m)\u001b[0m\u001b[1;33m\u001b[0m\u001b[0m\n\u001b[0m\u001b[0;32m      5\u001b[0m \u001b[0mfinish\u001b[0m \u001b[1;33m=\u001b[0m \u001b[0mdatetime\u001b[0m\u001b[1;33m.\u001b[0m\u001b[0mnow\u001b[0m\u001b[1;33m(\u001b[0m\u001b[1;33m)\u001b[0m\u001b[1;33m\u001b[0m\u001b[0m\n\u001b[0;32m      6\u001b[0m \u001b[0mdur\u001b[0m \u001b[1;33m=\u001b[0m \u001b[0mfinish\u001b[0m\u001b[1;33m-\u001b[0m\u001b[0mstart\u001b[0m\u001b[1;33m\u001b[0m\u001b[0m\n",
        "\u001b[1;32m/media/sf_SharedFolder/Code/libraries_of_mine/github/ConWhAt/ConWhAt/volumetric/atlas_volumetric.py\u001b[0m in \u001b[0;36mcompute_hit_stats_test\u001b[1;34m(self, roi_file, idxs)\u001b[0m\n\u001b[0;32m    130\u001b[0m       \u001b[0mnii_f\u001b[0m \u001b[1;33m=\u001b[0m \u001b[0mself\u001b[0m\u001b[1;33m.\u001b[0m\u001b[0mat_dir\u001b[0m \u001b[1;33m+\u001b[0m \u001b[1;34m'/'\u001b[0m \u001b[1;33m+\u001b[0m \u001b[0mmappings\u001b[0m\u001b[1;33m.\u001b[0m\u001b[0mix\u001b[0m\u001b[1;33m[\u001b[0m\u001b[0midxstouse\u001b[0m\u001b[1;33m[\u001b[0m\u001b[1;36m0\u001b[0m\u001b[1;33m]\u001b[0m\u001b[1;33m]\u001b[0m\u001b[1;33m[\u001b[0m\u001b[1;34m'nii_file'\u001b[0m\u001b[1;33m]\u001b[0m\u001b[1;33m\u001b[0m\u001b[0m\n\u001b[0;32m    131\u001b[0m       \u001b[0mnii_img\u001b[0m \u001b[1;33m=\u001b[0m \u001b[0mnib\u001b[0m\u001b[1;33m.\u001b[0m\u001b[0mload\u001b[0m\u001b[1;33m(\u001b[0m\u001b[0mnii_f\u001b[0m\u001b[1;33m)\u001b[0m\u001b[1;33m\u001b[0m\u001b[0m\n\u001b[1;32m--> 132\u001b[1;33m       \u001b[0mnii_dat\u001b[0m \u001b[1;33m=\u001b[0m \u001b[0mnii_img\u001b[0m\u001b[1;33m.\u001b[0m\u001b[0mget_data\u001b[0m\u001b[1;33m(\u001b[0m\u001b[1;33m)\u001b[0m\u001b[1;33m\u001b[0m\u001b[0m\n\u001b[0m\u001b[0;32m    133\u001b[0m \u001b[1;33m\u001b[0m\u001b[0m\n\u001b[0;32m    134\u001b[0m \u001b[1;33m\u001b[0m\u001b[0m\n",
        "\u001b[1;32m/home/john/Software/anaconda/envs/_ipython2.4/lib/python2.7/site-packages/nibabel/spatialimages.pyc\u001b[0m in \u001b[0;36mget_data\u001b[1;34m(self, caching)\u001b[0m\n\u001b[0;32m    580\u001b[0m         \u001b[1;32mif\u001b[0m \u001b[0mself\u001b[0m\u001b[1;33m.\u001b[0m\u001b[0m_data_cache\u001b[0m \u001b[1;32mis\u001b[0m \u001b[1;32mnot\u001b[0m \u001b[0mNone\u001b[0m\u001b[1;33m:\u001b[0m\u001b[1;33m\u001b[0m\u001b[0m\n\u001b[0;32m    581\u001b[0m             \u001b[1;32mreturn\u001b[0m \u001b[0mself\u001b[0m\u001b[1;33m.\u001b[0m\u001b[0m_data_cache\u001b[0m\u001b[1;33m\u001b[0m\u001b[0m\n\u001b[1;32m--> 582\u001b[1;33m         \u001b[0mdata\u001b[0m \u001b[1;33m=\u001b[0m \u001b[0mnp\u001b[0m\u001b[1;33m.\u001b[0m\u001b[0masanyarray\u001b[0m\u001b[1;33m(\u001b[0m\u001b[0mself\u001b[0m\u001b[1;33m.\u001b[0m\u001b[0m_dataobj\u001b[0m\u001b[1;33m)\u001b[0m\u001b[1;33m\u001b[0m\u001b[0m\n\u001b[0m\u001b[0;32m    583\u001b[0m         \u001b[1;32mif\u001b[0m \u001b[0mcaching\u001b[0m \u001b[1;33m==\u001b[0m \u001b[1;34m'fill'\u001b[0m\u001b[1;33m:\u001b[0m\u001b[1;33m\u001b[0m\u001b[0m\n\u001b[0;32m    584\u001b[0m             \u001b[0mself\u001b[0m\u001b[1;33m.\u001b[0m\u001b[0m_data_cache\u001b[0m \u001b[1;33m=\u001b[0m \u001b[0mdata\u001b[0m\u001b[1;33m\u001b[0m\u001b[0m\n",
        "\u001b[1;32m/home/john/Software/anaconda/envs/_ipython2.4/lib/python2.7/site-packages/numpy/core/numeric.pyc\u001b[0m in \u001b[0;36masanyarray\u001b[1;34m(a, dtype, order)\u001b[0m\n\u001b[0;32m    531\u001b[0m \u001b[1;33m\u001b[0m\u001b[0m\n\u001b[0;32m    532\u001b[0m     \"\"\"\n\u001b[1;32m--> 533\u001b[1;33m     \u001b[1;32mreturn\u001b[0m \u001b[0marray\u001b[0m\u001b[1;33m(\u001b[0m\u001b[0ma\u001b[0m\u001b[1;33m,\u001b[0m \u001b[0mdtype\u001b[0m\u001b[1;33m,\u001b[0m \u001b[0mcopy\u001b[0m\u001b[1;33m=\u001b[0m\u001b[0mFalse\u001b[0m\u001b[1;33m,\u001b[0m \u001b[0morder\u001b[0m\u001b[1;33m=\u001b[0m\u001b[0morder\u001b[0m\u001b[1;33m,\u001b[0m \u001b[0msubok\u001b[0m\u001b[1;33m=\u001b[0m\u001b[0mTrue\u001b[0m\u001b[1;33m)\u001b[0m\u001b[1;33m\u001b[0m\u001b[0m\n\u001b[0m\u001b[0;32m    534\u001b[0m \u001b[1;33m\u001b[0m\u001b[0m\n\u001b[0;32m    535\u001b[0m \u001b[1;32mdef\u001b[0m \u001b[0mascontiguousarray\u001b[0m\u001b[1;33m(\u001b[0m\u001b[0ma\u001b[0m\u001b[1;33m,\u001b[0m \u001b[0mdtype\u001b[0m\u001b[1;33m=\u001b[0m\u001b[0mNone\u001b[0m\u001b[1;33m)\u001b[0m\u001b[1;33m:\u001b[0m\u001b[1;33m\u001b[0m\u001b[0m\n",
        "\u001b[1;32m/home/john/Software/anaconda/envs/_ipython2.4/lib/python2.7/site-packages/nibabel/arrayproxy.pyc\u001b[0m in \u001b[0;36m__array__\u001b[1;34m(self)\u001b[0m\n\u001b[0;32m    142\u001b[0m     \u001b[1;32mdef\u001b[0m \u001b[0m__array__\u001b[0m\u001b[1;33m(\u001b[0m\u001b[0mself\u001b[0m\u001b[1;33m)\u001b[0m\u001b[1;33m:\u001b[0m\u001b[1;33m\u001b[0m\u001b[0m\n\u001b[0;32m    143\u001b[0m         \u001b[1;31m# Read array and scale\u001b[0m\u001b[1;33m\u001b[0m\u001b[1;33m\u001b[0m\u001b[0m\n\u001b[1;32m--> 144\u001b[1;33m         \u001b[0mraw_data\u001b[0m \u001b[1;33m=\u001b[0m \u001b[0mself\u001b[0m\u001b[1;33m.\u001b[0m\u001b[0mget_unscaled\u001b[0m\u001b[1;33m(\u001b[0m\u001b[1;33m)\u001b[0m\u001b[1;33m\u001b[0m\u001b[0m\n\u001b[0m\u001b[0;32m    145\u001b[0m         \u001b[1;32mreturn\u001b[0m \u001b[0mapply_read_scaling\u001b[0m\u001b[1;33m(\u001b[0m\u001b[0mraw_data\u001b[0m\u001b[1;33m,\u001b[0m \u001b[0mself\u001b[0m\u001b[1;33m.\u001b[0m\u001b[0m_slope\u001b[0m\u001b[1;33m,\u001b[0m \u001b[0mself\u001b[0m\u001b[1;33m.\u001b[0m\u001b[0m_inter\u001b[0m\u001b[1;33m)\u001b[0m\u001b[1;33m\u001b[0m\u001b[0m\n\u001b[0;32m    146\u001b[0m \u001b[1;33m\u001b[0m\u001b[0m\n",
        "\u001b[1;32m/home/john/Software/anaconda/envs/_ipython2.4/lib/python2.7/site-packages/nibabel/arrayproxy.pyc\u001b[0m in \u001b[0;36mget_unscaled\u001b[1;34m(self)\u001b[0m\n\u001b[0;32m    137\u001b[0m                                        \u001b[0moffset\u001b[0m\u001b[1;33m=\u001b[0m\u001b[0mself\u001b[0m\u001b[1;33m.\u001b[0m\u001b[0m_offset\u001b[0m\u001b[1;33m,\u001b[0m\u001b[1;33m\u001b[0m\u001b[0m\n\u001b[0;32m    138\u001b[0m                                        \u001b[0morder\u001b[0m\u001b[1;33m=\u001b[0m\u001b[0mself\u001b[0m\u001b[1;33m.\u001b[0m\u001b[0morder\u001b[0m\u001b[1;33m,\u001b[0m\u001b[1;33m\u001b[0m\u001b[0m\n\u001b[1;32m--> 139\u001b[1;33m                                        mmap=self._mmap)\n\u001b[0m\u001b[0;32m    140\u001b[0m         \u001b[1;32mreturn\u001b[0m \u001b[0mraw_data\u001b[0m\u001b[1;33m\u001b[0m\u001b[0m\n\u001b[0;32m    141\u001b[0m \u001b[1;33m\u001b[0m\u001b[0m\n",
        "\u001b[1;32m/home/john/Software/anaconda/envs/_ipython2.4/lib/python2.7/site-packages/nibabel/volumeutils.pyc\u001b[0m in \u001b[0;36marray_from_file\u001b[1;34m(shape, in_dtype, infile, offset, order, mmap)\u001b[0m\n\u001b[0;32m    515\u001b[0m     \u001b[1;32mif\u001b[0m \u001b[0mhasattr\u001b[0m\u001b[1;33m(\u001b[0m\u001b[0minfile\u001b[0m\u001b[1;33m,\u001b[0m \u001b[1;34m'readinto'\u001b[0m\u001b[1;33m)\u001b[0m\u001b[1;33m:\u001b[0m\u001b[1;33m\u001b[0m\u001b[0m\n\u001b[0;32m    516\u001b[0m         \u001b[0mdata_bytes\u001b[0m \u001b[1;33m=\u001b[0m \u001b[0mbytearray\u001b[0m\u001b[1;33m(\u001b[0m\u001b[0mn_bytes\u001b[0m\u001b[1;33m)\u001b[0m\u001b[1;33m\u001b[0m\u001b[0m\n\u001b[1;32m--> 517\u001b[1;33m         \u001b[0mn_read\u001b[0m \u001b[1;33m=\u001b[0m \u001b[0minfile\u001b[0m\u001b[1;33m.\u001b[0m\u001b[0mreadinto\u001b[0m\u001b[1;33m(\u001b[0m\u001b[0mdata_bytes\u001b[0m\u001b[1;33m)\u001b[0m\u001b[1;33m\u001b[0m\u001b[0m\n\u001b[0m\u001b[0;32m    518\u001b[0m         \u001b[0mneeds_copy\u001b[0m \u001b[1;33m=\u001b[0m \u001b[0mFalse\u001b[0m\u001b[1;33m\u001b[0m\u001b[0m\n\u001b[0;32m    519\u001b[0m     \u001b[1;32melse\u001b[0m\u001b[1;33m:\u001b[0m\u001b[1;33m\u001b[0m\u001b[0m\n",
        "\u001b[1;32m/home/john/Software/anaconda/envs/_ipython2.4/lib/python2.7/gzip.pyc\u001b[0m in \u001b[0;36mread\u001b[1;34m(self, size)\u001b[0m\n\u001b[0;32m    266\u001b[0m             \u001b[1;32mtry\u001b[0m\u001b[1;33m:\u001b[0m\u001b[1;33m\u001b[0m\u001b[0m\n\u001b[0;32m    267\u001b[0m                 \u001b[1;32mwhile\u001b[0m \u001b[0msize\u001b[0m \u001b[1;33m>\u001b[0m \u001b[0mself\u001b[0m\u001b[1;33m.\u001b[0m\u001b[0mextrasize\u001b[0m\u001b[1;33m:\u001b[0m\u001b[1;33m\u001b[0m\u001b[0m\n\u001b[1;32m--> 268\u001b[1;33m                     \u001b[0mself\u001b[0m\u001b[1;33m.\u001b[0m\u001b[0m_read\u001b[0m\u001b[1;33m(\u001b[0m\u001b[0mreadsize\u001b[0m\u001b[1;33m)\u001b[0m\u001b[1;33m\u001b[0m\u001b[0m\n\u001b[0m\u001b[0;32m    269\u001b[0m                     \u001b[0mreadsize\u001b[0m \u001b[1;33m=\u001b[0m \u001b[0mmin\u001b[0m\u001b[1;33m(\u001b[0m\u001b[0mself\u001b[0m\u001b[1;33m.\u001b[0m\u001b[0mmax_read_chunk\u001b[0m\u001b[1;33m,\u001b[0m \u001b[0mreadsize\u001b[0m \u001b[1;33m*\u001b[0m \u001b[1;36m2\u001b[0m\u001b[1;33m)\u001b[0m\u001b[1;33m\u001b[0m\u001b[0m\n\u001b[0;32m    270\u001b[0m             \u001b[1;32mexcept\u001b[0m \u001b[0mEOFError\u001b[0m\u001b[1;33m:\u001b[0m\u001b[1;33m\u001b[0m\u001b[0m\n",
        "\u001b[1;32m/home/john/Software/anaconda/envs/_ipython2.4/lib/python2.7/gzip.pyc\u001b[0m in \u001b[0;36m_read\u001b[1;34m(self, size)\u001b[0m\n\u001b[0;32m    317\u001b[0m             \u001b[1;32mraise\u001b[0m \u001b[0mEOFError\u001b[0m\u001b[1;33m,\u001b[0m \u001b[1;34m'Reached EOF'\u001b[0m\u001b[1;33m\u001b[0m\u001b[0m\n\u001b[0;32m    318\u001b[0m \u001b[1;33m\u001b[0m\u001b[0m\n\u001b[1;32m--> 319\u001b[1;33m         \u001b[0muncompress\u001b[0m \u001b[1;33m=\u001b[0m \u001b[0mself\u001b[0m\u001b[1;33m.\u001b[0m\u001b[0mdecompress\u001b[0m\u001b[1;33m.\u001b[0m\u001b[0mdecompress\u001b[0m\u001b[1;33m(\u001b[0m\u001b[0mbuf\u001b[0m\u001b[1;33m)\u001b[0m\u001b[1;33m\u001b[0m\u001b[0m\n\u001b[0m\u001b[0;32m    320\u001b[0m         \u001b[0mself\u001b[0m\u001b[1;33m.\u001b[0m\u001b[0m_add_read_data\u001b[0m\u001b[1;33m(\u001b[0m \u001b[0muncompress\u001b[0m \u001b[1;33m)\u001b[0m\u001b[1;33m\u001b[0m\u001b[0m\n\u001b[0;32m    321\u001b[0m \u001b[1;33m\u001b[0m\u001b[0m\n",
        "\u001b[1;31mMemoryError\u001b[0m: "
       ]
      }
     ],
     "prompt_number": 23
    },
    {
     "cell_type": "code",
     "collapsed": false,
     "input": [],
     "language": "python",
     "metadata": {
      "run_control": {
       "state": "n"
      }
     },
     "outputs": []
    },
    {
     "cell_type": "code",
     "collapsed": false,
     "input": [],
     "language": "python",
     "metadata": {
      "run_control": {
       "state": "n"
      }
     },
     "outputs": []
    },
    {
     "cell_type": "code",
     "collapsed": false,
     "input": [],
     "language": "python",
     "metadata": {
      "run_control": {
       "state": "n"
      }
     },
     "outputs": []
    },
    {
     "cell_type": "code",
     "collapsed": false,
     "input": [],
     "language": "python",
     "metadata": {
      "run_control": {
       "state": "n"
      }
     },
     "outputs": []
    },
    {
     "cell_type": "code",
     "collapsed": false,
     "input": [],
     "language": "python",
     "metadata": {
      "run_control": {
       "state": "n"
      }
     },
     "outputs": []
    },
    {
     "cell_type": "code",
     "collapsed": false,
     "input": [],
     "language": "python",
     "metadata": {
      "run_control": {
       "state": "n"
      }
     },
     "outputs": []
    },
    {
     "cell_type": "code",
     "collapsed": false,
     "input": [],
     "language": "python",
     "metadata": {
      "run_control": {
       "state": "n"
      }
     },
     "outputs": []
    },
    {
     "cell_type": "code",
     "collapsed": false,
     "input": [],
     "language": "python",
     "metadata": {
      "run_control": {
       "state": "n"
      }
     },
     "outputs": []
    },
    {
     "cell_type": "code",
     "collapsed": false,
     "input": [],
     "language": "python",
     "metadata": {
      "run_control": {
       "state": "n"
      }
     },
     "outputs": []
    },
    {
     "cell_type": "code",
     "collapsed": false,
     "input": [],
     "language": "python",
     "metadata": {
      "run_control": {
       "state": "n"
      }
     },
     "outputs": []
    },
    {
     "cell_type": "code",
     "collapsed": false,
     "input": [],
     "language": "python",
     "metadata": {
      "run_control": {
       "state": "n"
      }
     },
     "outputs": []
    },
    {
     "cell_type": "code",
     "collapsed": false,
     "input": [],
     "language": "python",
     "metadata": {
      "run_control": {
       "state": "n"
      }
     },
     "outputs": []
    },
    {
     "cell_type": "code",
     "collapsed": false,
     "input": [],
     "language": "python",
     "metadata": {
      "run_control": {
       "state": "n"
      }
     },
     "outputs": []
    },
    {
     "cell_type": "code",
     "collapsed": false,
     "input": [],
     "language": "python",
     "metadata": {
      "run_control": {
       "state": "n"
      }
     },
     "outputs": []
=======
       "metadata": {},
       "output_type": "pyout",
       "prompt_number": 111,
       "text": [
        "<83x7221032 sparse matrix of type '<type 'numpy.float32'>'\n",
        "\twith 654924 stored elements in Compressed Sparse Row format>"
       ]
      }
     ],
     "prompt_number": 111
>>>>>>> 08a3847844d40f3d9cc9f8c86c1b2bc593b8456f
    },
    {
     "cell_type": "code",
     "collapsed": false,
     "input": [
      "F.create_dataset('csr_dat',data=csr_dat.astype('float32'))"
     ],
     "language": "python",
<<<<<<< HEAD
     "metadata": {
      "run_control": {
       "state": "n"
      }
     },
     "outputs": [],
     "prompt_number": 111
=======
     "metadata": {},
     "outputs": [
      {
       "ename": "TypeError",
       "evalue": "Object dtype dtype('O') has no native HDF5 equivalent",
       "output_type": "pyerr",
       "traceback": [
        "\u001b[1;31m---------------------------------------------------------------------------\u001b[0m\n\u001b[1;31mTypeError\u001b[0m                                 Traceback (most recent call last)",
        "\u001b[1;32m<ipython-input-113-3cb41999cd64>\u001b[0m in \u001b[0;36m<module>\u001b[1;34m()\u001b[0m\n\u001b[1;32m----> 1\u001b[1;33m \u001b[0mF\u001b[0m\u001b[1;33m.\u001b[0m\u001b[0mcreate_dataset\u001b[0m\u001b[1;33m(\u001b[0m\u001b[1;34m'csr_dat'\u001b[0m\u001b[1;33m,\u001b[0m\u001b[0mdata\u001b[0m\u001b[1;33m=\u001b[0m\u001b[0mcsr_dat\u001b[0m\u001b[1;33m.\u001b[0m\u001b[0mastype\u001b[0m\u001b[1;33m(\u001b[0m\u001b[1;34m'float32'\u001b[0m\u001b[1;33m)\u001b[0m\u001b[1;33m)\u001b[0m\u001b[1;33m\u001b[0m\u001b[0m\n\u001b[0m",
        "\u001b[1;32m/home/jgriffiths/Software/anaconda2/envs/ipython2.4/lib/python2.7/site-packages/h5py/_hl/group.pyc\u001b[0m in \u001b[0;36mcreate_dataset\u001b[1;34m(self, name, shape, dtype, data, **kwds)\u001b[0m\n\u001b[0;32m    103\u001b[0m         \"\"\"\n\u001b[0;32m    104\u001b[0m         \u001b[1;32mwith\u001b[0m \u001b[0mphil\u001b[0m\u001b[1;33m:\u001b[0m\u001b[1;33m\u001b[0m\u001b[0m\n\u001b[1;32m--> 105\u001b[1;33m             \u001b[0mdsid\u001b[0m \u001b[1;33m=\u001b[0m \u001b[0mdataset\u001b[0m\u001b[1;33m.\u001b[0m\u001b[0mmake_new_dset\u001b[0m\u001b[1;33m(\u001b[0m\u001b[0mself\u001b[0m\u001b[1;33m,\u001b[0m \u001b[0mshape\u001b[0m\u001b[1;33m,\u001b[0m \u001b[0mdtype\u001b[0m\u001b[1;33m,\u001b[0m \u001b[0mdata\u001b[0m\u001b[1;33m,\u001b[0m \u001b[1;33m**\u001b[0m\u001b[0mkwds\u001b[0m\u001b[1;33m)\u001b[0m\u001b[1;33m\u001b[0m\u001b[0m\n\u001b[0m\u001b[0;32m    106\u001b[0m             \u001b[0mdset\u001b[0m \u001b[1;33m=\u001b[0m \u001b[0mdataset\u001b[0m\u001b[1;33m.\u001b[0m\u001b[0mDataset\u001b[0m\u001b[1;33m(\u001b[0m\u001b[0mdsid\u001b[0m\u001b[1;33m)\u001b[0m\u001b[1;33m\u001b[0m\u001b[0m\n\u001b[0;32m    107\u001b[0m             \u001b[1;32mif\u001b[0m \u001b[0mname\u001b[0m \u001b[1;32mis\u001b[0m \u001b[1;32mnot\u001b[0m \u001b[0mNone\u001b[0m\u001b[1;33m:\u001b[0m\u001b[1;33m\u001b[0m\u001b[0m\n",
        "\u001b[1;32m/home/jgriffiths/Software/anaconda2/envs/ipython2.4/lib/python2.7/site-packages/h5py/_hl/dataset.pyc\u001b[0m in \u001b[0;36mmake_new_dset\u001b[1;34m(parent, shape, dtype, data, chunks, compression, shuffle, fletcher32, maxshape, compression_opts, fillvalue, scaleoffset, track_times)\u001b[0m\n\u001b[0;32m     91\u001b[0m         \u001b[1;32melse\u001b[0m\u001b[1;33m:\u001b[0m\u001b[1;33m\u001b[0m\u001b[0m\n\u001b[0;32m     92\u001b[0m             \u001b[0mdtype\u001b[0m \u001b[1;33m=\u001b[0m \u001b[0mnumpy\u001b[0m\u001b[1;33m.\u001b[0m\u001b[0mdtype\u001b[0m\u001b[1;33m(\u001b[0m\u001b[0mdtype\u001b[0m\u001b[1;33m)\u001b[0m\u001b[1;33m\u001b[0m\u001b[0m\n\u001b[1;32m---> 93\u001b[1;33m         \u001b[0mtid\u001b[0m \u001b[1;33m=\u001b[0m \u001b[0mh5t\u001b[0m\u001b[1;33m.\u001b[0m\u001b[0mpy_create\u001b[0m\u001b[1;33m(\u001b[0m\u001b[0mdtype\u001b[0m\u001b[1;33m,\u001b[0m \u001b[0mlogical\u001b[0m\u001b[1;33m=\u001b[0m\u001b[1;36m1\u001b[0m\u001b[1;33m)\u001b[0m\u001b[1;33m\u001b[0m\u001b[0m\n\u001b[0m\u001b[0;32m     94\u001b[0m \u001b[1;33m\u001b[0m\u001b[0m\n\u001b[0;32m     95\u001b[0m     \u001b[1;31m# Legacy\u001b[0m\u001b[1;33m\u001b[0m\u001b[1;33m\u001b[0m\u001b[0m\n",
        "\u001b[1;32m/home/jgriffiths/Software/anaconda2/envs/ipython2.4/lib/python2.7/site-packages/h5py/h5t.so\u001b[0m in \u001b[0;36mh5py.h5t.py_create (/home/ilan/minonda/conda-bld/work/h5py/h5t.c:16090)\u001b[1;34m()\u001b[0m\n",
        "\u001b[1;32m/home/jgriffiths/Software/anaconda2/envs/ipython2.4/lib/python2.7/site-packages/h5py/h5t.so\u001b[0m in \u001b[0;36mh5py.h5t.py_create (/home/ilan/minonda/conda-bld/work/h5py/h5t.c:15924)\u001b[1;34m()\u001b[0m\n",
        "\u001b[1;32m/home/jgriffiths/Software/anaconda2/envs/ipython2.4/lib/python2.7/site-packages/h5py/h5t.so\u001b[0m in \u001b[0;36mh5py.h5t.py_create (/home/ilan/minonda/conda-bld/work/h5py/h5t.c:15825)\u001b[1;34m()\u001b[0m\n",
        "\u001b[1;31mTypeError\u001b[0m: Object dtype dtype('O') has no native HDF5 equivalent"
       ]
      }
     ],
     "prompt_number": 113
>>>>>>> 08a3847844d40f3d9cc9f8c86c1b2bc593b8456f
    },
    {
     "cell_type": "code",
     "collapsed": false,
     "input": [
      "F['csr_dat'] = csr_dat.astype('float32')"
     ],
     "language": "python",
<<<<<<< HEAD
     "metadata": {
      "run_control": {
       "state": "n"
      }
     },
     "outputs": [],
     "prompt_number": 13
=======
     "metadata": {},
     "outputs": [
      {
       "ename": "TypeError",
       "evalue": "Object dtype dtype('O') has no native HDF5 equivalent",
       "output_type": "pyerr",
       "traceback": [
        "\u001b[1;31m---------------------------------------------------------------------------\u001b[0m\n\u001b[1;31mTypeError\u001b[0m                                 Traceback (most recent call last)",
        "\u001b[1;32m<ipython-input-105-8846541278f4>\u001b[0m in \u001b[0;36m<module>\u001b[1;34m()\u001b[0m\n\u001b[1;32m----> 1\u001b[1;33m \u001b[0mF\u001b[0m\u001b[1;33m[\u001b[0m\u001b[1;34m'csr_dat'\u001b[0m\u001b[1;33m]\u001b[0m \u001b[1;33m=\u001b[0m \u001b[0mcsr_dat\u001b[0m\u001b[1;33m.\u001b[0m\u001b[0mastype\u001b[0m\u001b[1;33m(\u001b[0m\u001b[1;34m'float32'\u001b[0m\u001b[1;33m)\u001b[0m\u001b[1;33m\u001b[0m\u001b[0m\n\u001b[0m",
        "\u001b[1;32m/home/jgriffiths/Software/anaconda2/envs/ipython2.4/lib/python2.7/site-packages/h5py/_objects.so\u001b[0m in \u001b[0;36mh5py._objects.with_phil.wrapper (/home/ilan/minonda/conda-bld/work/h5py/_objects.c:2696)\u001b[1;34m()\u001b[0m\n",
        "\u001b[1;32m/home/jgriffiths/Software/anaconda2/envs/ipython2.4/lib/python2.7/site-packages/h5py/_objects.so\u001b[0m in \u001b[0;36mh5py._objects.with_phil.wrapper (/home/ilan/minonda/conda-bld/work/h5py/_objects.c:2654)\u001b[1;34m()\u001b[0m\n",
        "\u001b[1;32m/home/jgriffiths/Software/anaconda2/envs/ipython2.4/lib/python2.7/site-packages/h5py/_hl/group.pyc\u001b[0m in \u001b[0;36m__setitem__\u001b[1;34m(self, name, obj)\u001b[0m\n\u001b[0;32m    290\u001b[0m \u001b[1;33m\u001b[0m\u001b[0m\n\u001b[0;32m    291\u001b[0m         \u001b[1;32melse\u001b[0m\u001b[1;33m:\u001b[0m\u001b[1;33m\u001b[0m\u001b[0m\n\u001b[1;32m--> 292\u001b[1;33m             \u001b[0mds\u001b[0m \u001b[1;33m=\u001b[0m \u001b[0mself\u001b[0m\u001b[1;33m.\u001b[0m\u001b[0mcreate_dataset\u001b[0m\u001b[1;33m(\u001b[0m\u001b[0mNone\u001b[0m\u001b[1;33m,\u001b[0m \u001b[0mdata\u001b[0m\u001b[1;33m=\u001b[0m\u001b[0mobj\u001b[0m\u001b[1;33m,\u001b[0m \u001b[0mdtype\u001b[0m\u001b[1;33m=\u001b[0m\u001b[0mbase\u001b[0m\u001b[1;33m.\u001b[0m\u001b[0mguess_dtype\u001b[0m\u001b[1;33m(\u001b[0m\u001b[0mobj\u001b[0m\u001b[1;33m)\u001b[0m\u001b[1;33m)\u001b[0m\u001b[1;33m\u001b[0m\u001b[0m\n\u001b[0m\u001b[0;32m    293\u001b[0m             \u001b[0mh5o\u001b[0m\u001b[1;33m.\u001b[0m\u001b[0mlink\u001b[0m\u001b[1;33m(\u001b[0m\u001b[0mds\u001b[0m\u001b[1;33m.\u001b[0m\u001b[0mid\u001b[0m\u001b[1;33m,\u001b[0m \u001b[0mself\u001b[0m\u001b[1;33m.\u001b[0m\u001b[0mid\u001b[0m\u001b[1;33m,\u001b[0m \u001b[0mname\u001b[0m\u001b[1;33m,\u001b[0m \u001b[0mlcpl\u001b[0m\u001b[1;33m=\u001b[0m\u001b[0mlcpl\u001b[0m\u001b[1;33m)\u001b[0m\u001b[1;33m\u001b[0m\u001b[0m\n\u001b[0;32m    294\u001b[0m \u001b[1;33m\u001b[0m\u001b[0m\n",
        "\u001b[1;32m/home/jgriffiths/Software/anaconda2/envs/ipython2.4/lib/python2.7/site-packages/h5py/_hl/group.pyc\u001b[0m in \u001b[0;36mcreate_dataset\u001b[1;34m(self, name, shape, dtype, data, **kwds)\u001b[0m\n\u001b[0;32m    103\u001b[0m         \"\"\"\n\u001b[0;32m    104\u001b[0m         \u001b[1;32mwith\u001b[0m \u001b[0mphil\u001b[0m\u001b[1;33m:\u001b[0m\u001b[1;33m\u001b[0m\u001b[0m\n\u001b[1;32m--> 105\u001b[1;33m             \u001b[0mdsid\u001b[0m \u001b[1;33m=\u001b[0m \u001b[0mdataset\u001b[0m\u001b[1;33m.\u001b[0m\u001b[0mmake_new_dset\u001b[0m\u001b[1;33m(\u001b[0m\u001b[0mself\u001b[0m\u001b[1;33m,\u001b[0m \u001b[0mshape\u001b[0m\u001b[1;33m,\u001b[0m \u001b[0mdtype\u001b[0m\u001b[1;33m,\u001b[0m \u001b[0mdata\u001b[0m\u001b[1;33m,\u001b[0m \u001b[1;33m**\u001b[0m\u001b[0mkwds\u001b[0m\u001b[1;33m)\u001b[0m\u001b[1;33m\u001b[0m\u001b[0m\n\u001b[0m\u001b[0;32m    106\u001b[0m             \u001b[0mdset\u001b[0m \u001b[1;33m=\u001b[0m \u001b[0mdataset\u001b[0m\u001b[1;33m.\u001b[0m\u001b[0mDataset\u001b[0m\u001b[1;33m(\u001b[0m\u001b[0mdsid\u001b[0m\u001b[1;33m)\u001b[0m\u001b[1;33m\u001b[0m\u001b[0m\n\u001b[0;32m    107\u001b[0m             \u001b[1;32mif\u001b[0m \u001b[0mname\u001b[0m \u001b[1;32mis\u001b[0m \u001b[1;32mnot\u001b[0m \u001b[0mNone\u001b[0m\u001b[1;33m:\u001b[0m\u001b[1;33m\u001b[0m\u001b[0m\n",
        "\u001b[1;32m/home/jgriffiths/Software/anaconda2/envs/ipython2.4/lib/python2.7/site-packages/h5py/_hl/dataset.pyc\u001b[0m in \u001b[0;36mmake_new_dset\u001b[1;34m(parent, shape, dtype, data, chunks, compression, shuffle, fletcher32, maxshape, compression_opts, fillvalue, scaleoffset, track_times)\u001b[0m\n\u001b[0;32m     91\u001b[0m         \u001b[1;32melse\u001b[0m\u001b[1;33m:\u001b[0m\u001b[1;33m\u001b[0m\u001b[0m\n\u001b[0;32m     92\u001b[0m             \u001b[0mdtype\u001b[0m \u001b[1;33m=\u001b[0m \u001b[0mnumpy\u001b[0m\u001b[1;33m.\u001b[0m\u001b[0mdtype\u001b[0m\u001b[1;33m(\u001b[0m\u001b[0mdtype\u001b[0m\u001b[1;33m)\u001b[0m\u001b[1;33m\u001b[0m\u001b[0m\n\u001b[1;32m---> 93\u001b[1;33m         \u001b[0mtid\u001b[0m \u001b[1;33m=\u001b[0m \u001b[0mh5t\u001b[0m\u001b[1;33m.\u001b[0m\u001b[0mpy_create\u001b[0m\u001b[1;33m(\u001b[0m\u001b[0mdtype\u001b[0m\u001b[1;33m,\u001b[0m \u001b[0mlogical\u001b[0m\u001b[1;33m=\u001b[0m\u001b[1;36m1\u001b[0m\u001b[1;33m)\u001b[0m\u001b[1;33m\u001b[0m\u001b[0m\n\u001b[0m\u001b[0;32m     94\u001b[0m \u001b[1;33m\u001b[0m\u001b[0m\n\u001b[0;32m     95\u001b[0m     \u001b[1;31m# Legacy\u001b[0m\u001b[1;33m\u001b[0m\u001b[1;33m\u001b[0m\u001b[0m\n",
        "\u001b[1;32m/home/jgriffiths/Software/anaconda2/envs/ipython2.4/lib/python2.7/site-packages/h5py/h5t.so\u001b[0m in \u001b[0;36mh5py.h5t.py_create (/home/ilan/minonda/conda-bld/work/h5py/h5t.c:16090)\u001b[1;34m()\u001b[0m\n",
        "\u001b[1;32m/home/jgriffiths/Software/anaconda2/envs/ipython2.4/lib/python2.7/site-packages/h5py/h5t.so\u001b[0m in \u001b[0;36mh5py.h5t.py_create (/home/ilan/minonda/conda-bld/work/h5py/h5t.c:15924)\u001b[1;34m()\u001b[0m\n",
        "\u001b[1;32m/home/jgriffiths/Software/anaconda2/envs/ipython2.4/lib/python2.7/site-packages/h5py/h5t.so\u001b[0m in \u001b[0;36mh5py.h5t.py_create (/home/ilan/minonda/conda-bld/work/h5py/h5t.c:15825)\u001b[1;34m()\u001b[0m\n",
        "\u001b[1;31mTypeError\u001b[0m: Object dtype dtype('O') has no native HDF5 equivalent"
       ]
      }
     ],
     "prompt_number": 105
    },
    {
     "cell_type": "code",
     "collapsed": false,
     "input": [],
     "language": "python",
     "metadata": {},
     "outputs": []
    },
    {
     "cell_type": "code",
     "collapsed": false,
     "input": [],
     "language": "python",
     "metadata": {},
     "outputs": []
    },
    {
     "cell_type": "code",
     "collapsed": false,
     "input": [],
     "language": "python",
     "metadata": {},
     "outputs": []
    },
    {
     "cell_type": "code",
     "collapsed": false,
     "input": [],
     "language": "python",
     "metadata": {},
     "outputs": []
    },
    {
     "cell_type": "code",
     "collapsed": false,
     "input": [],
     "language": "python",
     "metadata": {},
     "outputs": []
>>>>>>> 08a3847844d40f3d9cc9f8c86c1b2bc593b8456f
    },
    {
     "cell_type": "code",
     "collapsed": false,
     "input": [
      "from scipy.sparse import csr_matrix"
     ],
     "language": "python",
     "metadata": {
      "run_control": {
       "state": "n"
      }
     },
     "outputs": [],
     "prompt_number": 53
    },
    {
     "cell_type": "code",
     "collapsed": false,
     "input": [
      "csr_dat = csr_matrix(dat)"
     ],
     "language": "python",
<<<<<<< HEAD
     "metadata": {
      "run_control": {
       "state": "n"
      }
     },
     "outputs": [],
     "prompt_number": 81
=======
     "metadata": {},
     "outputs": [
      {
       "ename": "TypeError",
       "evalue": "expected dimension <= 2 array or matrix",
       "output_type": "pyerr",
       "traceback": [
        "\u001b[1;31m---------------------------------------------------------------------------\u001b[0m\n\u001b[1;31mTypeError\u001b[0m                                 Traceback (most recent call last)",
        "\u001b[1;32m<ipython-input-54-9d2460cd63fc>\u001b[0m in \u001b[0;36m<module>\u001b[1;34m()\u001b[0m\n\u001b[1;32m----> 1\u001b[1;33m \u001b[0mcsr_dat\u001b[0m \u001b[1;33m=\u001b[0m \u001b[0mcsr_matrix\u001b[0m\u001b[1;33m(\u001b[0m\u001b[0mdat\u001b[0m\u001b[1;33m)\u001b[0m\u001b[1;33m\u001b[0m\u001b[0m\n\u001b[0m",
        "\u001b[1;32m/home/jgriffiths/Software/anaconda2/envs/ipython2.4/lib/python2.7/site-packages/scipy/sparse/compressed.pyc\u001b[0m in \u001b[0;36m__init__\u001b[1;34m(self, arg1, shape, dtype, copy)\u001b[0m\n\u001b[0;32m     76\u001b[0m                         self.format)\n\u001b[0;32m     77\u001b[0m             \u001b[1;32mfrom\u001b[0m \u001b[1;33m.\u001b[0m\u001b[0mcoo\u001b[0m \u001b[1;32mimport\u001b[0m \u001b[0mcoo_matrix\u001b[0m\u001b[1;33m\u001b[0m\u001b[0m\n\u001b[1;32m---> 78\u001b[1;33m             \u001b[0mself\u001b[0m\u001b[1;33m.\u001b[0m\u001b[0m_set_self\u001b[0m\u001b[1;33m(\u001b[0m\u001b[0mself\u001b[0m\u001b[1;33m.\u001b[0m\u001b[0m__class__\u001b[0m\u001b[1;33m(\u001b[0m\u001b[0mcoo_matrix\u001b[0m\u001b[1;33m(\u001b[0m\u001b[0marg1\u001b[0m\u001b[1;33m,\u001b[0m \u001b[0mdtype\u001b[0m\u001b[1;33m=\u001b[0m\u001b[0mdtype\u001b[0m\u001b[1;33m)\u001b[0m\u001b[1;33m)\u001b[0m\u001b[1;33m)\u001b[0m\u001b[1;33m\u001b[0m\u001b[0m\n\u001b[0m\u001b[0;32m     79\u001b[0m \u001b[1;33m\u001b[0m\u001b[0m\n\u001b[0;32m     80\u001b[0m         \u001b[1;31m# Read matrix dimensions given, if any\u001b[0m\u001b[1;33m\u001b[0m\u001b[1;33m\u001b[0m\u001b[0m\n",
        "\u001b[1;32m/home/jgriffiths/Software/anaconda2/envs/ipython2.4/lib/python2.7/site-packages/scipy/sparse/coo.pyc\u001b[0m in \u001b[0;36m__init__\u001b[1;34m(self, arg1, shape, dtype, copy)\u001b[0m\n\u001b[0;32m    171\u001b[0m \u001b[1;33m\u001b[0m\u001b[0m\n\u001b[0;32m    172\u001b[0m                 \u001b[1;32mif\u001b[0m \u001b[0mM\u001b[0m\u001b[1;33m.\u001b[0m\u001b[0mndim\u001b[0m \u001b[1;33m!=\u001b[0m \u001b[1;36m2\u001b[0m\u001b[1;33m:\u001b[0m\u001b[1;33m\u001b[0m\u001b[0m\n\u001b[1;32m--> 173\u001b[1;33m                     \u001b[1;32mraise\u001b[0m \u001b[0mTypeError\u001b[0m\u001b[1;33m(\u001b[0m\u001b[1;34m'expected dimension <= 2 array or matrix'\u001b[0m\u001b[1;33m)\u001b[0m\u001b[1;33m\u001b[0m\u001b[0m\n\u001b[0m\u001b[0;32m    174\u001b[0m                 \u001b[1;32melse\u001b[0m\u001b[1;33m:\u001b[0m\u001b[1;33m\u001b[0m\u001b[0m\n\u001b[0;32m    175\u001b[0m                     \u001b[0mself\u001b[0m\u001b[1;33m.\u001b[0m\u001b[0mshape\u001b[0m \u001b[1;33m=\u001b[0m \u001b[0mM\u001b[0m\u001b[1;33m.\u001b[0m\u001b[0mshape\u001b[0m\u001b[1;33m\u001b[0m\u001b[0m\n",
        "\u001b[1;31mTypeError\u001b[0m: expected dimension <= 2 array or matrix"
       ]
      }
     ],
     "prompt_number": 54
    },
    {
     "cell_type": "code",
     "collapsed": false,
     "input": [],
     "language": "python",
     "metadata": {},
     "outputs": []
>>>>>>> 08a3847844d40f3d9cc9f8c86c1b2bc593b8456f
    },
    {
     "cell_type": "code",
     "collapsed": false,
     "input": [
      "img_file =at_dir + '/' + _f\n",
      "start = datetime.now()\n",
      "img = nib.load(img_file)\n",
      "dat = img.get_data()[:,:,:,image_idxs]\n",
      "str(datetime.now() - start)"
     ],
     "language": "python",
     "metadata": {
      "run_control": {
       "state": "n"
      }
     },
     "outputs": [
      {
       "metadata": {},
       "output_type": "pyout",
       "prompt_number": 82,
       "text": [
        "'0:00:30.292433'"
       ]
      }
     ],
     "prompt_number": 82
    },
    {
     "cell_type": "code",
     "collapsed": false,
     "input": [
      "from nilearn.image import index_img"
     ],
     "language": "python",
     "metadata": {
      "run_control": {
       "state": "n"
      }
     },
     "outputs": [],
     "prompt_number": 83
    },
    {
     "cell_type": "code",
     "collapsed": false,
     "input": [
      "img_file =at_dir + '/' + _f\n",
      "start = datetime.now()\n",
      "dat = index_img(img_file,image_idxs).shape\n",
      "str(datetime.now() - start)"
     ],
     "language": "python",
     "metadata": {
      "run_control": {
       "state": "n"
      }
     },
     "outputs": [
      {
       "metadata": {},
       "output_type": "pyout",
       "prompt_number": 84,
       "text": [
        "'0:00:26.165479'"
       ]
      }
     ],
     "prompt_number": 84
    },
    {
     "cell_type": "code",
     "collapsed": false,
     "input": [
      "(26*80)/60./60. # 36 minutes = 0.57 hours just to load 60 files, in serial\n",
      "\n",
      "# with 4 simultaneous jobs that cuts down to under 10 mins\n",
      "\n"
     ],
     "language": "python",
     "metadata": {
      "run_control": {
       "state": "n"
      }
     },
     "outputs": [
      {
       "metadata": {},
       "output_type": "pyout",
       "prompt_number": 90,
       "text": [
        "0.5777777777777777"
       ]
      }
     ],
     "prompt_number": 90
    },
    {
     "cell_type": "code",
     "collapsed": false,
     "input": [
      "(26*500)/60./60. # 36 minutes just to load 60 files, in serial\n",
      "\n",
      "# 3 hours for 500 cnxns\n"
     ],
     "language": "python",
     "metadata": {
      "run_control": {
       "state": "n"
      }
     },
     "outputs": [
      {
       "metadata": {},
       "output_type": "pyout",
       "prompt_number": 92,
       "text": [
        "3.611111111111111"
       ]
      }
     ],
     "prompt_number": 92
    },
    {
     "cell_type": "code",
     "collapsed": false,
     "input": [
      "(26*7000)/60./50. # 36 minutes just to load 60 files, in serial\n",
      "\n",
      "# 60 hours for 700 cnxns\n"
     ],
     "language": "python",
     "metadata": {
      "run_control": {
       "state": "n"
      }
     },
     "outputs": [
      {
       "metadata": {},
       "output_type": "pyout",
       "prompt_number": 94,
       "text": [
        "60.66666666666667"
       ]
      }
     ],
     "prompt_number": 94
    },
    {
     "cell_type": "code",
     "collapsed": false,
     "input": [
      "index_"
     ],
     "language": "python",
     "metadata": {
      "run_control": {
       "state": "n"
      }
     },
     "outputs": []
    },
    {
     "cell_type": "code",
     "collapsed": false,
     "input": [
      "from datetime import datetime"
     ],
     "language": "python",
     "metadata": {
      "run_control": {
       "state": "n"
      }
     },
     "outputs": [],
     "prompt_number": 13
    },
    {
     "cell_type": "code",
     "collapsed": false,
     "input": [
      "volsforthisfile"
     ],
     "language": "python",
     "metadata": {
      "run_control": {
       "state": "n"
      }
     },
     "outputs": [
      {
       "metadata": {},
       "output_type": "pyout",
       "prompt_number": 48,
       "text": [
        "array([0, 1, 2, 3, 4, 5, 6])"
       ]
      }
     ],
     "prompt_number": 48
    },
    {
     "cell_type": "code",
     "collapsed": false,
     "input": [],
     "language": "python",
     "metadata": {
      "run_control": {
       "state": "n"
      }
     },
     "outputs": []
    },
    {
     "cell_type": "code",
     "collapsed": false,
     "input": [
      "va.atlas_info['ma]"
     ],
     "language": "python",
     "metadata": {
      "run_control": {
       "state": "n"
      }
     },
     "outputs": []
    },
    {
     "cell_type": "code",
     "collapsed": false,
     "input": [
      "volsforthisfile"
     ],
     "language": "python",
     "metadata": {
      "run_control": {
       "state": "n"
      }
     },
     "outputs": [
      {
       "metadata": {},
       "output_type": "pyout",
       "prompt_number": 46,
       "text": [
        "array([0, 1, 2, 3, 4, 5, 6])"
       ]
      }
     ],
     "prompt_number": 46
    },
    {
     "cell_type": "code",
     "collapsed": false,
     "input": [
      "volsforthisfile = va.atlas_info['mappings'].ix[idsforthisfile]['4dvolind'].values"
     ],
     "language": "python",
     "metadata": {
      "run_control": {
       "state": "n"
      }
     },
     "outputs": [
      {
       "metadata": {},
       "output_type": "pyout",
       "prompt_number": 43,
       "text": [
        "array([9])"
       ]
      }
     ],
     "prompt_number": 43
    },
    {
     "cell_type": "code",
     "collapsed": false,
     "input": [
      "va.atlas_info['mappings'][5]"
     ],
     "language": "python",
     "metadata": {
      "run_control": {
       "state": "n"
      }
     },
     "outputs": [
      {
       "metadata": {},
       "output_type": "pyout",
       "prompt_number": 11,
       "text": [
        "['0_to_5',\n",
        " '/home/jgriffiths/Code/libraries_of_mine/github/ConWhAt/ConWhAt/atlases/volumetric/dipy_dsi_l2k8_sc33/vismap_grp_cat_rois_v2_0_norm.nii.gz',\n",
        " 5]"
       ]
      }
     ],
     "prompt_number": 11
    },
    {
     "cell_type": "code",
     "collapsed": false,
     "input": [
      "os.path.abspath('../')"
     ],
     "language": "python",
     "metadata": {
      "run_control": {
       "state": "n"
      }
     },
     "outputs": [
      {
       "metadata": {},
       "output_type": "pyout",
       "prompt_number": 13,
       "text": [
        "'/home/jgriffiths/Code/libraries_of_mine/github/ConWhAt/ConWhAt'"
       ]
      }
     ],
     "prompt_number": 13
    },
    {
     "cell_type": "code",
     "collapsed": false,
     "input": [
      "va.atlas_info['mappings'][0]"
     ],
     "language": "python",
     "metadata": {
      "run_control": {
       "state": "n"
      }
     },
     "outputs": [
      {
       "metadata": {},
       "output_type": "pyout",
       "prompt_number": 15,
       "text": [
        "['0_to_0',\n",
        " '/home/jgriffiths/Code/libraries_of_mine/github/ConWhAt/ConWhAt/atlases/volumetric/dipy_dsi_l2k8_sc33/vismap_grp_cat_rois_v2_0_norm.nii.gz',\n",
        " 0]"
       ]
      }
     ],
     "prompt_number": 15
    },
    {
     "cell_type": "code",
     "collapsed": false,
     "input": [
      "va.atlas_info['mappings'][1]"
     ],
     "language": "python",
     "metadata": {
      "run_control": {
       "state": "n"
      }
     },
     "outputs": [
      {
       "metadata": {},
       "output_type": "pyout",
       "prompt_number": 16,
       "text": [
        "['0_to_1',\n",
        " '/home/jgriffiths/Code/libraries_of_mine/github/ConWhAt/ConWhAt/atlases/volumetric/dipy_dsi_l2k8_sc33/vismap_grp_cat_rois_v2_0_norm.nii.gz',\n",
        " 1]"
       ]
      }
     ],
     "prompt_number": 16
    },
    {
     "cell_type": "code",
     "collapsed": false,
     "input": [
      "va.atlas_info['mappings'][4]"
     ],
     "language": "python",
     "metadata": {
      "run_control": {
       "state": "n"
      }
     },
     "outputs": [
      {
       "metadata": {},
       "output_type": "pyout",
       "prompt_number": 17,
       "text": [
        "['0_to_4',\n",
        " '/home/jgriffiths/Code/libraries_of_mine/github/ConWhAt/ConWhAt/atlases/volumetric/dipy_dsi_l2k8_sc33/vismap_grp_cat_rois_v2_0_norm.nii.gz',\n",
        " 4]"
       ]
      }
     ],
     "prompt_number": 17
    },
    {
     "cell_type": "code",
     "collapsed": false,
     "input": [
      "from datetime import datetime"
     ],
     "language": "python",
     "metadata": {
      "run_control": {
       "state": "n"
      }
     },
     "outputs": [],
     "prompt_number": 16
    },
    {
     "cell_type": "code",
     "collapsed": false,
     "input": [
      "start = datetime.now()\n",
      "idxs = range(10)# [0,1,2] # 'all'\n",
      "res,df = va.compute_hit_stats(test_file,idxs)"
     ],
     "language": "python",
     "metadata": {
      "run_control": {
       "state": "n"
      }
     },
     "outputs": [],
     "prompt_number": 19
    },
    {
     "cell_type": "code",
     "collapsed": false,
     "input": [
      "finish = datetime.now()\n",
      "dur = finish-start\n",
      "str(dur)"
     ],
     "language": "python",
     "metadata": {
      "run_control": {
       "state": "n"
      }
     },
     "outputs": [
      {
       "metadata": {},
       "output_type": "pyout",
       "prompt_number": 22,
       "text": [
        "'0:03:47.470633'"
       ]
      }
     ],
     "prompt_number": 22
    },
    {
     "cell_type": "markdown",
     "metadata": {},
     "source": [
      "---"
     ]
    },
    {
     "cell_type": "code",
     "collapsed": false,
     "input": [
      "idxs = [0,3,5,7]\n",
      "va.at_dir = '/home/jgriffiths/Code/libraries_of_mine/github/ConWhAt/ConWhAt/atlases/volumetric/dipy_dsi_sd4_l2k8_sc33'\n",
      "from datetime import datetime\n",
      "# compute hit stats v1\n",
      "start = datetime.now()\n",
      "idxs = range(10)# [0,1,2] # 'all'\n",
      "#res,df = va.compute_hit_stats(test_file,idxs)\n",
      "\n",
      "res,df = va.compute_hit_stats(test_file,idxs)\n",
      "\n",
      "finish = datetime.now()\n",
      "dur = finish-start\n",
      "str(dur)"
     ],
     "language": "python",
     "metadata": {
      "run_control": {
       "state": "n"
      }
     },
     "outputs": [],
     "prompt_number": 17
    },
    {
     "cell_type": "code",
     "collapsed": false,
     "input": [
      "# compute hit stats v2 - 1/3 the time?"
     ],
     "language": "python",
     "metadata": {
      "run_control": {
       "state": "n"
      }
     },
     "outputs": [],
     "prompt_number": 25
    },
    {
     "cell_type": "code",
     "collapsed": false,
     "input": [
      "start = datetime.now()\n",
      "idxs = range(10)# [0,1,2] # 'all'\n",
      "#res,df = va.compute_hit_stats(test_file,idxs)\n",
      "\n",
      "res,df = va.compute_hit_stats_test(test_file,idxs)\n",
      "\n",
      "\n",
      "finish = datetime.now()\n",
      "dur = finish-start\n",
      "str(dur)"
     ],
     "language": "python",
     "metadata": {
      "run_control": {
       "state": "n"
      }
     },
     "outputs": [
      {
       "output_type": "stream",
       "stream": "stdout",
       "text": [
        "computing hit stats for roi mni_lesionmask_12331_rs1mm.nii.gz\n"
       ]
      },
      {
       "metadata": {},
       "output_type": "pyout",
       "prompt_number": 61,
       "text": [
        "'0:00:54.510522'"
       ]
      }
     ],
     "prompt_number": 61
    },
    {
     "cell_type": "markdown",
     "metadata": {},
     "source": [
      "---"
     ]
    },
    {
     "cell_type": "markdown",
     "metadata": {},
     "source": [
      "using nzmappings"
     ]
    },
    {
     "cell_type": "markdown",
     "metadata": {},
     "source": [
      "---"
     ]
    },
    {
     "cell_type": "code",
     "collapsed": false,
     "input": [],
     "language": "python",
     "metadata": {
      "run_control": {
       "state": "n"
      }
     },
     "outputs": []
    },
    {
     "cell_type": "code",
     "collapsed": false,
     "input": [],
     "language": "python",
     "metadata": {
      "run_control": {
       "state": "n"
      }
     },
     "outputs": []
    },
    {
     "cell_type": "code",
     "collapsed": false,
     "input": [
      "res,df = va.compute_hit_stats_test(test_file,idxs)"
     ],
     "language": "python",
     "metadata": {
      "run_control": {
       "state": "n"
      }
     },
     "outputs": [
      {
       "output_type": "stream",
       "stream": "stderr",
       "text": [
        "/home/jgriffiths/Code/libraries_of_mine/github/ConWhAt/ConWhAt/base/hit_stats.py:22: RuntimeWarning: invalid value encountered in divide\n",
        "  TPR = TP / (TP + FN)\n",
        "/home/jgriffiths/Code/libraries_of_mine/github/ConWhAt/ConWhAt/base/hit_stats.py:28: RuntimeWarning: invalid value encountered in float_scalars\n",
        "  PPV = TP / (TP + FP)\n",
        "/home/jgriffiths/Code/libraries_of_mine/github/ConWhAt/ConWhAt/base/hit_stats.py:37: RuntimeWarning: invalid value encountered in float_scalars\n",
        "  FDR = FP / (FP + TP)\n",
        "/home/jgriffiths/Code/libraries_of_mine/github/ConWhAt/ConWhAt/base/hit_stats.py:40: RuntimeWarning: invalid value encountered in divide\n",
        "  FNR = FN / (FN + TP)\n",
        "/home/jgriffiths/Code/libraries_of_mine/github/ConWhAt/ConWhAt/base/hit_stats.py:46: RuntimeWarning: invalid value encountered in double_scalars\n",
        "  F1 = (2*TP) / (2*TP + FP + FN)\n",
        "/home/jgriffiths/Code/libraries_of_mine/github/ConWhAt/ConWhAt/base/hit_stats.py:49: RuntimeWarning: invalid value encountered in double_scalars\n",
        "  MCC = (TP*TN - FP*FN) / (np.sqrt((TP + FP)*(TP+FN)*(TN+FP)*(TN+FN)))\n",
        "/home/jgriffiths/Software/anaconda2/envs/ipython2.4/lib/python2.7/site-packages/numpy/lib/function_base.py:2569: RuntimeWarning: invalid value encountered in true_divide\n",
        "  c /= stddev[:, None]\n"
       ]
      },
      {
       "output_type": "stream",
       "stream": "stdout",
       "text": [
        "computing hit stats for roi mni_lesionmask_12331_rs1mm.nii.gz\n"
       ]
      },
      {
       "output_type": "stream",
       "stream": "stderr",
       "text": [
        "/home/jgriffiths/Software/anaconda2/envs/ipython2.4/lib/python2.7/site-packages/numpy/lib/function_base.py:2570: RuntimeWarning: invalid value encountered in true_divide\n",
        "  c /= stddev[None, :]\n"
       ]
      }
     ],
     "prompt_number": 19
    },
    {
     "cell_type": "code",
     "collapsed": false,
     "input": [
      "df"
     ],
     "language": "python",
     "metadata": {},
     "outputs": []
    },
    {
     "cell_type": "code",
     "collapsed": false,
     "input": [],
     "language": "python",
     "metadata": {},
     "outputs": []
    },
    {
     "cell_type": "code",
     "collapsed": false,
     "input": [],
     "language": "python",
     "metadata": {},
     "outputs": []
    },
    {
     "cell_type": "code",
     "collapsed": false,
     "input": [],
     "language": "python",
     "metadata": {},
     "outputs": []
    },
    {
     "cell_type": "code",
     "collapsed": false,
     "input": [
      "at_dir = '/va.atlas_info['atlas_name']"
     ],
     "language": "python",
     "metadata": {
      "run_control": {
       "state": "n"
      }
     },
     "outputs": [
      {
       "metadata": {},
       "output_type": "pyout",
       "prompt_number": 20,
       "text": [
        "'dipy_dsi_sd4_l2k8_sc33'"
       ]
      }
     ],
     "prompt_number": 20
    },
    {
     "cell_type": "code",
     "collapsed": false,
     "input": [
      "mappings = va.atlas_info['mappings']"
     ],
     "language": "python",
     "metadata": {
      "run_control": {
       "state": "n"
      }
     },
     "outputs": [],
     "prompt_number": 21
    },
    {
     "cell_type": "code",
     "collapsed": false,
     "input": [
      "file_id = 0"
     ],
     "language": "python",
     "metadata": {
      "run_control": {
       "state": "n"
      }
     },
     "outputs": [],
     "prompt_number": 23
    },
    {
     "cell_type": "code",
     "collapsed": false,
     "input": [
      "np.nonzero(mappings.ix[idxs]['nii_file_id'] == file_id)[0]"
     ],
     "language": "python",
     "metadata": {
      "run_control": {
       "state": "n"
      }
     },
     "outputs": [
      {
       "metadata": {},
       "output_type": "pyout",
       "prompt_number": 24,
       "text": [
        "array([0, 1, 2, 3])"
       ]
      }
     ],
     "prompt_number": 24
    },
    {
     "cell_type": "code",
     "collapsed": false,
     "input": [
      "np.nonzero(mappings.ix[idxs]['nii_file_id'] == file_id)"
     ],
     "language": "python",
     "metadata": {
      "run_control": {
       "state": "n"
      }
     },
     "outputs": [
      {
       "metadata": {},
       "output_type": "pyout",
       "prompt_number": 27,
       "text": [
        "(array([0, 1, 2, 3]),)"
       ]
      }
     ],
     "prompt_number": 27
    },
    {
     "cell_type": "code",
     "collapsed": false,
     "input": [
      "file_id"
     ],
     "language": "python",
     "metadata": {
      "run_control": {
       "state": "n"
      }
     },
     "outputs": [
      {
       "metadata": {},
       "output_type": "pyout",
       "prompt_number": 37,
       "text": [
        "0"
       ]
      }
     ],
     "prompt_number": 37
    },
    {
     "cell_type": "code",
     "collapsed": false,
     "input": [
      "np.nonzero(mappings['nii_file_id'] == file_id)[0]"
     ],
     "language": "python",
     "metadata": {
      "run_control": {
       "state": "n"
      }
     },
     "outputs": [
      {
       "metadata": {},
       "output_type": "pyout",
       "prompt_number": 38,
       "text": [
        "array([ 0,  1,  2,  3,  4,  5,  6,  7,  8,  9, 10, 11, 12, 13, 14, 15, 16,\n",
        "       17, 18, 19, 20, 21, 22, 23, 24, 25, 26, 27, 28, 29, 30, 31, 32, 33,\n",
        "       34, 35, 36, 37, 38, 39, 40, 41, 42, 43, 44, 45, 46, 47, 48, 49, 50,\n",
        "       51, 52, 53, 54, 55, 56, 57, 58, 59, 60, 61, 62, 63, 64, 65, 66, 67,\n",
        "       68, 69, 70, 71, 72, 73, 74, 75, 76, 77, 78, 79, 80, 81, 82])"
       ]
      }
     ],
     "prompt_number": 38
    },
    {
     "cell_type": "code",
     "collapsed": false,
     "input": [
      "(mappings['nii_file_id'] == file_id).ix[idxs]"
     ],
     "language": "python",
     "metadata": {
      "run_control": {
       "state": "n"
      }
     },
     "outputs": [
      {
       "metadata": {},
       "output_type": "pyout",
       "prompt_number": 41,
       "text": [
        "0    True\n",
        "3    True\n",
        "5    True\n",
        "7    True\n",
        "Name: nii_file_id, dtype: bool"
       ]
      }
     ],
     "prompt_number": 41
    },
    {
     "cell_type": "code",
     "collapsed": false,
     "input": [
      "for i in mappings.index:\n",
      "  thing = 5\n",
      "    "
     ],
     "language": "python",
     "metadata": {
      "run_control": {
       "state": "n"
      }
     },
     "outputs": [],
     "prompt_number": 45
    },
    {
     "cell_type": "code",
     "collapsed": false,
     "input": [
      "mappings.ix[i]"
     ],
     "language": "python",
     "metadata": {
      "run_control": {
       "state": "n"
      }
     },
     "outputs": [
      {
       "metadata": {},
       "output_type": "pyout",
       "prompt_number": 52,
       "text": [
        "name                                        82_to_82\n",
        "nii_file       vismap_grp_cat_rois_v2_82_norm.nii.gz\n",
        "nii_file_id                                       82\n",
        "4dvolind                                          82\n",
        "Name: 6888, dtype: object"
       ]
      }
     ],
     "prompt_number": 52
    },
    {
     "cell_type": "code",
     "collapsed": false,
     "input": [
      "[_name,_file,_nii_file_id,_4dvolind =\n",
      "thing = [[_name,_file,_nii_file_id,_4dvolind = mappings.ix[i].values for i in mappings.index if i in idxs]\n",
      "\n",
      "_mappings.ix[i].values"
     ],
     "language": "python",
     "metadata": {
      "run_control": {
       "state": "n"
      }
     },
     "outputs": [
      {
       "metadata": {},
       "output_type": "pyout",
       "prompt_number": 51,
       "text": [
        "array(['82_to_82', 'vismap_grp_cat_rois_v2_82_norm.nii.gz', 82, 82], dtype=object)"
       ]
      }
     ],
     "prompt_number": 51
    },
    {
     "cell_type": "code",
     "collapsed": false,
     "input": [
      "mappings.ix[i]['name'], mappings.ix[i]['nii_file']"
     ],
     "language": "python",
     "metadata": {
      "run_control": {
       "state": "n"
      }
     },
     "outputs": [
      {
       "metadata": {},
       "output_type": "pyout",
       "prompt_number": 49,
       "text": [
        "name                                        82_to_82\n",
        "nii_file       vismap_grp_cat_rois_v2_82_norm.nii.gz\n",
        "nii_file_id                                       82\n",
        "4dvolind                                          82\n",
        "Name: 6888, dtype: object"
       ]
      }
     ],
     "prompt_number": 49
    },
    {
     "cell_type": "code",
     "collapsed": false,
     "input": [
      "idxsforthisfile = np.nonzero(mappings['nii_file_id'] == file_id)[0]\n",
      "idxstouse = [i for i in idxsforthisfile if i in idxs]"
     ],
     "language": "python",
     "metadata": {
      "run_control": {
       "state": "n"
      }
     },
     "outputs": [],
     "prompt_number": 57
    },
    {
     "cell_type": "code",
     "collapsed": false,
     "input": [],
     "language": "python",
     "metadata": {
      "run_control": {
       "state": "n"
      }
     },
     "outputs": []
    },
    {
     "cell_type": "markdown",
     "metadata": {},
     "source": [
      "---"
     ]
    },
    {
     "cell_type": "code",
     "collapsed": false,
     "input": [
      "# now change from index_img and see how long it takes..."
     ],
     "language": "python",
     "metadata": {
      "run_control": {
       "state": "n"
      }
     },
     "outputs": [],
     "prompt_number": 21
    },
    {
     "cell_type": "code",
     "collapsed": false,
     "input": [
      "import numpy as np"
     ],
     "language": "python",
     "metadata": {
      "run_control": {
       "state": "n"
      }
     },
     "outputs": [],
     "prompt_number": 22
    },
    {
     "cell_type": "code",
     "collapsed": false,
     "input": [
      "import pandas as pd"
     ],
     "language": "python",
     "metadata": {
      "run_control": {
       "state": "n"
      }
     },
     "outputs": [],
     "prompt_number": 23
    },
    {
     "cell_type": "code",
     "collapsed": false,
     "input": [
      "_arr = np.array(va.atlas_info['mappings'])"
     ],
     "language": "python",
     "metadata": {
      "run_control": {
       "state": "n"
      }
     },
     "outputs": [],
     "prompt_number": 24
    },
    {
     "cell_type": "code",
     "collapsed": false,
     "input": [
      "#_arr.sort()"
     ],
     "language": "python",
     "metadata": {
      "run_control": {
       "state": "n"
      }
     },
     "outputs": [],
     "prompt_number": 87
    },
    {
     "cell_type": "code",
     "collapsed": false,
     "input": [
      "df_arr = pd.DataFrame(_arr, columns=['rois', 'path', 'vol'])"
     ],
     "language": "python",
     "metadata": {
      "run_control": {
       "state": "n"
      }
     },
     "outputs": [],
     "prompt_number": 32
    },
    {
     "cell_type": "code",
     "collapsed": false,
     "input": [
      "df_arr.sort_values(['path', 'vol'])"
     ],
     "language": "python",
     "metadata": {
      "run_control": {
       "state": "n"
      }
     },
     "outputs": [
      {
       "html": [
        "<div style=\"max-width:1500px;overflow:auto;\">\n",
        "<table border=\"1\" class=\"dataframe\">\n",
        "  <thead>\n",
        "    <tr style=\"text-align: right;\">\n",
        "      <th></th>\n",
        "      <th>rois</th>\n",
        "      <th>path</th>\n",
        "      <th>vol</th>\n",
        "    </tr>\n",
        "  </thead>\n",
        "  <tbody>\n",
        "    <tr>\n",
        "      <th>0</th>\n",
        "      <td>0_to_0</td>\n",
        "      <td>/home/jgriffiths/Code/libraries_of_mine/github...</td>\n",
        "      <td>0</td>\n",
        "    </tr>\n",
        "    <tr>\n",
        "      <th>1</th>\n",
        "      <td>0_to_1</td>\n",
        "      <td>/home/jgriffiths/Code/libraries_of_mine/github...</td>\n",
        "      <td>1</td>\n",
        "    </tr>\n",
        "    <tr>\n",
        "      <th>10</th>\n",
        "      <td>0_to_10</td>\n",
        "      <td>/home/jgriffiths/Code/libraries_of_mine/github...</td>\n",
        "      <td>10</td>\n",
        "    </tr>\n",
        "    <tr>\n",
        "      <th>11</th>\n",
        "      <td>0_to_11</td>\n",
        "      <td>/home/jgriffiths/Code/libraries_of_mine/github...</td>\n",
        "      <td>11</td>\n",
        "    </tr>\n",
        "    <tr>\n",
        "      <th>12</th>\n",
        "      <td>0_to_12</td>\n",
        "      <td>/home/jgriffiths/Code/libraries_of_mine/github...</td>\n",
        "      <td>12</td>\n",
        "    </tr>\n",
        "    <tr>\n",
        "      <th>13</th>\n",
        "      <td>0_to_13</td>\n",
        "      <td>/home/jgriffiths/Code/libraries_of_mine/github...</td>\n",
        "      <td>13</td>\n",
        "    </tr>\n",
        "    <tr>\n",
        "      <th>14</th>\n",
        "      <td>0_to_14</td>\n",
        "      <td>/home/jgriffiths/Code/libraries_of_mine/github...</td>\n",
        "      <td>14</td>\n",
        "    </tr>\n",
        "    <tr>\n",
        "      <th>15</th>\n",
        "      <td>0_to_15</td>\n",
        "      <td>/home/jgriffiths/Code/libraries_of_mine/github...</td>\n",
        "      <td>15</td>\n",
        "    </tr>\n",
        "    <tr>\n",
        "      <th>16</th>\n",
        "      <td>0_to_16</td>\n",
        "      <td>/home/jgriffiths/Code/libraries_of_mine/github...</td>\n",
        "      <td>16</td>\n",
        "    </tr>\n",
        "    <tr>\n",
        "      <th>17</th>\n",
        "      <td>0_to_17</td>\n",
        "      <td>/home/jgriffiths/Code/libraries_of_mine/github...</td>\n",
        "      <td>17</td>\n",
        "    </tr>\n",
        "    <tr>\n",
        "      <th>18</th>\n",
        "      <td>0_to_18</td>\n",
        "      <td>/home/jgriffiths/Code/libraries_of_mine/github...</td>\n",
        "      <td>18</td>\n",
        "    </tr>\n",
        "    <tr>\n",
        "      <th>19</th>\n",
        "      <td>0_to_19</td>\n",
        "      <td>/home/jgriffiths/Code/libraries_of_mine/github...</td>\n",
        "      <td>19</td>\n",
        "    </tr>\n",
        "    <tr>\n",
        "      <th>2</th>\n",
        "      <td>0_to_2</td>\n",
        "      <td>/home/jgriffiths/Code/libraries_of_mine/github...</td>\n",
        "      <td>2</td>\n",
        "    </tr>\n",
        "    <tr>\n",
        "      <th>20</th>\n",
        "      <td>0_to_20</td>\n",
        "      <td>/home/jgriffiths/Code/libraries_of_mine/github...</td>\n",
        "      <td>20</td>\n",
        "    </tr>\n",
        "    <tr>\n",
        "      <th>21</th>\n",
        "      <td>0_to_21</td>\n",
        "      <td>/home/jgriffiths/Code/libraries_of_mine/github...</td>\n",
        "      <td>21</td>\n",
        "    </tr>\n",
        "    <tr>\n",
        "      <th>22</th>\n",
        "      <td>0_to_22</td>\n",
        "      <td>/home/jgriffiths/Code/libraries_of_mine/github...</td>\n",
        "      <td>22</td>\n",
        "    </tr>\n",
        "    <tr>\n",
        "      <th>23</th>\n",
        "      <td>0_to_23</td>\n",
        "      <td>/home/jgriffiths/Code/libraries_of_mine/github...</td>\n",
        "      <td>23</td>\n",
        "    </tr>\n",
        "    <tr>\n",
        "      <th>24</th>\n",
        "      <td>0_to_24</td>\n",
        "      <td>/home/jgriffiths/Code/libraries_of_mine/github...</td>\n",
        "      <td>24</td>\n",
        "    </tr>\n",
        "    <tr>\n",
        "      <th>25</th>\n",
        "      <td>0_to_25</td>\n",
        "      <td>/home/jgriffiths/Code/libraries_of_mine/github...</td>\n",
        "      <td>25</td>\n",
        "    </tr>\n",
        "    <tr>\n",
        "      <th>26</th>\n",
        "      <td>0_to_26</td>\n",
        "      <td>/home/jgriffiths/Code/libraries_of_mine/github...</td>\n",
        "      <td>26</td>\n",
        "    </tr>\n",
        "    <tr>\n",
        "      <th>27</th>\n",
        "      <td>0_to_27</td>\n",
        "      <td>/home/jgriffiths/Code/libraries_of_mine/github...</td>\n",
        "      <td>27</td>\n",
        "    </tr>\n",
        "    <tr>\n",
        "      <th>28</th>\n",
        "      <td>0_to_28</td>\n",
        "      <td>/home/jgriffiths/Code/libraries_of_mine/github...</td>\n",
        "      <td>28</td>\n",
        "    </tr>\n",
        "    <tr>\n",
        "      <th>29</th>\n",
        "      <td>0_to_29</td>\n",
        "      <td>/home/jgriffiths/Code/libraries_of_mine/github...</td>\n",
        "      <td>29</td>\n",
        "    </tr>\n",
        "    <tr>\n",
        "      <th>3</th>\n",
        "      <td>0_to_3</td>\n",
        "      <td>/home/jgriffiths/Code/libraries_of_mine/github...</td>\n",
        "      <td>3</td>\n",
        "    </tr>\n",
        "    <tr>\n",
        "      <th>30</th>\n",
        "      <td>0_to_30</td>\n",
        "      <td>/home/jgriffiths/Code/libraries_of_mine/github...</td>\n",
        "      <td>30</td>\n",
        "    </tr>\n",
        "    <tr>\n",
        "      <th>31</th>\n",
        "      <td>0_to_31</td>\n",
        "      <td>/home/jgriffiths/Code/libraries_of_mine/github...</td>\n",
        "      <td>31</td>\n",
        "    </tr>\n",
        "    <tr>\n",
        "      <th>32</th>\n",
        "      <td>0_to_32</td>\n",
        "      <td>/home/jgriffiths/Code/libraries_of_mine/github...</td>\n",
        "      <td>32</td>\n",
        "    </tr>\n",
        "    <tr>\n",
        "      <th>33</th>\n",
        "      <td>0_to_33</td>\n",
        "      <td>/home/jgriffiths/Code/libraries_of_mine/github...</td>\n",
        "      <td>33</td>\n",
        "    </tr>\n",
        "    <tr>\n",
        "      <th>34</th>\n",
        "      <td>0_to_34</td>\n",
        "      <td>/home/jgriffiths/Code/libraries_of_mine/github...</td>\n",
        "      <td>34</td>\n",
        "    </tr>\n",
        "    <tr>\n",
        "      <th>35</th>\n",
        "      <td>0_to_35</td>\n",
        "      <td>/home/jgriffiths/Code/libraries_of_mine/github...</td>\n",
        "      <td>35</td>\n",
        "    </tr>\n",
        "    <tr>\n",
        "      <th>...</th>\n",
        "      <td>...</td>\n",
        "      <td>...</td>\n",
        "      <td>...</td>\n",
        "    </tr>\n",
        "    <tr>\n",
        "      <th>804</th>\n",
        "      <td>9_to_57</td>\n",
        "      <td>/home/jgriffiths/Code/libraries_of_mine/github...</td>\n",
        "      <td>57</td>\n",
        "    </tr>\n",
        "    <tr>\n",
        "      <th>805</th>\n",
        "      <td>9_to_58</td>\n",
        "      <td>/home/jgriffiths/Code/libraries_of_mine/github...</td>\n",
        "      <td>58</td>\n",
        "    </tr>\n",
        "    <tr>\n",
        "      <th>806</th>\n",
        "      <td>9_to_59</td>\n",
        "      <td>/home/jgriffiths/Code/libraries_of_mine/github...</td>\n",
        "      <td>59</td>\n",
        "    </tr>\n",
        "    <tr>\n",
        "      <th>753</th>\n",
        "      <td>9_to_6</td>\n",
        "      <td>/home/jgriffiths/Code/libraries_of_mine/github...</td>\n",
        "      <td>6</td>\n",
        "    </tr>\n",
        "    <tr>\n",
        "      <th>807</th>\n",
        "      <td>9_to_60</td>\n",
        "      <td>/home/jgriffiths/Code/libraries_of_mine/github...</td>\n",
        "      <td>60</td>\n",
        "    </tr>\n",
        "    <tr>\n",
        "      <th>808</th>\n",
        "      <td>9_to_61</td>\n",
        "      <td>/home/jgriffiths/Code/libraries_of_mine/github...</td>\n",
        "      <td>61</td>\n",
        "    </tr>\n",
        "    <tr>\n",
        "      <th>809</th>\n",
        "      <td>9_to_62</td>\n",
        "      <td>/home/jgriffiths/Code/libraries_of_mine/github...</td>\n",
        "      <td>62</td>\n",
        "    </tr>\n",
        "    <tr>\n",
        "      <th>810</th>\n",
        "      <td>9_to_63</td>\n",
        "      <td>/home/jgriffiths/Code/libraries_of_mine/github...</td>\n",
        "      <td>63</td>\n",
        "    </tr>\n",
        "    <tr>\n",
        "      <th>811</th>\n",
        "      <td>9_to_64</td>\n",
        "      <td>/home/jgriffiths/Code/libraries_of_mine/github...</td>\n",
        "      <td>64</td>\n",
        "    </tr>\n",
        "    <tr>\n",
        "      <th>812</th>\n",
        "      <td>9_to_65</td>\n",
        "      <td>/home/jgriffiths/Code/libraries_of_mine/github...</td>\n",
        "      <td>65</td>\n",
        "    </tr>\n",
        "    <tr>\n",
        "      <th>813</th>\n",
        "      <td>9_to_66</td>\n",
        "      <td>/home/jgriffiths/Code/libraries_of_mine/github...</td>\n",
        "      <td>66</td>\n",
        "    </tr>\n",
        "    <tr>\n",
        "      <th>814</th>\n",
        "      <td>9_to_67</td>\n",
        "      <td>/home/jgriffiths/Code/libraries_of_mine/github...</td>\n",
        "      <td>67</td>\n",
        "    </tr>\n",
        "    <tr>\n",
        "      <th>815</th>\n",
        "      <td>9_to_68</td>\n",
        "      <td>/home/jgriffiths/Code/libraries_of_mine/github...</td>\n",
        "      <td>68</td>\n",
        "    </tr>\n",
        "    <tr>\n",
        "      <th>816</th>\n",
        "      <td>9_to_69</td>\n",
        "      <td>/home/jgriffiths/Code/libraries_of_mine/github...</td>\n",
        "      <td>69</td>\n",
        "    </tr>\n",
        "    <tr>\n",
        "      <th>754</th>\n",
        "      <td>9_to_7</td>\n",
        "      <td>/home/jgriffiths/Code/libraries_of_mine/github...</td>\n",
        "      <td>7</td>\n",
        "    </tr>\n",
        "    <tr>\n",
        "      <th>817</th>\n",
        "      <td>9_to_70</td>\n",
        "      <td>/home/jgriffiths/Code/libraries_of_mine/github...</td>\n",
        "      <td>70</td>\n",
        "    </tr>\n",
        "    <tr>\n",
        "      <th>818</th>\n",
        "      <td>9_to_71</td>\n",
        "      <td>/home/jgriffiths/Code/libraries_of_mine/github...</td>\n",
        "      <td>71</td>\n",
        "    </tr>\n",
        "    <tr>\n",
        "      <th>819</th>\n",
        "      <td>9_to_72</td>\n",
        "      <td>/home/jgriffiths/Code/libraries_of_mine/github...</td>\n",
        "      <td>72</td>\n",
        "    </tr>\n",
        "    <tr>\n",
        "      <th>820</th>\n",
        "      <td>9_to_73</td>\n",
        "      <td>/home/jgriffiths/Code/libraries_of_mine/github...</td>\n",
        "      <td>73</td>\n",
        "    </tr>\n",
        "    <tr>\n",
        "      <th>821</th>\n",
        "      <td>9_to_74</td>\n",
        "      <td>/home/jgriffiths/Code/libraries_of_mine/github...</td>\n",
        "      <td>74</td>\n",
        "    </tr>\n",
        "    <tr>\n",
        "      <th>822</th>\n",
        "      <td>9_to_75</td>\n",
        "      <td>/home/jgriffiths/Code/libraries_of_mine/github...</td>\n",
        "      <td>75</td>\n",
        "    </tr>\n",
        "    <tr>\n",
        "      <th>823</th>\n",
        "      <td>9_to_76</td>\n",
        "      <td>/home/jgriffiths/Code/libraries_of_mine/github...</td>\n",
        "      <td>76</td>\n",
        "    </tr>\n",
        "    <tr>\n",
        "      <th>824</th>\n",
        "      <td>9_to_77</td>\n",
        "      <td>/home/jgriffiths/Code/libraries_of_mine/github...</td>\n",
        "      <td>77</td>\n",
        "    </tr>\n",
        "    <tr>\n",
        "      <th>825</th>\n",
        "      <td>9_to_78</td>\n",
        "      <td>/home/jgriffiths/Code/libraries_of_mine/github...</td>\n",
        "      <td>78</td>\n",
        "    </tr>\n",
        "    <tr>\n",
        "      <th>826</th>\n",
        "      <td>9_to_79</td>\n",
        "      <td>/home/jgriffiths/Code/libraries_of_mine/github...</td>\n",
        "      <td>79</td>\n",
        "    </tr>\n",
        "    <tr>\n",
        "      <th>755</th>\n",
        "      <td>9_to_8</td>\n",
        "      <td>/home/jgriffiths/Code/libraries_of_mine/github...</td>\n",
        "      <td>8</td>\n",
        "    </tr>\n",
        "    <tr>\n",
        "      <th>827</th>\n",
        "      <td>9_to_80</td>\n",
        "      <td>/home/jgriffiths/Code/libraries_of_mine/github...</td>\n",
        "      <td>80</td>\n",
        "    </tr>\n",
        "    <tr>\n",
        "      <th>828</th>\n",
        "      <td>9_to_81</td>\n",
        "      <td>/home/jgriffiths/Code/libraries_of_mine/github...</td>\n",
        "      <td>81</td>\n",
        "    </tr>\n",
        "    <tr>\n",
        "      <th>829</th>\n",
        "      <td>9_to_82</td>\n",
        "      <td>/home/jgriffiths/Code/libraries_of_mine/github...</td>\n",
        "      <td>82</td>\n",
        "    </tr>\n",
        "    <tr>\n",
        "      <th>756</th>\n",
        "      <td>9_to_9</td>\n",
        "      <td>/home/jgriffiths/Code/libraries_of_mine/github...</td>\n",
        "      <td>9</td>\n",
        "    </tr>\n",
        "  </tbody>\n",
        "</table>\n",
        "<p>6889 rows \u00d7 3 columns</p>\n",
        "</div>"
       ],
       "metadata": {},
       "output_type": "pyout",
       "prompt_number": 35,
       "text": [
        "        rois                                               path vol\n",
        "0     0_to_0  /home/jgriffiths/Code/libraries_of_mine/github...   0\n",
        "1     0_to_1  /home/jgriffiths/Code/libraries_of_mine/github...   1\n",
        "10   0_to_10  /home/jgriffiths/Code/libraries_of_mine/github...  10\n",
        "11   0_to_11  /home/jgriffiths/Code/libraries_of_mine/github...  11\n",
        "12   0_to_12  /home/jgriffiths/Code/libraries_of_mine/github...  12\n",
        "13   0_to_13  /home/jgriffiths/Code/libraries_of_mine/github...  13\n",
        "14   0_to_14  /home/jgriffiths/Code/libraries_of_mine/github...  14\n",
        "15   0_to_15  /home/jgriffiths/Code/libraries_of_mine/github...  15\n",
        "16   0_to_16  /home/jgriffiths/Code/libraries_of_mine/github...  16\n",
        "17   0_to_17  /home/jgriffiths/Code/libraries_of_mine/github...  17\n",
        "18   0_to_18  /home/jgriffiths/Code/libraries_of_mine/github...  18\n",
        "19   0_to_19  /home/jgriffiths/Code/libraries_of_mine/github...  19\n",
        "2     0_to_2  /home/jgriffiths/Code/libraries_of_mine/github...   2\n",
        "20   0_to_20  /home/jgriffiths/Code/libraries_of_mine/github...  20\n",
        "21   0_to_21  /home/jgriffiths/Code/libraries_of_mine/github...  21\n",
        "22   0_to_22  /home/jgriffiths/Code/libraries_of_mine/github...  22\n",
        "23   0_to_23  /home/jgriffiths/Code/libraries_of_mine/github...  23\n",
        "24   0_to_24  /home/jgriffiths/Code/libraries_of_mine/github...  24\n",
        "25   0_to_25  /home/jgriffiths/Code/libraries_of_mine/github...  25\n",
        "26   0_to_26  /home/jgriffiths/Code/libraries_of_mine/github...  26\n",
        "27   0_to_27  /home/jgriffiths/Code/libraries_of_mine/github...  27\n",
        "28   0_to_28  /home/jgriffiths/Code/libraries_of_mine/github...  28\n",
        "29   0_to_29  /home/jgriffiths/Code/libraries_of_mine/github...  29\n",
        "3     0_to_3  /home/jgriffiths/Code/libraries_of_mine/github...   3\n",
        "30   0_to_30  /home/jgriffiths/Code/libraries_of_mine/github...  30\n",
        "31   0_to_31  /home/jgriffiths/Code/libraries_of_mine/github...  31\n",
        "32   0_to_32  /home/jgriffiths/Code/libraries_of_mine/github...  32\n",
        "33   0_to_33  /home/jgriffiths/Code/libraries_of_mine/github...  33\n",
        "34   0_to_34  /home/jgriffiths/Code/libraries_of_mine/github...  34\n",
        "35   0_to_35  /home/jgriffiths/Code/libraries_of_mine/github...  35\n",
        "..       ...                                                ...  ..\n",
        "804  9_to_57  /home/jgriffiths/Code/libraries_of_mine/github...  57\n",
        "805  9_to_58  /home/jgriffiths/Code/libraries_of_mine/github...  58\n",
        "806  9_to_59  /home/jgriffiths/Code/libraries_of_mine/github...  59\n",
        "753   9_to_6  /home/jgriffiths/Code/libraries_of_mine/github...   6\n",
        "807  9_to_60  /home/jgriffiths/Code/libraries_of_mine/github...  60\n",
        "808  9_to_61  /home/jgriffiths/Code/libraries_of_mine/github...  61\n",
        "809  9_to_62  /home/jgriffiths/Code/libraries_of_mine/github...  62\n",
        "810  9_to_63  /home/jgriffiths/Code/libraries_of_mine/github...  63\n",
        "811  9_to_64  /home/jgriffiths/Code/libraries_of_mine/github...  64\n",
        "812  9_to_65  /home/jgriffiths/Code/libraries_of_mine/github...  65\n",
        "813  9_to_66  /home/jgriffiths/Code/libraries_of_mine/github...  66\n",
        "814  9_to_67  /home/jgriffiths/Code/libraries_of_mine/github...  67\n",
        "815  9_to_68  /home/jgriffiths/Code/libraries_of_mine/github...  68\n",
        "816  9_to_69  /home/jgriffiths/Code/libraries_of_mine/github...  69\n",
        "754   9_to_7  /home/jgriffiths/Code/libraries_of_mine/github...   7\n",
        "817  9_to_70  /home/jgriffiths/Code/libraries_of_mine/github...  70\n",
        "818  9_to_71  /home/jgriffiths/Code/libraries_of_mine/github...  71\n",
        "819  9_to_72  /home/jgriffiths/Code/libraries_of_mine/github...  72\n",
        "820  9_to_73  /home/jgriffiths/Code/libraries_of_mine/github...  73\n",
        "821  9_to_74  /home/jgriffiths/Code/libraries_of_mine/github...  74\n",
        "822  9_to_75  /home/jgriffiths/Code/libraries_of_mine/github...  75\n",
        "823  9_to_76  /home/jgriffiths/Code/libraries_of_mine/github...  76\n",
        "824  9_to_77  /home/jgriffiths/Code/libraries_of_mine/github...  77\n",
        "825  9_to_78  /home/jgriffiths/Code/libraries_of_mine/github...  78\n",
        "826  9_to_79  /home/jgriffiths/Code/libraries_of_mine/github...  79\n",
        "755   9_to_8  /home/jgriffiths/Code/libraries_of_mine/github...   8\n",
        "827  9_to_80  /home/jgriffiths/Code/libraries_of_mine/github...  80\n",
        "828  9_to_81  /home/jgriffiths/Code/libraries_of_mine/github...  81\n",
        "829  9_to_82  /home/jgriffiths/Code/libraries_of_mine/github...  82\n",
        "756   9_to_9  /home/jgriffiths/Code/libraries_of_mine/github...   9\n",
        "\n",
        "[6889 rows x 3 columns]"
       ]
      }
     ],
     "prompt_number": 35
    },
    {
     "cell_type": "code",
     "collapsed": false,
     "input": [
      "neworder = df_arr.sort_values(by=1)[1]"
     ],
     "language": "python",
     "metadata": {
      "run_control": {
       "state": "n"
      }
     },
     "outputs": [],
     "prompt_number": 27
    },
    {
     "cell_type": "code",
     "collapsed": false,
     "input": [
      "df_arr"
     ],
     "language": "python",
     "metadata": {
      "run_control": {
       "state": "n"
      }
     },
     "outputs": [
      {
       "html": [
        "<div style=\"max-width:1500px;overflow:auto;\">\n",
        "<table border=\"1\" class=\"dataframe\">\n",
        "  <thead>\n",
        "    <tr style=\"text-align: right;\">\n",
        "      <th></th>\n",
        "      <th>0</th>\n",
        "      <th>1</th>\n",
        "      <th>2</th>\n",
        "    </tr>\n",
        "  </thead>\n",
        "  <tbody>\n",
        "    <tr>\n",
        "      <th>0</th>\n",
        "      <td>0_to_0</td>\n",
        "      <td>/home/jgriffiths/Code/libraries_of_mine/github...</td>\n",
        "      <td>0</td>\n",
        "    </tr>\n",
        "    <tr>\n",
        "      <th>1</th>\n",
        "      <td>0_to_1</td>\n",
        "      <td>/home/jgriffiths/Code/libraries_of_mine/github...</td>\n",
        "      <td>1</td>\n",
        "    </tr>\n",
        "    <tr>\n",
        "      <th>2</th>\n",
        "      <td>0_to_2</td>\n",
        "      <td>/home/jgriffiths/Code/libraries_of_mine/github...</td>\n",
        "      <td>2</td>\n",
        "    </tr>\n",
        "    <tr>\n",
        "      <th>3</th>\n",
        "      <td>0_to_3</td>\n",
        "      <td>/home/jgriffiths/Code/libraries_of_mine/github...</td>\n",
        "      <td>3</td>\n",
        "    </tr>\n",
        "    <tr>\n",
        "      <th>4</th>\n",
        "      <td>0_to_4</td>\n",
        "      <td>/home/jgriffiths/Code/libraries_of_mine/github...</td>\n",
        "      <td>4</td>\n",
        "    </tr>\n",
        "    <tr>\n",
        "      <th>5</th>\n",
        "      <td>0_to_5</td>\n",
        "      <td>/home/jgriffiths/Code/libraries_of_mine/github...</td>\n",
        "      <td>5</td>\n",
        "    </tr>\n",
        "    <tr>\n",
        "      <th>6</th>\n",
        "      <td>0_to_6</td>\n",
        "      <td>/home/jgriffiths/Code/libraries_of_mine/github...</td>\n",
        "      <td>6</td>\n",
        "    </tr>\n",
        "    <tr>\n",
        "      <th>7</th>\n",
        "      <td>0_to_7</td>\n",
        "      <td>/home/jgriffiths/Code/libraries_of_mine/github...</td>\n",
        "      <td>7</td>\n",
        "    </tr>\n",
        "    <tr>\n",
        "      <th>8</th>\n",
        "      <td>0_to_8</td>\n",
        "      <td>/home/jgriffiths/Code/libraries_of_mine/github...</td>\n",
        "      <td>8</td>\n",
        "    </tr>\n",
        "    <tr>\n",
        "      <th>9</th>\n",
        "      <td>0_to_9</td>\n",
        "      <td>/home/jgriffiths/Code/libraries_of_mine/github...</td>\n",
        "      <td>9</td>\n",
        "    </tr>\n",
        "    <tr>\n",
        "      <th>10</th>\n",
        "      <td>0_to_10</td>\n",
        "      <td>/home/jgriffiths/Code/libraries_of_mine/github...</td>\n",
        "      <td>10</td>\n",
        "    </tr>\n",
        "    <tr>\n",
        "      <th>11</th>\n",
        "      <td>0_to_11</td>\n",
        "      <td>/home/jgriffiths/Code/libraries_of_mine/github...</td>\n",
        "      <td>11</td>\n",
        "    </tr>\n",
        "    <tr>\n",
        "      <th>12</th>\n",
        "      <td>0_to_12</td>\n",
        "      <td>/home/jgriffiths/Code/libraries_of_mine/github...</td>\n",
        "      <td>12</td>\n",
        "    </tr>\n",
        "    <tr>\n",
        "      <th>13</th>\n",
        "      <td>0_to_13</td>\n",
        "      <td>/home/jgriffiths/Code/libraries_of_mine/github...</td>\n",
        "      <td>13</td>\n",
        "    </tr>\n",
        "    <tr>\n",
        "      <th>14</th>\n",
        "      <td>0_to_14</td>\n",
        "      <td>/home/jgriffiths/Code/libraries_of_mine/github...</td>\n",
        "      <td>14</td>\n",
        "    </tr>\n",
        "    <tr>\n",
        "      <th>15</th>\n",
        "      <td>0_to_15</td>\n",
        "      <td>/home/jgriffiths/Code/libraries_of_mine/github...</td>\n",
        "      <td>15</td>\n",
        "    </tr>\n",
        "    <tr>\n",
        "      <th>16</th>\n",
        "      <td>0_to_16</td>\n",
        "      <td>/home/jgriffiths/Code/libraries_of_mine/github...</td>\n",
        "      <td>16</td>\n",
        "    </tr>\n",
        "    <tr>\n",
        "      <th>17</th>\n",
        "      <td>0_to_17</td>\n",
        "      <td>/home/jgriffiths/Code/libraries_of_mine/github...</td>\n",
        "      <td>17</td>\n",
        "    </tr>\n",
        "    <tr>\n",
        "      <th>18</th>\n",
        "      <td>0_to_18</td>\n",
        "      <td>/home/jgriffiths/Code/libraries_of_mine/github...</td>\n",
        "      <td>18</td>\n",
        "    </tr>\n",
        "    <tr>\n",
        "      <th>19</th>\n",
        "      <td>0_to_19</td>\n",
        "      <td>/home/jgriffiths/Code/libraries_of_mine/github...</td>\n",
        "      <td>19</td>\n",
        "    </tr>\n",
        "    <tr>\n",
        "      <th>20</th>\n",
        "      <td>0_to_20</td>\n",
        "      <td>/home/jgriffiths/Code/libraries_of_mine/github...</td>\n",
        "      <td>20</td>\n",
        "    </tr>\n",
        "    <tr>\n",
        "      <th>21</th>\n",
        "      <td>0_to_21</td>\n",
        "      <td>/home/jgriffiths/Code/libraries_of_mine/github...</td>\n",
        "      <td>21</td>\n",
        "    </tr>\n",
        "    <tr>\n",
        "      <th>22</th>\n",
        "      <td>0_to_22</td>\n",
        "      <td>/home/jgriffiths/Code/libraries_of_mine/github...</td>\n",
        "      <td>22</td>\n",
        "    </tr>\n",
        "    <tr>\n",
        "      <th>23</th>\n",
        "      <td>0_to_23</td>\n",
        "      <td>/home/jgriffiths/Code/libraries_of_mine/github...</td>\n",
        "      <td>23</td>\n",
        "    </tr>\n",
        "    <tr>\n",
        "      <th>24</th>\n",
        "      <td>0_to_24</td>\n",
        "      <td>/home/jgriffiths/Code/libraries_of_mine/github...</td>\n",
        "      <td>24</td>\n",
        "    </tr>\n",
        "    <tr>\n",
        "      <th>25</th>\n",
        "      <td>0_to_25</td>\n",
        "      <td>/home/jgriffiths/Code/libraries_of_mine/github...</td>\n",
        "      <td>25</td>\n",
        "    </tr>\n",
        "    <tr>\n",
        "      <th>26</th>\n",
        "      <td>0_to_26</td>\n",
        "      <td>/home/jgriffiths/Code/libraries_of_mine/github...</td>\n",
        "      <td>26</td>\n",
        "    </tr>\n",
        "    <tr>\n",
        "      <th>27</th>\n",
        "      <td>0_to_27</td>\n",
        "      <td>/home/jgriffiths/Code/libraries_of_mine/github...</td>\n",
        "      <td>27</td>\n",
        "    </tr>\n",
        "    <tr>\n",
        "      <th>28</th>\n",
        "      <td>0_to_28</td>\n",
        "      <td>/home/jgriffiths/Code/libraries_of_mine/github...</td>\n",
        "      <td>28</td>\n",
        "    </tr>\n",
        "    <tr>\n",
        "      <th>29</th>\n",
        "      <td>0_to_29</td>\n",
        "      <td>/home/jgriffiths/Code/libraries_of_mine/github...</td>\n",
        "      <td>29</td>\n",
        "    </tr>\n",
        "    <tr>\n",
        "      <th>...</th>\n",
        "      <td>...</td>\n",
        "      <td>...</td>\n",
        "      <td>...</td>\n",
        "    </tr>\n",
        "    <tr>\n",
        "      <th>6859</th>\n",
        "      <td>82_to_53</td>\n",
        "      <td>/home/jgriffiths/Code/libraries_of_mine/github...</td>\n",
        "      <td>53</td>\n",
        "    </tr>\n",
        "    <tr>\n",
        "      <th>6860</th>\n",
        "      <td>82_to_54</td>\n",
        "      <td>/home/jgriffiths/Code/libraries_of_mine/github...</td>\n",
        "      <td>54</td>\n",
        "    </tr>\n",
        "    <tr>\n",
        "      <th>6861</th>\n",
        "      <td>82_to_55</td>\n",
        "      <td>/home/jgriffiths/Code/libraries_of_mine/github...</td>\n",
        "      <td>55</td>\n",
        "    </tr>\n",
        "    <tr>\n",
        "      <th>6862</th>\n",
        "      <td>82_to_56</td>\n",
        "      <td>/home/jgriffiths/Code/libraries_of_mine/github...</td>\n",
        "      <td>56</td>\n",
        "    </tr>\n",
        "    <tr>\n",
        "      <th>6863</th>\n",
        "      <td>82_to_57</td>\n",
        "      <td>/home/jgriffiths/Code/libraries_of_mine/github...</td>\n",
        "      <td>57</td>\n",
        "    </tr>\n",
        "    <tr>\n",
        "      <th>6864</th>\n",
        "      <td>82_to_58</td>\n",
        "      <td>/home/jgriffiths/Code/libraries_of_mine/github...</td>\n",
        "      <td>58</td>\n",
        "    </tr>\n",
        "    <tr>\n",
        "      <th>6865</th>\n",
        "      <td>82_to_59</td>\n",
        "      <td>/home/jgriffiths/Code/libraries_of_mine/github...</td>\n",
        "      <td>59</td>\n",
        "    </tr>\n",
        "    <tr>\n",
        "      <th>6866</th>\n",
        "      <td>82_to_60</td>\n",
        "      <td>/home/jgriffiths/Code/libraries_of_mine/github...</td>\n",
        "      <td>60</td>\n",
        "    </tr>\n",
        "    <tr>\n",
        "      <th>6867</th>\n",
        "      <td>82_to_61</td>\n",
        "      <td>/home/jgriffiths/Code/libraries_of_mine/github...</td>\n",
        "      <td>61</td>\n",
        "    </tr>\n",
        "    <tr>\n",
        "      <th>6868</th>\n",
        "      <td>82_to_62</td>\n",
        "      <td>/home/jgriffiths/Code/libraries_of_mine/github...</td>\n",
        "      <td>62</td>\n",
        "    </tr>\n",
        "    <tr>\n",
        "      <th>6869</th>\n",
        "      <td>82_to_63</td>\n",
        "      <td>/home/jgriffiths/Code/libraries_of_mine/github...</td>\n",
        "      <td>63</td>\n",
        "    </tr>\n",
        "    <tr>\n",
        "      <th>6870</th>\n",
        "      <td>82_to_64</td>\n",
        "      <td>/home/jgriffiths/Code/libraries_of_mine/github...</td>\n",
        "      <td>64</td>\n",
        "    </tr>\n",
        "    <tr>\n",
        "      <th>6871</th>\n",
        "      <td>82_to_65</td>\n",
        "      <td>/home/jgriffiths/Code/libraries_of_mine/github...</td>\n",
        "      <td>65</td>\n",
        "    </tr>\n",
        "    <tr>\n",
        "      <th>6872</th>\n",
        "      <td>82_to_66</td>\n",
        "      <td>/home/jgriffiths/Code/libraries_of_mine/github...</td>\n",
        "      <td>66</td>\n",
        "    </tr>\n",
        "    <tr>\n",
        "      <th>6873</th>\n",
        "      <td>82_to_67</td>\n",
        "      <td>/home/jgriffiths/Code/libraries_of_mine/github...</td>\n",
        "      <td>67</td>\n",
        "    </tr>\n",
        "    <tr>\n",
        "      <th>6874</th>\n",
        "      <td>82_to_68</td>\n",
        "      <td>/home/jgriffiths/Code/libraries_of_mine/github...</td>\n",
        "      <td>68</td>\n",
        "    </tr>\n",
        "    <tr>\n",
        "      <th>6875</th>\n",
        "      <td>82_to_69</td>\n",
        "      <td>/home/jgriffiths/Code/libraries_of_mine/github...</td>\n",
        "      <td>69</td>\n",
        "    </tr>\n",
        "    <tr>\n",
        "      <th>6876</th>\n",
        "      <td>82_to_70</td>\n",
        "      <td>/home/jgriffiths/Code/libraries_of_mine/github...</td>\n",
        "      <td>70</td>\n",
        "    </tr>\n",
        "    <tr>\n",
        "      <th>6877</th>\n",
        "      <td>82_to_71</td>\n",
        "      <td>/home/jgriffiths/Code/libraries_of_mine/github...</td>\n",
        "      <td>71</td>\n",
        "    </tr>\n",
        "    <tr>\n",
        "      <th>6878</th>\n",
        "      <td>82_to_72</td>\n",
        "      <td>/home/jgriffiths/Code/libraries_of_mine/github...</td>\n",
        "      <td>72</td>\n",
        "    </tr>\n",
        "    <tr>\n",
        "      <th>6879</th>\n",
        "      <td>82_to_73</td>\n",
        "      <td>/home/jgriffiths/Code/libraries_of_mine/github...</td>\n",
        "      <td>73</td>\n",
        "    </tr>\n",
        "    <tr>\n",
        "      <th>6880</th>\n",
        "      <td>82_to_74</td>\n",
        "      <td>/home/jgriffiths/Code/libraries_of_mine/github...</td>\n",
        "      <td>74</td>\n",
        "    </tr>\n",
        "    <tr>\n",
        "      <th>6881</th>\n",
        "      <td>82_to_75</td>\n",
        "      <td>/home/jgriffiths/Code/libraries_of_mine/github...</td>\n",
        "      <td>75</td>\n",
        "    </tr>\n",
        "    <tr>\n",
        "      <th>6882</th>\n",
        "      <td>82_to_76</td>\n",
        "      <td>/home/jgriffiths/Code/libraries_of_mine/github...</td>\n",
        "      <td>76</td>\n",
        "    </tr>\n",
        "    <tr>\n",
        "      <th>6883</th>\n",
        "      <td>82_to_77</td>\n",
        "      <td>/home/jgriffiths/Code/libraries_of_mine/github...</td>\n",
        "      <td>77</td>\n",
        "    </tr>\n",
        "    <tr>\n",
        "      <th>6884</th>\n",
        "      <td>82_to_78</td>\n",
        "      <td>/home/jgriffiths/Code/libraries_of_mine/github...</td>\n",
        "      <td>78</td>\n",
        "    </tr>\n",
        "    <tr>\n",
        "      <th>6885</th>\n",
        "      <td>82_to_79</td>\n",
        "      <td>/home/jgriffiths/Code/libraries_of_mine/github...</td>\n",
        "      <td>79</td>\n",
        "    </tr>\n",
        "    <tr>\n",
        "      <th>6886</th>\n",
        "      <td>82_to_80</td>\n",
        "      <td>/home/jgriffiths/Code/libraries_of_mine/github...</td>\n",
        "      <td>80</td>\n",
        "    </tr>\n",
        "    <tr>\n",
        "      <th>6887</th>\n",
        "      <td>82_to_81</td>\n",
        "      <td>/home/jgriffiths/Code/libraries_of_mine/github...</td>\n",
        "      <td>81</td>\n",
        "    </tr>\n",
        "    <tr>\n",
        "      <th>6888</th>\n",
        "      <td>82_to_82</td>\n",
        "      <td>/home/jgriffiths/Code/libraries_of_mine/github...</td>\n",
        "      <td>82</td>\n",
        "    </tr>\n",
        "  </tbody>\n",
        "</table>\n",
        "<p>6889 rows \u00d7 3 columns</p>\n",
        "</div>"
       ],
       "metadata": {},
       "output_type": "pyout",
       "prompt_number": 29,
       "text": [
        "             0                                                  1   2\n",
        "0       0_to_0  /home/jgriffiths/Code/libraries_of_mine/github...   0\n",
        "1       0_to_1  /home/jgriffiths/Code/libraries_of_mine/github...   1\n",
        "2       0_to_2  /home/jgriffiths/Code/libraries_of_mine/github...   2\n",
        "3       0_to_3  /home/jgriffiths/Code/libraries_of_mine/github...   3\n",
        "4       0_to_4  /home/jgriffiths/Code/libraries_of_mine/github...   4\n",
        "5       0_to_5  /home/jgriffiths/Code/libraries_of_mine/github...   5\n",
        "6       0_to_6  /home/jgriffiths/Code/libraries_of_mine/github...   6\n",
        "7       0_to_7  /home/jgriffiths/Code/libraries_of_mine/github...   7\n",
        "8       0_to_8  /home/jgriffiths/Code/libraries_of_mine/github...   8\n",
        "9       0_to_9  /home/jgriffiths/Code/libraries_of_mine/github...   9\n",
        "10     0_to_10  /home/jgriffiths/Code/libraries_of_mine/github...  10\n",
        "11     0_to_11  /home/jgriffiths/Code/libraries_of_mine/github...  11\n",
        "12     0_to_12  /home/jgriffiths/Code/libraries_of_mine/github...  12\n",
        "13     0_to_13  /home/jgriffiths/Code/libraries_of_mine/github...  13\n",
        "14     0_to_14  /home/jgriffiths/Code/libraries_of_mine/github...  14\n",
        "15     0_to_15  /home/jgriffiths/Code/libraries_of_mine/github...  15\n",
        "16     0_to_16  /home/jgriffiths/Code/libraries_of_mine/github...  16\n",
        "17     0_to_17  /home/jgriffiths/Code/libraries_of_mine/github...  17\n",
        "18     0_to_18  /home/jgriffiths/Code/libraries_of_mine/github...  18\n",
        "19     0_to_19  /home/jgriffiths/Code/libraries_of_mine/github...  19\n",
        "20     0_to_20  /home/jgriffiths/Code/libraries_of_mine/github...  20\n",
        "21     0_to_21  /home/jgriffiths/Code/libraries_of_mine/github...  21\n",
        "22     0_to_22  /home/jgriffiths/Code/libraries_of_mine/github...  22\n",
        "23     0_to_23  /home/jgriffiths/Code/libraries_of_mine/github...  23\n",
        "24     0_to_24  /home/jgriffiths/Code/libraries_of_mine/github...  24\n",
        "25     0_to_25  /home/jgriffiths/Code/libraries_of_mine/github...  25\n",
        "26     0_to_26  /home/jgriffiths/Code/libraries_of_mine/github...  26\n",
        "27     0_to_27  /home/jgriffiths/Code/libraries_of_mine/github...  27\n",
        "28     0_to_28  /home/jgriffiths/Code/libraries_of_mine/github...  28\n",
        "29     0_to_29  /home/jgriffiths/Code/libraries_of_mine/github...  29\n",
        "...        ...                                                ...  ..\n",
        "6859  82_to_53  /home/jgriffiths/Code/libraries_of_mine/github...  53\n",
        "6860  82_to_54  /home/jgriffiths/Code/libraries_of_mine/github...  54\n",
        "6861  82_to_55  /home/jgriffiths/Code/libraries_of_mine/github...  55\n",
        "6862  82_to_56  /home/jgriffiths/Code/libraries_of_mine/github...  56\n",
        "6863  82_to_57  /home/jgriffiths/Code/libraries_of_mine/github...  57\n",
        "6864  82_to_58  /home/jgriffiths/Code/libraries_of_mine/github...  58\n",
        "6865  82_to_59  /home/jgriffiths/Code/libraries_of_mine/github...  59\n",
        "6866  82_to_60  /home/jgriffiths/Code/libraries_of_mine/github...  60\n",
        "6867  82_to_61  /home/jgriffiths/Code/libraries_of_mine/github...  61\n",
        "6868  82_to_62  /home/jgriffiths/Code/libraries_of_mine/github...  62\n",
        "6869  82_to_63  /home/jgriffiths/Code/libraries_of_mine/github...  63\n",
        "6870  82_to_64  /home/jgriffiths/Code/libraries_of_mine/github...  64\n",
        "6871  82_to_65  /home/jgriffiths/Code/libraries_of_mine/github...  65\n",
        "6872  82_to_66  /home/jgriffiths/Code/libraries_of_mine/github...  66\n",
        "6873  82_to_67  /home/jgriffiths/Code/libraries_of_mine/github...  67\n",
        "6874  82_to_68  /home/jgriffiths/Code/libraries_of_mine/github...  68\n",
        "6875  82_to_69  /home/jgriffiths/Code/libraries_of_mine/github...  69\n",
        "6876  82_to_70  /home/jgriffiths/Code/libraries_of_mine/github...  70\n",
        "6877  82_to_71  /home/jgriffiths/Code/libraries_of_mine/github...  71\n",
        "6878  82_to_72  /home/jgriffiths/Code/libraries_of_mine/github...  72\n",
        "6879  82_to_73  /home/jgriffiths/Code/libraries_of_mine/github...  73\n",
        "6880  82_to_74  /home/jgriffiths/Code/libraries_of_mine/github...  74\n",
        "6881  82_to_75  /home/jgriffiths/Code/libraries_of_mine/github...  75\n",
        "6882  82_to_76  /home/jgriffiths/Code/libraries_of_mine/github...  76\n",
        "6883  82_to_77  /home/jgriffiths/Code/libraries_of_mine/github...  77\n",
        "6884  82_to_78  /home/jgriffiths/Code/libraries_of_mine/github...  78\n",
        "6885  82_to_79  /home/jgriffiths/Code/libraries_of_mine/github...  79\n",
        "6886  82_to_80  /home/jgriffiths/Code/libraries_of_mine/github...  80\n",
        "6887  82_to_81  /home/jgriffiths/Code/libraries_of_mine/github...  81\n",
        "6888  82_to_82  /home/jgriffiths/Code/libraries_of_mine/github...  82\n",
        "\n",
        "[6889 rows x 3 columns]"
       ]
      }
     ],
     "prompt_number": 29
    },
    {
     "cell_type": "code",
     "collapsed": false,
     "input": [
      "neworder"
     ],
     "language": "python",
     "metadata": {
      "run_control": {
       "state": "n"
      }
     },
     "outputs": [
      {
       "metadata": {},
       "output_type": "pyout",
       "prompt_number": 28,
       "text": [
        "0      /home/jgriffiths/Code/libraries_of_mine/github...\n",
        "60     /home/jgriffiths/Code/libraries_of_mine/github...\n",
        "59     /home/jgriffiths/Code/libraries_of_mine/github...\n",
        "58     /home/jgriffiths/Code/libraries_of_mine/github...\n",
        "57     /home/jgriffiths/Code/libraries_of_mine/github...\n",
        "56     /home/jgriffiths/Code/libraries_of_mine/github...\n",
        "55     /home/jgriffiths/Code/libraries_of_mine/github...\n",
        "54     /home/jgriffiths/Code/libraries_of_mine/github...\n",
        "53     /home/jgriffiths/Code/libraries_of_mine/github...\n",
        "52     /home/jgriffiths/Code/libraries_of_mine/github...\n",
        "51     /home/jgriffiths/Code/libraries_of_mine/github...\n",
        "50     /home/jgriffiths/Code/libraries_of_mine/github...\n",
        "49     /home/jgriffiths/Code/libraries_of_mine/github...\n",
        "48     /home/jgriffiths/Code/libraries_of_mine/github...\n",
        "47     /home/jgriffiths/Code/libraries_of_mine/github...\n",
        "46     /home/jgriffiths/Code/libraries_of_mine/github...\n",
        "45     /home/jgriffiths/Code/libraries_of_mine/github...\n",
        "44     /home/jgriffiths/Code/libraries_of_mine/github...\n",
        "61     /home/jgriffiths/Code/libraries_of_mine/github...\n",
        "43     /home/jgriffiths/Code/libraries_of_mine/github...\n",
        "62     /home/jgriffiths/Code/libraries_of_mine/github...\n",
        "64     /home/jgriffiths/Code/libraries_of_mine/github...\n",
        "81     /home/jgriffiths/Code/libraries_of_mine/github...\n",
        "80     /home/jgriffiths/Code/libraries_of_mine/github...\n",
        "79     /home/jgriffiths/Code/libraries_of_mine/github...\n",
        "78     /home/jgriffiths/Code/libraries_of_mine/github...\n",
        "77     /home/jgriffiths/Code/libraries_of_mine/github...\n",
        "76     /home/jgriffiths/Code/libraries_of_mine/github...\n",
        "75     /home/jgriffiths/Code/libraries_of_mine/github...\n",
        "74     /home/jgriffiths/Code/libraries_of_mine/github...\n",
        "                             ...                        \n",
        "751    /home/jgriffiths/Code/libraries_of_mine/github...\n",
        "750    /home/jgriffiths/Code/libraries_of_mine/github...\n",
        "749    /home/jgriffiths/Code/libraries_of_mine/github...\n",
        "748    /home/jgriffiths/Code/libraries_of_mine/github...\n",
        "747    /home/jgriffiths/Code/libraries_of_mine/github...\n",
        "829    /home/jgriffiths/Code/libraries_of_mine/github...\n",
        "763    /home/jgriffiths/Code/libraries_of_mine/github...\n",
        "764    /home/jgriffiths/Code/libraries_of_mine/github...\n",
        "765    /home/jgriffiths/Code/libraries_of_mine/github...\n",
        "766    /home/jgriffiths/Code/libraries_of_mine/github...\n",
        "785    /home/jgriffiths/Code/libraries_of_mine/github...\n",
        "784    /home/jgriffiths/Code/libraries_of_mine/github...\n",
        "783    /home/jgriffiths/Code/libraries_of_mine/github...\n",
        "782    /home/jgriffiths/Code/libraries_of_mine/github...\n",
        "781    /home/jgriffiths/Code/libraries_of_mine/github...\n",
        "780    /home/jgriffiths/Code/libraries_of_mine/github...\n",
        "779    /home/jgriffiths/Code/libraries_of_mine/github...\n",
        "778    /home/jgriffiths/Code/libraries_of_mine/github...\n",
        "787    /home/jgriffiths/Code/libraries_of_mine/github...\n",
        "777    /home/jgriffiths/Code/libraries_of_mine/github...\n",
        "775    /home/jgriffiths/Code/libraries_of_mine/github...\n",
        "774    /home/jgriffiths/Code/libraries_of_mine/github...\n",
        "773    /home/jgriffiths/Code/libraries_of_mine/github...\n",
        "772    /home/jgriffiths/Code/libraries_of_mine/github...\n",
        "771    /home/jgriffiths/Code/libraries_of_mine/github...\n",
        "770    /home/jgriffiths/Code/libraries_of_mine/github...\n",
        "769    /home/jgriffiths/Code/libraries_of_mine/github...\n",
        "768    /home/jgriffiths/Code/libraries_of_mine/github...\n",
        "776    /home/jgriffiths/Code/libraries_of_mine/github...\n",
        "828    /home/jgriffiths/Code/libraries_of_mine/github...\n",
        "Name: 1, dtype: object"
       ]
      }
     ],
     "prompt_number": 28
    },
    {
     "cell_type": "code",
     "collapsed": false,
     "input": [
      "# NOW CHANGE THE LOOP IN THE FUNCTION TO LOAD IN ONE IMAGE AND THEN GET ALL THE VOLUMES OF INTEREST FROM THAT IMAGE AT ONCE..."
     ],
     "language": "python",
     "metadata": {
      "run_control": {
       "state": "n"
      }
     },
     "outputs": [],
     "prompt_number": 82
    },
    {
     "cell_type": "code",
     "collapsed": false,
     "input": [
      "# ..."
     ],
     "language": "python",
     "metadata": {
      "run_control": {
       "state": "n"
      }
     },
     "outputs": []
    },
    {
     "cell_type": "code",
     "collapsed": false,
     "input": [],
     "language": "python",
     "metadata": {
      "run_control": {
       "state": "n"
      }
     },
     "outputs": []
    },
    {
     "cell_type": "code",
     "collapsed": false,
     "input": [],
     "language": "python",
     "metadata": {
      "run_control": {
       "state": "n"
      }
     },
     "outputs": []
    },
    {
     "cell_type": "code",
     "collapsed": false,
     "input": [],
     "language": "python",
     "metadata": {
      "run_control": {
       "state": "n"
      }
     },
     "outputs": []
    },
    {
     "cell_type": "code",
     "collapsed": false,
     "input": [
      "np.sort()"
     ],
     "language": "python",
     "metadata": {
      "run_control": {
       "state": "n"
      }
     },
     "outputs": []
    },
    {
     "cell_type": "code",
     "collapsed": false,
     "input": [
      "_arr.shape"
     ],
     "language": "python",
     "metadata": {
      "run_control": {
       "state": "n"
      }
     },
     "outputs": [
      {
       "metadata": {},
       "output_type": "pyout",
       "prompt_number": 49,
       "text": [
        "(6889, 3)"
       ]
      }
     ],
     "prompt_number": 49
    },
    {
     "cell_type": "code",
     "collapsed": false,
     "input": [
      "np.sort(_arr,axis=0)"
     ],
     "language": "python",
     "metadata": {
      "run_control": {
       "state": "n"
      }
     },
     "outputs": [
      {
       "metadata": {},
       "output_type": "pyout",
       "prompt_number": 48,
       "text": [
        "array([['0_to_0',\n",
        "        '/home/jgriffiths/Code/libraries_of_mine/github/ConWhAt/ConWhAt/atlases/volumetric/dipy_dsi_l2k8_sc33/vismap_grp_cat_rois_v2_0_norm.nii.gz',\n",
        "        '0'],\n",
        "       ['0_to_1',\n",
        "        '/home/jgriffiths/Code/libraries_of_mine/github/ConWhAt/ConWhAt/atlases/volumetric/dipy_dsi_l2k8_sc33/vismap_grp_cat_rois_v2_0_norm.nii.gz',\n",
        "        '0'],\n",
        "       ['0_to_10',\n",
        "        '/home/jgriffiths/Code/libraries_of_mine/github/ConWhAt/ConWhAt/atlases/volumetric/dipy_dsi_l2k8_sc33/vismap_grp_cat_rois_v2_0_norm.nii.gz',\n",
        "        '0'],\n",
        "       ..., \n",
        "       ['9_to_81',\n",
        "        '/home/jgriffiths/Code/libraries_of_mine/github/ConWhAt/ConWhAt/atlases/volumetric/dipy_dsi_l2k8_sc33/vismap_grp_cat_rois_v2_9_norm.nii.gz',\n",
        "        '9'],\n",
        "       ['9_to_82',\n",
        "        '/home/jgriffiths/Code/libraries_of_mine/github/ConWhAt/ConWhAt/atlases/volumetric/dipy_dsi_l2k8_sc33/vismap_grp_cat_rois_v2_9_norm.nii.gz',\n",
        "        '9'],\n",
        "       ['9_to_9',\n",
        "        '/home/jgriffiths/Code/libraries_of_mine/github/ConWhAt/ConWhAt/atlases/volumetric/dipy_dsi_l2k8_sc33/vismap_grp_cat_rois_v2_9_norm.nii.gz',\n",
        "        '9']], \n",
        "      dtype='|S138')"
       ]
      }
     ],
     "prompt_number": 48
    },
    {
     "cell_type": "code",
     "collapsed": false,
     "input": [],
     "language": "python",
     "metadata": {
      "run_control": {
       "state": "n"
      }
     },
     "outputs": []
    },
    {
     "cell_type": "code",
     "collapsed": false,
     "input": [
      "#  = /home/jgriffiths/Code/libraries_of_mine/github/ConWhAt/ConWhAt/atlases/volumetric'/dipy_dsi_sd4_l2k8_sc33_v2'"
     ],
     "language": "python",
     "metadata": {
      "run_control": {
       "state": "n"
      }
     },
     "outputs": [],
     "prompt_number": 36
    },
    {
     "cell_type": "code",
     "collapsed": false,
     "input": [
      "import nibabel as nib"
     ],
     "language": "python",
     "metadata": {
      "run_control": {
       "state": "n"
      }
     },
     "outputs": [],
     "prompt_number": 37
    },
    {
     "cell_type": "code",
     "collapsed": false,
     "input": [
      "f"
     ],
     "language": "python",
     "metadata": {
      "run_control": {
       "state": "n"
      }
     },
     "outputs": [
      {
       "metadata": {},
       "output_type": "pyout",
       "prompt_number": 38,
       "text": [
        "'/home/jgriffiths/Code/libraries_of_mine/github/ConWhAt/atlases/volumetric/dipy_dsi_sd4_l2k8_sc33/vismap_grp_cat_rois_v2_0_norm.nii.gz'"
       ]
      }
     ],
     "prompt_number": 38
    },
    {
     "cell_type": "code",
     "collapsed": false,
     "input": [
      "f = '/home/jgriffiths/Code/libraries_of_mine/github/ConWhAt/ConWhAt/atlases/volumetric/dipy_dsi_sd4_l2k8_sc33/vismap_grp_cat_rois_v2_9_norm.nii.gz'"
     ],
     "language": "python",
     "metadata": {
      "run_control": {
       "state": "n"
      }
     },
     "outputs": [],
     "prompt_number": 53
    },
    {
     "cell_type": "code",
     "collapsed": false,
     "input": [
      "img = nib.load(f)"
     ],
     "language": "python",
     "metadata": {
      "run_control": {
       "state": "n"
      }
     },
     "outputs": [],
     "prompt_number": 54
    },
    {
     "cell_type": "code",
     "collapsed": false,
     "input": [
      "from ConWhAt.base import hit_stats,compare_images"
     ],
     "language": "python",
     "metadata": {
      "run_control": {
       "state": "n"
      }
     },
     "outputs": [],
     "prompt_number": 55
    },
    {
     "cell_type": "code",
     "collapsed": false,
     "input": [
      "compare_images(f,test_file)"
     ],
     "language": "python",
     "metadata": {
      "run_control": {
       "state": "n"
      }
     },
     "outputs": [
      {
       "ename": "ValueError",
       "evalue": "operands could not be broadcast together with shapes (182,218,182,84) (182,218,182) ",
       "output_type": "pyerr",
       "traceback": [
        "\u001b[1;31m---------------------------------------------------------------------------\u001b[0m\n\u001b[1;31mValueError\u001b[0m                                Traceback (most recent call last)",
        "\u001b[1;32m<ipython-input-31-e4d096d213f4>\u001b[0m in \u001b[0;36m<module>\u001b[1;34m()\u001b[0m\n\u001b[1;32m----> 1\u001b[1;33m \u001b[0mcompare_images\u001b[0m\u001b[1;33m(\u001b[0m\u001b[0mf\u001b[0m\u001b[1;33m,\u001b[0m\u001b[0mtest_file\u001b[0m\u001b[1;33m)\u001b[0m\u001b[1;33m\u001b[0m\u001b[0m\n\u001b[0m",
        "\u001b[1;32m/home/jgriffiths/Code/libraries_of_mine/github/ConWhAt/ConWhAt/base/hit_stats.py\u001b[0m in \u001b[0;36mcompare_images\u001b[1;34m(f1, f2, thr1, thr2)\u001b[0m\n\u001b[0;32m     95\u001b[0m \u001b[1;33m\u001b[0m\u001b[0m\n\u001b[0;32m     96\u001b[0m \u001b[1;33m\u001b[0m\u001b[0m\n\u001b[1;32m---> 97\u001b[1;33m   \u001b[0mthrbin_mul\u001b[0m \u001b[1;33m=\u001b[0m \u001b[0mdat1_thrbin\u001b[0m\u001b[1;33m*\u001b[0m\u001b[0mdat2_thrbin\u001b[0m\u001b[1;33m\u001b[0m\u001b[0m\n\u001b[0m\u001b[0;32m     98\u001b[0m   \u001b[0mthrbininv_mul\u001b[0m \u001b[1;33m=\u001b[0m \u001b[1;33m(\u001b[0m\u001b[0mdat1_thrbin\u001b[0m\u001b[1;33m==\u001b[0m\u001b[1;36m0\u001b[0m\u001b[1;33m)\u001b[0m\u001b[1;33m*\u001b[0m\u001b[1;33m(\u001b[0m\u001b[0mdat2_thrbin\u001b[0m\u001b[1;33m==\u001b[0m\u001b[1;36m0\u001b[0m\u001b[1;33m)\u001b[0m\u001b[1;33m\u001b[0m\u001b[0m\n\u001b[0;32m     99\u001b[0m \u001b[1;33m\u001b[0m\u001b[0m\n",
        "\u001b[1;31mValueError\u001b[0m: operands could not be broadcast together with shapes (182,218,182,84) (182,218,182) "
       ]
      }
     ],
     "prompt_number": 31
    },
    {
     "cell_type": "code",
     "collapsed": false,
     "input": [
      "img = nib.load(f)"
     ],
     "language": "python",
     "metadata": {
      "run_control": {
       "state": "n"
      }
     },
     "outputs": [],
     "prompt_number": 32
    },
    {
     "cell_type": "code",
     "collapsed": false,
     "input": [
      "test_img = nib.load(test_file)"
     ],
     "language": "python",
     "metadata": {
      "run_control": {
       "state": "n"
      }
     },
     "outputs": [],
     "prompt_number": 33
    },
    {
     "cell_type": "code",
     "collapsed": false,
     "input": [
      "img.shape"
     ],
     "language": "python",
     "metadata": {
      "run_control": {
       "state": "n"
      }
     },
     "outputs": [
      {
       "metadata": {},
       "output_type": "pyout",
       "prompt_number": 34,
       "text": [
        "(182, 218, 182, 84)"
       ]
      }
     ],
     "prompt_number": 34
    },
    {
     "cell_type": "code",
     "collapsed": false,
     "input": [
      "dat = img.get_data()"
     ],
     "language": "python",
     "metadata": {
      "run_control": {
       "state": "n"
      }
     },
     "outputs": [],
     "prompt_number": 35
    },
    {
     "cell_type": "code",
     "collapsed": false,
     "input": [
      "dat.shape"
     ],
     "language": "python",
     "metadata": {
      "run_control": {
       "state": "n"
      }
     },
     "outputs": [
      {
       "metadata": {},
       "output_type": "pyout",
       "prompt_number": 39,
       "text": [
        "(182, 218, 182, 84)"
       ]
      }
     ],
     "prompt_number": 39
    },
    {
     "cell_type": "code",
     "collapsed": false,
     "input": [
      "test_dat*dat"
     ],
     "language": "python",
     "metadata": {
      "run_control": {
       "state": "n"
      }
     },
     "outputs": [
      {
       "ename": "ValueError",
       "evalue": "operands could not be broadcast together with shapes (182,218,182) (182,218,182,84) ",
       "output_type": "pyerr",
       "traceback": [
        "\u001b[1;31m---------------------------------------------------------------------------\u001b[0m\n\u001b[1;31mValueError\u001b[0m                                Traceback (most recent call last)",
        "\u001b[1;32m<ipython-input-40-cf6ed5958238>\u001b[0m in \u001b[0;36m<module>\u001b[1;34m()\u001b[0m\n\u001b[1;32m----> 1\u001b[1;33m \u001b[0mtest_dat\u001b[0m\u001b[1;33m*\u001b[0m\u001b[0mdat\u001b[0m\u001b[1;33m\u001b[0m\u001b[0m\n\u001b[0m",
        "\u001b[1;31mValueError\u001b[0m: operands could not be broadcast together with shapes (182,218,182) (182,218,182,84) "
       ]
      }
     ],
     "prompt_number": 40
    },
    {
     "cell_type": "code",
     "collapsed": false,
     "input": [
      "test_dat = test_img.get_data()"
     ],
     "language": "python",
     "metadata": {
      "run_control": {
       "state": "n"
      }
     },
     "outputs": [],
     "prompt_number": 36
    },
    {
     "cell_type": "code",
     "collapsed": false,
     "input": [
      "dat.shape"
     ],
     "language": "python",
     "metadata": {
      "run_control": {
       "state": "n"
      }
     },
     "outputs": [
      {
       "metadata": {},
       "output_type": "pyout",
       "prompt_number": 37,
       "text": [
        "(182, 218, 182, 84)"
       ]
      }
     ],
     "prompt_number": 37
    },
    {
     "cell_type": "code",
     "collapsed": false,
     "input": [
      "test_dat.shape"
     ],
     "language": "python",
     "metadata": {
      "run_control": {
       "state": "n"
      }
     },
     "outputs": [
      {
       "metadata": {},
       "output_type": "pyout",
       "prompt_number": 38,
       "text": [
        "(182, 218, 182)"
       ]
      }
     ],
     "prompt_number": 38
    },
    {
     "cell_type": "code",
     "collapsed": false,
     "input": [
      "# that's 3.5 minutes for 10 cnxns\n",
      "\n",
      "\n",
      "# so for ((N-1)/2)**2 = 1521, that would take\n",
      "# 1521./3.5/60 = 7.242 hours = 434.5 minutes \n",
      "\n",
      "# we need to speed that up. "
     ],
     "language": "python",
     "metadata": {
      "run_control": {
       "state": "n"
      }
     },
     "outputs": [],
     "prompt_number": 58
    },
    {
     "cell_type": "code",
     "collapsed": false,
     "input": [
      "#((80-1)/2)**2"
     ],
     "language": "python",
     "metadata": {
      "run_control": {
       "state": "n"
      }
     },
     "outputs": [],
     "prompt_number": 59
    },
    {
     "cell_type": "code",
     "collapsed": false,
     "input": [
      "#1521./3.5/60"
     ],
     "language": "python",
     "metadata": {
      "run_control": {
       "state": "n"
      }
     },
     "outputs": [],
     "prompt_number": 60
    },
    {
     "cell_type": "code",
     "collapsed": false,
     "input": [],
     "language": "python",
     "metadata": {
      "run_control": {
       "state": "n"
      }
     },
     "outputs": []
    },
    {
     "cell_type": "code",
     "collapsed": false,
     "input": [],
     "language": "python",
     "metadata": {
      "run_control": {
       "state": "n"
      }
     },
     "outputs": []
    },
    {
     "cell_type": "code",
     "collapsed": false,
     "input": [
      "df"
     ],
     "language": "python",
     "metadata": {
      "run_control": {
       "state": "n"
      }
     },
     "outputs": [
      {
       "html": [
        "<div style=\"max-width:1500px;overflow:auto;\">\n",
        "<table border=\"1\" class=\"dataframe\">\n",
        "  <thead>\n",
        "    <tr style=\"text-align: right;\">\n",
        "      <th></th>\n",
        "      <th></th>\n",
        "      <th>val</th>\n",
        "    </tr>\n",
        "    <tr>\n",
        "      <th>structure</th>\n",
        "      <th>metric</th>\n",
        "      <th></th>\n",
        "    </tr>\n",
        "  </thead>\n",
        "  <tbody>\n",
        "    <tr>\n",
        "      <th rowspan=\"19\" valign=\"top\">0_to_0</th>\n",
        "      <th>ACC</th>\n",
        "      <td>1.000000e+00</td>\n",
        "    </tr>\n",
        "    <tr>\n",
        "      <th>F1</th>\n",
        "      <td>NaN</td>\n",
        "    </tr>\n",
        "    <tr>\n",
        "      <th>FNR</th>\n",
        "      <td>NaN</td>\n",
        "    </tr>\n",
        "    <tr>\n",
        "      <th>TNR</th>\n",
        "      <td>1.000000e+00</td>\n",
        "    </tr>\n",
        "    <tr>\n",
        "      <th>BM</th>\n",
        "      <td>NaN</td>\n",
        "    </tr>\n",
        "    <tr>\n",
        "      <th>corr_thr</th>\n",
        "      <td>NaN</td>\n",
        "    </tr>\n",
        "    <tr>\n",
        "      <th>MCC</th>\n",
        "      <td>NaN</td>\n",
        "    </tr>\n",
        "    <tr>\n",
        "      <th>corr_thrbin</th>\n",
        "      <td>NaN</td>\n",
        "    </tr>\n",
        "    <tr>\n",
        "      <th>MK</th>\n",
        "      <td>NaN</td>\n",
        "    </tr>\n",
        "    <tr>\n",
        "      <th>TN</th>\n",
        "      <td>7.154589e+06</td>\n",
        "    </tr>\n",
        "    <tr>\n",
        "      <th>TP</th>\n",
        "      <td>0.000000e+00</td>\n",
        "    </tr>\n",
        "    <tr>\n",
        "      <th>FDR</th>\n",
        "      <td>NaN</td>\n",
        "    </tr>\n",
        "    <tr>\n",
        "      <th>corr_nothr</th>\n",
        "      <td>NaN</td>\n",
        "    </tr>\n",
        "    <tr>\n",
        "      <th>TPR</th>\n",
        "      <td>NaN</td>\n",
        "    </tr>\n",
        "    <tr>\n",
        "      <th>FPR</th>\n",
        "      <td>0.000000e+00</td>\n",
        "    </tr>\n",
        "    <tr>\n",
        "      <th>NPV</th>\n",
        "      <td>1.000000e+00</td>\n",
        "    </tr>\n",
        "    <tr>\n",
        "      <th>FP</th>\n",
        "      <td>0.000000e+00</td>\n",
        "    </tr>\n",
        "    <tr>\n",
        "      <th>FN</th>\n",
        "      <td>0.000000e+00</td>\n",
        "    </tr>\n",
        "    <tr>\n",
        "      <th>PPV</th>\n",
        "      <td>NaN</td>\n",
        "    </tr>\n",
        "    <tr>\n",
        "      <th rowspan=\"11\" valign=\"top\">0_to_1</th>\n",
        "      <th>ACC</th>\n",
        "      <td>9.775258e-01</td>\n",
        "    </tr>\n",
        "    <tr>\n",
        "      <th>F1</th>\n",
        "      <td>7.208954e-04</td>\n",
        "    </tr>\n",
        "    <tr>\n",
        "      <th>FNR</th>\n",
        "      <td>0.000000e+00</td>\n",
        "    </tr>\n",
        "    <tr>\n",
        "      <th>TNR</th>\n",
        "      <td>9.775256e-01</td>\n",
        "    </tr>\n",
        "    <tr>\n",
        "      <th>BM</th>\n",
        "      <td>9.775256e-01</td>\n",
        "    </tr>\n",
        "    <tr>\n",
        "      <th>corr_thr</th>\n",
        "      <td>-7.156460e-03</td>\n",
        "    </tr>\n",
        "    <tr>\n",
        "      <th>MCC</th>\n",
        "      <td>1.877429e-02</td>\n",
        "    </tr>\n",
        "    <tr>\n",
        "      <th>corr_thrbin</th>\n",
        "      <td>-1.397583e-02</td>\n",
        "    </tr>\n",
        "    <tr>\n",
        "      <th>MK</th>\n",
        "      <td>3.605777e-04</td>\n",
        "    </tr>\n",
        "    <tr>\n",
        "      <th>TN</th>\n",
        "      <td>6.993794e+06</td>\n",
        "    </tr>\n",
        "    <tr>\n",
        "      <th>TP</th>\n",
        "      <td>5.800000e+01</td>\n",
        "    </tr>\n",
        "    <tr>\n",
        "      <th>...</th>\n",
        "      <th>...</th>\n",
        "      <td>...</td>\n",
        "    </tr>\n",
        "    <tr>\n",
        "      <th rowspan=\"11\" valign=\"top\">0_to_8</th>\n",
        "      <th>MK</th>\n",
        "      <td>2.946092e-03</td>\n",
        "    </tr>\n",
        "    <tr>\n",
        "      <th>TN</th>\n",
        "      <td>6.716657e+06</td>\n",
        "    </tr>\n",
        "    <tr>\n",
        "      <th>TP</th>\n",
        "      <td>1.294000e+03</td>\n",
        "    </tr>\n",
        "    <tr>\n",
        "      <th>FDR</th>\n",
        "      <td>9.970539e-01</td>\n",
        "    </tr>\n",
        "    <tr>\n",
        "      <th>corr_nothr</th>\n",
        "      <td>-1.419978e-02</td>\n",
        "    </tr>\n",
        "    <tr>\n",
        "      <th>TPR</th>\n",
        "      <td>1.000000e+00</td>\n",
        "    </tr>\n",
        "    <tr>\n",
        "      <th>FPR</th>\n",
        "      <td>6.120995e-02</td>\n",
        "    </tr>\n",
        "    <tr>\n",
        "      <th>NPV</th>\n",
        "      <td>1.000000e+00</td>\n",
        "    </tr>\n",
        "    <tr>\n",
        "      <th>FP</th>\n",
        "      <td>4.379320e+05</td>\n",
        "    </tr>\n",
        "    <tr>\n",
        "      <th>FN</th>\n",
        "      <td>0.000000e+00</td>\n",
        "    </tr>\n",
        "    <tr>\n",
        "      <th>PPV</th>\n",
        "      <td>2.946092e-03</td>\n",
        "    </tr>\n",
        "    <tr>\n",
        "      <th rowspan=\"19\" valign=\"top\">0_to_9</th>\n",
        "      <th>ACC</th>\n",
        "      <td>9.744870e-01</td>\n",
        "    </tr>\n",
        "    <tr>\n",
        "      <th>F1</th>\n",
        "      <td>0.000000e+00</td>\n",
        "    </tr>\n",
        "    <tr>\n",
        "      <th>FNR</th>\n",
        "      <td>NaN</td>\n",
        "    </tr>\n",
        "    <tr>\n",
        "      <th>TNR</th>\n",
        "      <td>9.744870e-01</td>\n",
        "    </tr>\n",
        "    <tr>\n",
        "      <th>BM</th>\n",
        "      <td>NaN</td>\n",
        "    </tr>\n",
        "    <tr>\n",
        "      <th>corr_thr</th>\n",
        "      <td>-8.087002e-03</td>\n",
        "    </tr>\n",
        "    <tr>\n",
        "      <th>MCC</th>\n",
        "      <td>NaN</td>\n",
        "    </tr>\n",
        "    <tr>\n",
        "      <th>corr_thrbin</th>\n",
        "      <td>-1.551906e-02</td>\n",
        "    </tr>\n",
        "    <tr>\n",
        "      <th>MK</th>\n",
        "      <td>0.000000e+00</td>\n",
        "    </tr>\n",
        "    <tr>\n",
        "      <th>TN</th>\n",
        "      <td>6.972054e+06</td>\n",
        "    </tr>\n",
        "    <tr>\n",
        "      <th>TP</th>\n",
        "      <td>0.000000e+00</td>\n",
        "    </tr>\n",
        "    <tr>\n",
        "      <th>FDR</th>\n",
        "      <td>1.000000e+00</td>\n",
        "    </tr>\n",
        "    <tr>\n",
        "      <th>corr_nothr</th>\n",
        "      <td>-8.087002e-03</td>\n",
        "    </tr>\n",
        "    <tr>\n",
        "      <th>TPR</th>\n",
        "      <td>NaN</td>\n",
        "    </tr>\n",
        "    <tr>\n",
        "      <th>FPR</th>\n",
        "      <td>2.551300e-02</td>\n",
        "    </tr>\n",
        "    <tr>\n",
        "      <th>NPV</th>\n",
        "      <td>1.000000e+00</td>\n",
        "    </tr>\n",
        "    <tr>\n",
        "      <th>FP</th>\n",
        "      <td>1.825350e+05</td>\n",
        "    </tr>\n",
        "    <tr>\n",
        "      <th>FN</th>\n",
        "      <td>0.000000e+00</td>\n",
        "    </tr>\n",
        "    <tr>\n",
        "      <th>PPV</th>\n",
        "      <td>0.000000e+00</td>\n",
        "    </tr>\n",
        "  </tbody>\n",
        "</table>\n",
        "<p>190 rows \u00d7 1 columns</p>\n",
        "</div>"
       ],
       "metadata": {},
       "output_type": "pyout",
       "prompt_number": 52,
       "text": [
        "                                val\n",
        "structure metric                   \n",
        "0_to_0    ACC          1.000000e+00\n",
        "          F1                    NaN\n",
        "          FNR                   NaN\n",
        "          TNR          1.000000e+00\n",
        "          BM                    NaN\n",
        "          corr_thr              NaN\n",
        "          MCC                   NaN\n",
        "          corr_thrbin           NaN\n",
        "          MK                    NaN\n",
        "          TN           7.154589e+06\n",
        "          TP           0.000000e+00\n",
        "          FDR                   NaN\n",
        "          corr_nothr            NaN\n",
        "          TPR                   NaN\n",
        "          FPR          0.000000e+00\n",
        "          NPV          1.000000e+00\n",
        "          FP           0.000000e+00\n",
        "          FN           0.000000e+00\n",
        "          PPV                   NaN\n",
        "0_to_1    ACC          9.775258e-01\n",
        "          F1           7.208954e-04\n",
        "          FNR          0.000000e+00\n",
        "          TNR          9.775256e-01\n",
        "          BM           9.775256e-01\n",
        "          corr_thr    -7.156460e-03\n",
        "          MCC          1.877429e-02\n",
        "          corr_thrbin -1.397583e-02\n",
        "          MK           3.605777e-04\n",
        "          TN           6.993794e+06\n",
        "          TP           5.800000e+01\n",
        "...                             ...\n",
        "0_to_8    MK           2.946092e-03\n",
        "          TN           6.716657e+06\n",
        "          TP           1.294000e+03\n",
        "          FDR          9.970539e-01\n",
        "          corr_nothr  -1.419978e-02\n",
        "          TPR          1.000000e+00\n",
        "          FPR          6.120995e-02\n",
        "          NPV          1.000000e+00\n",
        "          FP           4.379320e+05\n",
        "          FN           0.000000e+00\n",
        "          PPV          2.946092e-03\n",
        "0_to_9    ACC          9.744870e-01\n",
        "          F1           0.000000e+00\n",
        "          FNR                   NaN\n",
        "          TNR          9.744870e-01\n",
        "          BM                    NaN\n",
        "          corr_thr    -8.087002e-03\n",
        "          MCC                   NaN\n",
        "          corr_thrbin -1.551906e-02\n",
        "          MK           0.000000e+00\n",
        "          TN           6.972054e+06\n",
        "          TP           0.000000e+00\n",
        "          FDR          1.000000e+00\n",
        "          corr_nothr  -8.087002e-03\n",
        "          TPR                   NaN\n",
        "          FPR          2.551300e-02\n",
        "          NPV          1.000000e+00\n",
        "          FP           1.825350e+05\n",
        "          FN           0.000000e+00\n",
        "          PPV          0.000000e+00\n",
        "\n",
        "[190 rows x 1 columns]"
       ]
      }
     ],
     "prompt_number": 52
    },
    {
     "cell_type": "markdown",
     "metadata": {},
     "source": [
      "canonical connectome"
     ]
    },
    {
     "cell_type": "code",
     "collapsed": false,
     "input": [
      "import pandas as pd"
     ],
     "language": "python",
     "metadata": {
      "run_control": {
       "state": "n"
      }
     },
     "outputs": [],
     "prompt_number": 29
    },
    {
     "cell_type": "code",
     "collapsed": false,
     "input": [
      "df = pd.read_hdf('../atlases/volumetric/dipy_dsi_l2k8_sc33/cancon_l2k8_sc33.h5', 'df_cm_avg')"
     ],
     "language": "python",
     "metadata": {
      "run_control": {
       "state": "n"
      }
     },
     "outputs": [
      {
       "output_type": "stream",
       "stream": "stdout",
       "text": [
        "Opening ../atlases/volumetric/dipy_dsi_l2k8_sc33/cancon_l2k8_sc33.h5 in read-only mode\n"
       ]
      }
     ],
     "prompt_number": 30
    },
    {
     "cell_type": "code",
     "collapsed": false,
     "input": [
      "import numpy as np"
     ],
     "language": "python",
     "metadata": {
      "run_control": {
       "state": "n"
      }
     },
     "outputs": [],
     "prompt_number": 34
    },
    {
     "cell_type": "code",
     "collapsed": false,
     "input": [
      "mask = (df.values!=0)*((np.eye(df.shape[0])*-1)+1)==False\n",
      "sns.heatmap(np.log1p(df.values), xticklabels='',yticklabels='',\n",
      "            mask=mask)"
     ],
     "language": "python",
     "metadata": {
      "run_control": {
       "state": "n"
      }
     },
     "outputs": [
      {
       "metadata": {},
       "output_type": "pyout",
       "prompt_number": 44,
       "text": [
        "<matplotlib.axes._subplots.AxesSubplot at 0x7fe3326d0e10>"
       ]
      },
      {
       "metadata": {},
       "output_type": "display_data",
       "png": "iVBORw0KGgoAAAANSUhEUgAAAawAAAFGCAYAAAA2F6tIAAAABHNCSVQICAgIfAhkiAAAAAlwSFlz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\nwzDyApuwDMMwjLzg/wBVViyUgDfeVQAAAABJRU5ErkJggg==\n",
       "text": [
        "<matplotlib.figure.Figure at 0x7fe3326b16d0>"
       ]
      }
     ],
     "prompt_number": 44
    },
    {
     "cell_type": "heading",
     "level": 2,
     "metadata": {},
     "source": [
      "Graveyard"
     ]
    },
    {
     "cell_type": "code",
     "collapsed": false,
     "input": [
      "len(res)"
     ],
     "language": "python",
     "metadata": {
      "run_control": {
       "state": "n"
      }
     },
     "outputs": [
      {
       "metadata": {},
       "output_type": "pyout",
       "prompt_number": 15,
       "text": [
        "20"
       ]
      }
     ],
     "prompt_number": 15
    },
    {
     "cell_type": "code",
     "collapsed": false,
     "input": [
      "res[0]"
     ],
     "language": "python",
     "metadata": {
      "run_control": {
       "state": "n"
      }
     },
     "outputs": [
      {
       "metadata": {},
       "output_type": "pyout",
       "prompt_number": 16,
       "text": [
        "['Anterior thalamic radiation L',\n",
        " '/usr/share/fsl/data/atlases/JHU/JHU-ICBM-tracts-prob-2mm.nii.gz',\n",
        " 0,\n",
        " {'ACC': 0.98796847874375848,\n",
        "  'BM': 0.98795168693024293,\n",
        "  'F1': 0.1880980861244019,\n",
        "  'FDR': 0.89618748968476647,\n",
        "  'FN': 0,\n",
        "  'FNR': 0.0,\n",
        "  'FP': 10860.0,\n",
        "  'FPR': 0.01204831306975707,\n",
        "  'MCC': 0.32025262635987578,\n",
        "  'MK': 0.10381251031523364,\n",
        "  'NPV': 1,\n",
        "  'PPV': 0.10381251031523353,\n",
        "  'TN': 890511,\n",
        "  'TNR': 0.98795168693024293,\n",
        "  'TP': 1258.0,\n",
        "  'TPR': 1.0,\n",
        "  'corr_nothr': 0.86519832016660103,\n",
        "  'corr_thr': 0.86519832016660103,\n",
        "  'corr_thrbin': 0.32025262635987012}]"
       ]
      }
     ],
     "prompt_number": 16
    },
    {
     "cell_type": "code",
     "collapsed": false,
     "input": [
      "df.unstack('structure').ix['corr_thrbin'].plot(kind='bar')"
     ],
     "language": "python",
     "metadata": {
      "run_control": {
       "state": "n"
      }
     },
     "outputs": [
      {
       "metadata": {},
       "output_type": "pyout",
       "prompt_number": 28,
       "text": [
        "<matplotlib.axes._subplots.AxesSubplot at 0x7fece86dfb50>"
       ]
      },
      {
       "metadata": {},
       "output_type": "display_data",
       "png": "iVBORw0KGgoAAAANSUhEUgAAAfIAAAJwCAYAAAByAeOeAAAABHNCSVQICAgIfAhkiAAAAAlwSFlz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\nCPSEjIkcAMZEDgBjAcxnFwC1TVLzAAAAAElFTkSuQmCC\n",
       "text": [
        "<matplotlib.figure.Figure at 0x7fecf4e37f90>"
       ]
      }
     ],
     "prompt_number": 28
    },
    {
     "cell_type": "code",
     "collapsed": false,
     "input": [
      "# this is right I think; made the roi from the first image, which is anterior thalamic radiation"
     ],
     "language": "python",
     "metadata": {
      "run_control": {
       "state": "n"
      }
     },
     "outputs": [],
     "prompt_number": 32
    },
    {
     "cell_type": "code",
     "collapsed": false,
     "input": [
      "va.atlas_info['mappings'][0]"
     ],
     "language": "python",
     "metadata": {
      "run_control": {
       "state": "n"
      }
     },
     "outputs": [
      {
       "metadata": {},
       "output_type": "pyout",
       "prompt_number": 31,
       "text": [
        "['Anterior thalamic radiation L',\n",
        " '/usr/share/fsl/data/atlases/JHU/JHU-ICBM-tracts-prob-2mm.nii.gz',\n",
        " 0]"
       ]
      }
     ],
     "prompt_number": 31
    },
    {
     "cell_type": "code",
     "collapsed": false,
     "input": [],
     "language": "python",
     "metadata": {
      "run_control": {
       "state": "n"
      }
     },
     "outputs": []
    }
   ],
   "metadata": {}
  }
 ]
}
