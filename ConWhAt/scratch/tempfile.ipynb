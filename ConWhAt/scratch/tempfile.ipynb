{
 "metadata": {
  "css": [
   ""
  ],
  "name": "",
  "signature": "sha256:adcfd060cc8701cef70d2ea9838d46356a2439d5c6179dc0b732a8eef4ff4d6a"
 },
 "nbformat": 3,
 "nbformat_minor": 0,
 "worksheets": [
  {
   "cells": [
    {
     "cell_type": "heading",
     "level": 1,
     "metadata": {},
     "source": [
      "Connat Atlas Analysis Tests"
     ]
    },
    {
     "cell_type": "code",
     "collapsed": false,
     "input": [
      "import pandas as pd\n",
      "%matplotlib inline\n",
      "import seaborn as sns\n",
      "from nilearn.plotting import plot_stat_map\n",
      "import os,sys"
     ],
     "language": "python",
     "metadata": {},
     "outputs": [
      {
       "output_type": "stream",
       "stream": "stderr",
       "text": [
        "/home/jgriffiths/Software/anaconda2/envs/ipython2.4/lib/python2.7/site-packages/sklearn/cross_validation.py:44: DeprecationWarning: This module was deprecated in version 0.18 in favor of the model_selection module into which all the refactored classes and functions are moved. Also note that the interface of the new CV iterators are different from that of this module. This module will be removed in 0.20.\n",
        "  \"This module will be removed in 0.20.\", DeprecationWarning)\n"
       ]
      }
     ],
     "prompt_number": 1
    },
    {
     "cell_type": "code",
     "collapsed": false,
     "input": [
      "%run ~/set_localenv_vars.py"
     ],
     "language": "python",
     "metadata": {
      "run_control": {
       "state": "n"
      }
     },
     "outputs": [],
     "prompt_number": 2
    },
    {
     "cell_type": "code",
     "collapsed": false,
     "input": [
      "conwhat_dir = le['code_dir'] + '/libraries_of_mine/github/ConWhAt'\n",
      "scratch_dir = conwhat_dir  + '/ConWhAt/scratch'\n",
      "os.chdir(scratch_dir)\n",
      "sys.path.append(conwhat_dir)"
     ],
     "language": "python",
     "metadata": {
      "run_control": {
       "state": "n"
      }
     },
     "outputs": [],
     "prompt_number": 3
    },
    {
     "cell_type": "code",
     "collapsed": false,
     "input": [
      "import numpy as np\n",
      "import ConWhAt\n",
      "from ConWhAt.volumetric import VolConnAtlas\n",
      "from ConWhAt.volumetric.utils import get_bounding_box_inds"
     ],
     "language": "python",
     "metadata": {},
     "outputs": [],
     "prompt_number": 4
    },
    {
     "cell_type": "code",
     "collapsed": false,
     "input": [
      "va = VolConnAtlas('dipy_dsi_sd4_l2k8_sc33_v2')"
     ],
     "language": "python",
     "metadata": {
      "run_control": {
       "state": "n"
      }
     },
     "outputs": [],
     "prompt_number": 5
    },
    {
     "cell_type": "code",
     "collapsed": false,
     "input": [
      "va.image_file_mappings"
     ],
     "language": "python",
     "metadata": {},
     "outputs": [
      {
       "html": [
        "<div style=\"max-width:1500px;overflow:auto;\">\n",
        "<table border=\"1\" class=\"dataframe\">\n",
        "  <thead>\n",
        "    <tr style=\"text-align: right;\">\n",
        "      <th></th>\n",
        "      <th>name</th>\n",
        "      <th>nii_file</th>\n",
        "      <th>nii_file_id</th>\n",
        "      <th>4dvolind</th>\n",
        "    </tr>\n",
        "  </thead>\n",
        "  <tbody>\n",
        "    <tr>\n",
        "      <th>0</th>\n",
        "      <td>0_to_1</td>\n",
        "      <td>/home/jgriffiths/Code/libraries_of_mine/github...</td>\n",
        "      <td>0</td>\n",
        "      <td>0</td>\n",
        "    </tr>\n",
        "    <tr>\n",
        "      <th>1</th>\n",
        "      <td>0_to_2</td>\n",
        "      <td>/home/jgriffiths/Code/libraries_of_mine/github...</td>\n",
        "      <td>0</td>\n",
        "      <td>1</td>\n",
        "    </tr>\n",
        "    <tr>\n",
        "      <th>2</th>\n",
        "      <td>0_to_3</td>\n",
        "      <td>/home/jgriffiths/Code/libraries_of_mine/github...</td>\n",
        "      <td>0</td>\n",
        "      <td>2</td>\n",
        "    </tr>\n",
        "    <tr>\n",
        "      <th>3</th>\n",
        "      <td>0_to_4</td>\n",
        "      <td>/home/jgriffiths/Code/libraries_of_mine/github...</td>\n",
        "      <td>0</td>\n",
        "      <td>3</td>\n",
        "    </tr>\n",
        "    <tr>\n",
        "      <th>4</th>\n",
        "      <td>0_to_5</td>\n",
        "      <td>/home/jgriffiths/Code/libraries_of_mine/github...</td>\n",
        "      <td>0</td>\n",
        "      <td>4</td>\n",
        "    </tr>\n",
        "    <tr>\n",
        "      <th>5</th>\n",
        "      <td>0_to_6</td>\n",
        "      <td>/home/jgriffiths/Code/libraries_of_mine/github...</td>\n",
        "      <td>0</td>\n",
        "      <td>5</td>\n",
        "    </tr>\n",
        "    <tr>\n",
        "      <th>6</th>\n",
        "      <td>0_to_7</td>\n",
        "      <td>/home/jgriffiths/Code/libraries_of_mine/github...</td>\n",
        "      <td>0</td>\n",
        "      <td>6</td>\n",
        "    </tr>\n",
        "    <tr>\n",
        "      <th>7</th>\n",
        "      <td>0_to_8</td>\n",
        "      <td>/home/jgriffiths/Code/libraries_of_mine/github...</td>\n",
        "      <td>0</td>\n",
        "      <td>7</td>\n",
        "    </tr>\n",
        "    <tr>\n",
        "      <th>8</th>\n",
        "      <td>0_to_9</td>\n",
        "      <td>/home/jgriffiths/Code/libraries_of_mine/github...</td>\n",
        "      <td>0</td>\n",
        "      <td>8</td>\n",
        "    </tr>\n",
        "    <tr>\n",
        "      <th>9</th>\n",
        "      <td>0_to_10</td>\n",
        "      <td>/home/jgriffiths/Code/libraries_of_mine/github...</td>\n",
        "      <td>0</td>\n",
        "      <td>9</td>\n",
        "    </tr>\n",
        "    <tr>\n",
        "      <th>10</th>\n",
        "      <td>0_to_11</td>\n",
        "      <td>/home/jgriffiths/Code/libraries_of_mine/github...</td>\n",
        "      <td>0</td>\n",
        "      <td>10</td>\n",
        "    </tr>\n",
        "    <tr>\n",
        "      <th>11</th>\n",
        "      <td>0_to_12</td>\n",
        "      <td>/home/jgriffiths/Code/libraries_of_mine/github...</td>\n",
        "      <td>0</td>\n",
        "      <td>11</td>\n",
        "    </tr>\n",
        "    <tr>\n",
        "      <th>12</th>\n",
        "      <td>0_to_13</td>\n",
        "      <td>/home/jgriffiths/Code/libraries_of_mine/github...</td>\n",
        "      <td>0</td>\n",
        "      <td>12</td>\n",
        "    </tr>\n",
        "    <tr>\n",
        "      <th>13</th>\n",
        "      <td>0_to_14</td>\n",
        "      <td>/home/jgriffiths/Code/libraries_of_mine/github...</td>\n",
        "      <td>0</td>\n",
        "      <td>13</td>\n",
        "    </tr>\n",
        "    <tr>\n",
        "      <th>14</th>\n",
        "      <td>0_to_15</td>\n",
        "      <td>/home/jgriffiths/Code/libraries_of_mine/github...</td>\n",
        "      <td>0</td>\n",
        "      <td>14</td>\n",
        "    </tr>\n",
        "    <tr>\n",
        "      <th>15</th>\n",
        "      <td>0_to_16</td>\n",
        "      <td>/home/jgriffiths/Code/libraries_of_mine/github...</td>\n",
        "      <td>0</td>\n",
        "      <td>15</td>\n",
        "    </tr>\n",
        "    <tr>\n",
        "      <th>16</th>\n",
        "      <td>0_to_17</td>\n",
        "      <td>/home/jgriffiths/Code/libraries_of_mine/github...</td>\n",
        "      <td>0</td>\n",
        "      <td>16</td>\n",
        "    </tr>\n",
        "    <tr>\n",
        "      <th>17</th>\n",
        "      <td>0_to_18</td>\n",
        "      <td>/home/jgriffiths/Code/libraries_of_mine/github...</td>\n",
        "      <td>0</td>\n",
        "      <td>17</td>\n",
        "    </tr>\n",
        "    <tr>\n",
        "      <th>18</th>\n",
        "      <td>0_to_19</td>\n",
        "      <td>/home/jgriffiths/Code/libraries_of_mine/github...</td>\n",
        "      <td>0</td>\n",
        "      <td>18</td>\n",
        "    </tr>\n",
        "    <tr>\n",
        "      <th>19</th>\n",
        "      <td>0_to_20</td>\n",
        "      <td>/home/jgriffiths/Code/libraries_of_mine/github...</td>\n",
        "      <td>0</td>\n",
        "      <td>19</td>\n",
        "    </tr>\n",
        "    <tr>\n",
        "      <th>20</th>\n",
        "      <td>0_to_21</td>\n",
        "      <td>/home/jgriffiths/Code/libraries_of_mine/github...</td>\n",
        "      <td>0</td>\n",
        "      <td>20</td>\n",
        "    </tr>\n",
        "    <tr>\n",
        "      <th>21</th>\n",
        "      <td>0_to_22</td>\n",
        "      <td>/home/jgriffiths/Code/libraries_of_mine/github...</td>\n",
        "      <td>0</td>\n",
        "      <td>21</td>\n",
        "    </tr>\n",
        "    <tr>\n",
        "      <th>22</th>\n",
        "      <td>0_to_23</td>\n",
        "      <td>/home/jgriffiths/Code/libraries_of_mine/github...</td>\n",
        "      <td>0</td>\n",
        "      <td>22</td>\n",
        "    </tr>\n",
        "    <tr>\n",
        "      <th>23</th>\n",
        "      <td>0_to_24</td>\n",
        "      <td>/home/jgriffiths/Code/libraries_of_mine/github...</td>\n",
        "      <td>0</td>\n",
        "      <td>23</td>\n",
        "    </tr>\n",
        "    <tr>\n",
        "      <th>24</th>\n",
        "      <td>0_to_25</td>\n",
        "      <td>/home/jgriffiths/Code/libraries_of_mine/github...</td>\n",
        "      <td>0</td>\n",
        "      <td>24</td>\n",
        "    </tr>\n",
        "    <tr>\n",
        "      <th>25</th>\n",
        "      <td>0_to_26</td>\n",
        "      <td>/home/jgriffiths/Code/libraries_of_mine/github...</td>\n",
        "      <td>0</td>\n",
        "      <td>25</td>\n",
        "    </tr>\n",
        "    <tr>\n",
        "      <th>26</th>\n",
        "      <td>0_to_27</td>\n",
        "      <td>/home/jgriffiths/Code/libraries_of_mine/github...</td>\n",
        "      <td>0</td>\n",
        "      <td>26</td>\n",
        "    </tr>\n",
        "    <tr>\n",
        "      <th>27</th>\n",
        "      <td>0_to_28</td>\n",
        "      <td>/home/jgriffiths/Code/libraries_of_mine/github...</td>\n",
        "      <td>0</td>\n",
        "      <td>27</td>\n",
        "    </tr>\n",
        "    <tr>\n",
        "      <th>28</th>\n",
        "      <td>0_to_29</td>\n",
        "      <td>/home/jgriffiths/Code/libraries_of_mine/github...</td>\n",
        "      <td>0</td>\n",
        "      <td>28</td>\n",
        "    </tr>\n",
        "    <tr>\n",
        "      <th>29</th>\n",
        "      <td>0_to_30</td>\n",
        "      <td>/home/jgriffiths/Code/libraries_of_mine/github...</td>\n",
        "      <td>0</td>\n",
        "      <td>29</td>\n",
        "    </tr>\n",
        "    <tr>\n",
        "      <th>...</th>\n",
        "      <td>...</td>\n",
        "      <td>...</td>\n",
        "      <td>...</td>\n",
        "      <td>...</td>\n",
        "    </tr>\n",
        "    <tr>\n",
        "      <th>2450</th>\n",
        "      <td>73_to_83</td>\n",
        "      <td>/home/jgriffiths/Code/libraries_of_mine/github...</td>\n",
        "      <td>73</td>\n",
        "      <td>9</td>\n",
        "    </tr>\n",
        "    <tr>\n",
        "      <th>2451</th>\n",
        "      <td>74_to_75</td>\n",
        "      <td>/home/jgriffiths/Code/libraries_of_mine/github...</td>\n",
        "      <td>74</td>\n",
        "      <td>0</td>\n",
        "    </tr>\n",
        "    <tr>\n",
        "      <th>2452</th>\n",
        "      <td>74_to_76</td>\n",
        "      <td>/home/jgriffiths/Code/libraries_of_mine/github...</td>\n",
        "      <td>74</td>\n",
        "      <td>1</td>\n",
        "    </tr>\n",
        "    <tr>\n",
        "      <th>2453</th>\n",
        "      <td>74_to_78</td>\n",
        "      <td>/home/jgriffiths/Code/libraries_of_mine/github...</td>\n",
        "      <td>74</td>\n",
        "      <td>2</td>\n",
        "    </tr>\n",
        "    <tr>\n",
        "      <th>2454</th>\n",
        "      <td>74_to_79</td>\n",
        "      <td>/home/jgriffiths/Code/libraries_of_mine/github...</td>\n",
        "      <td>74</td>\n",
        "      <td>3</td>\n",
        "    </tr>\n",
        "    <tr>\n",
        "      <th>2455</th>\n",
        "      <td>75_to_76</td>\n",
        "      <td>/home/jgriffiths/Code/libraries_of_mine/github...</td>\n",
        "      <td>75</td>\n",
        "      <td>0</td>\n",
        "    </tr>\n",
        "    <tr>\n",
        "      <th>2456</th>\n",
        "      <td>75_to_77</td>\n",
        "      <td>/home/jgriffiths/Code/libraries_of_mine/github...</td>\n",
        "      <td>75</td>\n",
        "      <td>1</td>\n",
        "    </tr>\n",
        "    <tr>\n",
        "      <th>2457</th>\n",
        "      <td>75_to_78</td>\n",
        "      <td>/home/jgriffiths/Code/libraries_of_mine/github...</td>\n",
        "      <td>75</td>\n",
        "      <td>2</td>\n",
        "    </tr>\n",
        "    <tr>\n",
        "      <th>2458</th>\n",
        "      <td>75_to_79</td>\n",
        "      <td>/home/jgriffiths/Code/libraries_of_mine/github...</td>\n",
        "      <td>75</td>\n",
        "      <td>3</td>\n",
        "    </tr>\n",
        "    <tr>\n",
        "      <th>2459</th>\n",
        "      <td>75_to_80</td>\n",
        "      <td>/home/jgriffiths/Code/libraries_of_mine/github...</td>\n",
        "      <td>75</td>\n",
        "      <td>4</td>\n",
        "    </tr>\n",
        "    <tr>\n",
        "      <th>2460</th>\n",
        "      <td>75_to_81</td>\n",
        "      <td>/home/jgriffiths/Code/libraries_of_mine/github...</td>\n",
        "      <td>75</td>\n",
        "      <td>5</td>\n",
        "    </tr>\n",
        "    <tr>\n",
        "      <th>2461</th>\n",
        "      <td>76_to_77</td>\n",
        "      <td>/home/jgriffiths/Code/libraries_of_mine/github...</td>\n",
        "      <td>76</td>\n",
        "      <td>0</td>\n",
        "    </tr>\n",
        "    <tr>\n",
        "      <th>2462</th>\n",
        "      <td>76_to_78</td>\n",
        "      <td>/home/jgriffiths/Code/libraries_of_mine/github...</td>\n",
        "      <td>76</td>\n",
        "      <td>1</td>\n",
        "    </tr>\n",
        "    <tr>\n",
        "      <th>2463</th>\n",
        "      <td>76_to_79</td>\n",
        "      <td>/home/jgriffiths/Code/libraries_of_mine/github...</td>\n",
        "      <td>76</td>\n",
        "      <td>2</td>\n",
        "    </tr>\n",
        "    <tr>\n",
        "      <th>2464</th>\n",
        "      <td>76_to_81</td>\n",
        "      <td>/home/jgriffiths/Code/libraries_of_mine/github...</td>\n",
        "      <td>76</td>\n",
        "      <td>3</td>\n",
        "    </tr>\n",
        "    <tr>\n",
        "      <th>2465</th>\n",
        "      <td>76_to_83</td>\n",
        "      <td>/home/jgriffiths/Code/libraries_of_mine/github...</td>\n",
        "      <td>76</td>\n",
        "      <td>4</td>\n",
        "    </tr>\n",
        "    <tr>\n",
        "      <th>2466</th>\n",
        "      <td>77_to_78</td>\n",
        "      <td>/home/jgriffiths/Code/libraries_of_mine/github...</td>\n",
        "      <td>77</td>\n",
        "      <td>0</td>\n",
        "    </tr>\n",
        "    <tr>\n",
        "      <th>2467</th>\n",
        "      <td>77_to_79</td>\n",
        "      <td>/home/jgriffiths/Code/libraries_of_mine/github...</td>\n",
        "      <td>77</td>\n",
        "      <td>1</td>\n",
        "    </tr>\n",
        "    <tr>\n",
        "      <th>2468</th>\n",
        "      <td>77_to_80</td>\n",
        "      <td>/home/jgriffiths/Code/libraries_of_mine/github...</td>\n",
        "      <td>77</td>\n",
        "      <td>2</td>\n",
        "    </tr>\n",
        "    <tr>\n",
        "      <th>2469</th>\n",
        "      <td>77_to_81</td>\n",
        "      <td>/home/jgriffiths/Code/libraries_of_mine/github...</td>\n",
        "      <td>77</td>\n",
        "      <td>3</td>\n",
        "    </tr>\n",
        "    <tr>\n",
        "      <th>2470</th>\n",
        "      <td>77_to_82</td>\n",
        "      <td>/home/jgriffiths/Code/libraries_of_mine/github...</td>\n",
        "      <td>77</td>\n",
        "      <td>4</td>\n",
        "    </tr>\n",
        "    <tr>\n",
        "      <th>2471</th>\n",
        "      <td>78_to_79</td>\n",
        "      <td>/home/jgriffiths/Code/libraries_of_mine/github...</td>\n",
        "      <td>78</td>\n",
        "      <td>0</td>\n",
        "    </tr>\n",
        "    <tr>\n",
        "      <th>2472</th>\n",
        "      <td>78_to_80</td>\n",
        "      <td>/home/jgriffiths/Code/libraries_of_mine/github...</td>\n",
        "      <td>78</td>\n",
        "      <td>1</td>\n",
        "    </tr>\n",
        "    <tr>\n",
        "      <th>2473</th>\n",
        "      <td>78_to_81</td>\n",
        "      <td>/home/jgriffiths/Code/libraries_of_mine/github...</td>\n",
        "      <td>78</td>\n",
        "      <td>2</td>\n",
        "    </tr>\n",
        "    <tr>\n",
        "      <th>2474</th>\n",
        "      <td>78_to_82</td>\n",
        "      <td>/home/jgriffiths/Code/libraries_of_mine/github...</td>\n",
        "      <td>78</td>\n",
        "      <td>3</td>\n",
        "    </tr>\n",
        "    <tr>\n",
        "      <th>2475</th>\n",
        "      <td>78_to_83</td>\n",
        "      <td>/home/jgriffiths/Code/libraries_of_mine/github...</td>\n",
        "      <td>78</td>\n",
        "      <td>4</td>\n",
        "    </tr>\n",
        "    <tr>\n",
        "      <th>2476</th>\n",
        "      <td>79_to_81</td>\n",
        "      <td>/home/jgriffiths/Code/libraries_of_mine/github...</td>\n",
        "      <td>79</td>\n",
        "      <td>0</td>\n",
        "    </tr>\n",
        "    <tr>\n",
        "      <th>2477</th>\n",
        "      <td>79_to_82</td>\n",
        "      <td>/home/jgriffiths/Code/libraries_of_mine/github...</td>\n",
        "      <td>79</td>\n",
        "      <td>1</td>\n",
        "    </tr>\n",
        "    <tr>\n",
        "      <th>2478</th>\n",
        "      <td>80_to_81</td>\n",
        "      <td>/home/jgriffiths/Code/libraries_of_mine/github...</td>\n",
        "      <td>80</td>\n",
        "      <td>0</td>\n",
        "    </tr>\n",
        "    <tr>\n",
        "      <th>2479</th>\n",
        "      <td>81_to_82</td>\n",
        "      <td>/home/jgriffiths/Code/libraries_of_mine/github...</td>\n",
        "      <td>81</td>\n",
        "      <td>0</td>\n",
        "    </tr>\n",
        "  </tbody>\n",
        "</table>\n",
        "<p>2480 rows \u00d7 4 columns</p>\n",
        "</div>"
       ],
       "metadata": {},
       "output_type": "pyout",
       "prompt_number": 6,
       "text": [
        "          name                                           nii_file  \\\n",
        "0       0_to_1  /home/jgriffiths/Code/libraries_of_mine/github...   \n",
        "1       0_to_2  /home/jgriffiths/Code/libraries_of_mine/github...   \n",
        "2       0_to_3  /home/jgriffiths/Code/libraries_of_mine/github...   \n",
        "3       0_to_4  /home/jgriffiths/Code/libraries_of_mine/github...   \n",
        "4       0_to_5  /home/jgriffiths/Code/libraries_of_mine/github...   \n",
        "5       0_to_6  /home/jgriffiths/Code/libraries_of_mine/github...   \n",
        "6       0_to_7  /home/jgriffiths/Code/libraries_of_mine/github...   \n",
        "7       0_to_8  /home/jgriffiths/Code/libraries_of_mine/github...   \n",
        "8       0_to_9  /home/jgriffiths/Code/libraries_of_mine/github...   \n",
        "9      0_to_10  /home/jgriffiths/Code/libraries_of_mine/github...   \n",
        "10     0_to_11  /home/jgriffiths/Code/libraries_of_mine/github...   \n",
        "11     0_to_12  /home/jgriffiths/Code/libraries_of_mine/github...   \n",
        "12     0_to_13  /home/jgriffiths/Code/libraries_of_mine/github...   \n",
        "13     0_to_14  /home/jgriffiths/Code/libraries_of_mine/github...   \n",
        "14     0_to_15  /home/jgriffiths/Code/libraries_of_mine/github...   \n",
        "15     0_to_16  /home/jgriffiths/Code/libraries_of_mine/github...   \n",
        "16     0_to_17  /home/jgriffiths/Code/libraries_of_mine/github...   \n",
        "17     0_to_18  /home/jgriffiths/Code/libraries_of_mine/github...   \n",
        "18     0_to_19  /home/jgriffiths/Code/libraries_of_mine/github...   \n",
        "19     0_to_20  /home/jgriffiths/Code/libraries_of_mine/github...   \n",
        "20     0_to_21  /home/jgriffiths/Code/libraries_of_mine/github...   \n",
        "21     0_to_22  /home/jgriffiths/Code/libraries_of_mine/github...   \n",
        "22     0_to_23  /home/jgriffiths/Code/libraries_of_mine/github...   \n",
        "23     0_to_24  /home/jgriffiths/Code/libraries_of_mine/github...   \n",
        "24     0_to_25  /home/jgriffiths/Code/libraries_of_mine/github...   \n",
        "25     0_to_26  /home/jgriffiths/Code/libraries_of_mine/github...   \n",
        "26     0_to_27  /home/jgriffiths/Code/libraries_of_mine/github...   \n",
        "27     0_to_28  /home/jgriffiths/Code/libraries_of_mine/github...   \n",
        "28     0_to_29  /home/jgriffiths/Code/libraries_of_mine/github...   \n",
        "29     0_to_30  /home/jgriffiths/Code/libraries_of_mine/github...   \n",
        "...        ...                                                ...   \n",
        "2450  73_to_83  /home/jgriffiths/Code/libraries_of_mine/github...   \n",
        "2451  74_to_75  /home/jgriffiths/Code/libraries_of_mine/github...   \n",
        "2452  74_to_76  /home/jgriffiths/Code/libraries_of_mine/github...   \n",
        "2453  74_to_78  /home/jgriffiths/Code/libraries_of_mine/github...   \n",
        "2454  74_to_79  /home/jgriffiths/Code/libraries_of_mine/github...   \n",
        "2455  75_to_76  /home/jgriffiths/Code/libraries_of_mine/github...   \n",
        "2456  75_to_77  /home/jgriffiths/Code/libraries_of_mine/github...   \n",
        "2457  75_to_78  /home/jgriffiths/Code/libraries_of_mine/github...   \n",
        "2458  75_to_79  /home/jgriffiths/Code/libraries_of_mine/github...   \n",
        "2459  75_to_80  /home/jgriffiths/Code/libraries_of_mine/github...   \n",
        "2460  75_to_81  /home/jgriffiths/Code/libraries_of_mine/github...   \n",
        "2461  76_to_77  /home/jgriffiths/Code/libraries_of_mine/github...   \n",
        "2462  76_to_78  /home/jgriffiths/Code/libraries_of_mine/github...   \n",
        "2463  76_to_79  /home/jgriffiths/Code/libraries_of_mine/github...   \n",
        "2464  76_to_81  /home/jgriffiths/Code/libraries_of_mine/github...   \n",
        "2465  76_to_83  /home/jgriffiths/Code/libraries_of_mine/github...   \n",
        "2466  77_to_78  /home/jgriffiths/Code/libraries_of_mine/github...   \n",
        "2467  77_to_79  /home/jgriffiths/Code/libraries_of_mine/github...   \n",
        "2468  77_to_80  /home/jgriffiths/Code/libraries_of_mine/github...   \n",
        "2469  77_to_81  /home/jgriffiths/Code/libraries_of_mine/github...   \n",
        "2470  77_to_82  /home/jgriffiths/Code/libraries_of_mine/github...   \n",
        "2471  78_to_79  /home/jgriffiths/Code/libraries_of_mine/github...   \n",
        "2472  78_to_80  /home/jgriffiths/Code/libraries_of_mine/github...   \n",
        "2473  78_to_81  /home/jgriffiths/Code/libraries_of_mine/github...   \n",
        "2474  78_to_82  /home/jgriffiths/Code/libraries_of_mine/github...   \n",
        "2475  78_to_83  /home/jgriffiths/Code/libraries_of_mine/github...   \n",
        "2476  79_to_81  /home/jgriffiths/Code/libraries_of_mine/github...   \n",
        "2477  79_to_82  /home/jgriffiths/Code/libraries_of_mine/github...   \n",
        "2478  80_to_81  /home/jgriffiths/Code/libraries_of_mine/github...   \n",
        "2479  81_to_82  /home/jgriffiths/Code/libraries_of_mine/github...   \n",
        "\n",
        "      nii_file_id  4dvolind  \n",
        "0               0         0  \n",
        "1               0         1  \n",
        "2               0         2  \n",
        "3               0         3  \n",
        "4               0         4  \n",
        "5               0         5  \n",
        "6               0         6  \n",
        "7               0         7  \n",
        "8               0         8  \n",
        "9               0         9  \n",
        "10              0        10  \n",
        "11              0        11  \n",
        "12              0        12  \n",
        "13              0        13  \n",
        "14              0        14  \n",
        "15              0        15  \n",
        "16              0        16  \n",
        "17              0        17  \n",
        "18              0        18  \n",
        "19              0        19  \n",
        "20              0        20  \n",
        "21              0        21  \n",
        "22              0        22  \n",
        "23              0        23  \n",
        "24              0        24  \n",
        "25              0        25  \n",
        "26              0        26  \n",
        "27              0        27  \n",
        "28              0        28  \n",
        "29              0        29  \n",
        "...           ...       ...  \n",
        "2450           73         9  \n",
        "2451           74         0  \n",
        "2452           74         1  \n",
        "2453           74         2  \n",
        "2454           74         3  \n",
        "2455           75         0  \n",
        "2456           75         1  \n",
        "2457           75         2  \n",
        "2458           75         3  \n",
        "2459           75         4  \n",
        "2460           75         5  \n",
        "2461           76         0  \n",
        "2462           76         1  \n",
        "2463           76         2  \n",
        "2464           76         3  \n",
        "2465           76         4  \n",
        "2466           77         0  \n",
        "2467           77         1  \n",
        "2468           77         2  \n",
        "2469           77         3  \n",
        "2470           77         4  \n",
        "2471           78         0  \n",
        "2472           78         1  \n",
        "2473           78         2  \n",
        "2474           78         3  \n",
        "2475           78         4  \n",
        "2476           79         0  \n",
        "2477           79         1  \n",
        "2478           80         0  \n",
        "2479           81         0  \n",
        "\n",
        "[2480 rows x 4 columns]"
       ]
      }
     ],
     "prompt_number": 6
    },
    {
     "cell_type": "code",
     "collapsed": false,
     "input": [
      "va.bboxes"
     ],
     "language": "python",
     "metadata": {},
     "outputs": [
      {
       "html": [
        "<div style=\"max-width:1500px;overflow:auto;\">\n",
        "<table border=\"1\" class=\"dataframe\">\n",
        "  <thead>\n",
        "    <tr style=\"text-align: right;\">\n",
        "      <th></th>\n",
        "      <th>xmin</th>\n",
        "      <th>xmax</th>\n",
        "      <th>ymin</th>\n",
        "      <th>ymax</th>\n",
        "      <th>zmin</th>\n",
        "      <th>zmax</th>\n",
        "    </tr>\n",
        "  </thead>\n",
        "  <tbody>\n",
        "    <tr>\n",
        "      <th>0</th>\n",
        "      <td>23</td>\n",
        "      <td>149</td>\n",
        "      <td>22</td>\n",
        "      <td>193</td>\n",
        "      <td>25</td>\n",
        "      <td>149</td>\n",
        "    </tr>\n",
        "    <tr>\n",
        "      <th>1</th>\n",
        "      <td>24</td>\n",
        "      <td>134</td>\n",
        "      <td>26</td>\n",
        "      <td>195</td>\n",
        "      <td>24</td>\n",
        "      <td>134</td>\n",
        "    </tr>\n",
        "    <tr>\n",
        "      <th>2</th>\n",
        "      <td>23</td>\n",
        "      <td>138</td>\n",
        "      <td>27</td>\n",
        "      <td>196</td>\n",
        "      <td>29</td>\n",
        "      <td>138</td>\n",
        "    </tr>\n",
        "    <tr>\n",
        "      <th>3</th>\n",
        "      <td>25</td>\n",
        "      <td>151</td>\n",
        "      <td>31</td>\n",
        "      <td>194</td>\n",
        "      <td>30</td>\n",
        "      <td>151</td>\n",
        "    </tr>\n",
        "    <tr>\n",
        "      <th>4</th>\n",
        "      <td>24</td>\n",
        "      <td>138</td>\n",
        "      <td>30</td>\n",
        "      <td>195</td>\n",
        "      <td>22</td>\n",
        "      <td>138</td>\n",
        "    </tr>\n",
        "    <tr>\n",
        "      <th>5</th>\n",
        "      <td>24</td>\n",
        "      <td>147</td>\n",
        "      <td>28</td>\n",
        "      <td>191</td>\n",
        "      <td>22</td>\n",
        "      <td>147</td>\n",
        "    </tr>\n",
        "    <tr>\n",
        "      <th>6</th>\n",
        "      <td>24</td>\n",
        "      <td>141</td>\n",
        "      <td>22</td>\n",
        "      <td>195</td>\n",
        "      <td>24</td>\n",
        "      <td>141</td>\n",
        "    </tr>\n",
        "    <tr>\n",
        "      <th>7</th>\n",
        "      <td>24</td>\n",
        "      <td>143</td>\n",
        "      <td>28</td>\n",
        "      <td>196</td>\n",
        "      <td>27</td>\n",
        "      <td>143</td>\n",
        "    </tr>\n",
        "    <tr>\n",
        "      <th>8</th>\n",
        "      <td>25</td>\n",
        "      <td>140</td>\n",
        "      <td>35</td>\n",
        "      <td>191</td>\n",
        "      <td>33</td>\n",
        "      <td>140</td>\n",
        "    </tr>\n",
        "    <tr>\n",
        "      <th>9</th>\n",
        "      <td>23</td>\n",
        "      <td>143</td>\n",
        "      <td>35</td>\n",
        "      <td>191</td>\n",
        "      <td>26</td>\n",
        "      <td>143</td>\n",
        "    </tr>\n",
        "    <tr>\n",
        "      <th>10</th>\n",
        "      <td>31</td>\n",
        "      <td>147</td>\n",
        "      <td>51</td>\n",
        "      <td>187</td>\n",
        "      <td>40</td>\n",
        "      <td>147</td>\n",
        "    </tr>\n",
        "    <tr>\n",
        "      <th>11</th>\n",
        "      <td>29</td>\n",
        "      <td>122</td>\n",
        "      <td>49</td>\n",
        "      <td>194</td>\n",
        "      <td>31</td>\n",
        "      <td>122</td>\n",
        "    </tr>\n",
        "    <tr>\n",
        "      <th>12</th>\n",
        "      <td>30</td>\n",
        "      <td>137</td>\n",
        "      <td>46</td>\n",
        "      <td>193</td>\n",
        "      <td>36</td>\n",
        "      <td>137</td>\n",
        "    </tr>\n",
        "    <tr>\n",
        "      <th>13</th>\n",
        "      <td>30</td>\n",
        "      <td>125</td>\n",
        "      <td>46</td>\n",
        "      <td>192</td>\n",
        "      <td>29</td>\n",
        "      <td>125</td>\n",
        "    </tr>\n",
        "    <tr>\n",
        "      <th>14</th>\n",
        "      <td>25</td>\n",
        "      <td>145</td>\n",
        "      <td>24</td>\n",
        "      <td>188</td>\n",
        "      <td>26</td>\n",
        "      <td>145</td>\n",
        "    </tr>\n",
        "    <tr>\n",
        "      <th>15</th>\n",
        "      <td>24</td>\n",
        "      <td>148</td>\n",
        "      <td>31</td>\n",
        "      <td>188</td>\n",
        "      <td>25</td>\n",
        "      <td>148</td>\n",
        "    </tr>\n",
        "    <tr>\n",
        "      <th>16</th>\n",
        "      <td>22</td>\n",
        "      <td>142</td>\n",
        "      <td>46</td>\n",
        "      <td>191</td>\n",
        "      <td>22</td>\n",
        "      <td>142</td>\n",
        "    </tr>\n",
        "    <tr>\n",
        "      <th>17</th>\n",
        "      <td>23</td>\n",
        "      <td>153</td>\n",
        "      <td>20</td>\n",
        "      <td>188</td>\n",
        "      <td>22</td>\n",
        "      <td>153</td>\n",
        "    </tr>\n",
        "    <tr>\n",
        "      <th>18</th>\n",
        "      <td>22</td>\n",
        "      <td>153</td>\n",
        "      <td>23</td>\n",
        "      <td>192</td>\n",
        "      <td>20</td>\n",
        "      <td>153</td>\n",
        "    </tr>\n",
        "    <tr>\n",
        "      <th>19</th>\n",
        "      <td>23</td>\n",
        "      <td>152</td>\n",
        "      <td>23</td>\n",
        "      <td>189</td>\n",
        "      <td>25</td>\n",
        "      <td>152</td>\n",
        "    </tr>\n",
        "    <tr>\n",
        "      <th>20</th>\n",
        "      <td>26</td>\n",
        "      <td>153</td>\n",
        "      <td>19</td>\n",
        "      <td>183</td>\n",
        "      <td>25</td>\n",
        "      <td>153</td>\n",
        "    </tr>\n",
        "    <tr>\n",
        "      <th>21</th>\n",
        "      <td>24</td>\n",
        "      <td>151</td>\n",
        "      <td>18</td>\n",
        "      <td>184</td>\n",
        "      <td>22</td>\n",
        "      <td>151</td>\n",
        "    </tr>\n",
        "    <tr>\n",
        "      <th>22</th>\n",
        "      <td>23</td>\n",
        "      <td>153</td>\n",
        "      <td>18</td>\n",
        "      <td>190</td>\n",
        "      <td>20</td>\n",
        "      <td>153</td>\n",
        "    </tr>\n",
        "    <tr>\n",
        "      <th>23</th>\n",
        "      <td>24</td>\n",
        "      <td>148</td>\n",
        "      <td>21</td>\n",
        "      <td>188</td>\n",
        "      <td>21</td>\n",
        "      <td>148</td>\n",
        "    </tr>\n",
        "    <tr>\n",
        "      <th>24</th>\n",
        "      <td>23</td>\n",
        "      <td>131</td>\n",
        "      <td>21</td>\n",
        "      <td>189</td>\n",
        "      <td>19</td>\n",
        "      <td>131</td>\n",
        "    </tr>\n",
        "    <tr>\n",
        "      <th>25</th>\n",
        "      <td>25</td>\n",
        "      <td>130</td>\n",
        "      <td>24</td>\n",
        "      <td>189</td>\n",
        "      <td>20</td>\n",
        "      <td>130</td>\n",
        "    </tr>\n",
        "    <tr>\n",
        "      <th>26</th>\n",
        "      <td>26</td>\n",
        "      <td>138</td>\n",
        "      <td>26</td>\n",
        "      <td>157</td>\n",
        "      <td>21</td>\n",
        "      <td>138</td>\n",
        "    </tr>\n",
        "    <tr>\n",
        "      <th>27</th>\n",
        "      <td>24</td>\n",
        "      <td>130</td>\n",
        "      <td>26</td>\n",
        "      <td>191</td>\n",
        "      <td>19</td>\n",
        "      <td>130</td>\n",
        "    </tr>\n",
        "    <tr>\n",
        "      <th>28</th>\n",
        "      <td>23</td>\n",
        "      <td>150</td>\n",
        "      <td>21</td>\n",
        "      <td>190</td>\n",
        "      <td>19</td>\n",
        "      <td>150</td>\n",
        "    </tr>\n",
        "    <tr>\n",
        "      <th>29</th>\n",
        "      <td>22</td>\n",
        "      <td>152</td>\n",
        "      <td>21</td>\n",
        "      <td>194</td>\n",
        "      <td>20</td>\n",
        "      <td>152</td>\n",
        "    </tr>\n",
        "    <tr>\n",
        "      <th>...</th>\n",
        "      <td>...</td>\n",
        "      <td>...</td>\n",
        "      <td>...</td>\n",
        "      <td>...</td>\n",
        "      <td>...</td>\n",
        "      <td>...</td>\n",
        "    </tr>\n",
        "    <tr>\n",
        "      <th>2450</th>\n",
        "      <td>101</td>\n",
        "      <td>152</td>\n",
        "      <td>32</td>\n",
        "      <td>128</td>\n",
        "      <td>49</td>\n",
        "      <td>152</td>\n",
        "    </tr>\n",
        "    <tr>\n",
        "      <th>2451</th>\n",
        "      <td>110</td>\n",
        "      <td>150</td>\n",
        "      <td>49</td>\n",
        "      <td>147</td>\n",
        "      <td>55</td>\n",
        "      <td>150</td>\n",
        "    </tr>\n",
        "    <tr>\n",
        "      <th>2452</th>\n",
        "      <td>93</td>\n",
        "      <td>142</td>\n",
        "      <td>62</td>\n",
        "      <td>113</td>\n",
        "      <td>72</td>\n",
        "      <td>142</td>\n",
        "    </tr>\n",
        "    <tr>\n",
        "      <th>2453</th>\n",
        "      <td>93</td>\n",
        "      <td>149</td>\n",
        "      <td>48</td>\n",
        "      <td>135</td>\n",
        "      <td>53</td>\n",
        "      <td>149</td>\n",
        "    </tr>\n",
        "    <tr>\n",
        "      <th>2454</th>\n",
        "      <td>93</td>\n",
        "      <td>137</td>\n",
        "      <td>62</td>\n",
        "      <td>119</td>\n",
        "      <td>64</td>\n",
        "      <td>137</td>\n",
        "    </tr>\n",
        "    <tr>\n",
        "      <th>2455</th>\n",
        "      <td>93</td>\n",
        "      <td>138</td>\n",
        "      <td>32</td>\n",
        "      <td>164</td>\n",
        "      <td>53</td>\n",
        "      <td>138</td>\n",
        "    </tr>\n",
        "    <tr>\n",
        "      <th>2456</th>\n",
        "      <td>87</td>\n",
        "      <td>138</td>\n",
        "      <td>38</td>\n",
        "      <td>164</td>\n",
        "      <td>49</td>\n",
        "      <td>138</td>\n",
        "    </tr>\n",
        "    <tr>\n",
        "      <th>2457</th>\n",
        "      <td>95</td>\n",
        "      <td>149</td>\n",
        "      <td>50</td>\n",
        "      <td>177</td>\n",
        "      <td>45</td>\n",
        "      <td>149</td>\n",
        "    </tr>\n",
        "    <tr>\n",
        "      <th>2458</th>\n",
        "      <td>96</td>\n",
        "      <td>140</td>\n",
        "      <td>51</td>\n",
        "      <td>138</td>\n",
        "      <td>43</td>\n",
        "      <td>140</td>\n",
        "    </tr>\n",
        "    <tr>\n",
        "      <th>2459</th>\n",
        "      <td>92</td>\n",
        "      <td>120</td>\n",
        "      <td>133</td>\n",
        "      <td>150</td>\n",
        "      <td>51</td>\n",
        "      <td>120</td>\n",
        "    </tr>\n",
        "    <tr>\n",
        "      <th>2460</th>\n",
        "      <td>98</td>\n",
        "      <td>140</td>\n",
        "      <td>41</td>\n",
        "      <td>163</td>\n",
        "      <td>37</td>\n",
        "      <td>140</td>\n",
        "    </tr>\n",
        "    <tr>\n",
        "      <th>2461</th>\n",
        "      <td>66</td>\n",
        "      <td>138</td>\n",
        "      <td>59</td>\n",
        "      <td>186</td>\n",
        "      <td>51</td>\n",
        "      <td>138</td>\n",
        "    </tr>\n",
        "    <tr>\n",
        "      <th>2462</th>\n",
        "      <td>65</td>\n",
        "      <td>138</td>\n",
        "      <td>32</td>\n",
        "      <td>187</td>\n",
        "      <td>53</td>\n",
        "      <td>138</td>\n",
        "    </tr>\n",
        "    <tr>\n",
        "      <th>2463</th>\n",
        "      <td>65</td>\n",
        "      <td>143</td>\n",
        "      <td>49</td>\n",
        "      <td>131</td>\n",
        "      <td>65</td>\n",
        "      <td>143</td>\n",
        "    </tr>\n",
        "    <tr>\n",
        "      <th>2464</th>\n",
        "      <td>97</td>\n",
        "      <td>143</td>\n",
        "      <td>39</td>\n",
        "      <td>129</td>\n",
        "      <td>38</td>\n",
        "      <td>143</td>\n",
        "    </tr>\n",
        "    <tr>\n",
        "      <th>2465</th>\n",
        "      <td>60</td>\n",
        "      <td>115</td>\n",
        "      <td>92</td>\n",
        "      <td>110</td>\n",
        "      <td>56</td>\n",
        "      <td>115</td>\n",
        "    </tr>\n",
        "    <tr>\n",
        "      <th>2466</th>\n",
        "      <td>89</td>\n",
        "      <td>138</td>\n",
        "      <td>42</td>\n",
        "      <td>186</td>\n",
        "      <td>45</td>\n",
        "      <td>138</td>\n",
        "    </tr>\n",
        "    <tr>\n",
        "      <th>2467</th>\n",
        "      <td>92</td>\n",
        "      <td>136</td>\n",
        "      <td>82</td>\n",
        "      <td>163</td>\n",
        "      <td>65</td>\n",
        "      <td>136</td>\n",
        "    </tr>\n",
        "    <tr>\n",
        "      <th>2468</th>\n",
        "      <td>70</td>\n",
        "      <td>114</td>\n",
        "      <td>140</td>\n",
        "      <td>180</td>\n",
        "      <td>49</td>\n",
        "      <td>114</td>\n",
        "    </tr>\n",
        "    <tr>\n",
        "      <th>2469</th>\n",
        "      <td>89</td>\n",
        "      <td>138</td>\n",
        "      <td>42</td>\n",
        "      <td>154</td>\n",
        "      <td>41</td>\n",
        "      <td>138</td>\n",
        "    </tr>\n",
        "    <tr>\n",
        "      <th>2470</th>\n",
        "      <td>90</td>\n",
        "      <td>122</td>\n",
        "      <td>80</td>\n",
        "      <td>135</td>\n",
        "      <td>40</td>\n",
        "      <td>122</td>\n",
        "    </tr>\n",
        "    <tr>\n",
        "      <th>2471</th>\n",
        "      <td>96</td>\n",
        "      <td>143</td>\n",
        "      <td>52</td>\n",
        "      <td>178</td>\n",
        "      <td>34</td>\n",
        "      <td>143</td>\n",
        "    </tr>\n",
        "    <tr>\n",
        "      <th>2472</th>\n",
        "      <td>89</td>\n",
        "      <td>133</td>\n",
        "      <td>74</td>\n",
        "      <td>177</td>\n",
        "      <td>46</td>\n",
        "      <td>133</td>\n",
        "    </tr>\n",
        "    <tr>\n",
        "      <th>2473</th>\n",
        "      <td>98</td>\n",
        "      <td>143</td>\n",
        "      <td>39</td>\n",
        "      <td>163</td>\n",
        "      <td>29</td>\n",
        "      <td>143</td>\n",
        "    </tr>\n",
        "    <tr>\n",
        "      <th>2474</th>\n",
        "      <td>108</td>\n",
        "      <td>136</td>\n",
        "      <td>67</td>\n",
        "      <td>136</td>\n",
        "      <td>31</td>\n",
        "      <td>136</td>\n",
        "    </tr>\n",
        "    <tr>\n",
        "      <th>2475</th>\n",
        "      <td>56</td>\n",
        "      <td>131</td>\n",
        "      <td>52</td>\n",
        "      <td>115</td>\n",
        "      <td>56</td>\n",
        "      <td>131</td>\n",
        "    </tr>\n",
        "    <tr>\n",
        "      <th>2476</th>\n",
        "      <td>97</td>\n",
        "      <td>140</td>\n",
        "      <td>69</td>\n",
        "      <td>134</td>\n",
        "      <td>37</td>\n",
        "      <td>140</td>\n",
        "    </tr>\n",
        "    <tr>\n",
        "      <th>2477</th>\n",
        "      <td>109</td>\n",
        "      <td>139</td>\n",
        "      <td>117</td>\n",
        "      <td>132</td>\n",
        "      <td>31</td>\n",
        "      <td>139</td>\n",
        "    </tr>\n",
        "    <tr>\n",
        "      <th>2478</th>\n",
        "      <td>90</td>\n",
        "      <td>136</td>\n",
        "      <td>74</td>\n",
        "      <td>143</td>\n",
        "      <td>36</td>\n",
        "      <td>136</td>\n",
        "    </tr>\n",
        "    <tr>\n",
        "      <th>2479</th>\n",
        "      <td>102</td>\n",
        "      <td>145</td>\n",
        "      <td>74</td>\n",
        "      <td>136</td>\n",
        "      <td>29</td>\n",
        "      <td>145</td>\n",
        "    </tr>\n",
        "  </tbody>\n",
        "</table>\n",
        "<p>2480 rows \u00d7 6 columns</p>\n",
        "</div>"
       ],
       "metadata": {},
       "output_type": "pyout",
       "prompt_number": 7,
       "text": [
        "      xmin  xmax  ymin  ymax  zmin  zmax\n",
        "0       23   149    22   193    25   149\n",
        "1       24   134    26   195    24   134\n",
        "2       23   138    27   196    29   138\n",
        "3       25   151    31   194    30   151\n",
        "4       24   138    30   195    22   138\n",
        "5       24   147    28   191    22   147\n",
        "6       24   141    22   195    24   141\n",
        "7       24   143    28   196    27   143\n",
        "8       25   140    35   191    33   140\n",
        "9       23   143    35   191    26   143\n",
        "10      31   147    51   187    40   147\n",
        "11      29   122    49   194    31   122\n",
        "12      30   137    46   193    36   137\n",
        "13      30   125    46   192    29   125\n",
        "14      25   145    24   188    26   145\n",
        "15      24   148    31   188    25   148\n",
        "16      22   142    46   191    22   142\n",
        "17      23   153    20   188    22   153\n",
        "18      22   153    23   192    20   153\n",
        "19      23   152    23   189    25   152\n",
        "20      26   153    19   183    25   153\n",
        "21      24   151    18   184    22   151\n",
        "22      23   153    18   190    20   153\n",
        "23      24   148    21   188    21   148\n",
        "24      23   131    21   189    19   131\n",
        "25      25   130    24   189    20   130\n",
        "26      26   138    26   157    21   138\n",
        "27      24   130    26   191    19   130\n",
        "28      23   150    21   190    19   150\n",
        "29      22   152    21   194    20   152\n",
        "...    ...   ...   ...   ...   ...   ...\n",
        "2450   101   152    32   128    49   152\n",
        "2451   110   150    49   147    55   150\n",
        "2452    93   142    62   113    72   142\n",
        "2453    93   149    48   135    53   149\n",
        "2454    93   137    62   119    64   137\n",
        "2455    93   138    32   164    53   138\n",
        "2456    87   138    38   164    49   138\n",
        "2457    95   149    50   177    45   149\n",
        "2458    96   140    51   138    43   140\n",
        "2459    92   120   133   150    51   120\n",
        "2460    98   140    41   163    37   140\n",
        "2461    66   138    59   186    51   138\n",
        "2462    65   138    32   187    53   138\n",
        "2463    65   143    49   131    65   143\n",
        "2464    97   143    39   129    38   143\n",
        "2465    60   115    92   110    56   115\n",
        "2466    89   138    42   186    45   138\n",
        "2467    92   136    82   163    65   136\n",
        "2468    70   114   140   180    49   114\n",
        "2469    89   138    42   154    41   138\n",
        "2470    90   122    80   135    40   122\n",
        "2471    96   143    52   178    34   143\n",
        "2472    89   133    74   177    46   133\n",
        "2473    98   143    39   163    29   143\n",
        "2474   108   136    67   136    31   136\n",
        "2475    56   131    52   115    56   131\n",
        "2476    97   140    69   134    37   140\n",
        "2477   109   139   117   132    31   139\n",
        "2478    90   136    74   143    36   136\n",
        "2479   102   145    74   136    29   145\n",
        "\n",
        "[2480 rows x 6 columns]"
       ]
      }
     ],
     "prompt_number": 7
    },
    {
     "cell_type": "code",
     "collapsed": false,
     "input": [
      "test_file = 'test_lesionmask_rs1mm.nii.gz'"
     ],
     "language": "python",
     "metadata": {
      "run_control": {
       "state": "n"
      }
     },
     "outputs": [],
     "prompt_number": 8
    },
    {
     "cell_type": "code",
     "collapsed": false,
     "input": [
      "plot_stat_map(test_file,vmax=2.)"
     ],
     "language": "python",
     "metadata": {},
     "outputs": [
      {
       "metadata": {},
       "output_type": "pyout",
       "prompt_number": 9,
       "text": [
        "<nilearn.plotting.displays.OrthoSlicer at 0x7efdea6f5850>"
       ]
      },
      {
       "metadata": {},
       "output_type": "display_data",
       "png": "[encoded data removed]",
       "text": [
        "<matplotlib.figure.Figure at 0x7efe2ebb8b90>"
       ]
      }
     ],
     "prompt_number": 9
    },
    {
     "cell_type": "code",
     "collapsed": false,
     "input": [
      "from nilearn.image import index_img"
     ],
     "language": "python",
     "metadata": {},
     "outputs": [],
     "prompt_number": 10
    },
    {
     "cell_type": "code",
     "collapsed": false,
     "input": [
      "ifmaps = va.image_file_mappings.ix[0]"
     ],
     "language": "python",
     "metadata": {},
     "outputs": [],
     "prompt_number": 11
    },
    {
     "cell_type": "code",
     "collapsed": false,
     "input": [
      "plot_stat_map(index_img(ifmaps['nii_file'],ifmaps['4dvolind']),vmax=2.)"
     ],
     "language": "python",
     "metadata": {},
     "outputs": [
      {
       "metadata": {},
       "output_type": "pyout",
       "prompt_number": 12,
       "text": [
        "<nilearn.plotting.displays.OrthoSlicer at 0x7fc5b5d1a590>"
       ]
      },
      {
       "metadata": {},
       "output_type": "display_data",
       "png": "[encoded data removed]",
       "text": [
        "<matplotlib.figure.Figure at 0x7fc644cb09d0>"
       ]
      }
     ],
     "prompt_number": 12
    },
    {
     "cell_type": "code",
     "collapsed": false,
     "input": [
      "#df_bb = pd.read_csv('../atlases/volumetric/dipy_dsi_sd4_l2k8_sc33/bounding_boxes.txt', sep=',')"
     ],
     "language": "python",
     "metadata": {},
     "outputs": [],
     "prompt_number": 11
    },
    {
     "cell_type": "code",
     "collapsed": false,
     "input": [
      "#va.bbs = df_bb"
     ],
     "language": "python",
     "metadata": {},
     "outputs": [],
     "prompt_number": 10
    },
    {
     "cell_type": "code",
     "collapsed": false,
     "input": [
      "test_bbox = get_bounding_box_inds(test_file)"
     ],
     "language": "python",
     "metadata": {},
     "outputs": [],
     "prompt_number": 12
    },
    {
     "cell_type": "code",
     "collapsed": false,
     "input": [
      "#va.compute_roi_bb_overlaps??"
     ],
     "language": "python",
     "metadata": {},
     "outputs": [],
     "prompt_number": 12
    },
    {
     "cell_type": "code",
     "collapsed": false,
     "input": [
      "bb_isoverlapping,bb_propoverlapping = va.compute_roi_bbox_overlaps(test_file)"
     ],
     "language": "python",
     "metadata": {},
     "outputs": [],
     "prompt_number": 13
    },
    {
     "cell_type": "code",
     "collapsed": false,
     "input": [
      "#bb_isoverlapping"
     ],
     "language": "python",
     "metadata": {},
     "outputs": [],
     "prompt_number": 14
    },
    {
     "cell_type": "code",
     "collapsed": false,
     "input": [
      "np.nonzero(bb_isoverlapping)[0].shape"
     ],
     "language": "python",
     "metadata": {},
     "outputs": [
      {
       "metadata": {},
       "output_type": "pyout",
       "prompt_number": 15,
       "text": [
        "(1682,)"
       ]
      }
     ],
     "prompt_number": 15
    },
    {
     "cell_type": "code",
     "collapsed": false,
     "input": [
      "idxs = range(50) # [1,2,3] # 'all' #range(1000)#[0,1,2,3]"
     ],
     "language": "python",
     "metadata": {},
     "outputs": [],
     "prompt_number": 16
    },
    {
     "cell_type": "code",
     "collapsed": false,
     "input": [
      "%time hs_res,hs_df= va.compute_hit_stats(test_file,idxs)"
     ],
     "language": "python",
     "metadata": {},
     "outputs": [
      {
       "output_type": "stream",
       "stream": "stdout",
       "text": [
        "computing hit stats for roi test_lesionmask_rs1mm.nii.gz\n",
        "CPU times: user 2min 5s, sys: 17.6 s, total: 2min 23s"
       ]
      },
      {
       "output_type": "stream",
       "stream": "stdout",
       "text": [
        "\n",
        "Wall time: 2min 24s\n"
       ]
      }
     ],
     "prompt_number": 18
    },
    {
     "cell_type": "code",
     "collapsed": false,
     "input": [
      "%time hs_res,hs_df= va.compute_hit_stats(test_file,idxs)"
     ],
     "language": "python",
     "metadata": {},
     "outputs": [
      {
       "output_type": "stream",
       "stream": "stdout",
       "text": [
        "computing hit stats for roi test_lesionmask_rs1mm.nii.gz\n",
        "CPU times: user 2min 5s, sys: 17.3 s, total: 2min 22s"
       ]
      },
      {
       "output_type": "stream",
       "stream": "stdout",
       "text": [
        "\n",
        "Wall time: 2min 23s\n"
       ]
      }
     ],
     "prompt_number": 19
    },
    {
     "cell_type": "code",
     "collapsed": false,
     "input": [
      "%time hs_res,hs_df= va.compute_hit_stats_test(test_file,idxs)"
     ],
     "language": "python",
     "metadata": {},
     "outputs": [
      {
       "output_type": "stream",
       "stream": "stdout",
       "text": [
        "computing hit stats for roi test_lesionmask_rs1mm.nii.gz\n",
        "CPU times: user 1min 36s, sys: 59.6 s, total: 2min 36s"
       ]
      },
      {
       "output_type": "stream",
       "stream": "stdout",
       "text": [
        "\n",
        "Wall time: 2min 44s\n"
       ]
      },
      {
       "output_type": "stream",
       "stream": "stderr",
       "text": [
        "/home/jgriffiths/Code/libraries_of_mine/github/ConWhAt/ConWhAt/base/hit_stats.py:22: RuntimeWarning: invalid value encountered in divide\n",
        "  TPR = TP / (TP + FN)\n",
        "/home/jgriffiths/Code/libraries_of_mine/github/ConWhAt/ConWhAt/base/hit_stats.py:40: RuntimeWarning: invalid value encountered in divide\n",
        "  FNR = FN / (FN + TP)\n",
        "/home/jgriffiths/Code/libraries_of_mine/github/ConWhAt/ConWhAt/base/hit_stats.py:49: RuntimeWarning: invalid value encountered in double_scalars\n",
        "  MCC = (TP*TN - FP*FN) / (np.sqrt((TP + FP)*(TP+FN)*(TN+FP)*(TN+FN)))\n"
       ]
      }
     ],
     "prompt_number": 17
    },
    {
     "cell_type": "code",
     "collapsed": false,
     "input": [
      "%time hs_res,hs_df= va.compute_hit_stats_test(test_file,idxs)"
     ],
     "language": "python",
     "metadata": {},
     "outputs": [
      {
       "output_type": "stream",
       "stream": "stdout",
       "text": [
        "computing hit stats for roi test_lesionmask_rs1mm.nii.gz\n",
        "CPU times: user 1min 36s, sys: 28.4 s, total: 2min 5s"
       ]
      },
      {
       "output_type": "stream",
       "stream": "stdout",
       "text": [
        "\n",
        "Wall time: 2min 6s\n"
       ]
      }
     ],
     "prompt_number": 20
    },
    {
     "cell_type": "code",
     "collapsed": false,
     "input": [
      "idxs = 'all'"
     ],
     "language": "python",
     "metadata": {},
     "outputs": [],
     "prompt_number": 21
    },
    {
     "cell_type": "code",
     "collapsed": false,
     "input": [
      "%time hs_res,hs_df= va.compute_hit_stats(test_file,idxs)"
     ],
     "language": "python",
     "metadata": {},
     "outputs": []
    },
    {
     "cell_type": "code",
     "collapsed": false,
     "input": [
      "%time hs_res,hs_df= va.compute_hit_stats_test(test_file,idxs)"
     ],
     "language": "python",
     "metadata": {},
     "outputs": []
    },
    {
     "cell_type": "code",
     "collapsed": false,
     "input": [],
     "language": "python",
     "metadata": {},
     "outputs": []
    },
    {
     "cell_type": "code",
     "collapsed": false,
     "input": [],
     "language": "python",
     "metadata": {},
     "outputs": []
    },
    {
     "cell_type": "code",
     "collapsed": false,
     "input": [],
     "language": "python",
     "metadata": {},
     "outputs": []
    },
    {
     "cell_type": "code",
     "collapsed": false,
     "input": [],
     "language": "python",
     "metadata": {},
     "outputs": []
    },
    {
     "cell_type": "code",
     "collapsed": false,
     "input": [],
     "language": "python",
     "metadata": {},
     "outputs": []
    },
    {
     "cell_type": "code",
     "collapsed": false,
     "input": [
      "len(hs_res)"
     ],
     "language": "python",
     "metadata": {},
     "outputs": [
      {
       "metadata": {},
       "output_type": "pyout",
       "prompt_number": 24,
       "text": [
        "50"
       ]
      }
     ],
     "prompt_number": 24
    },
    {
     "cell_type": "code",
     "collapsed": false,
     "input": [
      "hs_df.unstack('metric')"
     ],
     "language": "python",
     "metadata": {},
     "outputs": [
      {
       "html": [
        "<div style=\"max-width:1500px;overflow:auto;\">\n",
        "<table border=\"1\" class=\"dataframe\">\n",
        "  <thead>\n",
        "    <tr>\n",
        "      <th></th>\n",
        "      <th colspan=\"19\" halign=\"left\">val</th>\n",
        "    </tr>\n",
        "    <tr>\n",
        "      <th>metric</th>\n",
        "      <th>ACC</th>\n",
        "      <th>F1</th>\n",
        "      <th>FNR</th>\n",
        "      <th>TNR</th>\n",
        "      <th>BM</th>\n",
        "      <th>corr_thr</th>\n",
        "      <th>MCC</th>\n",
        "      <th>corr_thrbin</th>\n",
        "      <th>MK</th>\n",
        "      <th>TN</th>\n",
        "      <th>TP</th>\n",
        "      <th>FDR</th>\n",
        "      <th>corr_nothr</th>\n",
        "      <th>TPR</th>\n",
        "      <th>FPR</th>\n",
        "      <th>NPV</th>\n",
        "      <th>FP</th>\n",
        "      <th>FN</th>\n",
        "      <th>PPV</th>\n",
        "    </tr>\n",
        "    <tr>\n",
        "      <th>structure</th>\n",
        "      <th></th>\n",
        "      <th></th>\n",
        "      <th></th>\n",
        "      <th></th>\n",
        "      <th></th>\n",
        "      <th></th>\n",
        "      <th></th>\n",
        "      <th></th>\n",
        "      <th></th>\n",
        "      <th></th>\n",
        "      <th></th>\n",
        "      <th></th>\n",
        "      <th></th>\n",
        "      <th></th>\n",
        "      <th></th>\n",
        "      <th></th>\n",
        "      <th></th>\n",
        "      <th></th>\n",
        "      <th></th>\n",
        "    </tr>\n",
        "  </thead>\n",
        "  <tbody>\n",
        "    <tr>\n",
        "      <th>0_to_1</th>\n",
        "      <td>0.977526</td>\n",
        "      <td>0.000721</td>\n",
        "      <td>0.0</td>\n",
        "      <td>0.977526</td>\n",
        "      <td>0.977526</td>\n",
        "      <td>-0.007156</td>\n",
        "      <td>0.018774</td>\n",
        "      <td>-0.013976</td>\n",
        "      <td>0.000361</td>\n",
        "      <td>6993794.0</td>\n",
        "      <td>58.0</td>\n",
        "      <td>0.999639</td>\n",
        "      <td>-0.007156</td>\n",
        "      <td>1.0</td>\n",
        "      <td>0.022474</td>\n",
        "      <td>1.0</td>\n",
        "      <td>160795.0</td>\n",
        "      <td>0.0</td>\n",
        "      <td>0.000361</td>\n",
        "    </tr>\n",
        "    <tr>\n",
        "      <th>0_to_10</th>\n",
        "      <td>0.960443</td>\n",
        "      <td>0.006424</td>\n",
        "      <td>0.0</td>\n",
        "      <td>0.960438</td>\n",
        "      <td>0.960438</td>\n",
        "      <td>-0.010794</td>\n",
        "      <td>0.055631</td>\n",
        "      <td>-0.012669</td>\n",
        "      <td>0.003222</td>\n",
        "      <td>6871541.0</td>\n",
        "      <td>915.0</td>\n",
        "      <td>0.996778</td>\n",
        "      <td>-0.010794</td>\n",
        "      <td>1.0</td>\n",
        "      <td>0.039562</td>\n",
        "      <td>1.0</td>\n",
        "      <td>283048.0</td>\n",
        "      <td>0.0</td>\n",
        "      <td>0.003222</td>\n",
        "    </tr>\n",
        "    <tr>\n",
        "      <th>0_to_11</th>\n",
        "      <td>0.977819</td>\n",
        "      <td>0.044277</td>\n",
        "      <td>0.0</td>\n",
        "      <td>0.977807</td>\n",
        "      <td>0.977807</td>\n",
        "      <td>-0.004460</td>\n",
        "      <td>0.148785</td>\n",
        "      <td>0.021352</td>\n",
        "      <td>0.022640</td>\n",
        "      <td>6995808.0</td>\n",
        "      <td>3678.0</td>\n",
        "      <td>0.977360</td>\n",
        "      <td>-0.004460</td>\n",
        "      <td>1.0</td>\n",
        "      <td>0.022193</td>\n",
        "      <td>1.0</td>\n",
        "      <td>158781.0</td>\n",
        "      <td>0.0</td>\n",
        "      <td>0.022640</td>\n",
        "    </tr>\n",
        "    <tr>\n",
        "      <th>0_to_12</th>\n",
        "      <td>0.986509</td>\n",
        "      <td>0.000000</td>\n",
        "      <td>NaN</td>\n",
        "      <td>0.986509</td>\n",
        "      <td>NaN</td>\n",
        "      <td>-0.005991</td>\n",
        "      <td>NaN</td>\n",
        "      <td>-0.011217</td>\n",
        "      <td>0.000000</td>\n",
        "      <td>7058069.0</td>\n",
        "      <td>0.0</td>\n",
        "      <td>1.000000</td>\n",
        "      <td>-0.005991</td>\n",
        "      <td>NaN</td>\n",
        "      <td>0.013491</td>\n",
        "      <td>1.0</td>\n",
        "      <td>96520.0</td>\n",
        "      <td>0.0</td>\n",
        "      <td>0.000000</td>\n",
        "    </tr>\n",
        "    <tr>\n",
        "      <th>0_to_13</th>\n",
        "      <td>0.981996</td>\n",
        "      <td>0.000124</td>\n",
        "      <td>0.0</td>\n",
        "      <td>0.981996</td>\n",
        "      <td>0.981996</td>\n",
        "      <td>-0.006894</td>\n",
        "      <td>0.007809</td>\n",
        "      <td>-0.012900</td>\n",
        "      <td>0.000062</td>\n",
        "      <td>7025775.0</td>\n",
        "      <td>8.0</td>\n",
        "      <td>0.999938</td>\n",
        "      <td>-0.006894</td>\n",
        "      <td>1.0</td>\n",
        "      <td>0.018004</td>\n",
        "      <td>1.0</td>\n",
        "      <td>128814.0</td>\n",
        "      <td>0.0</td>\n",
        "      <td>0.000062</td>\n",
        "    </tr>\n",
        "    <tr>\n",
        "      <th>0_to_14</th>\n",
        "      <td>0.981792</td>\n",
        "      <td>0.005754</td>\n",
        "      <td>0.0</td>\n",
        "      <td>0.981791</td>\n",
        "      <td>0.981791</td>\n",
        "      <td>-0.006887</td>\n",
        "      <td>0.053226</td>\n",
        "      <td>-0.008979</td>\n",
        "      <td>0.002886</td>\n",
        "      <td>7024313.0</td>\n",
        "      <td>377.0</td>\n",
        "      <td>0.997114</td>\n",
        "      <td>-0.006887</td>\n",
        "      <td>1.0</td>\n",
        "      <td>0.018209</td>\n",
        "      <td>1.0</td>\n",
        "      <td>130276.0</td>\n",
        "      <td>0.0</td>\n",
        "      <td>0.002886</td>\n",
        "    </tr>\n",
        "    <tr>\n",
        "      <th>0_to_15</th>\n",
        "      <td>0.982518</td>\n",
        "      <td>0.011225</td>\n",
        "      <td>0.0</td>\n",
        "      <td>0.982516</td>\n",
        "      <td>0.982516</td>\n",
        "      <td>-0.005507</td>\n",
        "      <td>0.074467</td>\n",
        "      <td>-0.004961</td>\n",
        "      <td>0.005644</td>\n",
        "      <td>7029501.0</td>\n",
        "      <td>710.0</td>\n",
        "      <td>0.994356</td>\n",
        "      <td>-0.005507</td>\n",
        "      <td>1.0</td>\n",
        "      <td>0.017484</td>\n",
        "      <td>1.0</td>\n",
        "      <td>125088.0</td>\n",
        "      <td>0.0</td>\n",
        "      <td>0.005644</td>\n",
        "    </tr>\n",
        "    <tr>\n",
        "      <th>0_to_16</th>\n",
        "      <td>0.966161</td>\n",
        "      <td>0.028126</td>\n",
        "      <td>0.0</td>\n",
        "      <td>0.966144</td>\n",
        "      <td>0.966144</td>\n",
        "      <td>-0.007620</td>\n",
        "      <td>0.117391</td>\n",
        "      <td>0.009951</td>\n",
        "      <td>0.014264</td>\n",
        "      <td>6912363.0</td>\n",
        "      <td>3505.0</td>\n",
        "      <td>0.985736</td>\n",
        "      <td>-0.007620</td>\n",
        "      <td>1.0</td>\n",
        "      <td>0.033856</td>\n",
        "      <td>1.0</td>\n",
        "      <td>242226.0</td>\n",
        "      <td>0.0</td>\n",
        "      <td>0.014264</td>\n",
        "    </tr>\n",
        "    <tr>\n",
        "      <th>0_to_17</th>\n",
        "      <td>0.969650</td>\n",
        "      <td>0.008356</td>\n",
        "      <td>0.0</td>\n",
        "      <td>0.969646</td>\n",
        "      <td>0.969646</td>\n",
        "      <td>-0.008805</td>\n",
        "      <td>0.063783</td>\n",
        "      <td>-0.009252</td>\n",
        "      <td>0.004196</td>\n",
        "      <td>6937419.0</td>\n",
        "      <td>915.0</td>\n",
        "      <td>0.995804</td>\n",
        "      <td>-0.008805</td>\n",
        "      <td>1.0</td>\n",
        "      <td>0.030354</td>\n",
        "      <td>1.0</td>\n",
        "      <td>217170.0</td>\n",
        "      <td>0.0</td>\n",
        "      <td>0.004196</td>\n",
        "    </tr>\n",
        "    <tr>\n",
        "      <th>0_to_18</th>\n",
        "      <td>0.937769</td>\n",
        "      <td>0.036686</td>\n",
        "      <td>0.0</td>\n",
        "      <td>0.937695</td>\n",
        "      <td>0.937695</td>\n",
        "      <td>-0.004445</td>\n",
        "      <td>0.132368</td>\n",
        "      <td>0.025736</td>\n",
        "      <td>0.018686</td>\n",
        "      <td>6708823.0</td>\n",
        "      <td>8488.0</td>\n",
        "      <td>0.981314</td>\n",
        "      <td>-0.004445</td>\n",
        "      <td>1.0</td>\n",
        "      <td>0.062305</td>\n",
        "      <td>1.0</td>\n",
        "      <td>445766.0</td>\n",
        "      <td>0.0</td>\n",
        "      <td>0.018686</td>\n",
        "    </tr>\n",
        "    <tr>\n",
        "      <th>0_to_19</th>\n",
        "      <td>0.949442</td>\n",
        "      <td>0.032755</td>\n",
        "      <td>0.0</td>\n",
        "      <td>0.949398</td>\n",
        "      <td>0.949398</td>\n",
        "      <td>-0.008622</td>\n",
        "      <td>0.125729</td>\n",
        "      <td>0.018082</td>\n",
        "      <td>0.016650</td>\n",
        "      <td>6792555.0</td>\n",
        "      <td>6130.0</td>\n",
        "      <td>0.983350</td>\n",
        "      <td>-0.008622</td>\n",
        "      <td>1.0</td>\n",
        "      <td>0.050602</td>\n",
        "      <td>1.0</td>\n",
        "      <td>362034.0</td>\n",
        "      <td>0.0</td>\n",
        "      <td>0.016650</td>\n",
        "    </tr>\n",
        "    <tr>\n",
        "      <th>0_to_2</th>\n",
        "      <td>0.982351</td>\n",
        "      <td>0.000000</td>\n",
        "      <td>NaN</td>\n",
        "      <td>0.982351</td>\n",
        "      <td>NaN</td>\n",
        "      <td>-0.006291</td>\n",
        "      <td>NaN</td>\n",
        "      <td>-0.012856</td>\n",
        "      <td>0.000000</td>\n",
        "      <td>7028321.0</td>\n",
        "      <td>0.0</td>\n",
        "      <td>1.000000</td>\n",
        "      <td>-0.006291</td>\n",
        "      <td>NaN</td>\n",
        "      <td>0.017649</td>\n",
        "      <td>1.0</td>\n",
        "      <td>126268.0</td>\n",
        "      <td>0.0</td>\n",
        "      <td>0.000000</td>\n",
        "    </tr>\n",
        "    <tr>\n",
        "      <th>0_to_20</th>\n",
        "      <td>0.949438</td>\n",
        "      <td>0.057451</td>\n",
        "      <td>0.0</td>\n",
        "      <td>0.949360</td>\n",
        "      <td>0.949360</td>\n",
        "      <td>0.002156</td>\n",
        "      <td>0.167564</td>\n",
        "      <td>0.049825</td>\n",
        "      <td>0.029575</td>\n",
        "      <td>6792278.0</td>\n",
        "      <td>11042.0</td>\n",
        "      <td>0.970425</td>\n",
        "      <td>0.002156</td>\n",
        "      <td>1.0</td>\n",
        "      <td>0.050640</td>\n",
        "      <td>1.0</td>\n",
        "      <td>362311.0</td>\n",
        "      <td>0.0</td>\n",
        "      <td>0.029575</td>\n",
        "    </tr>\n",
        "    <tr>\n",
        "      <th>0_to_21</th>\n",
        "      <td>0.980765</td>\n",
        "      <td>0.004456</td>\n",
        "      <td>0.0</td>\n",
        "      <td>0.980764</td>\n",
        "      <td>0.980764</td>\n",
        "      <td>-0.007236</td>\n",
        "      <td>0.046797</td>\n",
        "      <td>-0.010185</td>\n",
        "      <td>0.002233</td>\n",
        "      <td>7016961.0</td>\n",
        "      <td>308.0</td>\n",
        "      <td>0.997767</td>\n",
        "      <td>-0.007236</td>\n",
        "      <td>1.0</td>\n",
        "      <td>0.019236</td>\n",
        "      <td>1.0</td>\n",
        "      <td>137628.0</td>\n",
        "      <td>0.0</td>\n",
        "      <td>0.002233</td>\n",
        "    </tr>\n",
        "    <tr>\n",
        "      <th>0_to_22</th>\n",
        "      <td>0.975974</td>\n",
        "      <td>0.002229</td>\n",
        "      <td>0.0</td>\n",
        "      <td>0.975973</td>\n",
        "      <td>0.975973</td>\n",
        "      <td>-0.008307</td>\n",
        "      <td>0.032998</td>\n",
        "      <td>-0.013232</td>\n",
        "      <td>0.001116</td>\n",
        "      <td>6982686.0</td>\n",
        "      <td>192.0</td>\n",
        "      <td>0.998884</td>\n",
        "      <td>-0.008307</td>\n",
        "      <td>1.0</td>\n",
        "      <td>0.024027</td>\n",
        "      <td>1.0</td>\n",
        "      <td>171903.0</td>\n",
        "      <td>0.0</td>\n",
        "      <td>0.001116</td>\n",
        "    </tr>\n",
        "    <tr>\n",
        "      <th>0_to_23</th>\n",
        "      <td>0.964924</td>\n",
        "      <td>0.008618</td>\n",
        "      <td>0.0</td>\n",
        "      <td>0.964918</td>\n",
        "      <td>0.964918</td>\n",
        "      <td>-0.009853</td>\n",
        "      <td>0.064622</td>\n",
        "      <td>-0.009708</td>\n",
        "      <td>0.004328</td>\n",
        "      <td>6903594.0</td>\n",
        "      <td>1091.0</td>\n",
        "      <td>0.995672</td>\n",
        "      <td>-0.009853</td>\n",
        "      <td>1.0</td>\n",
        "      <td>0.035082</td>\n",
        "      <td>1.0</td>\n",
        "      <td>250995.0</td>\n",
        "      <td>0.0</td>\n",
        "      <td>0.004328</td>\n",
        "    </tr>\n",
        "    <tr>\n",
        "      <th>0_to_24</th>\n",
        "      <td>0.970015</td>\n",
        "      <td>0.001703</td>\n",
        "      <td>0.0</td>\n",
        "      <td>0.970014</td>\n",
        "      <td>0.970014</td>\n",
        "      <td>-0.008978</td>\n",
        "      <td>0.028753</td>\n",
        "      <td>-0.015308</td>\n",
        "      <td>0.000852</td>\n",
        "      <td>6940053.0</td>\n",
        "      <td>183.0</td>\n",
        "      <td>0.999148</td>\n",
        "      <td>-0.008978</td>\n",
        "      <td>1.0</td>\n",
        "      <td>0.029986</td>\n",
        "      <td>1.0</td>\n",
        "      <td>214536.0</td>\n",
        "      <td>0.0</td>\n",
        "      <td>0.000852</td>\n",
        "    </tr>\n",
        "    <tr>\n",
        "      <th>0_to_25</th>\n",
        "      <td>0.969408</td>\n",
        "      <td>0.001760</td>\n",
        "      <td>0.0</td>\n",
        "      <td>0.969407</td>\n",
        "      <td>0.969407</td>\n",
        "      <td>-0.008965</td>\n",
        "      <td>0.029224</td>\n",
        "      <td>-0.015414</td>\n",
        "      <td>0.000881</td>\n",
        "      <td>6935712.0</td>\n",
        "      <td>193.0</td>\n",
        "      <td>0.999119</td>\n",
        "      <td>-0.008965</td>\n",
        "      <td>1.0</td>\n",
        "      <td>0.030593</td>\n",
        "      <td>1.0</td>\n",
        "      <td>218877.0</td>\n",
        "      <td>0.0</td>\n",
        "      <td>0.000881</td>\n",
        "    </tr>\n",
        "    <tr>\n",
        "      <th>0_to_26</th>\n",
        "      <td>0.981198</td>\n",
        "      <td>0.003747</td>\n",
        "      <td>0.0</td>\n",
        "      <td>0.981198</td>\n",
        "      <td>0.981198</td>\n",
        "      <td>-0.006182</td>\n",
        "      <td>0.042917</td>\n",
        "      <td>-0.010579</td>\n",
        "      <td>0.001877</td>\n",
        "      <td>7020066.0</td>\n",
        "      <td>253.0</td>\n",
        "      <td>0.998123</td>\n",
        "      <td>-0.006182</td>\n",
        "      <td>1.0</td>\n",
        "      <td>0.018802</td>\n",
        "      <td>1.0</td>\n",
        "      <td>134523.0</td>\n",
        "      <td>0.0</td>\n",
        "      <td>0.001877</td>\n",
        "    </tr>\n",
        "    <tr>\n",
        "      <th>0_to_27</th>\n",
        "      <td>0.987582</td>\n",
        "      <td>0.006664</td>\n",
        "      <td>0.0</td>\n",
        "      <td>0.987582</td>\n",
        "      <td>0.987582</td>\n",
        "      <td>-0.004908</td>\n",
        "      <td>0.057458</td>\n",
        "      <td>-0.006860</td>\n",
        "      <td>0.003343</td>\n",
        "      <td>7065743.0</td>\n",
        "      <td>298.0</td>\n",
        "      <td>0.996657</td>\n",
        "      <td>-0.004908</td>\n",
        "      <td>1.0</td>\n",
        "      <td>0.012418</td>\n",
        "      <td>1.0</td>\n",
        "      <td>88846.0</td>\n",
        "      <td>0.0</td>\n",
        "      <td>0.003343</td>\n",
        "    </tr>\n",
        "    <tr>\n",
        "      <th>0_to_28</th>\n",
        "      <td>0.985510</td>\n",
        "      <td>0.000482</td>\n",
        "      <td>0.0</td>\n",
        "      <td>0.985510</td>\n",
        "      <td>0.985510</td>\n",
        "      <td>-0.005623</td>\n",
        "      <td>0.015414</td>\n",
        "      <td>-0.011327</td>\n",
        "      <td>0.000241</td>\n",
        "      <td>7050921.0</td>\n",
        "      <td>25.0</td>\n",
        "      <td>0.999759</td>\n",
        "      <td>-0.005623</td>\n",
        "      <td>1.0</td>\n",
        "      <td>0.014490</td>\n",
        "      <td>1.0</td>\n",
        "      <td>103668.0</td>\n",
        "      <td>0.0</td>\n",
        "      <td>0.000241</td>\n",
        "    </tr>\n",
        "    <tr>\n",
        "      <th>0_to_29</th>\n",
        "      <td>0.962598</td>\n",
        "      <td>0.018703</td>\n",
        "      <td>0.0</td>\n",
        "      <td>0.962585</td>\n",
        "      <td>0.962585</td>\n",
        "      <td>-0.008609</td>\n",
        "      <td>0.095324</td>\n",
        "      <td>0.000492</td>\n",
        "      <td>0.009440</td>\n",
        "      <td>6886901.0</td>\n",
        "      <td>2551.0</td>\n",
        "      <td>0.990560</td>\n",
        "      <td>-0.008609</td>\n",
        "      <td>1.0</td>\n",
        "      <td>0.037415</td>\n",
        "      <td>1.0</td>\n",
        "      <td>267688.0</td>\n",
        "      <td>0.0</td>\n",
        "      <td>0.009440</td>\n",
        "    </tr>\n",
        "    <tr>\n",
        "      <th>0_to_3</th>\n",
        "      <td>0.984889</td>\n",
        "      <td>0.000000</td>\n",
        "      <td>NaN</td>\n",
        "      <td>0.984889</td>\n",
        "      <td>NaN</td>\n",
        "      <td>-0.006274</td>\n",
        "      <td>NaN</td>\n",
        "      <td>-0.011881</td>\n",
        "      <td>0.000000</td>\n",
        "      <td>7046476.0</td>\n",
        "      <td>0.0</td>\n",
        "      <td>1.000000</td>\n",
        "      <td>-0.006274</td>\n",
        "      <td>NaN</td>\n",
        "      <td>0.015111</td>\n",
        "      <td>1.0</td>\n",
        "      <td>108113.0</td>\n",
        "      <td>0.0</td>\n",
        "      <td>0.000000</td>\n",
        "    </tr>\n",
        "    <tr>\n",
        "      <th>0_to_30</th>\n",
        "      <td>0.957921</td>\n",
        "      <td>0.019966</td>\n",
        "      <td>0.0</td>\n",
        "      <td>0.957903</td>\n",
        "      <td>0.957903</td>\n",
        "      <td>-0.009003</td>\n",
        "      <td>0.098281</td>\n",
        "      <td>0.001938</td>\n",
        "      <td>0.010084</td>\n",
        "      <td>6853400.0</td>\n",
        "      <td>3068.0</td>\n",
        "      <td>0.989916</td>\n",
        "      <td>-0.009003</td>\n",
        "      <td>1.0</td>\n",
        "      <td>0.042097</td>\n",
        "      <td>1.0</td>\n",
        "      <td>301189.0</td>\n",
        "      <td>0.0</td>\n",
        "      <td>0.010084</td>\n",
        "    </tr>\n",
        "    <tr>\n",
        "      <th>0_to_31</th>\n",
        "      <td>0.983811</td>\n",
        "      <td>0.014916</td>\n",
        "      <td>0.0</td>\n",
        "      <td>0.983809</td>\n",
        "      <td>0.983809</td>\n",
        "      <td>-0.005148</td>\n",
        "      <td>0.085979</td>\n",
        "      <td>-0.002265</td>\n",
        "      <td>0.007514</td>\n",
        "      <td>7038750.0</td>\n",
        "      <td>877.0</td>\n",
        "      <td>0.992486</td>\n",
        "      <td>-0.005148</td>\n",
        "      <td>1.0</td>\n",
        "      <td>0.016191</td>\n",
        "      <td>1.0</td>\n",
        "      <td>115839.0</td>\n",
        "      <td>0.0</td>\n",
        "      <td>0.007514</td>\n",
        "    </tr>\n",
        "    <tr>\n",
        "      <th>0_to_32</th>\n",
        "      <td>0.964524</td>\n",
        "      <td>0.019615</td>\n",
        "      <td>0.0</td>\n",
        "      <td>0.964511</td>\n",
        "      <td>0.964511</td>\n",
        "      <td>-0.008172</td>\n",
        "      <td>0.097740</td>\n",
        "      <td>0.001413</td>\n",
        "      <td>0.009905</td>\n",
        "      <td>6900681.0</td>\n",
        "      <td>2540.0</td>\n",
        "      <td>0.990095</td>\n",
        "      <td>-0.008172</td>\n",
        "      <td>1.0</td>\n",
        "      <td>0.035489</td>\n",
        "      <td>1.0</td>\n",
        "      <td>253908.0</td>\n",
        "      <td>0.0</td>\n",
        "      <td>0.009905</td>\n",
        "    </tr>\n",
        "    <tr>\n",
        "      <th>0_to_33</th>\n",
        "      <td>0.989731</td>\n",
        "      <td>0.013375</td>\n",
        "      <td>0.0</td>\n",
        "      <td>0.989731</td>\n",
        "      <td>0.989731</td>\n",
        "      <td>-0.003998</td>\n",
        "      <td>0.081629</td>\n",
        "      <td>-0.002631</td>\n",
        "      <td>0.006732</td>\n",
        "      <td>7081116.0</td>\n",
        "      <td>498.0</td>\n",
        "      <td>0.993268</td>\n",
        "      <td>-0.003998</td>\n",
        "      <td>1.0</td>\n",
        "      <td>0.010269</td>\n",
        "      <td>1.0</td>\n",
        "      <td>73473.0</td>\n",
        "      <td>0.0</td>\n",
        "      <td>0.006732</td>\n",
        "    </tr>\n",
        "    <tr>\n",
        "      <th>0_to_34</th>\n",
        "      <td>0.962361</td>\n",
        "      <td>0.003368</td>\n",
        "      <td>0.0</td>\n",
        "      <td>0.962359</td>\n",
        "      <td>0.962359</td>\n",
        "      <td>-0.009268</td>\n",
        "      <td>0.040289</td>\n",
        "      <td>-0.015504</td>\n",
        "      <td>0.001687</td>\n",
        "      <td>6885282.0</td>\n",
        "      <td>455.0</td>\n",
        "      <td>0.998313</td>\n",
        "      <td>-0.009268</td>\n",
        "      <td>1.0</td>\n",
        "      <td>0.037641</td>\n",
        "      <td>1.0</td>\n",
        "      <td>269307.0</td>\n",
        "      <td>0.0</td>\n",
        "      <td>0.001687</td>\n",
        "    </tr>\n",
        "    <tr>\n",
        "      <th>0_to_35</th>\n",
        "      <td>0.948524</td>\n",
        "      <td>0.025434</td>\n",
        "      <td>0.0</td>\n",
        "      <td>0.948489</td>\n",
        "      <td>0.948489</td>\n",
        "      <td>-0.006879</td>\n",
        "      <td>0.110531</td>\n",
        "      <td>0.008998</td>\n",
        "      <td>0.012881</td>\n",
        "      <td>6786049.0</td>\n",
        "      <td>4809.0</td>\n",
        "      <td>0.987119</td>\n",
        "      <td>-0.006879</td>\n",
        "      <td>1.0</td>\n",
        "      <td>0.051511</td>\n",
        "      <td>1.0</td>\n",
        "      <td>368540.0</td>\n",
        "      <td>0.0</td>\n",
        "      <td>0.012881</td>\n",
        "    </tr>\n",
        "    <tr>\n",
        "      <th>0_to_36</th>\n",
        "      <td>0.971266</td>\n",
        "      <td>0.007070</td>\n",
        "      <td>0.0</td>\n",
        "      <td>0.971263</td>\n",
        "      <td>0.971263</td>\n",
        "      <td>-0.007890</td>\n",
        "      <td>0.058700</td>\n",
        "      <td>-0.010155</td>\n",
        "      <td>0.003548</td>\n",
        "      <td>6948986.0</td>\n",
        "      <td>732.0</td>\n",
        "      <td>0.996452</td>\n",
        "      <td>-0.007890</td>\n",
        "      <td>1.0</td>\n",
        "      <td>0.028737</td>\n",
        "      <td>1.0</td>\n",
        "      <td>205603.0</td>\n",
        "      <td>0.0</td>\n",
        "      <td>0.003548</td>\n",
        "    </tr>\n",
        "    <tr>\n",
        "      <th>0_to_37</th>\n",
        "      <td>0.937131</td>\n",
        "      <td>0.010881</td>\n",
        "      <td>0.0</td>\n",
        "      <td>0.937110</td>\n",
        "      <td>0.937110</td>\n",
        "      <td>-0.012160</td>\n",
        "      <td>0.071599</td>\n",
        "      <td>-0.010102</td>\n",
        "      <td>0.005470</td>\n",
        "      <td>6704634.0</td>\n",
        "      <td>2475.0</td>\n",
        "      <td>0.994530</td>\n",
        "      <td>-0.012160</td>\n",
        "      <td>1.0</td>\n",
        "      <td>0.062890</td>\n",
        "      <td>1.0</td>\n",
        "      <td>449955.0</td>\n",
        "      <td>0.0</td>\n",
        "      <td>0.005470</td>\n",
        "    </tr>\n",
        "    <tr>\n",
        "      <th>0_to_38</th>\n",
        "      <td>0.965285</td>\n",
        "      <td>0.009592</td>\n",
        "      <td>0.0</td>\n",
        "      <td>0.965279</td>\n",
        "      <td>0.965279</td>\n",
        "      <td>-0.008605</td>\n",
        "      <td>0.068206</td>\n",
        "      <td>-0.008684</td>\n",
        "      <td>0.004819</td>\n",
        "      <td>6906173.0</td>\n",
        "      <td>1203.0</td>\n",
        "      <td>0.995181</td>\n",
        "      <td>-0.008605</td>\n",
        "      <td>1.0</td>\n",
        "      <td>0.034721</td>\n",
        "      <td>1.0</td>\n",
        "      <td>248416.0</td>\n",
        "      <td>0.0</td>\n",
        "      <td>0.004819</td>\n",
        "    </tr>\n",
        "    <tr>\n",
        "      <th>0_to_39</th>\n",
        "      <td>0.989136</td>\n",
        "      <td>0.000000</td>\n",
        "      <td>NaN</td>\n",
        "      <td>0.989136</td>\n",
        "      <td>NaN</td>\n",
        "      <td>-0.004825</td>\n",
        "      <td>NaN</td>\n",
        "      <td>-0.010053</td>\n",
        "      <td>0.000000</td>\n",
        "      <td>7076860.0</td>\n",
        "      <td>0.0</td>\n",
        "      <td>1.000000</td>\n",
        "      <td>-0.004825</td>\n",
        "      <td>NaN</td>\n",
        "      <td>0.010864</td>\n",
        "      <td>1.0</td>\n",
        "      <td>77729.0</td>\n",
        "      <td>0.0</td>\n",
        "      <td>0.000000</td>\n",
        "    </tr>\n",
        "    <tr>\n",
        "      <th>0_to_4</th>\n",
        "      <td>0.976113</td>\n",
        "      <td>0.001017</td>\n",
        "      <td>0.0</td>\n",
        "      <td>0.976113</td>\n",
        "      <td>0.976113</td>\n",
        "      <td>-0.007801</td>\n",
        "      <td>0.022286</td>\n",
        "      <td>-0.014178</td>\n",
        "      <td>0.000509</td>\n",
        "      <td>6983686.0</td>\n",
        "      <td>87.0</td>\n",
        "      <td>0.999491</td>\n",
        "      <td>-0.007801</td>\n",
        "      <td>1.0</td>\n",
        "      <td>0.023887</td>\n",
        "      <td>1.0</td>\n",
        "      <td>170903.0</td>\n",
        "      <td>0.0</td>\n",
        "      <td>0.000509</td>\n",
        "    </tr>\n",
        "    <tr>\n",
        "      <th>0_to_40</th>\n",
        "      <td>0.974390</td>\n",
        "      <td>0.009695</td>\n",
        "      <td>0.0</td>\n",
        "      <td>0.974387</td>\n",
        "      <td>0.974387</td>\n",
        "      <td>-0.007021</td>\n",
        "      <td>0.068893</td>\n",
        "      <td>-0.007337</td>\n",
        "      <td>0.004871</td>\n",
        "      <td>6971335.0</td>\n",
        "      <td>897.0</td>\n",
        "      <td>0.995129</td>\n",
        "      <td>-0.007021</td>\n",
        "      <td>1.0</td>\n",
        "      <td>0.025613</td>\n",
        "      <td>1.0</td>\n",
        "      <td>183254.0</td>\n",
        "      <td>0.0</td>\n",
        "      <td>0.004871</td>\n",
        "    </tr>\n",
        "    <tr>\n",
        "      <th>0_to_41</th>\n",
        "      <td>0.990110</td>\n",
        "      <td>0.000509</td>\n",
        "      <td>0.0</td>\n",
        "      <td>0.990110</td>\n",
        "      <td>0.990110</td>\n",
        "      <td>-0.004438</td>\n",
        "      <td>0.015868</td>\n",
        "      <td>-0.009323</td>\n",
        "      <td>0.000254</td>\n",
        "      <td>7083831.0</td>\n",
        "      <td>18.0</td>\n",
        "      <td>0.999746</td>\n",
        "      <td>-0.004438</td>\n",
        "      <td>1.0</td>\n",
        "      <td>0.009890</td>\n",
        "      <td>1.0</td>\n",
        "      <td>70758.0</td>\n",
        "      <td>0.0</td>\n",
        "      <td>0.000254</td>\n",
        "    </tr>\n",
        "    <tr>\n",
        "      <th>0_to_42</th>\n",
        "      <td>0.978381</td>\n",
        "      <td>0.025681</td>\n",
        "      <td>0.0</td>\n",
        "      <td>0.978375</td>\n",
        "      <td>0.978375</td>\n",
        "      <td>-0.006247</td>\n",
        "      <td>0.112810</td>\n",
        "      <td>0.005938</td>\n",
        "      <td>0.013007</td>\n",
        "      <td>6999870.0</td>\n",
        "      <td>2039.0</td>\n",
        "      <td>0.986993</td>\n",
        "      <td>-0.006247</td>\n",
        "      <td>1.0</td>\n",
        "      <td>0.021625</td>\n",
        "      <td>1.0</td>\n",
        "      <td>154719.0</td>\n",
        "      <td>0.0</td>\n",
        "      <td>0.013007</td>\n",
        "    </tr>\n",
        "    <tr>\n",
        "      <th>0_to_43</th>\n",
        "      <td>0.982570</td>\n",
        "      <td>0.030136</td>\n",
        "      <td>0.0</td>\n",
        "      <td>0.982565</td>\n",
        "      <td>0.982565</td>\n",
        "      <td>-0.004460</td>\n",
        "      <td>0.122605</td>\n",
        "      <td>0.008533</td>\n",
        "      <td>0.015299</td>\n",
        "      <td>7029849.0</td>\n",
        "      <td>1938.0</td>\n",
        "      <td>0.984701</td>\n",
        "      <td>-0.004460</td>\n",
        "      <td>1.0</td>\n",
        "      <td>0.017435</td>\n",
        "      <td>1.0</td>\n",
        "      <td>124740.0</td>\n",
        "      <td>0.0</td>\n",
        "      <td>0.015299</td>\n",
        "    </tr>\n",
        "    <tr>\n",
        "      <th>0_to_44</th>\n",
        "      <td>0.988748</td>\n",
        "      <td>0.000794</td>\n",
        "      <td>0.0</td>\n",
        "      <td>0.988748</td>\n",
        "      <td>0.988748</td>\n",
        "      <td>-0.005492</td>\n",
        "      <td>0.019820</td>\n",
        "      <td>-0.009793</td>\n",
        "      <td>0.000397</td>\n",
        "      <td>7074082.0</td>\n",
        "      <td>32.0</td>\n",
        "      <td>0.999603</td>\n",
        "      <td>-0.005492</td>\n",
        "      <td>1.0</td>\n",
        "      <td>0.011252</td>\n",
        "      <td>1.0</td>\n",
        "      <td>80507.0</td>\n",
        "      <td>0.0</td>\n",
        "      <td>0.000397</td>\n",
        "    </tr>\n",
        "    <tr>\n",
        "      <th>0_to_45</th>\n",
        "      <td>0.982259</td>\n",
        "      <td>0.009983</td>\n",
        "      <td>0.0</td>\n",
        "      <td>0.982258</td>\n",
        "      <td>0.982258</td>\n",
        "      <td>-0.006501</td>\n",
        "      <td>0.070196</td>\n",
        "      <td>-0.005878</td>\n",
        "      <td>0.005016</td>\n",
        "      <td>7027650.0</td>\n",
        "      <td>640.0</td>\n",
        "      <td>0.994983</td>\n",
        "      <td>-0.006501</td>\n",
        "      <td>1.0</td>\n",
        "      <td>0.017742</td>\n",
        "      <td>1.0</td>\n",
        "      <td>126939.0</td>\n",
        "      <td>0.0</td>\n",
        "      <td>0.005016</td>\n",
        "    </tr>\n",
        "    <tr>\n",
        "      <th>0_to_46</th>\n",
        "      <td>0.980242</td>\n",
        "      <td>0.081357</td>\n",
        "      <td>0.0</td>\n",
        "      <td>0.980225</td>\n",
        "      <td>0.980225</td>\n",
        "      <td>0.001284</td>\n",
        "      <td>0.203875</td>\n",
        "      <td>0.050257</td>\n",
        "      <td>0.042404</td>\n",
        "      <td>7013107.0</td>\n",
        "      <td>6265.0</td>\n",
        "      <td>0.957596</td>\n",
        "      <td>0.001284</td>\n",
        "      <td>1.0</td>\n",
        "      <td>0.019775</td>\n",
        "      <td>1.0</td>\n",
        "      <td>141482.0</td>\n",
        "      <td>0.0</td>\n",
        "      <td>0.042404</td>\n",
        "    </tr>\n",
        "    <tr>\n",
        "      <th>0_to_47</th>\n",
        "      <td>0.976751</td>\n",
        "      <td>0.242354</td>\n",
        "      <td>0.0</td>\n",
        "      <td>0.976664</td>\n",
        "      <td>0.976664</td>\n",
        "      <td>0.083937</td>\n",
        "      <td>0.366971</td>\n",
        "      <td>0.223734</td>\n",
        "      <td>0.137885</td>\n",
        "      <td>6987631.0</td>\n",
        "      <td>26703.0</td>\n",
        "      <td>0.862115</td>\n",
        "      <td>0.083937</td>\n",
        "      <td>1.0</td>\n",
        "      <td>0.023336</td>\n",
        "      <td>1.0</td>\n",
        "      <td>166958.0</td>\n",
        "      <td>0.0</td>\n",
        "      <td>0.137885</td>\n",
        "    </tr>\n",
        "    <tr>\n",
        "      <th>0_to_48</th>\n",
        "      <td>0.962036</td>\n",
        "      <td>0.064809</td>\n",
        "      <td>0.0</td>\n",
        "      <td>0.961986</td>\n",
        "      <td>0.961986</td>\n",
        "      <td>-0.002952</td>\n",
        "      <td>0.179490</td>\n",
        "      <td>0.051224</td>\n",
        "      <td>0.033490</td>\n",
        "      <td>6882613.0</td>\n",
        "      <td>9424.0</td>\n",
        "      <td>0.966510</td>\n",
        "      <td>-0.002952</td>\n",
        "      <td>1.0</td>\n",
        "      <td>0.038014</td>\n",
        "      <td>1.0</td>\n",
        "      <td>271976.0</td>\n",
        "      <td>0.0</td>\n",
        "      <td>0.033490</td>\n",
        "    </tr>\n",
        "    <tr>\n",
        "      <th>0_to_49</th>\n",
        "      <td>0.946619</td>\n",
        "      <td>0.066080</td>\n",
        "      <td>0.0</td>\n",
        "      <td>0.946518</td>\n",
        "      <td>0.946518</td>\n",
        "      <td>-0.001742</td>\n",
        "      <td>0.179838</td>\n",
        "      <td>0.063003</td>\n",
        "      <td>0.034169</td>\n",
        "      <td>6771949.0</td>\n",
        "      <td>13537.0</td>\n",
        "      <td>0.965831</td>\n",
        "      <td>-0.001742</td>\n",
        "      <td>1.0</td>\n",
        "      <td>0.053482</td>\n",
        "      <td>1.0</td>\n",
        "      <td>382640.0</td>\n",
        "      <td>0.0</td>\n",
        "      <td>0.034169</td>\n",
        "    </tr>\n",
        "    <tr>\n",
        "      <th>0_to_5</th>\n",
        "      <td>0.975861</td>\n",
        "      <td>0.001376</td>\n",
        "      <td>0.0</td>\n",
        "      <td>0.975861</td>\n",
        "      <td>0.975861</td>\n",
        "      <td>-0.007159</td>\n",
        "      <td>0.025922</td>\n",
        "      <td>-0.013961</td>\n",
        "      <td>0.000689</td>\n",
        "      <td>6981881.0</td>\n",
        "      <td>119.0</td>\n",
        "      <td>0.999311</td>\n",
        "      <td>-0.007159</td>\n",
        "      <td>1.0</td>\n",
        "      <td>0.024139</td>\n",
        "      <td>1.0</td>\n",
        "      <td>172708.0</td>\n",
        "      <td>0.0</td>\n",
        "      <td>0.000689</td>\n",
        "    </tr>\n",
        "    <tr>\n",
        "      <th>0_to_50</th>\n",
        "      <td>0.978270</td>\n",
        "      <td>0.208244</td>\n",
        "      <td>0.0</td>\n",
        "      <td>0.978208</td>\n",
        "      <td>0.978208</td>\n",
        "      <td>0.048494</td>\n",
        "      <td>0.337180</td>\n",
        "      <td>0.177378</td>\n",
        "      <td>0.116223</td>\n",
        "      <td>6998674.0</td>\n",
        "      <td>20504.0</td>\n",
        "      <td>0.883777</td>\n",
        "      <td>0.048494</td>\n",
        "      <td>1.0</td>\n",
        "      <td>0.021792</td>\n",
        "      <td>1.0</td>\n",
        "      <td>155915.0</td>\n",
        "      <td>0.0</td>\n",
        "      <td>0.116223</td>\n",
        "    </tr>\n",
        "    <tr>\n",
        "      <th>0_to_6</th>\n",
        "      <td>0.973938</td>\n",
        "      <td>0.000729</td>\n",
        "      <td>0.0</td>\n",
        "      <td>0.973938</td>\n",
        "      <td>0.973938</td>\n",
        "      <td>-0.007744</td>\n",
        "      <td>0.018843</td>\n",
        "      <td>-0.015071</td>\n",
        "      <td>0.000365</td>\n",
        "      <td>6968123.0</td>\n",
        "      <td>68.0</td>\n",
        "      <td>0.999635</td>\n",
        "      <td>-0.007744</td>\n",
        "      <td>1.0</td>\n",
        "      <td>0.026062</td>\n",
        "      <td>1.0</td>\n",
        "      <td>186466.0</td>\n",
        "      <td>0.0</td>\n",
        "      <td>0.000365</td>\n",
        "    </tr>\n",
        "    <tr>\n",
        "      <th>0_to_7</th>\n",
        "      <td>0.961782</td>\n",
        "      <td>0.000651</td>\n",
        "      <td>0.0</td>\n",
        "      <td>0.961781</td>\n",
        "      <td>0.961781</td>\n",
        "      <td>-0.010213</td>\n",
        "      <td>0.017690</td>\n",
        "      <td>-0.018445</td>\n",
        "      <td>0.000325</td>\n",
        "      <td>6881148.0</td>\n",
        "      <td>89.0</td>\n",
        "      <td>0.999675</td>\n",
        "      <td>-0.010213</td>\n",
        "      <td>1.0</td>\n",
        "      <td>0.038219</td>\n",
        "      <td>1.0</td>\n",
        "      <td>273441.0</td>\n",
        "      <td>0.0</td>\n",
        "      <td>0.000325</td>\n",
        "    </tr>\n",
        "    <tr>\n",
        "      <th>0_to_8</th>\n",
        "      <td>0.938801</td>\n",
        "      <td>0.005875</td>\n",
        "      <td>0.0</td>\n",
        "      <td>0.938790</td>\n",
        "      <td>0.938790</td>\n",
        "      <td>-0.014200</td>\n",
        "      <td>0.052591</td>\n",
        "      <td>-0.016672</td>\n",
        "      <td>0.002946</td>\n",
        "      <td>6716657.0</td>\n",
        "      <td>1294.0</td>\n",
        "      <td>0.997054</td>\n",
        "      <td>-0.014200</td>\n",
        "      <td>1.0</td>\n",
        "      <td>0.061210</td>\n",
        "      <td>1.0</td>\n",
        "      <td>437932.0</td>\n",
        "      <td>0.0</td>\n",
        "      <td>0.002946</td>\n",
        "    </tr>\n",
        "    <tr>\n",
        "      <th>0_to_9</th>\n",
        "      <td>0.974487</td>\n",
        "      <td>0.000000</td>\n",
        "      <td>NaN</td>\n",
        "      <td>0.974487</td>\n",
        "      <td>NaN</td>\n",
        "      <td>-0.008087</td>\n",
        "      <td>NaN</td>\n",
        "      <td>-0.015519</td>\n",
        "      <td>0.000000</td>\n",
        "      <td>6972054.0</td>\n",
        "      <td>0.0</td>\n",
        "      <td>1.000000</td>\n",
        "      <td>-0.008087</td>\n",
        "      <td>NaN</td>\n",
        "      <td>0.025513</td>\n",
        "      <td>1.0</td>\n",
        "      <td>182535.0</td>\n",
        "      <td>0.0</td>\n",
        "      <td>0.000000</td>\n",
        "    </tr>\n",
        "  </tbody>\n",
        "</table>\n",
        "</div>"
       ],
       "metadata": {},
       "output_type": "pyout",
       "prompt_number": 25,
       "text": [
        "                val                                                         \\\n",
        "metric          ACC        F1  FNR       TNR        BM  corr_thr       MCC   \n",
        "structure                                                                    \n",
        "0_to_1     0.977526  0.000721  0.0  0.977526  0.977526 -0.007156  0.018774   \n",
        "0_to_10    0.960443  0.006424  0.0  0.960438  0.960438 -0.010794  0.055631   \n",
        "0_to_11    0.977819  0.044277  0.0  0.977807  0.977807 -0.004460  0.148785   \n",
        "0_to_12    0.986509  0.000000  NaN  0.986509       NaN -0.005991       NaN   \n",
        "0_to_13    0.981996  0.000124  0.0  0.981996  0.981996 -0.006894  0.007809   \n",
        "0_to_14    0.981792  0.005754  0.0  0.981791  0.981791 -0.006887  0.053226   \n",
        "0_to_15    0.982518  0.011225  0.0  0.982516  0.982516 -0.005507  0.074467   \n",
        "0_to_16    0.966161  0.028126  0.0  0.966144  0.966144 -0.007620  0.117391   \n",
        "0_to_17    0.969650  0.008356  0.0  0.969646  0.969646 -0.008805  0.063783   \n",
        "0_to_18    0.937769  0.036686  0.0  0.937695  0.937695 -0.004445  0.132368   \n",
        "0_to_19    0.949442  0.032755  0.0  0.949398  0.949398 -0.008622  0.125729   \n",
        "0_to_2     0.982351  0.000000  NaN  0.982351       NaN -0.006291       NaN   \n",
        "0_to_20    0.949438  0.057451  0.0  0.949360  0.949360  0.002156  0.167564   \n",
        "0_to_21    0.980765  0.004456  0.0  0.980764  0.980764 -0.007236  0.046797   \n",
        "0_to_22    0.975974  0.002229  0.0  0.975973  0.975973 -0.008307  0.032998   \n",
        "0_to_23    0.964924  0.008618  0.0  0.964918  0.964918 -0.009853  0.064622   \n",
        "0_to_24    0.970015  0.001703  0.0  0.970014  0.970014 -0.008978  0.028753   \n",
        "0_to_25    0.969408  0.001760  0.0  0.969407  0.969407 -0.008965  0.029224   \n",
        "0_to_26    0.981198  0.003747  0.0  0.981198  0.981198 -0.006182  0.042917   \n",
        "0_to_27    0.987582  0.006664  0.0  0.987582  0.987582 -0.004908  0.057458   \n",
        "0_to_28    0.985510  0.000482  0.0  0.985510  0.985510 -0.005623  0.015414   \n",
        "0_to_29    0.962598  0.018703  0.0  0.962585  0.962585 -0.008609  0.095324   \n",
        "0_to_3     0.984889  0.000000  NaN  0.984889       NaN -0.006274       NaN   \n",
        "0_to_30    0.957921  0.019966  0.0  0.957903  0.957903 -0.009003  0.098281   \n",
        "0_to_31    0.983811  0.014916  0.0  0.983809  0.983809 -0.005148  0.085979   \n",
        "0_to_32    0.964524  0.019615  0.0  0.964511  0.964511 -0.008172  0.097740   \n",
        "0_to_33    0.989731  0.013375  0.0  0.989731  0.989731 -0.003998  0.081629   \n",
        "0_to_34    0.962361  0.003368  0.0  0.962359  0.962359 -0.009268  0.040289   \n",
        "0_to_35    0.948524  0.025434  0.0  0.948489  0.948489 -0.006879  0.110531   \n",
        "0_to_36    0.971266  0.007070  0.0  0.971263  0.971263 -0.007890  0.058700   \n",
        "0_to_37    0.937131  0.010881  0.0  0.937110  0.937110 -0.012160  0.071599   \n",
        "0_to_38    0.965285  0.009592  0.0  0.965279  0.965279 -0.008605  0.068206   \n",
        "0_to_39    0.989136  0.000000  NaN  0.989136       NaN -0.004825       NaN   \n",
        "0_to_4     0.976113  0.001017  0.0  0.976113  0.976113 -0.007801  0.022286   \n",
        "0_to_40    0.974390  0.009695  0.0  0.974387  0.974387 -0.007021  0.068893   \n",
        "0_to_41    0.990110  0.000509  0.0  0.990110  0.990110 -0.004438  0.015868   \n",
        "0_to_42    0.978381  0.025681  0.0  0.978375  0.978375 -0.006247  0.112810   \n",
        "0_to_43    0.982570  0.030136  0.0  0.982565  0.982565 -0.004460  0.122605   \n",
        "0_to_44    0.988748  0.000794  0.0  0.988748  0.988748 -0.005492  0.019820   \n",
        "0_to_45    0.982259  0.009983  0.0  0.982258  0.982258 -0.006501  0.070196   \n",
        "0_to_46    0.980242  0.081357  0.0  0.980225  0.980225  0.001284  0.203875   \n",
        "0_to_47    0.976751  0.242354  0.0  0.976664  0.976664  0.083937  0.366971   \n",
        "0_to_48    0.962036  0.064809  0.0  0.961986  0.961986 -0.002952  0.179490   \n",
        "0_to_49    0.946619  0.066080  0.0  0.946518  0.946518 -0.001742  0.179838   \n",
        "0_to_5     0.975861  0.001376  0.0  0.975861  0.975861 -0.007159  0.025922   \n",
        "0_to_50    0.978270  0.208244  0.0  0.978208  0.978208  0.048494  0.337180   \n",
        "0_to_6     0.973938  0.000729  0.0  0.973938  0.973938 -0.007744  0.018843   \n",
        "0_to_7     0.961782  0.000651  0.0  0.961781  0.961781 -0.010213  0.017690   \n",
        "0_to_8     0.938801  0.005875  0.0  0.938790  0.938790 -0.014200  0.052591   \n",
        "0_to_9     0.974487  0.000000  NaN  0.974487       NaN -0.008087       NaN   \n",
        "\n",
        "                                                                               \\\n",
        "metric    corr_thrbin        MK         TN       TP       FDR corr_nothr  TPR   \n",
        "structure                                                                       \n",
        "0_to_1      -0.013976  0.000361  6993794.0     58.0  0.999639  -0.007156  1.0   \n",
        "0_to_10     -0.012669  0.003222  6871541.0    915.0  0.996778  -0.010794  1.0   \n",
        "0_to_11      0.021352  0.022640  6995808.0   3678.0  0.977360  -0.004460  1.0   \n",
        "0_to_12     -0.011217  0.000000  7058069.0      0.0  1.000000  -0.005991  NaN   \n",
        "0_to_13     -0.012900  0.000062  7025775.0      8.0  0.999938  -0.006894  1.0   \n",
        "0_to_14     -0.008979  0.002886  7024313.0    377.0  0.997114  -0.006887  1.0   \n",
        "0_to_15     -0.004961  0.005644  7029501.0    710.0  0.994356  -0.005507  1.0   \n",
        "0_to_16      0.009951  0.014264  6912363.0   3505.0  0.985736  -0.007620  1.0   \n",
        "0_to_17     -0.009252  0.004196  6937419.0    915.0  0.995804  -0.008805  1.0   \n",
        "0_to_18      0.025736  0.018686  6708823.0   8488.0  0.981314  -0.004445  1.0   \n",
        "0_to_19      0.018082  0.016650  6792555.0   6130.0  0.983350  -0.008622  1.0   \n",
        "0_to_2      -0.012856  0.000000  7028321.0      0.0  1.000000  -0.006291  NaN   \n",
        "0_to_20      0.049825  0.029575  6792278.0  11042.0  0.970425   0.002156  1.0   \n",
        "0_to_21     -0.010185  0.002233  7016961.0    308.0  0.997767  -0.007236  1.0   \n",
        "0_to_22     -0.013232  0.001116  6982686.0    192.0  0.998884  -0.008307  1.0   \n",
        "0_to_23     -0.009708  0.004328  6903594.0   1091.0  0.995672  -0.009853  1.0   \n",
        "0_to_24     -0.015308  0.000852  6940053.0    183.0  0.999148  -0.008978  1.0   \n",
        "0_to_25     -0.015414  0.000881  6935712.0    193.0  0.999119  -0.008965  1.0   \n",
        "0_to_26     -0.010579  0.001877  7020066.0    253.0  0.998123  -0.006182  1.0   \n",
        "0_to_27     -0.006860  0.003343  7065743.0    298.0  0.996657  -0.004908  1.0   \n",
        "0_to_28     -0.011327  0.000241  7050921.0     25.0  0.999759  -0.005623  1.0   \n",
        "0_to_29      0.000492  0.009440  6886901.0   2551.0  0.990560  -0.008609  1.0   \n",
        "0_to_3      -0.011881  0.000000  7046476.0      0.0  1.000000  -0.006274  NaN   \n",
        "0_to_30      0.001938  0.010084  6853400.0   3068.0  0.989916  -0.009003  1.0   \n",
        "0_to_31     -0.002265  0.007514  7038750.0    877.0  0.992486  -0.005148  1.0   \n",
        "0_to_32      0.001413  0.009905  6900681.0   2540.0  0.990095  -0.008172  1.0   \n",
        "0_to_33     -0.002631  0.006732  7081116.0    498.0  0.993268  -0.003998  1.0   \n",
        "0_to_34     -0.015504  0.001687  6885282.0    455.0  0.998313  -0.009268  1.0   \n",
        "0_to_35      0.008998  0.012881  6786049.0   4809.0  0.987119  -0.006879  1.0   \n",
        "0_to_36     -0.010155  0.003548  6948986.0    732.0  0.996452  -0.007890  1.0   \n",
        "0_to_37     -0.010102  0.005470  6704634.0   2475.0  0.994530  -0.012160  1.0   \n",
        "0_to_38     -0.008684  0.004819  6906173.0   1203.0  0.995181  -0.008605  1.0   \n",
        "0_to_39     -0.010053  0.000000  7076860.0      0.0  1.000000  -0.004825  NaN   \n",
        "0_to_4      -0.014178  0.000509  6983686.0     87.0  0.999491  -0.007801  1.0   \n",
        "0_to_40     -0.007337  0.004871  6971335.0    897.0  0.995129  -0.007021  1.0   \n",
        "0_to_41     -0.009323  0.000254  7083831.0     18.0  0.999746  -0.004438  1.0   \n",
        "0_to_42      0.005938  0.013007  6999870.0   2039.0  0.986993  -0.006247  1.0   \n",
        "0_to_43      0.008533  0.015299  7029849.0   1938.0  0.984701  -0.004460  1.0   \n",
        "0_to_44     -0.009793  0.000397  7074082.0     32.0  0.999603  -0.005492  1.0   \n",
        "0_to_45     -0.005878  0.005016  7027650.0    640.0  0.994983  -0.006501  1.0   \n",
        "0_to_46      0.050257  0.042404  7013107.0   6265.0  0.957596   0.001284  1.0   \n",
        "0_to_47      0.223734  0.137885  6987631.0  26703.0  0.862115   0.083937  1.0   \n",
        "0_to_48      0.051224  0.033490  6882613.0   9424.0  0.966510  -0.002952  1.0   \n",
        "0_to_49      0.063003  0.034169  6771949.0  13537.0  0.965831  -0.001742  1.0   \n",
        "0_to_5      -0.013961  0.000689  6981881.0    119.0  0.999311  -0.007159  1.0   \n",
        "0_to_50      0.177378  0.116223  6998674.0  20504.0  0.883777   0.048494  1.0   \n",
        "0_to_6      -0.015071  0.000365  6968123.0     68.0  0.999635  -0.007744  1.0   \n",
        "0_to_7      -0.018445  0.000325  6881148.0     89.0  0.999675  -0.010213  1.0   \n",
        "0_to_8      -0.016672  0.002946  6716657.0   1294.0  0.997054  -0.014200  1.0   \n",
        "0_to_9      -0.015519  0.000000  6972054.0      0.0  1.000000  -0.008087  NaN   \n",
        "\n",
        "                                                   \n",
        "metric          FPR  NPV        FP   FN       PPV  \n",
        "structure                                          \n",
        "0_to_1     0.022474  1.0  160795.0  0.0  0.000361  \n",
        "0_to_10    0.039562  1.0  283048.0  0.0  0.003222  \n",
        "0_to_11    0.022193  1.0  158781.0  0.0  0.022640  \n",
        "0_to_12    0.013491  1.0   96520.0  0.0  0.000000  \n",
        "0_to_13    0.018004  1.0  128814.0  0.0  0.000062  \n",
        "0_to_14    0.018209  1.0  130276.0  0.0  0.002886  \n",
        "0_to_15    0.017484  1.0  125088.0  0.0  0.005644  \n",
        "0_to_16    0.033856  1.0  242226.0  0.0  0.014264  \n",
        "0_to_17    0.030354  1.0  217170.0  0.0  0.004196  \n",
        "0_to_18    0.062305  1.0  445766.0  0.0  0.018686  \n",
        "0_to_19    0.050602  1.0  362034.0  0.0  0.016650  \n",
        "0_to_2     0.017649  1.0  126268.0  0.0  0.000000  \n",
        "0_to_20    0.050640  1.0  362311.0  0.0  0.029575  \n",
        "0_to_21    0.019236  1.0  137628.0  0.0  0.002233  \n",
        "0_to_22    0.024027  1.0  171903.0  0.0  0.001116  \n",
        "0_to_23    0.035082  1.0  250995.0  0.0  0.004328  \n",
        "0_to_24    0.029986  1.0  214536.0  0.0  0.000852  \n",
        "0_to_25    0.030593  1.0  218877.0  0.0  0.000881  \n",
        "0_to_26    0.018802  1.0  134523.0  0.0  0.001877  \n",
        "0_to_27    0.012418  1.0   88846.0  0.0  0.003343  \n",
        "0_to_28    0.014490  1.0  103668.0  0.0  0.000241  \n",
        "0_to_29    0.037415  1.0  267688.0  0.0  0.009440  \n",
        "0_to_3     0.015111  1.0  108113.0  0.0  0.000000  \n",
        "0_to_30    0.042097  1.0  301189.0  0.0  0.010084  \n",
        "0_to_31    0.016191  1.0  115839.0  0.0  0.007514  \n",
        "0_to_32    0.035489  1.0  253908.0  0.0  0.009905  \n",
        "0_to_33    0.010269  1.0   73473.0  0.0  0.006732  \n",
        "0_to_34    0.037641  1.0  269307.0  0.0  0.001687  \n",
        "0_to_35    0.051511  1.0  368540.0  0.0  0.012881  \n",
        "0_to_36    0.028737  1.0  205603.0  0.0  0.003548  \n",
        "0_to_37    0.062890  1.0  449955.0  0.0  0.005470  \n",
        "0_to_38    0.034721  1.0  248416.0  0.0  0.004819  \n",
        "0_to_39    0.010864  1.0   77729.0  0.0  0.000000  \n",
        "0_to_4     0.023887  1.0  170903.0  0.0  0.000509  \n",
        "0_to_40    0.025613  1.0  183254.0  0.0  0.004871  \n",
        "0_to_41    0.009890  1.0   70758.0  0.0  0.000254  \n",
        "0_to_42    0.021625  1.0  154719.0  0.0  0.013007  \n",
        "0_to_43    0.017435  1.0  124740.0  0.0  0.015299  \n",
        "0_to_44    0.011252  1.0   80507.0  0.0  0.000397  \n",
        "0_to_45    0.017742  1.0  126939.0  0.0  0.005016  \n",
        "0_to_46    0.019775  1.0  141482.0  0.0  0.042404  \n",
        "0_to_47    0.023336  1.0  166958.0  0.0  0.137885  \n",
        "0_to_48    0.038014  1.0  271976.0  0.0  0.033490  \n",
        "0_to_49    0.053482  1.0  382640.0  0.0  0.034169  \n",
        "0_to_5     0.024139  1.0  172708.0  0.0  0.000689  \n",
        "0_to_50    0.021792  1.0  155915.0  0.0  0.116223  \n",
        "0_to_6     0.026062  1.0  186466.0  0.0  0.000365  \n",
        "0_to_7     0.038219  1.0  273441.0  0.0  0.000325  \n",
        "0_to_8     0.061210  1.0  437932.0  0.0  0.002946  \n",
        "0_to_9     0.025513  1.0  182535.0  0.0  0.000000  "
       ]
      }
     ],
     "prompt_number": 25
    },
    {
     "cell_type": "code",
     "collapsed": false,
     "input": [
      "# now time it"
     ],
     "language": "python",
     "metadata": {},
     "outputs": []
    },
    {
     "cell_type": "code",
     "collapsed": false,
     "input": [
      "# now go back through and tidy everything the fuck up"
     ],
     "language": "python",
     "metadata": {},
     "outputs": []
    },
    {
     "cell_type": "code",
     "collapsed": false,
     "input": [
      "# and check that it's working properly"
     ],
     "language": "python",
     "metadata": {},
     "outputs": []
    },
    {
     "cell_type": "code",
     "collapsed": false,
     "input": [
      "# then: connectome modification from this"
     ],
     "language": "python",
     "metadata": {},
     "outputs": []
    },
    {
     "cell_type": "code",
     "collapsed": false,
     "input": [
      "# have that slick by the end of the day"
     ],
     "language": "python",
     "metadata": {},
     "outputs": []
    },
    {
     "cell_type": "code",
     "collapsed": false,
     "input": [
      "# add in multiproc / joblib (check how mne uses joblib?)"
     ],
     "language": "python",
     "metadata": {},
     "outputs": []
    },
    {
     "cell_type": "code",
     "collapsed": false,
     "input": [
      "# consider the v2 lookup that opens each volume once"
     ],
     "language": "python",
     "metadata": {},
     "outputs": []
    },
    {
     "cell_type": "code",
     "collapsed": false,
     "input": [
      "# switch the atlas to be using the concat v1 version"
     ],
     "language": "python",
     "metadata": {},
     "outputs": []
    },
    {
     "cell_type": "code",
     "collapsed": false,
     "input": [],
     "language": "python",
     "metadata": {},
     "outputs": []
    },
    {
     "cell_type": "code",
     "collapsed": false,
     "input": [],
     "language": "python",
     "metadata": {},
     "outputs": []
    },
    {
     "cell_type": "code",
     "collapsed": false,
     "input": [],
     "language": "python",
     "metadata": {},
     "outputs": []
    },
    {
     "cell_type": "code",
     "collapsed": false,
     "input": [],
     "language": "python",
     "metadata": {},
     "outputs": []
    },
    {
     "cell_type": "code",
     "collapsed": false,
     "input": [],
     "language": "python",
     "metadata": {},
     "outputs": []
    },
    {
     "cell_type": "code",
     "collapsed": false,
     "input": [],
     "language": "python",
     "metadata": {},
     "outputs": []
    },
    {
     "cell_type": "code",
     "collapsed": false,
     "input": [],
     "language": "python",
     "metadata": {},
     "outputs": []
    },
    {
     "cell_type": "code",
     "collapsed": false,
     "input": [],
     "language": "python",
     "metadata": {},
     "outputs": []
    },
    {
     "cell_type": "code",
     "collapsed": false,
     "input": [],
     "language": "python",
     "metadata": {},
     "outputs": []
    },
    {
     "cell_type": "code",
     "collapsed": false,
     "input": [],
     "language": "python",
     "metadata": {},
     "outputs": []
    },
    {
     "cell_type": "code",
     "collapsed": false,
     "input": [],
     "language": "python",
     "metadata": {},
     "outputs": []
    },
    {
     "cell_type": "code",
     "collapsed": false,
     "input": [
      "%time res = va.compute_hit_stats(test_file,idxs,readwith='indexgzip')"
     ],
     "language": "python",
     "metadata": {
      "run_control": {
       "state": "n"
      }
     },
     "outputs": [
      {
       "output_type": "stream",
       "stream": "stdout",
       "text": [
        "computing hit stats for roi test_lesionmask_rs1mm.nii.gz\n",
        "CPU times: user 10 s, sys: 2.15 s, total: 12.2 s"
       ]
      },
      {
       "output_type": "stream",
       "stream": "stdout",
       "text": [
        "\n",
        "Wall time: 15.1 s\n"
       ]
      },
      {
       "output_type": "stream",
       "stream": "stderr",
       "text": [
        "/media/sf_SharedFolder/Code/libraries_of_mine/github/ConWhAt/ConWhAt/base/hit_stats.py:22: RuntimeWarning: invalid value encountered in divide\n",
        "  TPR = TP / (TP + FN)\n",
        "/media/sf_SharedFolder/Code/libraries_of_mine/github/ConWhAt/ConWhAt/base/hit_stats.py:40: RuntimeWarning: invalid value encountered in divide\n",
        "  FNR = FN / (FN + TP)\n",
        "/media/sf_SharedFolder/Code/libraries_of_mine/github/ConWhAt/ConWhAt/base/hit_stats.py:49: RuntimeWarning: invalid value encountered in double_scalars\n",
        "  MCC = (TP*TN - FP*FN) / (np.sqrt((TP + FP)*(TP+FN)*(TN+FP)*(TN+FN)))\n"
       ]
      }
     ],
     "prompt_number": 10
    },
    {
     "cell_type": "code",
     "collapsed": false,
     "input": [
      "%time res = va.compute_hit_stats(test_file,idxs,readwith='index_img')"
     ],
     "language": "python",
     "metadata": {
      "run_control": {
       "state": "n"
      }
     },
     "outputs": [
      {
       "output_type": "stream",
       "stream": "stdout",
       "text": [
        "computing hit stats for roi test_lesionmask_rs1mm.nii.gz\n"
       ]
      },
      {
       "ename": "MemoryError",
       "evalue": "",
       "output_type": "pyerr",
       "traceback": [
        "\u001b[1;31m---------------------------------------------------------------------------\u001b[0m\n\u001b[1;31mMemoryError\u001b[0m                               Traceback (most recent call last)",
        "\u001b[1;32m<ipython-input-11-e3e05514dbe1>\u001b[0m in \u001b[0;36m<module>\u001b[1;34m()\u001b[0m\n\u001b[1;32m----> 1\u001b[1;33m \u001b[0mget_ipython\u001b[0m\u001b[1;33m(\u001b[0m\u001b[1;33m)\u001b[0m\u001b[1;33m.\u001b[0m\u001b[0mmagic\u001b[0m\u001b[1;33m(\u001b[0m\u001b[1;34mu\"time res = va.compute_hit_stats(test_file,idxs,readwith='index_img')\"\u001b[0m\u001b[1;33m)\u001b[0m\u001b[1;33m\u001b[0m\u001b[0m\n\u001b[0m",
        "\u001b[1;32m/home/john/Software/anaconda/envs/_ipython2.4/lib/python2.7/site-packages/IPython/core/interactiveshell.pyc\u001b[0m in \u001b[0;36mmagic\u001b[1;34m(self, arg_s)\u001b[0m\n\u001b[0;32m   2203\u001b[0m         \u001b[0mmagic_name\u001b[0m\u001b[1;33m,\u001b[0m \u001b[0m_\u001b[0m\u001b[1;33m,\u001b[0m \u001b[0mmagic_arg_s\u001b[0m \u001b[1;33m=\u001b[0m \u001b[0marg_s\u001b[0m\u001b[1;33m.\u001b[0m\u001b[0mpartition\u001b[0m\u001b[1;33m(\u001b[0m\u001b[1;34m' '\u001b[0m\u001b[1;33m)\u001b[0m\u001b[1;33m\u001b[0m\u001b[0m\n\u001b[0;32m   2204\u001b[0m         \u001b[0mmagic_name\u001b[0m \u001b[1;33m=\u001b[0m \u001b[0mmagic_name\u001b[0m\u001b[1;33m.\u001b[0m\u001b[0mlstrip\u001b[0m\u001b[1;33m(\u001b[0m\u001b[0mprefilter\u001b[0m\u001b[1;33m.\u001b[0m\u001b[0mESC_MAGIC\u001b[0m\u001b[1;33m)\u001b[0m\u001b[1;33m\u001b[0m\u001b[0m\n\u001b[1;32m-> 2205\u001b[1;33m         \u001b[1;32mreturn\u001b[0m \u001b[0mself\u001b[0m\u001b[1;33m.\u001b[0m\u001b[0mrun_line_magic\u001b[0m\u001b[1;33m(\u001b[0m\u001b[0mmagic_name\u001b[0m\u001b[1;33m,\u001b[0m \u001b[0mmagic_arg_s\u001b[0m\u001b[1;33m)\u001b[0m\u001b[1;33m\u001b[0m\u001b[0m\n\u001b[0m\u001b[0;32m   2206\u001b[0m \u001b[1;33m\u001b[0m\u001b[0m\n\u001b[0;32m   2207\u001b[0m     \u001b[1;31m#-------------------------------------------------------------------------\u001b[0m\u001b[1;33m\u001b[0m\u001b[1;33m\u001b[0m\u001b[0m\n",
        "\u001b[1;32m/home/john/Software/anaconda/envs/_ipython2.4/lib/python2.7/site-packages/IPython/core/interactiveshell.pyc\u001b[0m in \u001b[0;36mrun_line_magic\u001b[1;34m(self, magic_name, line)\u001b[0m\n\u001b[0;32m   2124\u001b[0m                 \u001b[0mkwargs\u001b[0m\u001b[1;33m[\u001b[0m\u001b[1;34m'local_ns'\u001b[0m\u001b[1;33m]\u001b[0m \u001b[1;33m=\u001b[0m \u001b[0msys\u001b[0m\u001b[1;33m.\u001b[0m\u001b[0m_getframe\u001b[0m\u001b[1;33m(\u001b[0m\u001b[0mstack_depth\u001b[0m\u001b[1;33m)\u001b[0m\u001b[1;33m.\u001b[0m\u001b[0mf_locals\u001b[0m\u001b[1;33m\u001b[0m\u001b[0m\n\u001b[0;32m   2125\u001b[0m             \u001b[1;32mwith\u001b[0m \u001b[0mself\u001b[0m\u001b[1;33m.\u001b[0m\u001b[0mbuiltin_trap\u001b[0m\u001b[1;33m:\u001b[0m\u001b[1;33m\u001b[0m\u001b[0m\n\u001b[1;32m-> 2126\u001b[1;33m                 \u001b[0mresult\u001b[0m \u001b[1;33m=\u001b[0m \u001b[0mfn\u001b[0m\u001b[1;33m(\u001b[0m\u001b[1;33m*\u001b[0m\u001b[0margs\u001b[0m\u001b[1;33m,\u001b[0m\u001b[1;33m**\u001b[0m\u001b[0mkwargs\u001b[0m\u001b[1;33m)\u001b[0m\u001b[1;33m\u001b[0m\u001b[0m\n\u001b[0m\u001b[0;32m   2127\u001b[0m             \u001b[1;32mreturn\u001b[0m \u001b[0mresult\u001b[0m\u001b[1;33m\u001b[0m\u001b[0m\n\u001b[0;32m   2128\u001b[0m \u001b[1;33m\u001b[0m\u001b[0m\n",
        "\u001b[1;32m<decorator-gen-60>\u001b[0m in \u001b[0;36mtime\u001b[1;34m(self, line, cell, local_ns)\u001b[0m\n",
        "\u001b[1;32m/home/john/Software/anaconda/envs/_ipython2.4/lib/python2.7/site-packages/IPython/core/magic.pyc\u001b[0m in \u001b[0;36m<lambda>\u001b[1;34m(f, *a, **k)\u001b[0m\n\u001b[0;32m    191\u001b[0m     \u001b[1;31m# but it's overkill for just that one bit of state.\u001b[0m\u001b[1;33m\u001b[0m\u001b[1;33m\u001b[0m\u001b[0m\n\u001b[0;32m    192\u001b[0m     \u001b[1;32mdef\u001b[0m \u001b[0mmagic_deco\u001b[0m\u001b[1;33m(\u001b[0m\u001b[0marg\u001b[0m\u001b[1;33m)\u001b[0m\u001b[1;33m:\u001b[0m\u001b[1;33m\u001b[0m\u001b[0m\n\u001b[1;32m--> 193\u001b[1;33m         \u001b[0mcall\u001b[0m \u001b[1;33m=\u001b[0m \u001b[1;32mlambda\u001b[0m \u001b[0mf\u001b[0m\u001b[1;33m,\u001b[0m \u001b[1;33m*\u001b[0m\u001b[0ma\u001b[0m\u001b[1;33m,\u001b[0m \u001b[1;33m**\u001b[0m\u001b[0mk\u001b[0m\u001b[1;33m:\u001b[0m \u001b[0mf\u001b[0m\u001b[1;33m(\u001b[0m\u001b[1;33m*\u001b[0m\u001b[0ma\u001b[0m\u001b[1;33m,\u001b[0m \u001b[1;33m**\u001b[0m\u001b[0mk\u001b[0m\u001b[1;33m)\u001b[0m\u001b[1;33m\u001b[0m\u001b[0m\n\u001b[0m\u001b[0;32m    194\u001b[0m \u001b[1;33m\u001b[0m\u001b[0m\n\u001b[0;32m    195\u001b[0m         \u001b[1;32mif\u001b[0m \u001b[0mcallable\u001b[0m\u001b[1;33m(\u001b[0m\u001b[0marg\u001b[0m\u001b[1;33m)\u001b[0m\u001b[1;33m:\u001b[0m\u001b[1;33m\u001b[0m\u001b[0m\n",
        "\u001b[1;32m/home/john/Software/anaconda/envs/_ipython2.4/lib/python2.7/site-packages/IPython/core/magics/execution.pyc\u001b[0m in \u001b[0;36mtime\u001b[1;34m(self, line, cell, local_ns)\u001b[0m\n\u001b[0;32m   1127\u001b[0m         \u001b[1;32melse\u001b[0m\u001b[1;33m:\u001b[0m\u001b[1;33m\u001b[0m\u001b[0m\n\u001b[0;32m   1128\u001b[0m             \u001b[0mst\u001b[0m \u001b[1;33m=\u001b[0m \u001b[0mclock2\u001b[0m\u001b[1;33m(\u001b[0m\u001b[1;33m)\u001b[0m\u001b[1;33m\u001b[0m\u001b[0m\n\u001b[1;32m-> 1129\u001b[1;33m             \u001b[1;32mexec\u001b[0m\u001b[1;33m(\u001b[0m\u001b[0mcode\u001b[0m\u001b[1;33m,\u001b[0m \u001b[0mglob\u001b[0m\u001b[1;33m,\u001b[0m \u001b[0mlocal_ns\u001b[0m\u001b[1;33m)\u001b[0m\u001b[1;33m\u001b[0m\u001b[0m\n\u001b[0m\u001b[0;32m   1130\u001b[0m             \u001b[0mend\u001b[0m \u001b[1;33m=\u001b[0m \u001b[0mclock2\u001b[0m\u001b[1;33m(\u001b[0m\u001b[1;33m)\u001b[0m\u001b[1;33m\u001b[0m\u001b[0m\n\u001b[0;32m   1131\u001b[0m             \u001b[0mout\u001b[0m \u001b[1;33m=\u001b[0m \u001b[0mNone\u001b[0m\u001b[1;33m\u001b[0m\u001b[0m\n",
        "\u001b[1;32m<timed exec>\u001b[0m in \u001b[0;36m<module>\u001b[1;34m()\u001b[0m\n",
        "\u001b[1;32m/media/sf_SharedFolder/Code/libraries_of_mine/github/ConWhAt/ConWhAt/volumetric/atlas_volumetric.pyc\u001b[0m in \u001b[0;36mcompute_hit_stats\u001b[1;34m(self, roi_file, idxs, readwith)\u001b[0m\n\u001b[0;32m     72\u001b[0m \u001b[1;33m\u001b[0m\u001b[0m\n\u001b[0;32m     73\u001b[0m       \u001b[1;32mif\u001b[0m \u001b[0mreadwith\u001b[0m\u001b[1;33m==\u001b[0m\u001b[1;34m'index_img'\u001b[0m\u001b[1;33m:\u001b[0m\u001b[1;33m\u001b[0m\u001b[0m\n\u001b[1;32m---> 74\u001b[1;33m         \u001b[0mcnxn_img\u001b[0m \u001b[1;33m=\u001b[0m \u001b[0mindex_img\u001b[0m\u001b[1;33m(\u001b[0m\u001b[0m_file\u001b[0m\u001b[1;33m,\u001b[0m\u001b[0m_vol\u001b[0m\u001b[1;33m)\u001b[0m\u001b[1;33m\u001b[0m\u001b[0m\n\u001b[0m\u001b[0;32m     75\u001b[0m         \u001b[0mcnxn_dat\u001b[0m \u001b[1;33m=\u001b[0m \u001b[0mcnxn_img\u001b[0m\u001b[1;33m.\u001b[0m\u001b[0mget_data\u001b[0m\u001b[1;33m(\u001b[0m\u001b[1;33m)\u001b[0m\u001b[1;33m\u001b[0m\u001b[0m\n\u001b[0;32m     76\u001b[0m       \u001b[1;32melif\u001b[0m \u001b[0mreadwith\u001b[0m \u001b[1;33m==\u001b[0m \u001b[1;34m'indexgzip'\u001b[0m\u001b[1;33m:\u001b[0m\u001b[1;33m\u001b[0m\u001b[0m\n",
        "\u001b[1;32m/home/john/Software/anaconda/envs/_ipython2.4/lib/python2.7/site-packages/nilearn/image/image.pyc\u001b[0m in \u001b[0;36mindex_img\u001b[1;34m(imgs, index)\u001b[0m\n\u001b[0;32m    554\u001b[0m     \"\"\"\n\u001b[0;32m    555\u001b[0m     \u001b[0mimgs\u001b[0m \u001b[1;33m=\u001b[0m \u001b[0mcheck_niimg_4d\u001b[0m\u001b[1;33m(\u001b[0m\u001b[0mimgs\u001b[0m\u001b[1;33m)\u001b[0m\u001b[1;33m\u001b[0m\u001b[0m\n\u001b[1;32m--> 556\u001b[1;33m     \u001b[1;32mreturn\u001b[0m \u001b[0m_index_img\u001b[0m\u001b[1;33m(\u001b[0m\u001b[0mimgs\u001b[0m\u001b[1;33m,\u001b[0m \u001b[0mindex\u001b[0m\u001b[1;33m)\u001b[0m\u001b[1;33m\u001b[0m\u001b[0m\n\u001b[0m\u001b[0;32m    557\u001b[0m \u001b[1;33m\u001b[0m\u001b[0m\n\u001b[0;32m    558\u001b[0m \u001b[1;33m\u001b[0m\u001b[0m\n",
        "\u001b[1;32m/home/john/Software/anaconda/envs/_ipython2.4/lib/python2.7/site-packages/nilearn/_utils/niimg_conversions.pyc\u001b[0m in \u001b[0;36m_index_img\u001b[1;34m(img, index)\u001b[0m\n\u001b[0;32m     72\u001b[0m     \u001b[1;34m\"\"\"Helper function for check_niimg_4d.\"\"\"\u001b[0m\u001b[1;33m\u001b[0m\u001b[0m\n\u001b[0;32m     73\u001b[0m     return new_img_like(\n\u001b[1;32m---> 74\u001b[1;33m         \u001b[0mimg\u001b[0m\u001b[1;33m,\u001b[0m \u001b[0mimg\u001b[0m\u001b[1;33m.\u001b[0m\u001b[0mget_data\u001b[0m\u001b[1;33m(\u001b[0m\u001b[1;33m)\u001b[0m\u001b[1;33m[\u001b[0m\u001b[1;33m:\u001b[0m\u001b[1;33m,\u001b[0m \u001b[1;33m:\u001b[0m\u001b[1;33m,\u001b[0m \u001b[1;33m:\u001b[0m\u001b[1;33m,\u001b[0m \u001b[0mindex\u001b[0m\u001b[1;33m]\u001b[0m\u001b[1;33m,\u001b[0m \u001b[0mimg\u001b[0m\u001b[1;33m.\u001b[0m\u001b[0mget_affine\u001b[0m\u001b[1;33m(\u001b[0m\u001b[1;33m)\u001b[0m\u001b[1;33m,\u001b[0m\u001b[1;33m\u001b[0m\u001b[0m\n\u001b[0m\u001b[0;32m     75\u001b[0m         copy_header=True)\n\u001b[0;32m     76\u001b[0m \u001b[1;33m\u001b[0m\u001b[0m\n",
        "\u001b[1;32m/home/john/Software/anaconda/envs/_ipython2.4/lib/python2.7/site-packages/nibabel/spatialimages.pyc\u001b[0m in \u001b[0;36mget_data\u001b[1;34m(self, caching)\u001b[0m\n\u001b[0;32m    570\u001b[0m         \u001b[1;32mif\u001b[0m \u001b[0mself\u001b[0m\u001b[1;33m.\u001b[0m\u001b[0m_data_cache\u001b[0m \u001b[1;32mis\u001b[0m \u001b[1;32mnot\u001b[0m \u001b[0mNone\u001b[0m\u001b[1;33m:\u001b[0m\u001b[1;33m\u001b[0m\u001b[0m\n\u001b[0;32m    571\u001b[0m             \u001b[1;32mreturn\u001b[0m \u001b[0mself\u001b[0m\u001b[1;33m.\u001b[0m\u001b[0m_data_cache\u001b[0m\u001b[1;33m\u001b[0m\u001b[0m\n\u001b[1;32m--> 572\u001b[1;33m         \u001b[0mdata\u001b[0m \u001b[1;33m=\u001b[0m \u001b[0mnp\u001b[0m\u001b[1;33m.\u001b[0m\u001b[0masanyarray\u001b[0m\u001b[1;33m(\u001b[0m\u001b[0mself\u001b[0m\u001b[1;33m.\u001b[0m\u001b[0m_dataobj\u001b[0m\u001b[1;33m)\u001b[0m\u001b[1;33m\u001b[0m\u001b[0m\n\u001b[0m\u001b[0;32m    573\u001b[0m         \u001b[1;32mif\u001b[0m \u001b[0mcaching\u001b[0m \u001b[1;33m==\u001b[0m \u001b[1;34m'fill'\u001b[0m\u001b[1;33m:\u001b[0m\u001b[1;33m\u001b[0m\u001b[0m\n\u001b[0;32m    574\u001b[0m             \u001b[0mself\u001b[0m\u001b[1;33m.\u001b[0m\u001b[0m_data_cache\u001b[0m \u001b[1;33m=\u001b[0m \u001b[0mdata\u001b[0m\u001b[1;33m\u001b[0m\u001b[0m\n",
        "\u001b[1;32m/home/john/Software/anaconda/envs/_ipython2.4/lib/python2.7/site-packages/numpy/core/numeric.pyc\u001b[0m in \u001b[0;36masanyarray\u001b[1;34m(a, dtype, order)\u001b[0m\n\u001b[0;32m    581\u001b[0m \u001b[1;33m\u001b[0m\u001b[0m\n\u001b[0;32m    582\u001b[0m     \"\"\"\n\u001b[1;32m--> 583\u001b[1;33m     \u001b[1;32mreturn\u001b[0m \u001b[0marray\u001b[0m\u001b[1;33m(\u001b[0m\u001b[0ma\u001b[0m\u001b[1;33m,\u001b[0m \u001b[0mdtype\u001b[0m\u001b[1;33m,\u001b[0m \u001b[0mcopy\u001b[0m\u001b[1;33m=\u001b[0m\u001b[0mFalse\u001b[0m\u001b[1;33m,\u001b[0m \u001b[0morder\u001b[0m\u001b[1;33m=\u001b[0m\u001b[0morder\u001b[0m\u001b[1;33m,\u001b[0m \u001b[0msubok\u001b[0m\u001b[1;33m=\u001b[0m\u001b[0mTrue\u001b[0m\u001b[1;33m)\u001b[0m\u001b[1;33m\u001b[0m\u001b[0m\n\u001b[0m\u001b[0;32m    584\u001b[0m \u001b[1;33m\u001b[0m\u001b[0m\n\u001b[0;32m    585\u001b[0m \u001b[1;33m\u001b[0m\u001b[0m\n",
        "\u001b[1;32m/home/john/Software/anaconda/envs/_ipython2.4/lib/python2.7/site-packages/nibabel/arrayproxy.pyc\u001b[0m in \u001b[0;36m__array__\u001b[1;34m(self)\u001b[0m\n\u001b[0;32m    143\u001b[0m     \u001b[1;32mdef\u001b[0m \u001b[0m__array__\u001b[0m\u001b[1;33m(\u001b[0m\u001b[0mself\u001b[0m\u001b[1;33m)\u001b[0m\u001b[1;33m:\u001b[0m\u001b[1;33m\u001b[0m\u001b[0m\n\u001b[0;32m    144\u001b[0m         \u001b[1;31m# Read array and scale\u001b[0m\u001b[1;33m\u001b[0m\u001b[1;33m\u001b[0m\u001b[0m\n\u001b[1;32m--> 145\u001b[1;33m         \u001b[0mraw_data\u001b[0m \u001b[1;33m=\u001b[0m \u001b[0mself\u001b[0m\u001b[1;33m.\u001b[0m\u001b[0mget_unscaled\u001b[0m\u001b[1;33m(\u001b[0m\u001b[1;33m)\u001b[0m\u001b[1;33m\u001b[0m\u001b[0m\n\u001b[0m\u001b[0;32m    146\u001b[0m         \u001b[1;32mreturn\u001b[0m \u001b[0mapply_read_scaling\u001b[0m\u001b[1;33m(\u001b[0m\u001b[0mraw_data\u001b[0m\u001b[1;33m,\u001b[0m \u001b[0mself\u001b[0m\u001b[1;33m.\u001b[0m\u001b[0m_slope\u001b[0m\u001b[1;33m,\u001b[0m \u001b[0mself\u001b[0m\u001b[1;33m.\u001b[0m\u001b[0m_inter\u001b[0m\u001b[1;33m)\u001b[0m\u001b[1;33m\u001b[0m\u001b[0m\n\u001b[0;32m    147\u001b[0m \u001b[1;33m\u001b[0m\u001b[0m\n",
        "\u001b[1;32m/home/john/Software/anaconda/envs/_ipython2.4/lib/python2.7/site-packages/nibabel/arrayproxy.pyc\u001b[0m in \u001b[0;36mget_unscaled\u001b[1;34m(self)\u001b[0m\n\u001b[0;32m    138\u001b[0m                                        \u001b[0moffset\u001b[0m\u001b[1;33m=\u001b[0m\u001b[0mself\u001b[0m\u001b[1;33m.\u001b[0m\u001b[0m_offset\u001b[0m\u001b[1;33m,\u001b[0m\u001b[1;33m\u001b[0m\u001b[0m\n\u001b[0;32m    139\u001b[0m                                        \u001b[0morder\u001b[0m\u001b[1;33m=\u001b[0m\u001b[0mself\u001b[0m\u001b[1;33m.\u001b[0m\u001b[0morder\u001b[0m\u001b[1;33m,\u001b[0m\u001b[1;33m\u001b[0m\u001b[0m\n\u001b[1;32m--> 140\u001b[1;33m                                        mmap=self._mmap)\n\u001b[0m\u001b[0;32m    141\u001b[0m         \u001b[1;32mreturn\u001b[0m \u001b[0mraw_data\u001b[0m\u001b[1;33m\u001b[0m\u001b[0m\n\u001b[0;32m    142\u001b[0m \u001b[1;33m\u001b[0m\u001b[0m\n",
        "\u001b[1;32m/home/john/Software/anaconda/envs/_ipython2.4/lib/python2.7/site-packages/nibabel/volumeutils.pyc\u001b[0m in \u001b[0;36marray_from_file\u001b[1;34m(shape, in_dtype, infile, offset, order, mmap)\u001b[0m\n\u001b[0;32m    522\u001b[0m     \u001b[1;32mif\u001b[0m \u001b[0mhasattr\u001b[0m\u001b[1;33m(\u001b[0m\u001b[0minfile\u001b[0m\u001b[1;33m,\u001b[0m \u001b[1;34m'readinto'\u001b[0m\u001b[1;33m)\u001b[0m\u001b[1;33m:\u001b[0m\u001b[1;33m\u001b[0m\u001b[0m\n\u001b[0;32m    523\u001b[0m         \u001b[0mdata_bytes\u001b[0m \u001b[1;33m=\u001b[0m \u001b[0mbytearray\u001b[0m\u001b[1;33m(\u001b[0m\u001b[0mn_bytes\u001b[0m\u001b[1;33m)\u001b[0m\u001b[1;33m\u001b[0m\u001b[0m\n\u001b[1;32m--> 524\u001b[1;33m         \u001b[0mn_read\u001b[0m \u001b[1;33m=\u001b[0m \u001b[0minfile\u001b[0m\u001b[1;33m.\u001b[0m\u001b[0mreadinto\u001b[0m\u001b[1;33m(\u001b[0m\u001b[0mdata_bytes\u001b[0m\u001b[1;33m)\u001b[0m\u001b[1;33m\u001b[0m\u001b[0m\n\u001b[0m\u001b[0;32m    525\u001b[0m         \u001b[0mneeds_copy\u001b[0m \u001b[1;33m=\u001b[0m \u001b[0mFalse\u001b[0m\u001b[1;33m\u001b[0m\u001b[0m\n\u001b[0;32m    526\u001b[0m     \u001b[1;32melse\u001b[0m\u001b[1;33m:\u001b[0m\u001b[1;33m\u001b[0m\u001b[0m\n",
        "\u001b[1;32m/home/john/Software/anaconda/envs/_ipython2.4/lib/python2.7/gzip.pyc\u001b[0m in \u001b[0;36mread\u001b[1;34m(self, size)\u001b[0m\n\u001b[0;32m    266\u001b[0m             \u001b[1;32mtry\u001b[0m\u001b[1;33m:\u001b[0m\u001b[1;33m\u001b[0m\u001b[0m\n\u001b[0;32m    267\u001b[0m                 \u001b[1;32mwhile\u001b[0m \u001b[0msize\u001b[0m \u001b[1;33m>\u001b[0m \u001b[0mself\u001b[0m\u001b[1;33m.\u001b[0m\u001b[0mextrasize\u001b[0m\u001b[1;33m:\u001b[0m\u001b[1;33m\u001b[0m\u001b[0m\n\u001b[1;32m--> 268\u001b[1;33m                     \u001b[0mself\u001b[0m\u001b[1;33m.\u001b[0m\u001b[0m_read\u001b[0m\u001b[1;33m(\u001b[0m\u001b[0mreadsize\u001b[0m\u001b[1;33m)\u001b[0m\u001b[1;33m\u001b[0m\u001b[0m\n\u001b[0m\u001b[0;32m    269\u001b[0m                     \u001b[0mreadsize\u001b[0m \u001b[1;33m=\u001b[0m \u001b[0mmin\u001b[0m\u001b[1;33m(\u001b[0m\u001b[0mself\u001b[0m\u001b[1;33m.\u001b[0m\u001b[0mmax_read_chunk\u001b[0m\u001b[1;33m,\u001b[0m \u001b[0mreadsize\u001b[0m \u001b[1;33m*\u001b[0m \u001b[1;36m2\u001b[0m\u001b[1;33m)\u001b[0m\u001b[1;33m\u001b[0m\u001b[0m\n\u001b[0;32m    270\u001b[0m             \u001b[1;32mexcept\u001b[0m \u001b[0mEOFError\u001b[0m\u001b[1;33m:\u001b[0m\u001b[1;33m\u001b[0m\u001b[0m\n",
        "\u001b[1;32m/home/john/Software/anaconda/envs/_ipython2.4/lib/python2.7/gzip.pyc\u001b[0m in \u001b[0;36m_read\u001b[1;34m(self, size)\u001b[0m\n\u001b[0;32m    318\u001b[0m \u001b[1;33m\u001b[0m\u001b[0m\n\u001b[0;32m    319\u001b[0m         \u001b[0muncompress\u001b[0m \u001b[1;33m=\u001b[0m \u001b[0mself\u001b[0m\u001b[1;33m.\u001b[0m\u001b[0mdecompress\u001b[0m\u001b[1;33m.\u001b[0m\u001b[0mdecompress\u001b[0m\u001b[1;33m(\u001b[0m\u001b[0mbuf\u001b[0m\u001b[1;33m)\u001b[0m\u001b[1;33m\u001b[0m\u001b[0m\n\u001b[1;32m--> 320\u001b[1;33m         \u001b[0mself\u001b[0m\u001b[1;33m.\u001b[0m\u001b[0m_add_read_data\u001b[0m\u001b[1;33m(\u001b[0m \u001b[0muncompress\u001b[0m \u001b[1;33m)\u001b[0m\u001b[1;33m\u001b[0m\u001b[0m\n\u001b[0m\u001b[0;32m    321\u001b[0m \u001b[1;33m\u001b[0m\u001b[0m\n\u001b[0;32m    322\u001b[0m         \u001b[1;32mif\u001b[0m \u001b[0mself\u001b[0m\u001b[1;33m.\u001b[0m\u001b[0mdecompress\u001b[0m\u001b[1;33m.\u001b[0m\u001b[0munused_data\u001b[0m \u001b[1;33m!=\u001b[0m \u001b[1;34m\"\"\u001b[0m\u001b[1;33m:\u001b[0m\u001b[1;33m\u001b[0m\u001b[0m\n",
        "\u001b[1;32m/home/john/Software/anaconda/envs/_ipython2.4/lib/python2.7/gzip.pyc\u001b[0m in \u001b[0;36m_add_read_data\u001b[1;34m(self, data)\u001b[0m\n\u001b[0;32m    336\u001b[0m         \u001b[0mself\u001b[0m\u001b[1;33m.\u001b[0m\u001b[0mcrc\u001b[0m \u001b[1;33m=\u001b[0m \u001b[0mzlib\u001b[0m\u001b[1;33m.\u001b[0m\u001b[0mcrc32\u001b[0m\u001b[1;33m(\u001b[0m\u001b[0mdata\u001b[0m\u001b[1;33m,\u001b[0m \u001b[0mself\u001b[0m\u001b[1;33m.\u001b[0m\u001b[0mcrc\u001b[0m\u001b[1;33m)\u001b[0m \u001b[1;33m&\u001b[0m \u001b[1;36m0xffffffffL\u001b[0m\u001b[1;33m\u001b[0m\u001b[0m\n\u001b[0;32m    337\u001b[0m         \u001b[0moffset\u001b[0m \u001b[1;33m=\u001b[0m \u001b[0mself\u001b[0m\u001b[1;33m.\u001b[0m\u001b[0moffset\u001b[0m \u001b[1;33m-\u001b[0m \u001b[0mself\u001b[0m\u001b[1;33m.\u001b[0m\u001b[0mextrastart\u001b[0m\u001b[1;33m\u001b[0m\u001b[0m\n\u001b[1;32m--> 338\u001b[1;33m         \u001b[0mself\u001b[0m\u001b[1;33m.\u001b[0m\u001b[0mextrabuf\u001b[0m \u001b[1;33m=\u001b[0m \u001b[0mself\u001b[0m\u001b[1;33m.\u001b[0m\u001b[0mextrabuf\u001b[0m\u001b[1;33m[\u001b[0m\u001b[0moffset\u001b[0m\u001b[1;33m:\u001b[0m\u001b[1;33m]\u001b[0m \u001b[1;33m+\u001b[0m \u001b[0mdata\u001b[0m\u001b[1;33m\u001b[0m\u001b[0m\n\u001b[0m\u001b[0;32m    339\u001b[0m         \u001b[0mself\u001b[0m\u001b[1;33m.\u001b[0m\u001b[0mextrasize\u001b[0m \u001b[1;33m=\u001b[0m \u001b[0mself\u001b[0m\u001b[1;33m.\u001b[0m\u001b[0mextrasize\u001b[0m \u001b[1;33m+\u001b[0m \u001b[0mlen\u001b[0m\u001b[1;33m(\u001b[0m\u001b[0mdata\u001b[0m\u001b[1;33m)\u001b[0m\u001b[1;33m\u001b[0m\u001b[0m\n\u001b[0;32m    340\u001b[0m         \u001b[0mself\u001b[0m\u001b[1;33m.\u001b[0m\u001b[0mextrastart\u001b[0m \u001b[1;33m=\u001b[0m \u001b[0mself\u001b[0m\u001b[1;33m.\u001b[0m\u001b[0moffset\u001b[0m\u001b[1;33m\u001b[0m\u001b[0m\n",
        "\u001b[1;31mMemoryError\u001b[0m: "
       ]
      }
     ],
     "prompt_number": 11
    },
    {
     "cell_type": "code",
     "collapsed": false,
     "input": [
      "%timeit -n 1 res = va.compute_hit_stats(test_file,idxs,readwith='indexgzip')"
     ],
     "language": "python",
     "metadata": {
      "run_control": {
       "state": "n"
      }
     },
     "outputs": []
    },
    {
     "cell_type": "code",
     "collapsed": false,
     "input": [
      "%timeit -n 1 res = va.compute_hit_stats(test_file,idxs)"
     ],
     "language": "python",
     "metadata": {
      "run_control": {
       "state": "n"
      }
     },
     "outputs": [
      {
       "output_type": "stream",
       "stream": "stdout",
       "text": [
        "computing hit stats for roi test_lesionmask_rs1mm.nii.gz\n",
        "computing hit stats for roi test_lesionmask_rs1mm.nii.gz"
       ]
      },
      {
       "output_type": "stream",
       "stream": "stdout",
       "text": [
        "\n",
        "computing hit stats for roi test_lesionmask_rs1mm.nii.gz"
       ]
      },
      {
       "output_type": "stream",
       "stream": "stdout",
       "text": [
        "\n",
        "1 loops, best of 3: 5.05 s per loop"
       ]
      },
      {
       "output_type": "stream",
       "stream": "stdout",
       "text": [
        "\n"
       ]
      }
     ],
     "prompt_number": 132
    },
    {
     "cell_type": "code",
     "collapsed": false,
     "input": [
      "%timeit -n 1 res = va.compute_hit_stats(test_file,idxs)"
     ],
     "language": "python",
     "metadata": {
      "run_control": {
       "state": "n"
      }
     },
     "outputs": [
      {
       "output_type": "stream",
       "stream": "stdout",
       "text": [
        "computing hit stats for roi test_lesionmask_rs1mm.nii.gz\n",
        "computing hit stats for roi test_lesionmask_rs1mm.nii.gz"
       ]
      },
      {
       "output_type": "stream",
       "stream": "stdout",
       "text": [
        "\n",
        "computing hit stats for roi test_lesionmask_rs1mm.nii.gz"
       ]
      },
      {
       "output_type": "stream",
       "stream": "stdout",
       "text": [
        "\n",
        "1 loops, best of 3: 6.66 s per loop"
       ]
      },
      {
       "output_type": "stream",
       "stream": "stdout",
       "text": [
        "\n"
       ]
      }
     ],
     "prompt_number": 13
    },
    {
     "cell_type": "code",
     "collapsed": false,
     "input": [
      "%timeit -n 1 res = va.compute_hit_stats(test_file,idxs,readwith='index_img')"
     ],
     "language": "python",
     "metadata": {
      "run_control": {
       "state": "n"
      }
     },
     "outputs": [
      {
       "output_type": "stream",
       "stream": "stdout",
       "text": [
        "computing hit stats for roi test_lesionmask_rs1mm.nii.gz\n",
        "computing hit stats for roi test_lesionmask_rs1mm.nii.gz"
       ]
      },
      {
       "output_type": "stream",
       "stream": "stdout",
       "text": [
        "\n",
        "computing hit stats for roi test_lesionmask_rs1mm.nii.gz"
       ]
      },
      {
       "output_type": "stream",
       "stream": "stdout",
       "text": [
        "\n",
        "1 loops, best of 3: 1min 13s per loop"
       ]
      },
      {
       "output_type": "stream",
       "stream": "stdout",
       "text": [
        "\n"
       ]
      }
     ],
     "prompt_number": 17
    },
    {
     "cell_type": "code",
     "collapsed": false,
     "input": [
      "%timeit -n 1 res = va.compute_hit_stats(test_file,idxs,readwith='indexgzip')"
     ],
     "language": "python",
     "metadata": {
      "run_control": {
       "state": "n"
      }
     },
     "outputs": [
      {
       "output_type": "stream",
       "stream": "stdout",
       "text": [
        "computing hit stats for roi test_lesionmask_rs1mm.nii.gz\n",
        "computing hit stats for roi test_lesionmask_rs1mm.nii.gz"
       ]
      },
      {
       "output_type": "stream",
       "stream": "stdout",
       "text": [
        "\n",
        "computing hit stats for roi test_lesionmask_rs1mm.nii.gz"
       ]
      },
      {
       "output_type": "stream",
       "stream": "stdout",
       "text": [
        "\n",
        "1 loops, best of 3: 6.53 s per loop"
       ]
      },
      {
       "output_type": "stream",
       "stream": "stdout",
       "text": [
        "\n"
       ]
      }
     ],
     "prompt_number": 16
    },
    {
     "cell_type": "markdown",
     "metadata": {},
     "source": [
      "alternative hit stats function"
     ]
    },
    {
     "cell_type": "code",
     "collapsed": false,
     "input": [
      "%timeit -n 1 res = va.compute_hit_stats_test(test_file,idxs)"
     ],
     "language": "python",
     "metadata": {
      "run_control": {
       "state": "n"
      }
     },
     "outputs": [
      {
       "output_type": "stream",
       "stream": "stdout",
       "text": [
        "computing hit stats for roi test_lesionmask_rs1mm.nii.gz\n",
        "computing hit stats for roi test_lesionmask_rs1mm.nii.gz"
       ]
      },
      {
       "output_type": "stream",
       "stream": "stdout",
       "text": [
        "\n",
        "computing hit stats for roi test_lesionmask_rs1mm.nii.gz"
       ]
      },
      {
       "output_type": "stream",
       "stream": "stdout",
       "text": [
        "\n",
        "1 loops, best of 3: 26.6 s per loop"
       ]
      },
      {
       "output_type": "stream",
       "stream": "stdout",
       "text": [
        "\n"
       ]
      }
     ],
     "prompt_number": 20
    },
    {
     "cell_type": "markdown",
     "metadata": {},
     "source": [
      "try using tmp folder"
     ]
    },
    {
     "cell_type": "code",
     "collapsed": false,
     "input": [
      "va.at_dir = '/tmp/nifti_io_testing/dipy_dsi_sd4_l2k8_sc33'"
     ],
     "language": "python",
     "metadata": {
      "run_control": {
       "state": "n"
      }
     },
     "outputs": [],
     "prompt_number": 24
    },
    {
     "cell_type": "code",
     "collapsed": false,
     "input": [
      "%timeit -n 1 res = va.compute_hit_stats(test_file,idxs)"
     ],
     "language": "python",
     "metadata": {
      "run_control": {
       "state": "n"
      }
     },
     "outputs": [
      {
       "output_type": "stream",
       "stream": "stdout",
       "text": [
        "computing hit stats for roi test_lesionmask_rs1mm.nii.gz\n",
        "computing hit stats for roi test_lesionmask_rs1mm.nii.gz"
       ]
      },
      {
       "output_type": "stream",
       "stream": "stdout",
       "text": [
        "\n",
        "computing hit stats for roi test_lesionmask_rs1mm.nii.gz"
       ]
      },
      {
       "output_type": "stream",
       "stream": "stdout",
       "text": [
        "\n",
        "1 loops, best of 3: 6.69 s per loop"
       ]
      },
      {
       "output_type": "stream",
       "stream": "stdout",
       "text": [
        "\n"
       ]
      }
     ],
     "prompt_number": 25
    },
    {
     "cell_type": "code",
     "collapsed": false,
     "input": [
      "va.at_dir = '/tmp/nifti_io_testing/dipy_dsi_sd4_l2k8_sc33'"
     ],
     "language": "python",
     "metadata": {
      "run_control": {
       "state": "n"
      }
     },
     "outputs": [],
     "prompt_number": 26
    },
    {
     "cell_type": "code",
     "collapsed": false,
     "input": [
      "%timeit -n 1 res = va.compute_hit_stats(test_file,idxs)"
     ],
     "language": "python",
     "metadata": {
      "run_control": {
       "state": "n"
      }
     },
     "outputs": [
      {
       "output_type": "stream",
       "stream": "stdout",
       "text": [
        "computing hit stats for roi test_lesionmask_rs1mm.nii.gz\n",
        "computing hit stats for roi test_lesionmask_rs1mm.nii.gz"
       ]
      },
      {
       "output_type": "stream",
       "stream": "stdout",
       "text": [
        "\n",
        "computing hit stats for roi test_lesionmask_rs1mm.nii.gz"
       ]
      },
      {
       "output_type": "stream",
       "stream": "stdout",
       "text": [
        "\n",
        "1 loops, best of 3: 7.04 s per loop"
       ]
      },
      {
       "output_type": "stream",
       "stream": "stdout",
       "text": [
        "\n"
       ]
      }
     ],
     "prompt_number": 27
    },
    {
     "cell_type": "markdown",
     "metadata": {},
     "source": [
      "---"
     ]
    },
    {
     "cell_type": "markdown",
     "metadata": {},
     "source": [
      "try reading from tmp"
     ]
    },
    {
     "cell_type": "code",
     "collapsed": false,
     "input": [
      "va.at_dir = '/tmp/nifti_io_testing/dipy_dsi_sd4_l2k8_sc33'"
     ],
     "language": "python",
     "metadata": {
      "run_control": {
       "state": "n"
      }
     },
     "outputs": [],
     "prompt_number": 19
    },
    {
     "cell_type": "code",
     "collapsed": false,
     "input": [
      "%timeit -n 1 res = va.compute_hit_stats(test_file,idxs,readwith='indexgzip')"
     ],
     "language": "python",
     "metadata": {
      "run_control": {
       "state": "n"
      }
     },
     "outputs": []
    },
    {
     "cell_type": "markdown",
     "metadata": {},
     "source": [
      "---"
     ]
    },
    {
     "cell_type": "markdown",
     "metadata": {},
     "source": [
      "try making sparse matrix"
     ]
    },
    {
     "cell_type": "code",
     "collapsed": false,
     "input": [
      "ls"
     ],
     "language": "python",
     "metadata": {
      "run_control": {
       "state": "n"
      }
     },
     "outputs": [
      {
       "output_type": "stream",
       "stream": "stdout",
       "text": [
        "config.yaml  \u001b[0m\u001b[01;34mConWhAt\u001b[0m/  Dockerfile  README.md\r\n"
       ]
      }
     ],
     "prompt_number": 37
    },
    {
     "cell_type": "code",
     "collapsed": false,
     "input": [
      "cd github/ConWhAt/ConWhAt/"
     ],
     "language": "python",
     "metadata": {
      "run_control": {
       "state": "n"
      }
     },
     "outputs": [
      {
       "output_type": "stream",
       "stream": "stdout",
       "text": [
        "/home/jgriffiths/Code/libraries_of_mine/github/ConWhAt/ConWhAt\n"
       ]
      }
     ],
     "prompt_number": 39
    },
    {
     "cell_type": "code",
     "collapsed": false,
     "input": [
      "f = 'atlases/volumetric/dipy_dsi_sd4_l2k8_sc33/vismap_grp_cat_rois_v2_2_norm.nii.gz'"
     ],
     "language": "python",
     "metadata": {
      "run_control": {
       "state": "n"
      }
     },
     "outputs": [],
     "prompt_number": 42
    },
    {
     "cell_type": "code",
     "collapsed": false,
     "input": [
      "import nibabel as nib\n",
      "import csv"
     ],
     "language": "python",
     "metadata": {
      "run_control": {
       "state": "n"
      }
     },
     "outputs": [],
     "prompt_number": 48
    },
    {
     "cell_type": "code",
     "collapsed": false,
     "input": [
      "img = nib.load(f)"
     ],
     "language": "python",
     "metadata": {
      "run_control": {
       "state": "n"
      }
     },
     "outputs": [],
     "prompt_number": 45
    },
    {
     "cell_type": "code",
     "collapsed": false,
     "input": [
      "dat = img.get_data()#[:,:,:,0].ravel()"
     ],
     "language": "python",
     "metadata": {
      "run_control": {
       "state": "n"
      }
     },
     "outputs": [],
     "prompt_number": 114
    },
    {
     "cell_type": "code",
     "collapsed": false,
     "input": [
      "csr_dat = csr_matrix([dat[:,:,:,i].ravel() for i in np.arange(img.shape[3]-1)])"
     ],
     "language": "python",
     "metadata": {
      "run_control": {
       "state": "n"
      }
     },
     "outputs": [],
     "prompt_number": 118
    },
    {
     "cell_type": "code",
     "collapsed": false,
     "input": [
      "csr_dat.shape"
     ],
     "language": "python",
     "metadata": {
      "run_control": {
       "state": "n"
      }
     },
     "outputs": [
      {
       "metadata": {},
       "output_type": "pyout",
       "prompt_number": 119,
       "text": [
        "(83, 7221032)"
       ]
      }
     ],
     "prompt_number": 119
    },
    {
     "cell_type": "code",
     "collapsed": false,
     "input": [],
     "language": "python",
     "metadata": {
      "run_control": {
       "state": "n"
      }
     },
     "outputs": []
    },
    {
     "cell_type": "code",
     "collapsed": false,
     "input": [],
     "language": "python",
     "metadata": {
      "run_control": {
       "state": "n"
      }
     },
     "outputs": []
    },
    {
     "cell_type": "code",
     "collapsed": false,
     "input": [],
     "language": "python",
     "metadata": {
      "run_control": {
       "state": "n"
      }
     },
     "outputs": []
    },
    {
     "cell_type": "code",
     "collapsed": false,
     "input": [],
     "language": "python",
     "metadata": {
      "run_control": {
       "state": "n"
      }
     },
     "outputs": []
    },
    {
     "cell_type": "code",
     "collapsed": false,
     "input": [],
     "language": "python",
     "metadata": {
      "run_control": {
       "state": "n"
      }
     },
     "outputs": []
    },
    {
     "cell_type": "code",
     "collapsed": false,
     "input": [
      "import h5py"
     ],
     "language": "python",
     "metadata": {
      "run_control": {
       "state": "n"
      }
     },
     "outputs": [],
     "prompt_number": 95
    },
    {
     "cell_type": "code",
     "collapsed": false,
     "input": [
      "F = h5py.File('test_sparser.h5', 'w')"
     ],
     "language": "python",
     "metadata": {
      "run_control": {
       "state": "n"
      }
     },
     "outputs": [],
     "prompt_number": 96
    },
    {
     "cell_type": "code",
     "collapsed": false,
     "input": [
      "csr_dat.astype('float32')"
     ],
     "language": "python",
     "metadata": {
      "run_control": {
       "state": "n"
      }
     },
     "outputs": [
      {
       "metadata": {},
       "output_type": "pyout",
       "prompt_number": 102,
       "text": [
        "<83x7221032 sparse matrix of type '<type 'numpy.float32'>'\n",
        "\twith 654924 stored elements in Compressed Sparse Row format>"
       ]
      }
     ],
     "prompt_number": 102
    },
    {
     "cell_type": "code",
     "collapsed": false,
     "input": [
      "csr_dat.astype('float32')"
     ],
     "language": "python",
     "metadata": {
      "run_control": {
       "state": "n"
      }
     },
     "outputs": [
      {
       "metadata": {},
       "output_type": "pyout",
       "prompt_number": 111,
       "text": [
        "<83x7221032 sparse matrix of type '<type 'numpy.float32'>'\n",
        "\twith 654924 stored elements in Compressed Sparse Row format>"
       ]
      }
     ],
     "prompt_number": 111
    },
    {
     "cell_type": "code",
     "collapsed": false,
     "input": [
      "F.create_dataset('csr_dat',data=csr_dat.astype('float32'))"
     ],
     "language": "python",
     "metadata": {
      "run_control": {
       "state": "n"
      }
     },
     "outputs": [
      {
       "ename": "TypeError",
       "evalue": "Object dtype dtype('O') has no native HDF5 equivalent",
       "output_type": "pyerr",
       "traceback": [
        "\u001b[1;31m---------------------------------------------------------------------------\u001b[0m\n\u001b[1;31mTypeError\u001b[0m                                 Traceback (most recent call last)",
        "\u001b[1;32m<ipython-input-113-3cb41999cd64>\u001b[0m in \u001b[0;36m<module>\u001b[1;34m()\u001b[0m\n\u001b[1;32m----> 1\u001b[1;33m \u001b[0mF\u001b[0m\u001b[1;33m.\u001b[0m\u001b[0mcreate_dataset\u001b[0m\u001b[1;33m(\u001b[0m\u001b[1;34m'csr_dat'\u001b[0m\u001b[1;33m,\u001b[0m\u001b[0mdata\u001b[0m\u001b[1;33m=\u001b[0m\u001b[0mcsr_dat\u001b[0m\u001b[1;33m.\u001b[0m\u001b[0mastype\u001b[0m\u001b[1;33m(\u001b[0m\u001b[1;34m'float32'\u001b[0m\u001b[1;33m)\u001b[0m\u001b[1;33m)\u001b[0m\u001b[1;33m\u001b[0m\u001b[0m\n\u001b[0m",
        "\u001b[1;32m/home/jgriffiths/Software/anaconda2/envs/ipython2.4/lib/python2.7/site-packages/h5py/_hl/group.pyc\u001b[0m in \u001b[0;36mcreate_dataset\u001b[1;34m(self, name, shape, dtype, data, **kwds)\u001b[0m\n\u001b[0;32m    103\u001b[0m         \"\"\"\n\u001b[0;32m    104\u001b[0m         \u001b[1;32mwith\u001b[0m \u001b[0mphil\u001b[0m\u001b[1;33m:\u001b[0m\u001b[1;33m\u001b[0m\u001b[0m\n\u001b[1;32m--> 105\u001b[1;33m             \u001b[0mdsid\u001b[0m \u001b[1;33m=\u001b[0m \u001b[0mdataset\u001b[0m\u001b[1;33m.\u001b[0m\u001b[0mmake_new_dset\u001b[0m\u001b[1;33m(\u001b[0m\u001b[0mself\u001b[0m\u001b[1;33m,\u001b[0m \u001b[0mshape\u001b[0m\u001b[1;33m,\u001b[0m \u001b[0mdtype\u001b[0m\u001b[1;33m,\u001b[0m \u001b[0mdata\u001b[0m\u001b[1;33m,\u001b[0m \u001b[1;33m**\u001b[0m\u001b[0mkwds\u001b[0m\u001b[1;33m)\u001b[0m\u001b[1;33m\u001b[0m\u001b[0m\n\u001b[0m\u001b[0;32m    106\u001b[0m             \u001b[0mdset\u001b[0m \u001b[1;33m=\u001b[0m \u001b[0mdataset\u001b[0m\u001b[1;33m.\u001b[0m\u001b[0mDataset\u001b[0m\u001b[1;33m(\u001b[0m\u001b[0mdsid\u001b[0m\u001b[1;33m)\u001b[0m\u001b[1;33m\u001b[0m\u001b[0m\n\u001b[0;32m    107\u001b[0m             \u001b[1;32mif\u001b[0m \u001b[0mname\u001b[0m \u001b[1;32mis\u001b[0m \u001b[1;32mnot\u001b[0m \u001b[0mNone\u001b[0m\u001b[1;33m:\u001b[0m\u001b[1;33m\u001b[0m\u001b[0m\n",
        "\u001b[1;32m/home/jgriffiths/Software/anaconda2/envs/ipython2.4/lib/python2.7/site-packages/h5py/_hl/dataset.pyc\u001b[0m in \u001b[0;36mmake_new_dset\u001b[1;34m(parent, shape, dtype, data, chunks, compression, shuffle, fletcher32, maxshape, compression_opts, fillvalue, scaleoffset, track_times)\u001b[0m\n\u001b[0;32m     91\u001b[0m         \u001b[1;32melse\u001b[0m\u001b[1;33m:\u001b[0m\u001b[1;33m\u001b[0m\u001b[0m\n\u001b[0;32m     92\u001b[0m             \u001b[0mdtype\u001b[0m \u001b[1;33m=\u001b[0m \u001b[0mnumpy\u001b[0m\u001b[1;33m.\u001b[0m\u001b[0mdtype\u001b[0m\u001b[1;33m(\u001b[0m\u001b[0mdtype\u001b[0m\u001b[1;33m)\u001b[0m\u001b[1;33m\u001b[0m\u001b[0m\n\u001b[1;32m---> 93\u001b[1;33m         \u001b[0mtid\u001b[0m \u001b[1;33m=\u001b[0m \u001b[0mh5t\u001b[0m\u001b[1;33m.\u001b[0m\u001b[0mpy_create\u001b[0m\u001b[1;33m(\u001b[0m\u001b[0mdtype\u001b[0m\u001b[1;33m,\u001b[0m \u001b[0mlogical\u001b[0m\u001b[1;33m=\u001b[0m\u001b[1;36m1\u001b[0m\u001b[1;33m)\u001b[0m\u001b[1;33m\u001b[0m\u001b[0m\n\u001b[0m\u001b[0;32m     94\u001b[0m \u001b[1;33m\u001b[0m\u001b[0m\n\u001b[0;32m     95\u001b[0m     \u001b[1;31m# Legacy\u001b[0m\u001b[1;33m\u001b[0m\u001b[1;33m\u001b[0m\u001b[0m\n",
        "\u001b[1;32m/home/jgriffiths/Software/anaconda2/envs/ipython2.4/lib/python2.7/site-packages/h5py/h5t.so\u001b[0m in \u001b[0;36mh5py.h5t.py_create (/home/ilan/minonda/conda-bld/work/h5py/h5t.c:16090)\u001b[1;34m()\u001b[0m\n",
        "\u001b[1;32m/home/jgriffiths/Software/anaconda2/envs/ipython2.4/lib/python2.7/site-packages/h5py/h5t.so\u001b[0m in \u001b[0;36mh5py.h5t.py_create (/home/ilan/minonda/conda-bld/work/h5py/h5t.c:15924)\u001b[1;34m()\u001b[0m\n",
        "\u001b[1;32m/home/jgriffiths/Software/anaconda2/envs/ipython2.4/lib/python2.7/site-packages/h5py/h5t.so\u001b[0m in \u001b[0;36mh5py.h5t.py_create (/home/ilan/minonda/conda-bld/work/h5py/h5t.c:15825)\u001b[1;34m()\u001b[0m\n",
        "\u001b[1;31mTypeError\u001b[0m: Object dtype dtype('O') has no native HDF5 equivalent"
       ]
      }
     ],
     "prompt_number": 113
    },
    {
     "cell_type": "code",
     "collapsed": false,
     "input": [
      "F['csr_dat'] = csr_dat.astype('float32')"
     ],
     "language": "python",
     "metadata": {
      "run_control": {
       "state": "n"
      }
     },
     "outputs": [
      {
       "ename": "TypeError",
       "evalue": "Object dtype dtype('O') has no native HDF5 equivalent",
       "output_type": "pyerr",
       "traceback": [
        "\u001b[1;31m---------------------------------------------------------------------------\u001b[0m\n\u001b[1;31mTypeError\u001b[0m                                 Traceback (most recent call last)",
        "\u001b[1;32m<ipython-input-105-8846541278f4>\u001b[0m in \u001b[0;36m<module>\u001b[1;34m()\u001b[0m\n\u001b[1;32m----> 1\u001b[1;33m \u001b[0mF\u001b[0m\u001b[1;33m[\u001b[0m\u001b[1;34m'csr_dat'\u001b[0m\u001b[1;33m]\u001b[0m \u001b[1;33m=\u001b[0m \u001b[0mcsr_dat\u001b[0m\u001b[1;33m.\u001b[0m\u001b[0mastype\u001b[0m\u001b[1;33m(\u001b[0m\u001b[1;34m'float32'\u001b[0m\u001b[1;33m)\u001b[0m\u001b[1;33m\u001b[0m\u001b[0m\n\u001b[0m",
        "\u001b[1;32m/home/jgriffiths/Software/anaconda2/envs/ipython2.4/lib/python2.7/site-packages/h5py/_objects.so\u001b[0m in \u001b[0;36mh5py._objects.with_phil.wrapper (/home/ilan/minonda/conda-bld/work/h5py/_objects.c:2696)\u001b[1;34m()\u001b[0m\n",
        "\u001b[1;32m/home/jgriffiths/Software/anaconda2/envs/ipython2.4/lib/python2.7/site-packages/h5py/_objects.so\u001b[0m in \u001b[0;36mh5py._objects.with_phil.wrapper (/home/ilan/minonda/conda-bld/work/h5py/_objects.c:2654)\u001b[1;34m()\u001b[0m\n",
        "\u001b[1;32m/home/jgriffiths/Software/anaconda2/envs/ipython2.4/lib/python2.7/site-packages/h5py/_hl/group.pyc\u001b[0m in \u001b[0;36m__setitem__\u001b[1;34m(self, name, obj)\u001b[0m\n\u001b[0;32m    290\u001b[0m \u001b[1;33m\u001b[0m\u001b[0m\n\u001b[0;32m    291\u001b[0m         \u001b[1;32melse\u001b[0m\u001b[1;33m:\u001b[0m\u001b[1;33m\u001b[0m\u001b[0m\n\u001b[1;32m--> 292\u001b[1;33m             \u001b[0mds\u001b[0m \u001b[1;33m=\u001b[0m \u001b[0mself\u001b[0m\u001b[1;33m.\u001b[0m\u001b[0mcreate_dataset\u001b[0m\u001b[1;33m(\u001b[0m\u001b[0mNone\u001b[0m\u001b[1;33m,\u001b[0m \u001b[0mdata\u001b[0m\u001b[1;33m=\u001b[0m\u001b[0mobj\u001b[0m\u001b[1;33m,\u001b[0m \u001b[0mdtype\u001b[0m\u001b[1;33m=\u001b[0m\u001b[0mbase\u001b[0m\u001b[1;33m.\u001b[0m\u001b[0mguess_dtype\u001b[0m\u001b[1;33m(\u001b[0m\u001b[0mobj\u001b[0m\u001b[1;33m)\u001b[0m\u001b[1;33m)\u001b[0m\u001b[1;33m\u001b[0m\u001b[0m\n\u001b[0m\u001b[0;32m    293\u001b[0m             \u001b[0mh5o\u001b[0m\u001b[1;33m.\u001b[0m\u001b[0mlink\u001b[0m\u001b[1;33m(\u001b[0m\u001b[0mds\u001b[0m\u001b[1;33m.\u001b[0m\u001b[0mid\u001b[0m\u001b[1;33m,\u001b[0m \u001b[0mself\u001b[0m\u001b[1;33m.\u001b[0m\u001b[0mid\u001b[0m\u001b[1;33m,\u001b[0m \u001b[0mname\u001b[0m\u001b[1;33m,\u001b[0m \u001b[0mlcpl\u001b[0m\u001b[1;33m=\u001b[0m\u001b[0mlcpl\u001b[0m\u001b[1;33m)\u001b[0m\u001b[1;33m\u001b[0m\u001b[0m\n\u001b[0;32m    294\u001b[0m \u001b[1;33m\u001b[0m\u001b[0m\n",
        "\u001b[1;32m/home/jgriffiths/Software/anaconda2/envs/ipython2.4/lib/python2.7/site-packages/h5py/_hl/group.pyc\u001b[0m in \u001b[0;36mcreate_dataset\u001b[1;34m(self, name, shape, dtype, data, **kwds)\u001b[0m\n\u001b[0;32m    103\u001b[0m         \"\"\"\n\u001b[0;32m    104\u001b[0m         \u001b[1;32mwith\u001b[0m \u001b[0mphil\u001b[0m\u001b[1;33m:\u001b[0m\u001b[1;33m\u001b[0m\u001b[0m\n\u001b[1;32m--> 105\u001b[1;33m             \u001b[0mdsid\u001b[0m \u001b[1;33m=\u001b[0m \u001b[0mdataset\u001b[0m\u001b[1;33m.\u001b[0m\u001b[0mmake_new_dset\u001b[0m\u001b[1;33m(\u001b[0m\u001b[0mself\u001b[0m\u001b[1;33m,\u001b[0m \u001b[0mshape\u001b[0m\u001b[1;33m,\u001b[0m \u001b[0mdtype\u001b[0m\u001b[1;33m,\u001b[0m \u001b[0mdata\u001b[0m\u001b[1;33m,\u001b[0m \u001b[1;33m**\u001b[0m\u001b[0mkwds\u001b[0m\u001b[1;33m)\u001b[0m\u001b[1;33m\u001b[0m\u001b[0m\n\u001b[0m\u001b[0;32m    106\u001b[0m             \u001b[0mdset\u001b[0m \u001b[1;33m=\u001b[0m \u001b[0mdataset\u001b[0m\u001b[1;33m.\u001b[0m\u001b[0mDataset\u001b[0m\u001b[1;33m(\u001b[0m\u001b[0mdsid\u001b[0m\u001b[1;33m)\u001b[0m\u001b[1;33m\u001b[0m\u001b[0m\n\u001b[0;32m    107\u001b[0m             \u001b[1;32mif\u001b[0m \u001b[0mname\u001b[0m \u001b[1;32mis\u001b[0m \u001b[1;32mnot\u001b[0m \u001b[0mNone\u001b[0m\u001b[1;33m:\u001b[0m\u001b[1;33m\u001b[0m\u001b[0m\n",
        "\u001b[1;32m/home/jgriffiths/Software/anaconda2/envs/ipython2.4/lib/python2.7/site-packages/h5py/_hl/dataset.pyc\u001b[0m in \u001b[0;36mmake_new_dset\u001b[1;34m(parent, shape, dtype, data, chunks, compression, shuffle, fletcher32, maxshape, compression_opts, fillvalue, scaleoffset, track_times)\u001b[0m\n\u001b[0;32m     91\u001b[0m         \u001b[1;32melse\u001b[0m\u001b[1;33m:\u001b[0m\u001b[1;33m\u001b[0m\u001b[0m\n\u001b[0;32m     92\u001b[0m             \u001b[0mdtype\u001b[0m \u001b[1;33m=\u001b[0m \u001b[0mnumpy\u001b[0m\u001b[1;33m.\u001b[0m\u001b[0mdtype\u001b[0m\u001b[1;33m(\u001b[0m\u001b[0mdtype\u001b[0m\u001b[1;33m)\u001b[0m\u001b[1;33m\u001b[0m\u001b[0m\n\u001b[1;32m---> 93\u001b[1;33m         \u001b[0mtid\u001b[0m \u001b[1;33m=\u001b[0m \u001b[0mh5t\u001b[0m\u001b[1;33m.\u001b[0m\u001b[0mpy_create\u001b[0m\u001b[1;33m(\u001b[0m\u001b[0mdtype\u001b[0m\u001b[1;33m,\u001b[0m \u001b[0mlogical\u001b[0m\u001b[1;33m=\u001b[0m\u001b[1;36m1\u001b[0m\u001b[1;33m)\u001b[0m\u001b[1;33m\u001b[0m\u001b[0m\n\u001b[0m\u001b[0;32m     94\u001b[0m \u001b[1;33m\u001b[0m\u001b[0m\n\u001b[0;32m     95\u001b[0m     \u001b[1;31m# Legacy\u001b[0m\u001b[1;33m\u001b[0m\u001b[1;33m\u001b[0m\u001b[0m\n",
        "\u001b[1;32m/home/jgriffiths/Software/anaconda2/envs/ipython2.4/lib/python2.7/site-packages/h5py/h5t.so\u001b[0m in \u001b[0;36mh5py.h5t.py_create (/home/ilan/minonda/conda-bld/work/h5py/h5t.c:16090)\u001b[1;34m()\u001b[0m\n",
        "\u001b[1;32m/home/jgriffiths/Software/anaconda2/envs/ipython2.4/lib/python2.7/site-packages/h5py/h5t.so\u001b[0m in \u001b[0;36mh5py.h5t.py_create (/home/ilan/minonda/conda-bld/work/h5py/h5t.c:15924)\u001b[1;34m()\u001b[0m\n",
        "\u001b[1;32m/home/jgriffiths/Software/anaconda2/envs/ipython2.4/lib/python2.7/site-packages/h5py/h5t.so\u001b[0m in \u001b[0;36mh5py.h5t.py_create (/home/ilan/minonda/conda-bld/work/h5py/h5t.c:15825)\u001b[1;34m()\u001b[0m\n",
        "\u001b[1;31mTypeError\u001b[0m: Object dtype dtype('O') has no native HDF5 equivalent"
       ]
      }
     ],
     "prompt_number": 105
    },
    {
     "cell_type": "code",
     "collapsed": false,
     "input": [],
     "language": "python",
     "metadata": {
      "run_control": {
       "state": "n"
      }
     },
     "outputs": []
    },
    {
     "cell_type": "code",
     "collapsed": false,
     "input": [],
     "language": "python",
     "metadata": {
      "run_control": {
       "state": "n"
      }
     },
     "outputs": []
    },
    {
     "cell_type": "code",
     "collapsed": false,
     "input": [],
     "language": "python",
     "metadata": {
      "run_control": {
       "state": "n"
      }
     },
     "outputs": []
    },
    {
     "cell_type": "code",
     "collapsed": false,
     "input": [],
     "language": "python",
     "metadata": {
      "run_control": {
       "state": "n"
      }
     },
     "outputs": []
    },
    {
     "cell_type": "code",
     "collapsed": false,
     "input": [],
     "language": "python",
     "metadata": {
      "run_control": {
       "state": "n"
      }
     },
     "outputs": []
    },
    {
     "cell_type": "code",
     "collapsed": false,
     "input": [
      "from scipy.sparse import csr_matrix"
     ],
     "language": "python",
     "metadata": {
      "run_control": {
       "state": "n"
      }
     },
     "outputs": [],
     "prompt_number": 53
    },
    {
     "cell_type": "code",
     "collapsed": false,
     "input": [
      "csr_dat = csr_matrix(dat)"
     ],
     "language": "python",
     "metadata": {
      "run_control": {
       "state": "n"
      }
     },
     "outputs": [
      {
       "ename": "TypeError",
       "evalue": "expected dimension <= 2 array or matrix",
       "output_type": "pyerr",
       "traceback": [
        "\u001b[1;31m---------------------------------------------------------------------------\u001b[0m\n\u001b[1;31mTypeError\u001b[0m                                 Traceback (most recent call last)",
        "\u001b[1;32m<ipython-input-54-9d2460cd63fc>\u001b[0m in \u001b[0;36m<module>\u001b[1;34m()\u001b[0m\n\u001b[1;32m----> 1\u001b[1;33m \u001b[0mcsr_dat\u001b[0m \u001b[1;33m=\u001b[0m \u001b[0mcsr_matrix\u001b[0m\u001b[1;33m(\u001b[0m\u001b[0mdat\u001b[0m\u001b[1;33m)\u001b[0m\u001b[1;33m\u001b[0m\u001b[0m\n\u001b[0m",
        "\u001b[1;32m/home/jgriffiths/Software/anaconda2/envs/ipython2.4/lib/python2.7/site-packages/scipy/sparse/compressed.pyc\u001b[0m in \u001b[0;36m__init__\u001b[1;34m(self, arg1, shape, dtype, copy)\u001b[0m\n\u001b[0;32m     76\u001b[0m                         self.format)\n\u001b[0;32m     77\u001b[0m             \u001b[1;32mfrom\u001b[0m \u001b[1;33m.\u001b[0m\u001b[0mcoo\u001b[0m \u001b[1;32mimport\u001b[0m \u001b[0mcoo_matrix\u001b[0m\u001b[1;33m\u001b[0m\u001b[0m\n\u001b[1;32m---> 78\u001b[1;33m             \u001b[0mself\u001b[0m\u001b[1;33m.\u001b[0m\u001b[0m_set_self\u001b[0m\u001b[1;33m(\u001b[0m\u001b[0mself\u001b[0m\u001b[1;33m.\u001b[0m\u001b[0m__class__\u001b[0m\u001b[1;33m(\u001b[0m\u001b[0mcoo_matrix\u001b[0m\u001b[1;33m(\u001b[0m\u001b[0marg1\u001b[0m\u001b[1;33m,\u001b[0m \u001b[0mdtype\u001b[0m\u001b[1;33m=\u001b[0m\u001b[0mdtype\u001b[0m\u001b[1;33m)\u001b[0m\u001b[1;33m)\u001b[0m\u001b[1;33m)\u001b[0m\u001b[1;33m\u001b[0m\u001b[0m\n\u001b[0m\u001b[0;32m     79\u001b[0m \u001b[1;33m\u001b[0m\u001b[0m\n\u001b[0;32m     80\u001b[0m         \u001b[1;31m# Read matrix dimensions given, if any\u001b[0m\u001b[1;33m\u001b[0m\u001b[1;33m\u001b[0m\u001b[0m\n",
        "\u001b[1;32m/home/jgriffiths/Software/anaconda2/envs/ipython2.4/lib/python2.7/site-packages/scipy/sparse/coo.pyc\u001b[0m in \u001b[0;36m__init__\u001b[1;34m(self, arg1, shape, dtype, copy)\u001b[0m\n\u001b[0;32m    171\u001b[0m \u001b[1;33m\u001b[0m\u001b[0m\n\u001b[0;32m    172\u001b[0m                 \u001b[1;32mif\u001b[0m \u001b[0mM\u001b[0m\u001b[1;33m.\u001b[0m\u001b[0mndim\u001b[0m \u001b[1;33m!=\u001b[0m \u001b[1;36m2\u001b[0m\u001b[1;33m:\u001b[0m\u001b[1;33m\u001b[0m\u001b[0m\n\u001b[1;32m--> 173\u001b[1;33m                     \u001b[1;32mraise\u001b[0m \u001b[0mTypeError\u001b[0m\u001b[1;33m(\u001b[0m\u001b[1;34m'expected dimension <= 2 array or matrix'\u001b[0m\u001b[1;33m)\u001b[0m\u001b[1;33m\u001b[0m\u001b[0m\n\u001b[0m\u001b[0;32m    174\u001b[0m                 \u001b[1;32melse\u001b[0m\u001b[1;33m:\u001b[0m\u001b[1;33m\u001b[0m\u001b[0m\n\u001b[0;32m    175\u001b[0m                     \u001b[0mself\u001b[0m\u001b[1;33m.\u001b[0m\u001b[0mshape\u001b[0m \u001b[1;33m=\u001b[0m \u001b[0mM\u001b[0m\u001b[1;33m.\u001b[0m\u001b[0mshape\u001b[0m\u001b[1;33m\u001b[0m\u001b[0m\n",
        "\u001b[1;31mTypeError\u001b[0m: expected dimension <= 2 array or matrix"
       ]
      }
     ],
     "prompt_number": 54
    },
    {
     "cell_type": "code",
     "collapsed": false,
     "input": [],
     "language": "python",
     "metadata": {
      "run_control": {
       "state": "n"
      }
     },
     "outputs": []
    },
    {
     "cell_type": "code",
     "collapsed": false,
     "input": [
      "img_file =at_dir + '/' + _f\n",
      "start = datetime.now()\n",
      "img = nib.load(img_file)\n",
      "dat = img.get_data()[:,:,:,image_idxs]\n",
      "str(datetime.now() - start)"
     ],
     "language": "python",
     "metadata": {
      "run_control": {
       "state": "n"
      }
     },
     "outputs": [
      {
       "metadata": {},
       "output_type": "pyout",
       "prompt_number": 82,
       "text": [
        "'0:00:30.292433'"
       ]
      }
     ],
     "prompt_number": 82
    },
    {
     "cell_type": "code",
     "collapsed": false,
     "input": [
      "from nilearn.image import index_img"
     ],
     "language": "python",
     "metadata": {
      "run_control": {
       "state": "n"
      }
     },
     "outputs": [],
     "prompt_number": 83
    },
    {
     "cell_type": "code",
     "collapsed": false,
     "input": [
      "img_file =at_dir + '/' + _f\n",
      "start = datetime.now()\n",
      "dat = index_img(img_file,image_idxs).shape\n",
      "str(datetime.now() - start)"
     ],
     "language": "python",
     "metadata": {
      "run_control": {
       "state": "n"
      }
     },
     "outputs": [
      {
       "metadata": {},
       "output_type": "pyout",
       "prompt_number": 84,
       "text": [
        "'0:00:26.165479'"
       ]
      }
     ],
     "prompt_number": 84
    },
    {
     "cell_type": "code",
     "collapsed": false,
     "input": [
      "(26*80)/60./60. # 36 minutes = 0.57 hours just to load 60 files, in serial\n",
      "\n",
      "# with 4 simultaneous jobs that cuts down to under 10 mins\n",
      "\n"
     ],
     "language": "python",
     "metadata": {
      "run_control": {
       "state": "n"
      }
     },
     "outputs": [
      {
       "metadata": {},
       "output_type": "pyout",
       "prompt_number": 90,
       "text": [
        "0.5777777777777777"
       ]
      }
     ],
     "prompt_number": 90
    },
    {
     "cell_type": "code",
     "collapsed": false,
     "input": [
      "(26*500)/60./60. # 36 minutes just to load 60 files, in serial\n",
      "\n",
      "# 3 hours for 500 cnxns\n"
     ],
     "language": "python",
     "metadata": {
      "run_control": {
       "state": "n"
      }
     },
     "outputs": [
      {
       "metadata": {},
       "output_type": "pyout",
       "prompt_number": 92,
       "text": [
        "3.611111111111111"
       ]
      }
     ],
     "prompt_number": 92
    },
    {
     "cell_type": "code",
     "collapsed": false,
     "input": [
      "(26*7000)/60./50. # 36 minutes just to load 60 files, in serial\n",
      "\n",
      "# 60 hours for 700 cnxns\n"
     ],
     "language": "python",
     "metadata": {
      "run_control": {
       "state": "n"
      }
     },
     "outputs": [
      {
       "metadata": {},
       "output_type": "pyout",
       "prompt_number": 94,
       "text": [
        "60.66666666666667"
       ]
      }
     ],
     "prompt_number": 94
    },
    {
     "cell_type": "code",
     "collapsed": false,
     "input": [
      "index_"
     ],
     "language": "python",
     "metadata": {
      "run_control": {
       "state": "n"
      }
     },
     "outputs": []
    },
    {
     "cell_type": "code",
     "collapsed": false,
     "input": [
      "from datetime import datetime"
     ],
     "language": "python",
     "metadata": {
      "run_control": {
       "state": "n"
      }
     },
     "outputs": [],
     "prompt_number": 13
    },
    {
     "cell_type": "code",
     "collapsed": false,
     "input": [
      "volsforthisfile"
     ],
     "language": "python",
     "metadata": {
      "run_control": {
       "state": "n"
      }
     },
     "outputs": [
      {
       "metadata": {},
       "output_type": "pyout",
       "prompt_number": 48,
       "text": [
        "array([0, 1, 2, 3, 4, 5, 6])"
       ]
      }
     ],
     "prompt_number": 48
    },
    {
     "cell_type": "code",
     "collapsed": false,
     "input": [],
     "language": "python",
     "metadata": {
      "run_control": {
       "state": "n"
      }
     },
     "outputs": []
    },
    {
     "cell_type": "code",
     "collapsed": false,
     "input": [
      "va.atlas_info['ma]"
     ],
     "language": "python",
     "metadata": {
      "run_control": {
       "state": "n"
      }
     },
     "outputs": []
    },
    {
     "cell_type": "code",
     "collapsed": false,
     "input": [
      "volsforthisfile"
     ],
     "language": "python",
     "metadata": {
      "run_control": {
       "state": "n"
      }
     },
     "outputs": [
      {
       "metadata": {},
       "output_type": "pyout",
       "prompt_number": 46,
       "text": [
        "array([0, 1, 2, 3, 4, 5, 6])"
       ]
      }
     ],
     "prompt_number": 46
    },
    {
     "cell_type": "code",
     "collapsed": false,
     "input": [
      "volsforthisfile = va.atlas_info['mappings'].ix[idsforthisfile]['4dvolind'].values"
     ],
     "language": "python",
     "metadata": {
      "run_control": {
       "state": "n"
      }
     },
     "outputs": [
      {
       "metadata": {},
       "output_type": "pyout",
       "prompt_number": 43,
       "text": [
        "array([9])"
       ]
      }
     ],
     "prompt_number": 43
    },
    {
     "cell_type": "code",
     "collapsed": false,
     "input": [
      "va.atlas_info['mappings'][5]"
     ],
     "language": "python",
     "metadata": {
      "run_control": {
       "state": "n"
      }
     },
     "outputs": [
      {
       "metadata": {},
       "output_type": "pyout",
       "prompt_number": 11,
       "text": [
        "['0_to_5',\n",
        " '/home/jgriffiths/Code/libraries_of_mine/github/ConWhAt/ConWhAt/atlases/volumetric/dipy_dsi_l2k8_sc33/vismap_grp_cat_rois_v2_0_norm.nii.gz',\n",
        " 5]"
       ]
      }
     ],
     "prompt_number": 11
    },
    {
     "cell_type": "code",
     "collapsed": false,
     "input": [
      "test_file = 'mni_lesionmask_12331_rs1mm.nii.gz'"
     ],
     "language": "python",
     "metadata": {
      "run_control": {
       "state": "n"
      }
     },
     "outputs": [],
     "prompt_number": 16
    },
    {
     "cell_type": "code",
     "collapsed": false,
     "input": [
      "os.path.abspath('../')"
     ],
     "language": "python",
     "metadata": {
      "run_control": {
       "state": "n"
      }
     },
     "outputs": [
      {
       "metadata": {},
       "output_type": "pyout",
       "prompt_number": 13,
       "text": [
        "'/home/jgriffiths/Code/libraries_of_mine/github/ConWhAt/ConWhAt'"
       ]
      }
     ],
     "prompt_number": 13
    },
    {
     "cell_type": "code",
     "collapsed": false,
     "input": [
      "plot_stat_map(test_file,vmax=2.)"
     ],
     "language": "python",
     "metadata": {
      "run_control": {
       "state": "n"
      }
     },
     "outputs": [
      {
       "metadata": {},
       "output_type": "pyout",
       "prompt_number": 14,
       "text": [
        "<nilearn.plotting.displays.OrthoSlicer at 0x7f0d0e978f50>"
       ]
      },
      {
       "metadata": {},
       "output_type": "display_data",
       "png": "[encoded data removed]",
       "text": [
        "<matplotlib.figure.Figure at 0x7f0d52bd0b50>"
       ]
      }
     ],
     "prompt_number": 14
    },
    {
     "cell_type": "code",
     "collapsed": false,
     "input": [
      "va.atlas_info['mappings'][0]"
     ],
     "language": "python",
     "metadata": {
      "run_control": {
       "state": "n"
      }
     },
     "outputs": [
      {
       "metadata": {},
       "output_type": "pyout",
       "prompt_number": 15,
       "text": [
        "['0_to_0',\n",
        " '/home/jgriffiths/Code/libraries_of_mine/github/ConWhAt/ConWhAt/atlases/volumetric/dipy_dsi_l2k8_sc33/vismap_grp_cat_rois_v2_0_norm.nii.gz',\n",
        " 0]"
       ]
      }
     ],
     "prompt_number": 15
    },
    {
     "cell_type": "code",
     "collapsed": false,
     "input": [
      "va.atlas_info['mappings'][1]"
     ],
     "language": "python",
     "metadata": {
      "run_control": {
       "state": "n"
      }
     },
     "outputs": [
      {
       "metadata": {},
       "output_type": "pyout",
       "prompt_number": 16,
       "text": [
        "['0_to_1',\n",
        " '/home/jgriffiths/Code/libraries_of_mine/github/ConWhAt/ConWhAt/atlases/volumetric/dipy_dsi_l2k8_sc33/vismap_grp_cat_rois_v2_0_norm.nii.gz',\n",
        " 1]"
       ]
      }
     ],
     "prompt_number": 16
    },
    {
     "cell_type": "code",
     "collapsed": false,
     "input": [
      "va.atlas_info['mappings'][4]"
     ],
     "language": "python",
     "metadata": {
      "run_control": {
       "state": "n"
      }
     },
     "outputs": [
      {
       "metadata": {},
       "output_type": "pyout",
       "prompt_number": 17,
       "text": [
        "['0_to_4',\n",
        " '/home/jgriffiths/Code/libraries_of_mine/github/ConWhAt/ConWhAt/atlases/volumetric/dipy_dsi_l2k8_sc33/vismap_grp_cat_rois_v2_0_norm.nii.gz',\n",
        " 4]"
       ]
      }
     ],
     "prompt_number": 17
    },
    {
     "cell_type": "code",
     "collapsed": false,
     "input": [
      "from datetime import datetime"
     ],
     "language": "python",
     "metadata": {
      "run_control": {
       "state": "n"
      }
     },
     "outputs": [],
     "prompt_number": 16
    },
    {
     "cell_type": "code",
     "collapsed": false,
     "input": [
      "start = datetime.now()\n",
      "idxs = range(10)# [0,1,2] # 'all'\n",
      "res,df = va.compute_hit_stats(test_file,idxs)"
     ],
     "language": "python",
     "metadata": {
      "run_control": {
       "state": "n"
      }
     },
     "outputs": [],
     "prompt_number": 19
    },
    {
     "cell_type": "code",
     "collapsed": false,
     "input": [
      "finish = datetime.now()\n",
      "dur = finish-start\n",
      "str(dur)"
     ],
     "language": "python",
     "metadata": {
      "run_control": {
       "state": "n"
      }
     },
     "outputs": [
      {
       "metadata": {},
       "output_type": "pyout",
       "prompt_number": 22,
       "text": [
        "'0:03:47.470633'"
       ]
      }
     ],
     "prompt_number": 22
    },
    {
     "cell_type": "markdown",
     "metadata": {},
     "source": [
      "---"
     ]
    },
    {
     "cell_type": "code",
     "collapsed": false,
     "input": [
      "idxs = [0,3,5,7]"
     ],
     "language": "python",
     "metadata": {
      "run_control": {
       "state": "n"
      }
     },
     "outputs": [],
     "prompt_number": 17
    },
    {
     "cell_type": "code",
     "collapsed": false,
     "input": [
      "va.at_dir = '/home/jgriffiths/Code/libraries_of_mine/github/ConWhAt/ConWhAt/atlases/volumetric/dipy_dsi_sd4_l2k8_sc33'"
     ],
     "language": "python",
     "metadata": {
      "run_control": {
       "state": "n"
      }
     },
     "outputs": [],
     "prompt_number": 18
    },
    {
     "cell_type": "code",
     "collapsed": false,
     "input": [
      "from datetime import datetime"
     ],
     "language": "python",
     "metadata": {
      "run_control": {
       "state": "n"
      }
     },
     "outputs": [],
     "prompt_number": 20
    },
    {
     "cell_type": "code",
     "collapsed": false,
     "input": [
      "# compute hit stats v1"
     ],
     "language": "python",
     "metadata": {
      "run_control": {
       "state": "n"
      }
     },
     "outputs": [],
     "prompt_number": 23
    },
    {
     "cell_type": "code",
     "collapsed": false,
     "input": [
      "start = datetime.now()\n",
      "idxs = range(10)# [0,1,2] # 'all'\n",
      "#res,df = va.compute_hit_stats(test_file,idxs)\n",
      "\n",
      "res,df = va.compute_hit_stats(test_file,idxs)\n",
      "\n",
      "finish = datetime.now()\n",
      "dur = finish-start\n",
      "str(dur)"
     ],
     "language": "python",
     "metadata": {
      "run_control": {
       "state": "n"
      }
     },
     "outputs": [
      {
       "output_type": "stream",
       "stream": "stderr",
       "text": [
        "/home/jgriffiths/Code/libraries_of_mine/github/ConWhAt/ConWhAt/base/hit_stats.py:22: RuntimeWarning: invalid value encountered in divide\n",
        "  TPR = TP / (TP + FN)\n",
        "/home/jgriffiths/Code/libraries_of_mine/github/ConWhAt/ConWhAt/base/hit_stats.py:28: RuntimeWarning: invalid value encountered in float_scalars\n",
        "  PPV = TP / (TP + FP)\n",
        "/home/jgriffiths/Code/libraries_of_mine/github/ConWhAt/ConWhAt/base/hit_stats.py:37: RuntimeWarning: invalid value encountered in float_scalars\n",
        "  FDR = FP / (FP + TP)\n",
        "/home/jgriffiths/Code/libraries_of_mine/github/ConWhAt/ConWhAt/base/hit_stats.py:40: RuntimeWarning: invalid value encountered in divide\n",
        "  FNR = FN / (FN + TP)\n",
        "/home/jgriffiths/Code/libraries_of_mine/github/ConWhAt/ConWhAt/base/hit_stats.py:46: RuntimeWarning: invalid value encountered in double_scalars\n",
        "  F1 = (2*TP) / (2*TP + FP + FN)\n",
        "/home/jgriffiths/Code/libraries_of_mine/github/ConWhAt/ConWhAt/base/hit_stats.py:49: RuntimeWarning: invalid value encountered in double_scalars\n",
        "  MCC = (TP*TN - FP*FN) / (np.sqrt((TP + FP)*(TP+FN)*(TN+FP)*(TN+FN)))\n",
        "/home/jgriffiths/Software/anaconda2/envs/ipython2.4/lib/python2.7/site-packages/numpy/lib/function_base.py:2569: RuntimeWarning: invalid value encountered in true_divide\n",
        "  c /= stddev[:, None]\n"
       ]
      },
      {
       "output_type": "stream",
       "stream": "stdout",
       "text": [
        "computing hit stats for roi mni_lesionmask_12331_rs1mm.nii.gz\n"
       ]
      },
      {
       "output_type": "stream",
       "stream": "stderr",
       "text": [
        "/home/jgriffiths/Software/anaconda2/envs/ipython2.4/lib/python2.7/site-packages/numpy/lib/function_base.py:2570: RuntimeWarning: invalid value encountered in true_divide\n",
        "  c /= stddev[None, :]\n"
       ]
      },
      {
       "metadata": {},
       "output_type": "pyout",
       "prompt_number": 21,
       "text": [
        "'0:10:04.268097'"
       ]
      }
     ],
     "prompt_number": 21
    },
    {
     "cell_type": "code",
     "collapsed": false,
     "input": [
      "# compute hit stats v2 - 1/3 the time?"
     ],
     "language": "python",
     "metadata": {
      "run_control": {
       "state": "n"
      }
     },
     "outputs": [],
     "prompt_number": 25
    },
    {
     "cell_type": "code",
     "collapsed": false,
     "input": [
      "start = datetime.now()\n",
      "idxs = range(10)# [0,1,2] # 'all'\n",
      "#res,df = va.compute_hit_stats(test_file,idxs)\n",
      "\n",
      "res,df = va.compute_hit_stats_test(test_file,idxs)\n",
      "\n",
      "\n",
      "finish = datetime.now()\n",
      "dur = finish-start\n",
      "str(dur)"
     ],
     "language": "python",
     "metadata": {
      "run_control": {
       "state": "n"
      }
     },
     "outputs": [
      {
       "output_type": "stream",
       "stream": "stdout",
       "text": [
        "computing hit stats for roi mni_lesionmask_12331_rs1mm.nii.gz\n"
       ]
      },
      {
       "metadata": {},
       "output_type": "pyout",
       "prompt_number": 61,
       "text": [
        "'0:00:54.510522'"
       ]
      }
     ],
     "prompt_number": 61
    },
    {
     "cell_type": "markdown",
     "metadata": {},
     "source": [
      "---"
     ]
    },
    {
     "cell_type": "markdown",
     "metadata": {},
     "source": [
      "using nzmappings"
     ]
    },
    {
     "cell_type": "markdown",
     "metadata": {},
     "source": [
      "---"
     ]
    },
    {
     "cell_type": "code",
     "collapsed": false,
     "input": [],
     "language": "python",
     "metadata": {
      "run_control": {
       "state": "n"
      }
     },
     "outputs": []
    },
    {
     "cell_type": "code",
     "collapsed": false,
     "input": [],
     "language": "python",
     "metadata": {
      "run_control": {
       "state": "n"
      }
     },
     "outputs": []
    },
    {
     "cell_type": "code",
     "collapsed": false,
     "input": [
      "res,df = va.compute_hit_stats_test(test_file,idxs)"
     ],
     "language": "python",
     "metadata": {
      "run_control": {
       "state": "n"
      }
     },
     "outputs": [
      {
       "output_type": "stream",
       "stream": "stderr",
       "text": [
        "/home/jgriffiths/Code/libraries_of_mine/github/ConWhAt/ConWhAt/base/hit_stats.py:22: RuntimeWarning: invalid value encountered in divide\n",
        "  TPR = TP / (TP + FN)\n",
        "/home/jgriffiths/Code/libraries_of_mine/github/ConWhAt/ConWhAt/base/hit_stats.py:28: RuntimeWarning: invalid value encountered in float_scalars\n",
        "  PPV = TP / (TP + FP)\n",
        "/home/jgriffiths/Code/libraries_of_mine/github/ConWhAt/ConWhAt/base/hit_stats.py:37: RuntimeWarning: invalid value encountered in float_scalars\n",
        "  FDR = FP / (FP + TP)\n",
        "/home/jgriffiths/Code/libraries_of_mine/github/ConWhAt/ConWhAt/base/hit_stats.py:40: RuntimeWarning: invalid value encountered in divide\n",
        "  FNR = FN / (FN + TP)\n",
        "/home/jgriffiths/Code/libraries_of_mine/github/ConWhAt/ConWhAt/base/hit_stats.py:46: RuntimeWarning: invalid value encountered in double_scalars\n",
        "  F1 = (2*TP) / (2*TP + FP + FN)\n",
        "/home/jgriffiths/Code/libraries_of_mine/github/ConWhAt/ConWhAt/base/hit_stats.py:49: RuntimeWarning: invalid value encountered in double_scalars\n",
        "  MCC = (TP*TN - FP*FN) / (np.sqrt((TP + FP)*(TP+FN)*(TN+FP)*(TN+FN)))\n",
        "/home/jgriffiths/Software/anaconda2/envs/ipython2.4/lib/python2.7/site-packages/numpy/lib/function_base.py:2569: RuntimeWarning: invalid value encountered in true_divide\n",
        "  c /= stddev[:, None]\n"
       ]
      },
      {
       "output_type": "stream",
       "stream": "stdout",
       "text": [
        "computing hit stats for roi mni_lesionmask_12331_rs1mm.nii.gz\n"
       ]
      },
      {
       "output_type": "stream",
       "stream": "stderr",
       "text": [
        "/home/jgriffiths/Software/anaconda2/envs/ipython2.4/lib/python2.7/site-packages/numpy/lib/function_base.py:2570: RuntimeWarning: invalid value encountered in true_divide\n",
        "  c /= stddev[None, :]\n"
       ]
      }
     ],
     "prompt_number": 19
    },
    {
     "cell_type": "code",
     "collapsed": false,
     "input": [
      "df"
     ],
     "language": "python",
     "metadata": {
      "run_control": {
       "state": "n"
      }
     },
     "outputs": []
    },
    {
     "cell_type": "code",
     "collapsed": false,
     "input": [],
     "language": "python",
     "metadata": {
      "run_control": {
       "state": "n"
      }
     },
     "outputs": []
    },
    {
     "cell_type": "code",
     "collapsed": false,
     "input": [],
     "language": "python",
     "metadata": {
      "run_control": {
       "state": "n"
      }
     },
     "outputs": []
    },
    {
     "cell_type": "code",
     "collapsed": false,
     "input": [],
     "language": "python",
     "metadata": {
      "run_control": {
       "state": "n"
      }
     },
     "outputs": []
    },
    {
     "cell_type": "code",
     "collapsed": false,
     "input": [
      "at_dir = '/va.atlas_info['atlas_name']"
     ],
     "language": "python",
     "metadata": {
      "run_control": {
       "state": "n"
      }
     },
     "outputs": [
      {
       "metadata": {},
       "output_type": "pyout",
       "prompt_number": 20,
       "text": [
        "'dipy_dsi_sd4_l2k8_sc33'"
       ]
      }
     ],
     "prompt_number": 20
    },
    {
     "cell_type": "code",
     "collapsed": false,
     "input": [
      "mappings = va.atlas_info['mappings']"
     ],
     "language": "python",
     "metadata": {
      "run_control": {
       "state": "n"
      }
     },
     "outputs": [],
     "prompt_number": 21
    },
    {
     "cell_type": "code",
     "collapsed": false,
     "input": [
      "file_id = 0"
     ],
     "language": "python",
     "metadata": {
      "run_control": {
       "state": "n"
      }
     },
     "outputs": [],
     "prompt_number": 23
    },
    {
     "cell_type": "code",
     "collapsed": false,
     "input": [
      "np.nonzero(mappings.ix[idxs]['nii_file_id'] == file_id)[0]"
     ],
     "language": "python",
     "metadata": {
      "run_control": {
       "state": "n"
      }
     },
     "outputs": [
      {
       "metadata": {},
       "output_type": "pyout",
       "prompt_number": 24,
       "text": [
        "array([0, 1, 2, 3])"
       ]
      }
     ],
     "prompt_number": 24
    },
    {
     "cell_type": "code",
     "collapsed": false,
     "input": [
      "np.nonzero(mappings.ix[idxs]['nii_file_id'] == file_id)"
     ],
     "language": "python",
     "metadata": {
      "run_control": {
       "state": "n"
      }
     },
     "outputs": [
      {
       "metadata": {},
       "output_type": "pyout",
       "prompt_number": 27,
       "text": [
        "(array([0, 1, 2, 3]),)"
       ]
      }
     ],
     "prompt_number": 27
    },
    {
     "cell_type": "code",
     "collapsed": false,
     "input": [
      "file_id"
     ],
     "language": "python",
     "metadata": {
      "run_control": {
       "state": "n"
      }
     },
     "outputs": [
      {
       "metadata": {},
       "output_type": "pyout",
       "prompt_number": 37,
       "text": [
        "0"
       ]
      }
     ],
     "prompt_number": 37
    },
    {
     "cell_type": "code",
     "collapsed": false,
     "input": [
      "np.nonzero(mappings['nii_file_id'] == file_id)[0]"
     ],
     "language": "python",
     "metadata": {
      "run_control": {
       "state": "n"
      }
     },
     "outputs": [
      {
       "metadata": {},
       "output_type": "pyout",
       "prompt_number": 38,
       "text": [
        "array([ 0,  1,  2,  3,  4,  5,  6,  7,  8,  9, 10, 11, 12, 13, 14, 15, 16,\n",
        "       17, 18, 19, 20, 21, 22, 23, 24, 25, 26, 27, 28, 29, 30, 31, 32, 33,\n",
        "       34, 35, 36, 37, 38, 39, 40, 41, 42, 43, 44, 45, 46, 47, 48, 49, 50,\n",
        "       51, 52, 53, 54, 55, 56, 57, 58, 59, 60, 61, 62, 63, 64, 65, 66, 67,\n",
        "       68, 69, 70, 71, 72, 73, 74, 75, 76, 77, 78, 79, 80, 81, 82])"
       ]
      }
     ],
     "prompt_number": 38
    },
    {
     "cell_type": "code",
     "collapsed": false,
     "input": [
      "(mappings['nii_file_id'] == file_id).ix[idxs]"
     ],
     "language": "python",
     "metadata": {
      "run_control": {
       "state": "n"
      }
     },
     "outputs": [
      {
       "metadata": {},
       "output_type": "pyout",
       "prompt_number": 41,
       "text": [
        "0    True\n",
        "3    True\n",
        "5    True\n",
        "7    True\n",
        "Name: nii_file_id, dtype: bool"
       ]
      }
     ],
     "prompt_number": 41
    },
    {
     "cell_type": "code",
     "collapsed": false,
     "input": [
      "for i in mappings.index:\n",
      "  thing = 5\n",
      "    "
     ],
     "language": "python",
     "metadata": {
      "run_control": {
       "state": "n"
      }
     },
     "outputs": [],
     "prompt_number": 45
    },
    {
     "cell_type": "code",
     "collapsed": false,
     "input": [
      "mappings.ix[i]"
     ],
     "language": "python",
     "metadata": {
      "run_control": {
       "state": "n"
      }
     },
     "outputs": [
      {
       "metadata": {},
       "output_type": "pyout",
       "prompt_number": 52,
       "text": [
        "name                                        82_to_82\n",
        "nii_file       vismap_grp_cat_rois_v2_82_norm.nii.gz\n",
        "nii_file_id                                       82\n",
        "4dvolind                                          82\n",
        "Name: 6888, dtype: object"
       ]
      }
     ],
     "prompt_number": 52
    },
    {
     "cell_type": "code",
     "collapsed": false,
     "input": [
      "[_name,_file,_nii_file_id,_4dvolind =\n",
      "thing = [[_name,_file,_nii_file_id,_4dvolind = mappings.ix[i].values for i in mappings.index if i in idxs]\n",
      "\n",
      "_mappings.ix[i].values"
     ],
     "language": "python",
     "metadata": {
      "run_control": {
       "state": "n"
      }
     },
     "outputs": [
      {
       "metadata": {},
       "output_type": "pyout",
       "prompt_number": 51,
       "text": [
        "array(['82_to_82', 'vismap_grp_cat_rois_v2_82_norm.nii.gz', 82, 82], dtype=object)"
       ]
      }
     ],
     "prompt_number": 51
    },
    {
     "cell_type": "code",
     "collapsed": false,
     "input": [
      "mappings.ix[i]['name'], mappings.ix[i]['nii_file']"
     ],
     "language": "python",
     "metadata": {
      "run_control": {
       "state": "n"
      }
     },
     "outputs": [
      {
       "metadata": {},
       "output_type": "pyout",
       "prompt_number": 49,
       "text": [
        "name                                        82_to_82\n",
        "nii_file       vismap_grp_cat_rois_v2_82_norm.nii.gz\n",
        "nii_file_id                                       82\n",
        "4dvolind                                          82\n",
        "Name: 6888, dtype: object"
       ]
      }
     ],
     "prompt_number": 49
    },
    {
     "cell_type": "code",
     "collapsed": false,
     "input": [
      "idxsforthisfile = np.nonzero(mappings['nii_file_id'] == file_id)[0]\n",
      "idxstouse = [i for i in idxsforthisfile if i in idxs]"
     ],
     "language": "python",
     "metadata": {
      "run_control": {
       "state": "n"
      }
     },
     "outputs": [],
     "prompt_number": 57
    },
    {
     "cell_type": "code",
     "collapsed": false,
     "input": [],
     "language": "python",
     "metadata": {
      "run_control": {
       "state": "n"
      }
     },
     "outputs": []
    },
    {
     "cell_type": "markdown",
     "metadata": {},
     "source": [
      "---"
     ]
    },
    {
     "cell_type": "code",
     "collapsed": false,
     "input": [
      "# now change from index_img and see how long it takes..."
     ],
     "language": "python",
     "metadata": {
      "run_control": {
       "state": "n"
      }
     },
     "outputs": [],
     "prompt_number": 21
    },
    {
     "cell_type": "code",
     "collapsed": false,
     "input": [
      "import numpy as np"
     ],
     "language": "python",
     "metadata": {
      "run_control": {
       "state": "n"
      }
     },
     "outputs": [],
     "prompt_number": 22
    },
    {
     "cell_type": "code",
     "collapsed": false,
     "input": [
      "import pandas as pd"
     ],
     "language": "python",
     "metadata": {
      "run_control": {
       "state": "n"
      }
     },
     "outputs": [],
     "prompt_number": 23
    },
    {
     "cell_type": "code",
     "collapsed": false,
     "input": [
      "_arr = np.array(va.atlas_info['mappings'])"
     ],
     "language": "python",
     "metadata": {
      "run_control": {
       "state": "n"
      }
     },
     "outputs": [],
     "prompt_number": 24
    },
    {
     "cell_type": "code",
     "collapsed": false,
     "input": [
      "#_arr.sort()"
     ],
     "language": "python",
     "metadata": {
      "run_control": {
       "state": "n"
      }
     },
     "outputs": [],
     "prompt_number": 87
    },
    {
     "cell_type": "code",
     "collapsed": false,
     "input": [
      "df_arr = pd.DataFrame(_arr, columns=['rois', 'path', 'vol'])"
     ],
     "language": "python",
     "metadata": {
      "run_control": {
       "state": "n"
      }
     },
     "outputs": [],
     "prompt_number": 32
    },
    {
     "cell_type": "code",
     "collapsed": false,
     "input": [
      "df_arr.sort_values(['path', 'vol'])"
     ],
     "language": "python",
     "metadata": {
      "run_control": {
       "state": "n"
      }
     },
     "outputs": [
      {
       "html": [
        "<div style=\"max-width:1500px;overflow:auto;\">\n",
        "<table border=\"1\" class=\"dataframe\">\n",
        "  <thead>\n",
        "    <tr style=\"text-align: right;\">\n",
        "      <th></th>\n",
        "      <th>rois</th>\n",
        "      <th>path</th>\n",
        "      <th>vol</th>\n",
        "    </tr>\n",
        "  </thead>\n",
        "  <tbody>\n",
        "    <tr>\n",
        "      <th>0</th>\n",
        "      <td>0_to_0</td>\n",
        "      <td>/home/jgriffiths/Code/libraries_of_mine/github...</td>\n",
        "      <td>0</td>\n",
        "    </tr>\n",
        "    <tr>\n",
        "      <th>1</th>\n",
        "      <td>0_to_1</td>\n",
        "      <td>/home/jgriffiths/Code/libraries_of_mine/github...</td>\n",
        "      <td>1</td>\n",
        "    </tr>\n",
        "    <tr>\n",
        "      <th>10</th>\n",
        "      <td>0_to_10</td>\n",
        "      <td>/home/jgriffiths/Code/libraries_of_mine/github...</td>\n",
        "      <td>10</td>\n",
        "    </tr>\n",
        "    <tr>\n",
        "      <th>11</th>\n",
        "      <td>0_to_11</td>\n",
        "      <td>/home/jgriffiths/Code/libraries_of_mine/github...</td>\n",
        "      <td>11</td>\n",
        "    </tr>\n",
        "    <tr>\n",
        "      <th>12</th>\n",
        "      <td>0_to_12</td>\n",
        "      <td>/home/jgriffiths/Code/libraries_of_mine/github...</td>\n",
        "      <td>12</td>\n",
        "    </tr>\n",
        "    <tr>\n",
        "      <th>13</th>\n",
        "      <td>0_to_13</td>\n",
        "      <td>/home/jgriffiths/Code/libraries_of_mine/github...</td>\n",
        "      <td>13</td>\n",
        "    </tr>\n",
        "    <tr>\n",
        "      <th>14</th>\n",
        "      <td>0_to_14</td>\n",
        "      <td>/home/jgriffiths/Code/libraries_of_mine/github...</td>\n",
        "      <td>14</td>\n",
        "    </tr>\n",
        "    <tr>\n",
        "      <th>15</th>\n",
        "      <td>0_to_15</td>\n",
        "      <td>/home/jgriffiths/Code/libraries_of_mine/github...</td>\n",
        "      <td>15</td>\n",
        "    </tr>\n",
        "    <tr>\n",
        "      <th>16</th>\n",
        "      <td>0_to_16</td>\n",
        "      <td>/home/jgriffiths/Code/libraries_of_mine/github...</td>\n",
        "      <td>16</td>\n",
        "    </tr>\n",
        "    <tr>\n",
        "      <th>17</th>\n",
        "      <td>0_to_17</td>\n",
        "      <td>/home/jgriffiths/Code/libraries_of_mine/github...</td>\n",
        "      <td>17</td>\n",
        "    </tr>\n",
        "    <tr>\n",
        "      <th>18</th>\n",
        "      <td>0_to_18</td>\n",
        "      <td>/home/jgriffiths/Code/libraries_of_mine/github...</td>\n",
        "      <td>18</td>\n",
        "    </tr>\n",
        "    <tr>\n",
        "      <th>19</th>\n",
        "      <td>0_to_19</td>\n",
        "      <td>/home/jgriffiths/Code/libraries_of_mine/github...</td>\n",
        "      <td>19</td>\n",
        "    </tr>\n",
        "    <tr>\n",
        "      <th>2</th>\n",
        "      <td>0_to_2</td>\n",
        "      <td>/home/jgriffiths/Code/libraries_of_mine/github...</td>\n",
        "      <td>2</td>\n",
        "    </tr>\n",
        "    <tr>\n",
        "      <th>20</th>\n",
        "      <td>0_to_20</td>\n",
        "      <td>/home/jgriffiths/Code/libraries_of_mine/github...</td>\n",
        "      <td>20</td>\n",
        "    </tr>\n",
        "    <tr>\n",
        "      <th>21</th>\n",
        "      <td>0_to_21</td>\n",
        "      <td>/home/jgriffiths/Code/libraries_of_mine/github...</td>\n",
        "      <td>21</td>\n",
        "    </tr>\n",
        "    <tr>\n",
        "      <th>22</th>\n",
        "      <td>0_to_22</td>\n",
        "      <td>/home/jgriffiths/Code/libraries_of_mine/github...</td>\n",
        "      <td>22</td>\n",
        "    </tr>\n",
        "    <tr>\n",
        "      <th>23</th>\n",
        "      <td>0_to_23</td>\n",
        "      <td>/home/jgriffiths/Code/libraries_of_mine/github...</td>\n",
        "      <td>23</td>\n",
        "    </tr>\n",
        "    <tr>\n",
        "      <th>24</th>\n",
        "      <td>0_to_24</td>\n",
        "      <td>/home/jgriffiths/Code/libraries_of_mine/github...</td>\n",
        "      <td>24</td>\n",
        "    </tr>\n",
        "    <tr>\n",
        "      <th>25</th>\n",
        "      <td>0_to_25</td>\n",
        "      <td>/home/jgriffiths/Code/libraries_of_mine/github...</td>\n",
        "      <td>25</td>\n",
        "    </tr>\n",
        "    <tr>\n",
        "      <th>26</th>\n",
        "      <td>0_to_26</td>\n",
        "      <td>/home/jgriffiths/Code/libraries_of_mine/github...</td>\n",
        "      <td>26</td>\n",
        "    </tr>\n",
        "    <tr>\n",
        "      <th>27</th>\n",
        "      <td>0_to_27</td>\n",
        "      <td>/home/jgriffiths/Code/libraries_of_mine/github...</td>\n",
        "      <td>27</td>\n",
        "    </tr>\n",
        "    <tr>\n",
        "      <th>28</th>\n",
        "      <td>0_to_28</td>\n",
        "      <td>/home/jgriffiths/Code/libraries_of_mine/github...</td>\n",
        "      <td>28</td>\n",
        "    </tr>\n",
        "    <tr>\n",
        "      <th>29</th>\n",
        "      <td>0_to_29</td>\n",
        "      <td>/home/jgriffiths/Code/libraries_of_mine/github...</td>\n",
        "      <td>29</td>\n",
        "    </tr>\n",
        "    <tr>\n",
        "      <th>3</th>\n",
        "      <td>0_to_3</td>\n",
        "      <td>/home/jgriffiths/Code/libraries_of_mine/github...</td>\n",
        "      <td>3</td>\n",
        "    </tr>\n",
        "    <tr>\n",
        "      <th>30</th>\n",
        "      <td>0_to_30</td>\n",
        "      <td>/home/jgriffiths/Code/libraries_of_mine/github...</td>\n",
        "      <td>30</td>\n",
        "    </tr>\n",
        "    <tr>\n",
        "      <th>31</th>\n",
        "      <td>0_to_31</td>\n",
        "      <td>/home/jgriffiths/Code/libraries_of_mine/github...</td>\n",
        "      <td>31</td>\n",
        "    </tr>\n",
        "    <tr>\n",
        "      <th>32</th>\n",
        "      <td>0_to_32</td>\n",
        "      <td>/home/jgriffiths/Code/libraries_of_mine/github...</td>\n",
        "      <td>32</td>\n",
        "    </tr>\n",
        "    <tr>\n",
        "      <th>33</th>\n",
        "      <td>0_to_33</td>\n",
        "      <td>/home/jgriffiths/Code/libraries_of_mine/github...</td>\n",
        "      <td>33</td>\n",
        "    </tr>\n",
        "    <tr>\n",
        "      <th>34</th>\n",
        "      <td>0_to_34</td>\n",
        "      <td>/home/jgriffiths/Code/libraries_of_mine/github...</td>\n",
        "      <td>34</td>\n",
        "    </tr>\n",
        "    <tr>\n",
        "      <th>35</th>\n",
        "      <td>0_to_35</td>\n",
        "      <td>/home/jgriffiths/Code/libraries_of_mine/github...</td>\n",
        "      <td>35</td>\n",
        "    </tr>\n",
        "    <tr>\n",
        "      <th>...</th>\n",
        "      <td>...</td>\n",
        "      <td>...</td>\n",
        "      <td>...</td>\n",
        "    </tr>\n",
        "    <tr>\n",
        "      <th>804</th>\n",
        "      <td>9_to_57</td>\n",
        "      <td>/home/jgriffiths/Code/libraries_of_mine/github...</td>\n",
        "      <td>57</td>\n",
        "    </tr>\n",
        "    <tr>\n",
        "      <th>805</th>\n",
        "      <td>9_to_58</td>\n",
        "      <td>/home/jgriffiths/Code/libraries_of_mine/github...</td>\n",
        "      <td>58</td>\n",
        "    </tr>\n",
        "    <tr>\n",
        "      <th>806</th>\n",
        "      <td>9_to_59</td>\n",
        "      <td>/home/jgriffiths/Code/libraries_of_mine/github...</td>\n",
        "      <td>59</td>\n",
        "    </tr>\n",
        "    <tr>\n",
        "      <th>753</th>\n",
        "      <td>9_to_6</td>\n",
        "      <td>/home/jgriffiths/Code/libraries_of_mine/github...</td>\n",
        "      <td>6</td>\n",
        "    </tr>\n",
        "    <tr>\n",
        "      <th>807</th>\n",
        "      <td>9_to_60</td>\n",
        "      <td>/home/jgriffiths/Code/libraries_of_mine/github...</td>\n",
        "      <td>60</td>\n",
        "    </tr>\n",
        "    <tr>\n",
        "      <th>808</th>\n",
        "      <td>9_to_61</td>\n",
        "      <td>/home/jgriffiths/Code/libraries_of_mine/github...</td>\n",
        "      <td>61</td>\n",
        "    </tr>\n",
        "    <tr>\n",
        "      <th>809</th>\n",
        "      <td>9_to_62</td>\n",
        "      <td>/home/jgriffiths/Code/libraries_of_mine/github...</td>\n",
        "      <td>62</td>\n",
        "    </tr>\n",
        "    <tr>\n",
        "      <th>810</th>\n",
        "      <td>9_to_63</td>\n",
        "      <td>/home/jgriffiths/Code/libraries_of_mine/github...</td>\n",
        "      <td>63</td>\n",
        "    </tr>\n",
        "    <tr>\n",
        "      <th>811</th>\n",
        "      <td>9_to_64</td>\n",
        "      <td>/home/jgriffiths/Code/libraries_of_mine/github...</td>\n",
        "      <td>64</td>\n",
        "    </tr>\n",
        "    <tr>\n",
        "      <th>812</th>\n",
        "      <td>9_to_65</td>\n",
        "      <td>/home/jgriffiths/Code/libraries_of_mine/github...</td>\n",
        "      <td>65</td>\n",
        "    </tr>\n",
        "    <tr>\n",
        "      <th>813</th>\n",
        "      <td>9_to_66</td>\n",
        "      <td>/home/jgriffiths/Code/libraries_of_mine/github...</td>\n",
        "      <td>66</td>\n",
        "    </tr>\n",
        "    <tr>\n",
        "      <th>814</th>\n",
        "      <td>9_to_67</td>\n",
        "      <td>/home/jgriffiths/Code/libraries_of_mine/github...</td>\n",
        "      <td>67</td>\n",
        "    </tr>\n",
        "    <tr>\n",
        "      <th>815</th>\n",
        "      <td>9_to_68</td>\n",
        "      <td>/home/jgriffiths/Code/libraries_of_mine/github...</td>\n",
        "      <td>68</td>\n",
        "    </tr>\n",
        "    <tr>\n",
        "      <th>816</th>\n",
        "      <td>9_to_69</td>\n",
        "      <td>/home/jgriffiths/Code/libraries_of_mine/github...</td>\n",
        "      <td>69</td>\n",
        "    </tr>\n",
        "    <tr>\n",
        "      <th>754</th>\n",
        "      <td>9_to_7</td>\n",
        "      <td>/home/jgriffiths/Code/libraries_of_mine/github...</td>\n",
        "      <td>7</td>\n",
        "    </tr>\n",
        "    <tr>\n",
        "      <th>817</th>\n",
        "      <td>9_to_70</td>\n",
        "      <td>/home/jgriffiths/Code/libraries_of_mine/github...</td>\n",
        "      <td>70</td>\n",
        "    </tr>\n",
        "    <tr>\n",
        "      <th>818</th>\n",
        "      <td>9_to_71</td>\n",
        "      <td>/home/jgriffiths/Code/libraries_of_mine/github...</td>\n",
        "      <td>71</td>\n",
        "    </tr>\n",
        "    <tr>\n",
        "      <th>819</th>\n",
        "      <td>9_to_72</td>\n",
        "      <td>/home/jgriffiths/Code/libraries_of_mine/github...</td>\n",
        "      <td>72</td>\n",
        "    </tr>\n",
        "    <tr>\n",
        "      <th>820</th>\n",
        "      <td>9_to_73</td>\n",
        "      <td>/home/jgriffiths/Code/libraries_of_mine/github...</td>\n",
        "      <td>73</td>\n",
        "    </tr>\n",
        "    <tr>\n",
        "      <th>821</th>\n",
        "      <td>9_to_74</td>\n",
        "      <td>/home/jgriffiths/Code/libraries_of_mine/github...</td>\n",
        "      <td>74</td>\n",
        "    </tr>\n",
        "    <tr>\n",
        "      <th>822</th>\n",
        "      <td>9_to_75</td>\n",
        "      <td>/home/jgriffiths/Code/libraries_of_mine/github...</td>\n",
        "      <td>75</td>\n",
        "    </tr>\n",
        "    <tr>\n",
        "      <th>823</th>\n",
        "      <td>9_to_76</td>\n",
        "      <td>/home/jgriffiths/Code/libraries_of_mine/github...</td>\n",
        "      <td>76</td>\n",
        "    </tr>\n",
        "    <tr>\n",
        "      <th>824</th>\n",
        "      <td>9_to_77</td>\n",
        "      <td>/home/jgriffiths/Code/libraries_of_mine/github...</td>\n",
        "      <td>77</td>\n",
        "    </tr>\n",
        "    <tr>\n",
        "      <th>825</th>\n",
        "      <td>9_to_78</td>\n",
        "      <td>/home/jgriffiths/Code/libraries_of_mine/github...</td>\n",
        "      <td>78</td>\n",
        "    </tr>\n",
        "    <tr>\n",
        "      <th>826</th>\n",
        "      <td>9_to_79</td>\n",
        "      <td>/home/jgriffiths/Code/libraries_of_mine/github...</td>\n",
        "      <td>79</td>\n",
        "    </tr>\n",
        "    <tr>\n",
        "      <th>755</th>\n",
        "      <td>9_to_8</td>\n",
        "      <td>/home/jgriffiths/Code/libraries_of_mine/github...</td>\n",
        "      <td>8</td>\n",
        "    </tr>\n",
        "    <tr>\n",
        "      <th>827</th>\n",
        "      <td>9_to_80</td>\n",
        "      <td>/home/jgriffiths/Code/libraries_of_mine/github...</td>\n",
        "      <td>80</td>\n",
        "    </tr>\n",
        "    <tr>\n",
        "      <th>828</th>\n",
        "      <td>9_to_81</td>\n",
        "      <td>/home/jgriffiths/Code/libraries_of_mine/github...</td>\n",
        "      <td>81</td>\n",
        "    </tr>\n",
        "    <tr>\n",
        "      <th>829</th>\n",
        "      <td>9_to_82</td>\n",
        "      <td>/home/jgriffiths/Code/libraries_of_mine/github...</td>\n",
        "      <td>82</td>\n",
        "    </tr>\n",
        "    <tr>\n",
        "      <th>756</th>\n",
        "      <td>9_to_9</td>\n",
        "      <td>/home/jgriffiths/Code/libraries_of_mine/github...</td>\n",
        "      <td>9</td>\n",
        "    </tr>\n",
        "  </tbody>\n",
        "</table>\n",
        "<p>6889 rows \u00d7 3 columns</p>\n",
        "</div>"
       ],
       "metadata": {},
       "output_type": "pyout",
       "prompt_number": 35,
       "text": [
        "        rois                                               path vol\n",
        "0     0_to_0  /home/jgriffiths/Code/libraries_of_mine/github...   0\n",
        "1     0_to_1  /home/jgriffiths/Code/libraries_of_mine/github...   1\n",
        "10   0_to_10  /home/jgriffiths/Code/libraries_of_mine/github...  10\n",
        "11   0_to_11  /home/jgriffiths/Code/libraries_of_mine/github...  11\n",
        "12   0_to_12  /home/jgriffiths/Code/libraries_of_mine/github...  12\n",
        "13   0_to_13  /home/jgriffiths/Code/libraries_of_mine/github...  13\n",
        "14   0_to_14  /home/jgriffiths/Code/libraries_of_mine/github...  14\n",
        "15   0_to_15  /home/jgriffiths/Code/libraries_of_mine/github...  15\n",
        "16   0_to_16  /home/jgriffiths/Code/libraries_of_mine/github...  16\n",
        "17   0_to_17  /home/jgriffiths/Code/libraries_of_mine/github...  17\n",
        "18   0_to_18  /home/jgriffiths/Code/libraries_of_mine/github...  18\n",
        "19   0_to_19  /home/jgriffiths/Code/libraries_of_mine/github...  19\n",
        "2     0_to_2  /home/jgriffiths/Code/libraries_of_mine/github...   2\n",
        "20   0_to_20  /home/jgriffiths/Code/libraries_of_mine/github...  20\n",
        "21   0_to_21  /home/jgriffiths/Code/libraries_of_mine/github...  21\n",
        "22   0_to_22  /home/jgriffiths/Code/libraries_of_mine/github...  22\n",
        "23   0_to_23  /home/jgriffiths/Code/libraries_of_mine/github...  23\n",
        "24   0_to_24  /home/jgriffiths/Code/libraries_of_mine/github...  24\n",
        "25   0_to_25  /home/jgriffiths/Code/libraries_of_mine/github...  25\n",
        "26   0_to_26  /home/jgriffiths/Code/libraries_of_mine/github...  26\n",
        "27   0_to_27  /home/jgriffiths/Code/libraries_of_mine/github...  27\n",
        "28   0_to_28  /home/jgriffiths/Code/libraries_of_mine/github...  28\n",
        "29   0_to_29  /home/jgriffiths/Code/libraries_of_mine/github...  29\n",
        "3     0_to_3  /home/jgriffiths/Code/libraries_of_mine/github...   3\n",
        "30   0_to_30  /home/jgriffiths/Code/libraries_of_mine/github...  30\n",
        "31   0_to_31  /home/jgriffiths/Code/libraries_of_mine/github...  31\n",
        "32   0_to_32  /home/jgriffiths/Code/libraries_of_mine/github...  32\n",
        "33   0_to_33  /home/jgriffiths/Code/libraries_of_mine/github...  33\n",
        "34   0_to_34  /home/jgriffiths/Code/libraries_of_mine/github...  34\n",
        "35   0_to_35  /home/jgriffiths/Code/libraries_of_mine/github...  35\n",
        "..       ...                                                ...  ..\n",
        "804  9_to_57  /home/jgriffiths/Code/libraries_of_mine/github...  57\n",
        "805  9_to_58  /home/jgriffiths/Code/libraries_of_mine/github...  58\n",
        "806  9_to_59  /home/jgriffiths/Code/libraries_of_mine/github...  59\n",
        "753   9_to_6  /home/jgriffiths/Code/libraries_of_mine/github...   6\n",
        "807  9_to_60  /home/jgriffiths/Code/libraries_of_mine/github...  60\n",
        "808  9_to_61  /home/jgriffiths/Code/libraries_of_mine/github...  61\n",
        "809  9_to_62  /home/jgriffiths/Code/libraries_of_mine/github...  62\n",
        "810  9_to_63  /home/jgriffiths/Code/libraries_of_mine/github...  63\n",
        "811  9_to_64  /home/jgriffiths/Code/libraries_of_mine/github...  64\n",
        "812  9_to_65  /home/jgriffiths/Code/libraries_of_mine/github...  65\n",
        "813  9_to_66  /home/jgriffiths/Code/libraries_of_mine/github...  66\n",
        "814  9_to_67  /home/jgriffiths/Code/libraries_of_mine/github...  67\n",
        "815  9_to_68  /home/jgriffiths/Code/libraries_of_mine/github...  68\n",
        "816  9_to_69  /home/jgriffiths/Code/libraries_of_mine/github...  69\n",
        "754   9_to_7  /home/jgriffiths/Code/libraries_of_mine/github...   7\n",
        "817  9_to_70  /home/jgriffiths/Code/libraries_of_mine/github...  70\n",
        "818  9_to_71  /home/jgriffiths/Code/libraries_of_mine/github...  71\n",
        "819  9_to_72  /home/jgriffiths/Code/libraries_of_mine/github...  72\n",
        "820  9_to_73  /home/jgriffiths/Code/libraries_of_mine/github...  73\n",
        "821  9_to_74  /home/jgriffiths/Code/libraries_of_mine/github...  74\n",
        "822  9_to_75  /home/jgriffiths/Code/libraries_of_mine/github...  75\n",
        "823  9_to_76  /home/jgriffiths/Code/libraries_of_mine/github...  76\n",
        "824  9_to_77  /home/jgriffiths/Code/libraries_of_mine/github...  77\n",
        "825  9_to_78  /home/jgriffiths/Code/libraries_of_mine/github...  78\n",
        "826  9_to_79  /home/jgriffiths/Code/libraries_of_mine/github...  79\n",
        "755   9_to_8  /home/jgriffiths/Code/libraries_of_mine/github...   8\n",
        "827  9_to_80  /home/jgriffiths/Code/libraries_of_mine/github...  80\n",
        "828  9_to_81  /home/jgriffiths/Code/libraries_of_mine/github...  81\n",
        "829  9_to_82  /home/jgriffiths/Code/libraries_of_mine/github...  82\n",
        "756   9_to_9  /home/jgriffiths/Code/libraries_of_mine/github...   9\n",
        "\n",
        "[6889 rows x 3 columns]"
       ]
      }
     ],
     "prompt_number": 35
    },
    {
     "cell_type": "code",
     "collapsed": false,
     "input": [
      "neworder = df_arr.sort_values(by=1)[1]"
     ],
     "language": "python",
     "metadata": {
      "run_control": {
       "state": "n"
      }
     },
     "outputs": [],
     "prompt_number": 27
    },
    {
     "cell_type": "code",
     "collapsed": false,
     "input": [
      "df_arr"
     ],
     "language": "python",
     "metadata": {
      "run_control": {
       "state": "n"
      }
     },
     "outputs": [
      {
       "html": [
        "<div style=\"max-width:1500px;overflow:auto;\">\n",
        "<table border=\"1\" class=\"dataframe\">\n",
        "  <thead>\n",
        "    <tr style=\"text-align: right;\">\n",
        "      <th></th>\n",
        "      <th>0</th>\n",
        "      <th>1</th>\n",
        "      <th>2</th>\n",
        "    </tr>\n",
        "  </thead>\n",
        "  <tbody>\n",
        "    <tr>\n",
        "      <th>0</th>\n",
        "      <td>0_to_0</td>\n",
        "      <td>/home/jgriffiths/Code/libraries_of_mine/github...</td>\n",
        "      <td>0</td>\n",
        "    </tr>\n",
        "    <tr>\n",
        "      <th>1</th>\n",
        "      <td>0_to_1</td>\n",
        "      <td>/home/jgriffiths/Code/libraries_of_mine/github...</td>\n",
        "      <td>1</td>\n",
        "    </tr>\n",
        "    <tr>\n",
        "      <th>2</th>\n",
        "      <td>0_to_2</td>\n",
        "      <td>/home/jgriffiths/Code/libraries_of_mine/github...</td>\n",
        "      <td>2</td>\n",
        "    </tr>\n",
        "    <tr>\n",
        "      <th>3</th>\n",
        "      <td>0_to_3</td>\n",
        "      <td>/home/jgriffiths/Code/libraries_of_mine/github...</td>\n",
        "      <td>3</td>\n",
        "    </tr>\n",
        "    <tr>\n",
        "      <th>4</th>\n",
        "      <td>0_to_4</td>\n",
        "      <td>/home/jgriffiths/Code/libraries_of_mine/github...</td>\n",
        "      <td>4</td>\n",
        "    </tr>\n",
        "    <tr>\n",
        "      <th>5</th>\n",
        "      <td>0_to_5</td>\n",
        "      <td>/home/jgriffiths/Code/libraries_of_mine/github...</td>\n",
        "      <td>5</td>\n",
        "    </tr>\n",
        "    <tr>\n",
        "      <th>6</th>\n",
        "      <td>0_to_6</td>\n",
        "      <td>/home/jgriffiths/Code/libraries_of_mine/github...</td>\n",
        "      <td>6</td>\n",
        "    </tr>\n",
        "    <tr>\n",
        "      <th>7</th>\n",
        "      <td>0_to_7</td>\n",
        "      <td>/home/jgriffiths/Code/libraries_of_mine/github...</td>\n",
        "      <td>7</td>\n",
        "    </tr>\n",
        "    <tr>\n",
        "      <th>8</th>\n",
        "      <td>0_to_8</td>\n",
        "      <td>/home/jgriffiths/Code/libraries_of_mine/github...</td>\n",
        "      <td>8</td>\n",
        "    </tr>\n",
        "    <tr>\n",
        "      <th>9</th>\n",
        "      <td>0_to_9</td>\n",
        "      <td>/home/jgriffiths/Code/libraries_of_mine/github...</td>\n",
        "      <td>9</td>\n",
        "    </tr>\n",
        "    <tr>\n",
        "      <th>10</th>\n",
        "      <td>0_to_10</td>\n",
        "      <td>/home/jgriffiths/Code/libraries_of_mine/github...</td>\n",
        "      <td>10</td>\n",
        "    </tr>\n",
        "    <tr>\n",
        "      <th>11</th>\n",
        "      <td>0_to_11</td>\n",
        "      <td>/home/jgriffiths/Code/libraries_of_mine/github...</td>\n",
        "      <td>11</td>\n",
        "    </tr>\n",
        "    <tr>\n",
        "      <th>12</th>\n",
        "      <td>0_to_12</td>\n",
        "      <td>/home/jgriffiths/Code/libraries_of_mine/github...</td>\n",
        "      <td>12</td>\n",
        "    </tr>\n",
        "    <tr>\n",
        "      <th>13</th>\n",
        "      <td>0_to_13</td>\n",
        "      <td>/home/jgriffiths/Code/libraries_of_mine/github...</td>\n",
        "      <td>13</td>\n",
        "    </tr>\n",
        "    <tr>\n",
        "      <th>14</th>\n",
        "      <td>0_to_14</td>\n",
        "      <td>/home/jgriffiths/Code/libraries_of_mine/github...</td>\n",
        "      <td>14</td>\n",
        "    </tr>\n",
        "    <tr>\n",
        "      <th>15</th>\n",
        "      <td>0_to_15</td>\n",
        "      <td>/home/jgriffiths/Code/libraries_of_mine/github...</td>\n",
        "      <td>15</td>\n",
        "    </tr>\n",
        "    <tr>\n",
        "      <th>16</th>\n",
        "      <td>0_to_16</td>\n",
        "      <td>/home/jgriffiths/Code/libraries_of_mine/github...</td>\n",
        "      <td>16</td>\n",
        "    </tr>\n",
        "    <tr>\n",
        "      <th>17</th>\n",
        "      <td>0_to_17</td>\n",
        "      <td>/home/jgriffiths/Code/libraries_of_mine/github...</td>\n",
        "      <td>17</td>\n",
        "    </tr>\n",
        "    <tr>\n",
        "      <th>18</th>\n",
        "      <td>0_to_18</td>\n",
        "      <td>/home/jgriffiths/Code/libraries_of_mine/github...</td>\n",
        "      <td>18</td>\n",
        "    </tr>\n",
        "    <tr>\n",
        "      <th>19</th>\n",
        "      <td>0_to_19</td>\n",
        "      <td>/home/jgriffiths/Code/libraries_of_mine/github...</td>\n",
        "      <td>19</td>\n",
        "    </tr>\n",
        "    <tr>\n",
        "      <th>20</th>\n",
        "      <td>0_to_20</td>\n",
        "      <td>/home/jgriffiths/Code/libraries_of_mine/github...</td>\n",
        "      <td>20</td>\n",
        "    </tr>\n",
        "    <tr>\n",
        "      <th>21</th>\n",
        "      <td>0_to_21</td>\n",
        "      <td>/home/jgriffiths/Code/libraries_of_mine/github...</td>\n",
        "      <td>21</td>\n",
        "    </tr>\n",
        "    <tr>\n",
        "      <th>22</th>\n",
        "      <td>0_to_22</td>\n",
        "      <td>/home/jgriffiths/Code/libraries_of_mine/github...</td>\n",
        "      <td>22</td>\n",
        "    </tr>\n",
        "    <tr>\n",
        "      <th>23</th>\n",
        "      <td>0_to_23</td>\n",
        "      <td>/home/jgriffiths/Code/libraries_of_mine/github...</td>\n",
        "      <td>23</td>\n",
        "    </tr>\n",
        "    <tr>\n",
        "      <th>24</th>\n",
        "      <td>0_to_24</td>\n",
        "      <td>/home/jgriffiths/Code/libraries_of_mine/github...</td>\n",
        "      <td>24</td>\n",
        "    </tr>\n",
        "    <tr>\n",
        "      <th>25</th>\n",
        "      <td>0_to_25</td>\n",
        "      <td>/home/jgriffiths/Code/libraries_of_mine/github...</td>\n",
        "      <td>25</td>\n",
        "    </tr>\n",
        "    <tr>\n",
        "      <th>26</th>\n",
        "      <td>0_to_26</td>\n",
        "      <td>/home/jgriffiths/Code/libraries_of_mine/github...</td>\n",
        "      <td>26</td>\n",
        "    </tr>\n",
        "    <tr>\n",
        "      <th>27</th>\n",
        "      <td>0_to_27</td>\n",
        "      <td>/home/jgriffiths/Code/libraries_of_mine/github...</td>\n",
        "      <td>27</td>\n",
        "    </tr>\n",
        "    <tr>\n",
        "      <th>28</th>\n",
        "      <td>0_to_28</td>\n",
        "      <td>/home/jgriffiths/Code/libraries_of_mine/github...</td>\n",
        "      <td>28</td>\n",
        "    </tr>\n",
        "    <tr>\n",
        "      <th>29</th>\n",
        "      <td>0_to_29</td>\n",
        "      <td>/home/jgriffiths/Code/libraries_of_mine/github...</td>\n",
        "      <td>29</td>\n",
        "    </tr>\n",
        "    <tr>\n",
        "      <th>...</th>\n",
        "      <td>...</td>\n",
        "      <td>...</td>\n",
        "      <td>...</td>\n",
        "    </tr>\n",
        "    <tr>\n",
        "      <th>6859</th>\n",
        "      <td>82_to_53</td>\n",
        "      <td>/home/jgriffiths/Code/libraries_of_mine/github...</td>\n",
        "      <td>53</td>\n",
        "    </tr>\n",
        "    <tr>\n",
        "      <th>6860</th>\n",
        "      <td>82_to_54</td>\n",
        "      <td>/home/jgriffiths/Code/libraries_of_mine/github...</td>\n",
        "      <td>54</td>\n",
        "    </tr>\n",
        "    <tr>\n",
        "      <th>6861</th>\n",
        "      <td>82_to_55</td>\n",
        "      <td>/home/jgriffiths/Code/libraries_of_mine/github...</td>\n",
        "      <td>55</td>\n",
        "    </tr>\n",
        "    <tr>\n",
        "      <th>6862</th>\n",
        "      <td>82_to_56</td>\n",
        "      <td>/home/jgriffiths/Code/libraries_of_mine/github...</td>\n",
        "      <td>56</td>\n",
        "    </tr>\n",
        "    <tr>\n",
        "      <th>6863</th>\n",
        "      <td>82_to_57</td>\n",
        "      <td>/home/jgriffiths/Code/libraries_of_mine/github...</td>\n",
        "      <td>57</td>\n",
        "    </tr>\n",
        "    <tr>\n",
        "      <th>6864</th>\n",
        "      <td>82_to_58</td>\n",
        "      <td>/home/jgriffiths/Code/libraries_of_mine/github...</td>\n",
        "      <td>58</td>\n",
        "    </tr>\n",
        "    <tr>\n",
        "      <th>6865</th>\n",
        "      <td>82_to_59</td>\n",
        "      <td>/home/jgriffiths/Code/libraries_of_mine/github...</td>\n",
        "      <td>59</td>\n",
        "    </tr>\n",
        "    <tr>\n",
        "      <th>6866</th>\n",
        "      <td>82_to_60</td>\n",
        "      <td>/home/jgriffiths/Code/libraries_of_mine/github...</td>\n",
        "      <td>60</td>\n",
        "    </tr>\n",
        "    <tr>\n",
        "      <th>6867</th>\n",
        "      <td>82_to_61</td>\n",
        "      <td>/home/jgriffiths/Code/libraries_of_mine/github...</td>\n",
        "      <td>61</td>\n",
        "    </tr>\n",
        "    <tr>\n",
        "      <th>6868</th>\n",
        "      <td>82_to_62</td>\n",
        "      <td>/home/jgriffiths/Code/libraries_of_mine/github...</td>\n",
        "      <td>62</td>\n",
        "    </tr>\n",
        "    <tr>\n",
        "      <th>6869</th>\n",
        "      <td>82_to_63</td>\n",
        "      <td>/home/jgriffiths/Code/libraries_of_mine/github...</td>\n",
        "      <td>63</td>\n",
        "    </tr>\n",
        "    <tr>\n",
        "      <th>6870</th>\n",
        "      <td>82_to_64</td>\n",
        "      <td>/home/jgriffiths/Code/libraries_of_mine/github...</td>\n",
        "      <td>64</td>\n",
        "    </tr>\n",
        "    <tr>\n",
        "      <th>6871</th>\n",
        "      <td>82_to_65</td>\n",
        "      <td>/home/jgriffiths/Code/libraries_of_mine/github...</td>\n",
        "      <td>65</td>\n",
        "    </tr>\n",
        "    <tr>\n",
        "      <th>6872</th>\n",
        "      <td>82_to_66</td>\n",
        "      <td>/home/jgriffiths/Code/libraries_of_mine/github...</td>\n",
        "      <td>66</td>\n",
        "    </tr>\n",
        "    <tr>\n",
        "      <th>6873</th>\n",
        "      <td>82_to_67</td>\n",
        "      <td>/home/jgriffiths/Code/libraries_of_mine/github...</td>\n",
        "      <td>67</td>\n",
        "    </tr>\n",
        "    <tr>\n",
        "      <th>6874</th>\n",
        "      <td>82_to_68</td>\n",
        "      <td>/home/jgriffiths/Code/libraries_of_mine/github...</td>\n",
        "      <td>68</td>\n",
        "    </tr>\n",
        "    <tr>\n",
        "      <th>6875</th>\n",
        "      <td>82_to_69</td>\n",
        "      <td>/home/jgriffiths/Code/libraries_of_mine/github...</td>\n",
        "      <td>69</td>\n",
        "    </tr>\n",
        "    <tr>\n",
        "      <th>6876</th>\n",
        "      <td>82_to_70</td>\n",
        "      <td>/home/jgriffiths/Code/libraries_of_mine/github...</td>\n",
        "      <td>70</td>\n",
        "    </tr>\n",
        "    <tr>\n",
        "      <th>6877</th>\n",
        "      <td>82_to_71</td>\n",
        "      <td>/home/jgriffiths/Code/libraries_of_mine/github...</td>\n",
        "      <td>71</td>\n",
        "    </tr>\n",
        "    <tr>\n",
        "      <th>6878</th>\n",
        "      <td>82_to_72</td>\n",
        "      <td>/home/jgriffiths/Code/libraries_of_mine/github...</td>\n",
        "      <td>72</td>\n",
        "    </tr>\n",
        "    <tr>\n",
        "      <th>6879</th>\n",
        "      <td>82_to_73</td>\n",
        "      <td>/home/jgriffiths/Code/libraries_of_mine/github...</td>\n",
        "      <td>73</td>\n",
        "    </tr>\n",
        "    <tr>\n",
        "      <th>6880</th>\n",
        "      <td>82_to_74</td>\n",
        "      <td>/home/jgriffiths/Code/libraries_of_mine/github...</td>\n",
        "      <td>74</td>\n",
        "    </tr>\n",
        "    <tr>\n",
        "      <th>6881</th>\n",
        "      <td>82_to_75</td>\n",
        "      <td>/home/jgriffiths/Code/libraries_of_mine/github...</td>\n",
        "      <td>75</td>\n",
        "    </tr>\n",
        "    <tr>\n",
        "      <th>6882</th>\n",
        "      <td>82_to_76</td>\n",
        "      <td>/home/jgriffiths/Code/libraries_of_mine/github...</td>\n",
        "      <td>76</td>\n",
        "    </tr>\n",
        "    <tr>\n",
        "      <th>6883</th>\n",
        "      <td>82_to_77</td>\n",
        "      <td>/home/jgriffiths/Code/libraries_of_mine/github...</td>\n",
        "      <td>77</td>\n",
        "    </tr>\n",
        "    <tr>\n",
        "      <th>6884</th>\n",
        "      <td>82_to_78</td>\n",
        "      <td>/home/jgriffiths/Code/libraries_of_mine/github...</td>\n",
        "      <td>78</td>\n",
        "    </tr>\n",
        "    <tr>\n",
        "      <th>6885</th>\n",
        "      <td>82_to_79</td>\n",
        "      <td>/home/jgriffiths/Code/libraries_of_mine/github...</td>\n",
        "      <td>79</td>\n",
        "    </tr>\n",
        "    <tr>\n",
        "      <th>6886</th>\n",
        "      <td>82_to_80</td>\n",
        "      <td>/home/jgriffiths/Code/libraries_of_mine/github...</td>\n",
        "      <td>80</td>\n",
        "    </tr>\n",
        "    <tr>\n",
        "      <th>6887</th>\n",
        "      <td>82_to_81</td>\n",
        "      <td>/home/jgriffiths/Code/libraries_of_mine/github...</td>\n",
        "      <td>81</td>\n",
        "    </tr>\n",
        "    <tr>\n",
        "      <th>6888</th>\n",
        "      <td>82_to_82</td>\n",
        "      <td>/home/jgriffiths/Code/libraries_of_mine/github...</td>\n",
        "      <td>82</td>\n",
        "    </tr>\n",
        "  </tbody>\n",
        "</table>\n",
        "<p>6889 rows \u00d7 3 columns</p>\n",
        "</div>"
       ],
       "metadata": {},
       "output_type": "pyout",
       "prompt_number": 29,
       "text": [
        "             0                                                  1   2\n",
        "0       0_to_0  /home/jgriffiths/Code/libraries_of_mine/github...   0\n",
        "1       0_to_1  /home/jgriffiths/Code/libraries_of_mine/github...   1\n",
        "2       0_to_2  /home/jgriffiths/Code/libraries_of_mine/github...   2\n",
        "3       0_to_3  /home/jgriffiths/Code/libraries_of_mine/github...   3\n",
        "4       0_to_4  /home/jgriffiths/Code/libraries_of_mine/github...   4\n",
        "5       0_to_5  /home/jgriffiths/Code/libraries_of_mine/github...   5\n",
        "6       0_to_6  /home/jgriffiths/Code/libraries_of_mine/github...   6\n",
        "7       0_to_7  /home/jgriffiths/Code/libraries_of_mine/github...   7\n",
        "8       0_to_8  /home/jgriffiths/Code/libraries_of_mine/github...   8\n",
        "9       0_to_9  /home/jgriffiths/Code/libraries_of_mine/github...   9\n",
        "10     0_to_10  /home/jgriffiths/Code/libraries_of_mine/github...  10\n",
        "11     0_to_11  /home/jgriffiths/Code/libraries_of_mine/github...  11\n",
        "12     0_to_12  /home/jgriffiths/Code/libraries_of_mine/github...  12\n",
        "13     0_to_13  /home/jgriffiths/Code/libraries_of_mine/github...  13\n",
        "14     0_to_14  /home/jgriffiths/Code/libraries_of_mine/github...  14\n",
        "15     0_to_15  /home/jgriffiths/Code/libraries_of_mine/github...  15\n",
        "16     0_to_16  /home/jgriffiths/Code/libraries_of_mine/github...  16\n",
        "17     0_to_17  /home/jgriffiths/Code/libraries_of_mine/github...  17\n",
        "18     0_to_18  /home/jgriffiths/Code/libraries_of_mine/github...  18\n",
        "19     0_to_19  /home/jgriffiths/Code/libraries_of_mine/github...  19\n",
        "20     0_to_20  /home/jgriffiths/Code/libraries_of_mine/github...  20\n",
        "21     0_to_21  /home/jgriffiths/Code/libraries_of_mine/github...  21\n",
        "22     0_to_22  /home/jgriffiths/Code/libraries_of_mine/github...  22\n",
        "23     0_to_23  /home/jgriffiths/Code/libraries_of_mine/github...  23\n",
        "24     0_to_24  /home/jgriffiths/Code/libraries_of_mine/github...  24\n",
        "25     0_to_25  /home/jgriffiths/Code/libraries_of_mine/github...  25\n",
        "26     0_to_26  /home/jgriffiths/Code/libraries_of_mine/github...  26\n",
        "27     0_to_27  /home/jgriffiths/Code/libraries_of_mine/github...  27\n",
        "28     0_to_28  /home/jgriffiths/Code/libraries_of_mine/github...  28\n",
        "29     0_to_29  /home/jgriffiths/Code/libraries_of_mine/github...  29\n",
        "...        ...                                                ...  ..\n",
        "6859  82_to_53  /home/jgriffiths/Code/libraries_of_mine/github...  53\n",
        "6860  82_to_54  /home/jgriffiths/Code/libraries_of_mine/github...  54\n",
        "6861  82_to_55  /home/jgriffiths/Code/libraries_of_mine/github...  55\n",
        "6862  82_to_56  /home/jgriffiths/Code/libraries_of_mine/github...  56\n",
        "6863  82_to_57  /home/jgriffiths/Code/libraries_of_mine/github...  57\n",
        "6864  82_to_58  /home/jgriffiths/Code/libraries_of_mine/github...  58\n",
        "6865  82_to_59  /home/jgriffiths/Code/libraries_of_mine/github...  59\n",
        "6866  82_to_60  /home/jgriffiths/Code/libraries_of_mine/github...  60\n",
        "6867  82_to_61  /home/jgriffiths/Code/libraries_of_mine/github...  61\n",
        "6868  82_to_62  /home/jgriffiths/Code/libraries_of_mine/github...  62\n",
        "6869  82_to_63  /home/jgriffiths/Code/libraries_of_mine/github...  63\n",
        "6870  82_to_64  /home/jgriffiths/Code/libraries_of_mine/github...  64\n",
        "6871  82_to_65  /home/jgriffiths/Code/libraries_of_mine/github...  65\n",
        "6872  82_to_66  /home/jgriffiths/Code/libraries_of_mine/github...  66\n",
        "6873  82_to_67  /home/jgriffiths/Code/libraries_of_mine/github...  67\n",
        "6874  82_to_68  /home/jgriffiths/Code/libraries_of_mine/github...  68\n",
        "6875  82_to_69  /home/jgriffiths/Code/libraries_of_mine/github...  69\n",
        "6876  82_to_70  /home/jgriffiths/Code/libraries_of_mine/github...  70\n",
        "6877  82_to_71  /home/jgriffiths/Code/libraries_of_mine/github...  71\n",
        "6878  82_to_72  /home/jgriffiths/Code/libraries_of_mine/github...  72\n",
        "6879  82_to_73  /home/jgriffiths/Code/libraries_of_mine/github...  73\n",
        "6880  82_to_74  /home/jgriffiths/Code/libraries_of_mine/github...  74\n",
        "6881  82_to_75  /home/jgriffiths/Code/libraries_of_mine/github...  75\n",
        "6882  82_to_76  /home/jgriffiths/Code/libraries_of_mine/github...  76\n",
        "6883  82_to_77  /home/jgriffiths/Code/libraries_of_mine/github...  77\n",
        "6884  82_to_78  /home/jgriffiths/Code/libraries_of_mine/github...  78\n",
        "6885  82_to_79  /home/jgriffiths/Code/libraries_of_mine/github...  79\n",
        "6886  82_to_80  /home/jgriffiths/Code/libraries_of_mine/github...  80\n",
        "6887  82_to_81  /home/jgriffiths/Code/libraries_of_mine/github...  81\n",
        "6888  82_to_82  /home/jgriffiths/Code/libraries_of_mine/github...  82\n",
        "\n",
        "[6889 rows x 3 columns]"
       ]
      }
     ],
     "prompt_number": 29
    },
    {
     "cell_type": "code",
     "collapsed": false,
     "input": [
      "neworder"
     ],
     "language": "python",
     "metadata": {
      "run_control": {
       "state": "n"
      }
     },
     "outputs": [
      {
       "metadata": {},
       "output_type": "pyout",
       "prompt_number": 28,
       "text": [
        "0      /home/jgriffiths/Code/libraries_of_mine/github...\n",
        "60     /home/jgriffiths/Code/libraries_of_mine/github...\n",
        "59     /home/jgriffiths/Code/libraries_of_mine/github...\n",
        "58     /home/jgriffiths/Code/libraries_of_mine/github...\n",
        "57     /home/jgriffiths/Code/libraries_of_mine/github...\n",
        "56     /home/jgriffiths/Code/libraries_of_mine/github...\n",
        "55     /home/jgriffiths/Code/libraries_of_mine/github...\n",
        "54     /home/jgriffiths/Code/libraries_of_mine/github...\n",
        "53     /home/jgriffiths/Code/libraries_of_mine/github...\n",
        "52     /home/jgriffiths/Code/libraries_of_mine/github...\n",
        "51     /home/jgriffiths/Code/libraries_of_mine/github...\n",
        "50     /home/jgriffiths/Code/libraries_of_mine/github...\n",
        "49     /home/jgriffiths/Code/libraries_of_mine/github...\n",
        "48     /home/jgriffiths/Code/libraries_of_mine/github...\n",
        "47     /home/jgriffiths/Code/libraries_of_mine/github...\n",
        "46     /home/jgriffiths/Code/libraries_of_mine/github...\n",
        "45     /home/jgriffiths/Code/libraries_of_mine/github...\n",
        "44     /home/jgriffiths/Code/libraries_of_mine/github...\n",
        "61     /home/jgriffiths/Code/libraries_of_mine/github...\n",
        "43     /home/jgriffiths/Code/libraries_of_mine/github...\n",
        "62     /home/jgriffiths/Code/libraries_of_mine/github...\n",
        "64     /home/jgriffiths/Code/libraries_of_mine/github...\n",
        "81     /home/jgriffiths/Code/libraries_of_mine/github...\n",
        "80     /home/jgriffiths/Code/libraries_of_mine/github...\n",
        "79     /home/jgriffiths/Code/libraries_of_mine/github...\n",
        "78     /home/jgriffiths/Code/libraries_of_mine/github...\n",
        "77     /home/jgriffiths/Code/libraries_of_mine/github...\n",
        "76     /home/jgriffiths/Code/libraries_of_mine/github...\n",
        "75     /home/jgriffiths/Code/libraries_of_mine/github...\n",
        "74     /home/jgriffiths/Code/libraries_of_mine/github...\n",
        "                             ...                        \n",
        "751    /home/jgriffiths/Code/libraries_of_mine/github...\n",
        "750    /home/jgriffiths/Code/libraries_of_mine/github...\n",
        "749    /home/jgriffiths/Code/libraries_of_mine/github...\n",
        "748    /home/jgriffiths/Code/libraries_of_mine/github...\n",
        "747    /home/jgriffiths/Code/libraries_of_mine/github...\n",
        "829    /home/jgriffiths/Code/libraries_of_mine/github...\n",
        "763    /home/jgriffiths/Code/libraries_of_mine/github...\n",
        "764    /home/jgriffiths/Code/libraries_of_mine/github...\n",
        "765    /home/jgriffiths/Code/libraries_of_mine/github...\n",
        "766    /home/jgriffiths/Code/libraries_of_mine/github...\n",
        "785    /home/jgriffiths/Code/libraries_of_mine/github...\n",
        "784    /home/jgriffiths/Code/libraries_of_mine/github...\n",
        "783    /home/jgriffiths/Code/libraries_of_mine/github...\n",
        "782    /home/jgriffiths/Code/libraries_of_mine/github...\n",
        "781    /home/jgriffiths/Code/libraries_of_mine/github...\n",
        "780    /home/jgriffiths/Code/libraries_of_mine/github...\n",
        "779    /home/jgriffiths/Code/libraries_of_mine/github...\n",
        "778    /home/jgriffiths/Code/libraries_of_mine/github...\n",
        "787    /home/jgriffiths/Code/libraries_of_mine/github...\n",
        "777    /home/jgriffiths/Code/libraries_of_mine/github...\n",
        "775    /home/jgriffiths/Code/libraries_of_mine/github...\n",
        "774    /home/jgriffiths/Code/libraries_of_mine/github...\n",
        "773    /home/jgriffiths/Code/libraries_of_mine/github...\n",
        "772    /home/jgriffiths/Code/libraries_of_mine/github...\n",
        "771    /home/jgriffiths/Code/libraries_of_mine/github...\n",
        "770    /home/jgriffiths/Code/libraries_of_mine/github...\n",
        "769    /home/jgriffiths/Code/libraries_of_mine/github...\n",
        "768    /home/jgriffiths/Code/libraries_of_mine/github...\n",
        "776    /home/jgriffiths/Code/libraries_of_mine/github...\n",
        "828    /home/jgriffiths/Code/libraries_of_mine/github...\n",
        "Name: 1, dtype: object"
       ]
      }
     ],
     "prompt_number": 28
    },
    {
     "cell_type": "code",
     "collapsed": false,
     "input": [
      "# NOW CHANGE THE LOOP IN THE FUNCTION TO LOAD IN ONE IMAGE AND THEN GET ALL THE VOLUMES OF INTEREST FROM THAT IMAGE AT ONCE..."
     ],
     "language": "python",
     "metadata": {
      "run_control": {
       "state": "n"
      }
     },
     "outputs": [],
     "prompt_number": 82
    },
    {
     "cell_type": "code",
     "collapsed": false,
     "input": [
      "# ..."
     ],
     "language": "python",
     "metadata": {
      "run_control": {
       "state": "n"
      }
     },
     "outputs": []
    },
    {
     "cell_type": "code",
     "collapsed": false,
     "input": [],
     "language": "python",
     "metadata": {
      "run_control": {
       "state": "n"
      }
     },
     "outputs": []
    },
    {
     "cell_type": "code",
     "collapsed": false,
     "input": [],
     "language": "python",
     "metadata": {
      "run_control": {
       "state": "n"
      }
     },
     "outputs": []
    },
    {
     "cell_type": "code",
     "collapsed": false,
     "input": [],
     "language": "python",
     "metadata": {
      "run_control": {
       "state": "n"
      }
     },
     "outputs": []
    },
    {
     "cell_type": "code",
     "collapsed": false,
     "input": [
      "np.sort()"
     ],
     "language": "python",
     "metadata": {
      "run_control": {
       "state": "n"
      }
     },
     "outputs": []
    },
    {
     "cell_type": "code",
     "collapsed": false,
     "input": [
      "_arr.shape"
     ],
     "language": "python",
     "metadata": {
      "run_control": {
       "state": "n"
      }
     },
     "outputs": [
      {
       "metadata": {},
       "output_type": "pyout",
       "prompt_number": 49,
       "text": [
        "(6889, 3)"
       ]
      }
     ],
     "prompt_number": 49
    },
    {
     "cell_type": "code",
     "collapsed": false,
     "input": [
      "np.sort(_arr,axis=0)"
     ],
     "language": "python",
     "metadata": {
      "run_control": {
       "state": "n"
      }
     },
     "outputs": [
      {
       "metadata": {},
       "output_type": "pyout",
       "prompt_number": 48,
       "text": [
        "array([['0_to_0',\n",
        "        '/home/jgriffiths/Code/libraries_of_mine/github/ConWhAt/ConWhAt/atlases/volumetric/dipy_dsi_l2k8_sc33/vismap_grp_cat_rois_v2_0_norm.nii.gz',\n",
        "        '0'],\n",
        "       ['0_to_1',\n",
        "        '/home/jgriffiths/Code/libraries_of_mine/github/ConWhAt/ConWhAt/atlases/volumetric/dipy_dsi_l2k8_sc33/vismap_grp_cat_rois_v2_0_norm.nii.gz',\n",
        "        '0'],\n",
        "       ['0_to_10',\n",
        "        '/home/jgriffiths/Code/libraries_of_mine/github/ConWhAt/ConWhAt/atlases/volumetric/dipy_dsi_l2k8_sc33/vismap_grp_cat_rois_v2_0_norm.nii.gz',\n",
        "        '0'],\n",
        "       ..., \n",
        "       ['9_to_81',\n",
        "        '/home/jgriffiths/Code/libraries_of_mine/github/ConWhAt/ConWhAt/atlases/volumetric/dipy_dsi_l2k8_sc33/vismap_grp_cat_rois_v2_9_norm.nii.gz',\n",
        "        '9'],\n",
        "       ['9_to_82',\n",
        "        '/home/jgriffiths/Code/libraries_of_mine/github/ConWhAt/ConWhAt/atlases/volumetric/dipy_dsi_l2k8_sc33/vismap_grp_cat_rois_v2_9_norm.nii.gz',\n",
        "        '9'],\n",
        "       ['9_to_9',\n",
        "        '/home/jgriffiths/Code/libraries_of_mine/github/ConWhAt/ConWhAt/atlases/volumetric/dipy_dsi_l2k8_sc33/vismap_grp_cat_rois_v2_9_norm.nii.gz',\n",
        "        '9']], \n",
        "      dtype='|S138')"
       ]
      }
     ],
     "prompt_number": 48
    },
    {
     "cell_type": "code",
     "collapsed": false,
     "input": [],
     "language": "python",
     "metadata": {
      "run_control": {
       "state": "n"
      }
     },
     "outputs": []
    },
    {
     "cell_type": "code",
     "collapsed": false,
     "input": [
      "#  = /home/jgriffiths/Code/libraries_of_mine/github/ConWhAt/ConWhAt/atlases/volumetric'/dipy_dsi_sd4_l2k8_sc33_v2'"
     ],
     "language": "python",
     "metadata": {
      "run_control": {
       "state": "n"
      }
     },
     "outputs": [],
     "prompt_number": 36
    },
    {
     "cell_type": "code",
     "collapsed": false,
     "input": [
      "import nibabel as nib"
     ],
     "language": "python",
     "metadata": {
      "run_control": {
       "state": "n"
      }
     },
     "outputs": [],
     "prompt_number": 37
    },
    {
     "cell_type": "code",
     "collapsed": false,
     "input": [
      "f"
     ],
     "language": "python",
     "metadata": {
      "run_control": {
       "state": "n"
      }
     },
     "outputs": [
      {
       "metadata": {},
       "output_type": "pyout",
       "prompt_number": 38,
       "text": [
        "'/home/jgriffiths/Code/libraries_of_mine/github/ConWhAt/atlases/volumetric/dipy_dsi_sd4_l2k8_sc33/vismap_grp_cat_rois_v2_0_norm.nii.gz'"
       ]
      }
     ],
     "prompt_number": 38
    },
    {
     "cell_type": "code",
     "collapsed": false,
     "input": [
      "f = '/home/jgriffiths/Code/libraries_of_mine/github/ConWhAt/ConWhAt/atlases/volumetric/dipy_dsi_sd4_l2k8_sc33/vismap_grp_cat_rois_v2_9_norm.nii.gz'"
     ],
     "language": "python",
     "metadata": {
      "run_control": {
       "state": "n"
      }
     },
     "outputs": [],
     "prompt_number": 53
    },
    {
     "cell_type": "code",
     "collapsed": false,
     "input": [
      "img = nib.load(f)"
     ],
     "language": "python",
     "metadata": {
      "run_control": {
       "state": "n"
      }
     },
     "outputs": [],
     "prompt_number": 54
    },
    {
     "cell_type": "code",
     "collapsed": false,
     "input": [
      "from ConWhAt.base import hit_stats,compare_images"
     ],
     "language": "python",
     "metadata": {
      "run_control": {
       "state": "n"
      }
     },
     "outputs": [],
     "prompt_number": 55
    },
    {
     "cell_type": "code",
     "collapsed": false,
     "input": [
      "compare_images(f,test_file)"
     ],
     "language": "python",
     "metadata": {
      "run_control": {
       "state": "n"
      }
     },
     "outputs": [
      {
       "ename": "ValueError",
       "evalue": "operands could not be broadcast together with shapes (182,218,182,84) (182,218,182) ",
       "output_type": "pyerr",
       "traceback": [
        "\u001b[1;31m---------------------------------------------------------------------------\u001b[0m\n\u001b[1;31mValueError\u001b[0m                                Traceback (most recent call last)",
        "\u001b[1;32m<ipython-input-31-e4d096d213f4>\u001b[0m in \u001b[0;36m<module>\u001b[1;34m()\u001b[0m\n\u001b[1;32m----> 1\u001b[1;33m \u001b[0mcompare_images\u001b[0m\u001b[1;33m(\u001b[0m\u001b[0mf\u001b[0m\u001b[1;33m,\u001b[0m\u001b[0mtest_file\u001b[0m\u001b[1;33m)\u001b[0m\u001b[1;33m\u001b[0m\u001b[0m\n\u001b[0m",
        "\u001b[1;32m/home/jgriffiths/Code/libraries_of_mine/github/ConWhAt/ConWhAt/base/hit_stats.py\u001b[0m in \u001b[0;36mcompare_images\u001b[1;34m(f1, f2, thr1, thr2)\u001b[0m\n\u001b[0;32m     95\u001b[0m \u001b[1;33m\u001b[0m\u001b[0m\n\u001b[0;32m     96\u001b[0m \u001b[1;33m\u001b[0m\u001b[0m\n\u001b[1;32m---> 97\u001b[1;33m   \u001b[0mthrbin_mul\u001b[0m \u001b[1;33m=\u001b[0m \u001b[0mdat1_thrbin\u001b[0m\u001b[1;33m*\u001b[0m\u001b[0mdat2_thrbin\u001b[0m\u001b[1;33m\u001b[0m\u001b[0m\n\u001b[0m\u001b[0;32m     98\u001b[0m   \u001b[0mthrbininv_mul\u001b[0m \u001b[1;33m=\u001b[0m \u001b[1;33m(\u001b[0m\u001b[0mdat1_thrbin\u001b[0m\u001b[1;33m==\u001b[0m\u001b[1;36m0\u001b[0m\u001b[1;33m)\u001b[0m\u001b[1;33m*\u001b[0m\u001b[1;33m(\u001b[0m\u001b[0mdat2_thrbin\u001b[0m\u001b[1;33m==\u001b[0m\u001b[1;36m0\u001b[0m\u001b[1;33m)\u001b[0m\u001b[1;33m\u001b[0m\u001b[0m\n\u001b[0;32m     99\u001b[0m \u001b[1;33m\u001b[0m\u001b[0m\n",
        "\u001b[1;31mValueError\u001b[0m: operands could not be broadcast together with shapes (182,218,182,84) (182,218,182) "
       ]
      }
     ],
     "prompt_number": 31
    },
    {
     "cell_type": "code",
     "collapsed": false,
     "input": [
      "img = nib.load(f)"
     ],
     "language": "python",
     "metadata": {
      "run_control": {
       "state": "n"
      }
     },
     "outputs": [],
     "prompt_number": 32
    },
    {
     "cell_type": "code",
     "collapsed": false,
     "input": [
      "test_img = nib.load(test_file)"
     ],
     "language": "python",
     "metadata": {
      "run_control": {
       "state": "n"
      }
     },
     "outputs": [],
     "prompt_number": 33
    },
    {
     "cell_type": "code",
     "collapsed": false,
     "input": [
      "img.shape"
     ],
     "language": "python",
     "metadata": {
      "run_control": {
       "state": "n"
      }
     },
     "outputs": [
      {
       "metadata": {},
       "output_type": "pyout",
       "prompt_number": 34,
       "text": [
        "(182, 218, 182, 84)"
       ]
      }
     ],
     "prompt_number": 34
    },
    {
     "cell_type": "code",
     "collapsed": false,
     "input": [
      "dat = img.get_data()"
     ],
     "language": "python",
     "metadata": {
      "run_control": {
       "state": "n"
      }
     },
     "outputs": [],
     "prompt_number": 35
    },
    {
     "cell_type": "code",
     "collapsed": false,
     "input": [
      "dat.shape"
     ],
     "language": "python",
     "metadata": {
      "run_control": {
       "state": "n"
      }
     },
     "outputs": [
      {
       "metadata": {},
       "output_type": "pyout",
       "prompt_number": 39,
       "text": [
        "(182, 218, 182, 84)"
       ]
      }
     ],
     "prompt_number": 39
    },
    {
     "cell_type": "code",
     "collapsed": false,
     "input": [
      "test_dat*dat"
     ],
     "language": "python",
     "metadata": {
      "run_control": {
       "state": "n"
      }
     },
     "outputs": [
      {
       "ename": "ValueError",
       "evalue": "operands could not be broadcast together with shapes (182,218,182) (182,218,182,84) ",
       "output_type": "pyerr",
       "traceback": [
        "\u001b[1;31m---------------------------------------------------------------------------\u001b[0m\n\u001b[1;31mValueError\u001b[0m                                Traceback (most recent call last)",
        "\u001b[1;32m<ipython-input-40-cf6ed5958238>\u001b[0m in \u001b[0;36m<module>\u001b[1;34m()\u001b[0m\n\u001b[1;32m----> 1\u001b[1;33m \u001b[0mtest_dat\u001b[0m\u001b[1;33m*\u001b[0m\u001b[0mdat\u001b[0m\u001b[1;33m\u001b[0m\u001b[0m\n\u001b[0m",
        "\u001b[1;31mValueError\u001b[0m: operands could not be broadcast together with shapes (182,218,182) (182,218,182,84) "
       ]
      }
     ],
     "prompt_number": 40
    },
    {
     "cell_type": "code",
     "collapsed": false,
     "input": [
      "test_dat = test_img.get_data()"
     ],
     "language": "python",
     "metadata": {
      "run_control": {
       "state": "n"
      }
     },
     "outputs": [],
     "prompt_number": 36
    },
    {
     "cell_type": "code",
     "collapsed": false,
     "input": [
      "dat.shape"
     ],
     "language": "python",
     "metadata": {
      "run_control": {
       "state": "n"
      }
     },
     "outputs": [
      {
       "metadata": {},
       "output_type": "pyout",
       "prompt_number": 37,
       "text": [
        "(182, 218, 182, 84)"
       ]
      }
     ],
     "prompt_number": 37
    },
    {
     "cell_type": "code",
     "collapsed": false,
     "input": [
      "test_dat.shape"
     ],
     "language": "python",
     "metadata": {
      "run_control": {
       "state": "n"
      }
     },
     "outputs": [
      {
       "metadata": {},
       "output_type": "pyout",
       "prompt_number": 38,
       "text": [
        "(182, 218, 182)"
       ]
      }
     ],
     "prompt_number": 38
    },
    {
     "cell_type": "code",
     "collapsed": false,
     "input": [
      "# that's 3.5 minutes for 10 cnxns\n",
      "\n",
      "\n",
      "# so for ((N-1)/2)**2 = 1521, that would take\n",
      "# 1521./3.5/60 = 7.242 hours = 434.5 minutes \n",
      "\n",
      "# we need to speed that up. "
     ],
     "language": "python",
     "metadata": {
      "run_control": {
       "state": "n"
      }
     },
     "outputs": [],
     "prompt_number": 58
    },
    {
     "cell_type": "code",
     "collapsed": false,
     "input": [
      "#((80-1)/2)**2"
     ],
     "language": "python",
     "metadata": {
      "run_control": {
       "state": "n"
      }
     },
     "outputs": [],
     "prompt_number": 59
    },
    {
     "cell_type": "code",
     "collapsed": false,
     "input": [
      "#1521./3.5/60"
     ],
     "language": "python",
     "metadata": {
      "run_control": {
       "state": "n"
      }
     },
     "outputs": [],
     "prompt_number": 60
    },
    {
     "cell_type": "code",
     "collapsed": false,
     "input": [],
     "language": "python",
     "metadata": {
      "run_control": {
       "state": "n"
      }
     },
     "outputs": []
    },
    {
     "cell_type": "code",
     "collapsed": false,
     "input": [],
     "language": "python",
     "metadata": {
      "run_control": {
       "state": "n"
      }
     },
     "outputs": []
    },
    {
     "cell_type": "code",
     "collapsed": false,
     "input": [
      "df"
     ],
     "language": "python",
     "metadata": {
      "run_control": {
       "state": "n"
      }
     },
     "outputs": [
      {
       "html": [
        "<div style=\"max-width:1500px;overflow:auto;\">\n",
        "<table border=\"1\" class=\"dataframe\">\n",
        "  <thead>\n",
        "    <tr style=\"text-align: right;\">\n",
        "      <th></th>\n",
        "      <th></th>\n",
        "      <th>val</th>\n",
        "    </tr>\n",
        "    <tr>\n",
        "      <th>structure</th>\n",
        "      <th>metric</th>\n",
        "      <th></th>\n",
        "    </tr>\n",
        "  </thead>\n",
        "  <tbody>\n",
        "    <tr>\n",
        "      <th rowspan=\"19\" valign=\"top\">0_to_0</th>\n",
        "      <th>ACC</th>\n",
        "      <td>1.000000e+00</td>\n",
        "    </tr>\n",
        "    <tr>\n",
        "      <th>F1</th>\n",
        "      <td>NaN</td>\n",
        "    </tr>\n",
        "    <tr>\n",
        "      <th>FNR</th>\n",
        "      <td>NaN</td>\n",
        "    </tr>\n",
        "    <tr>\n",
        "      <th>TNR</th>\n",
        "      <td>1.000000e+00</td>\n",
        "    </tr>\n",
        "    <tr>\n",
        "      <th>BM</th>\n",
        "      <td>NaN</td>\n",
        "    </tr>\n",
        "    <tr>\n",
        "      <th>corr_thr</th>\n",
        "      <td>NaN</td>\n",
        "    </tr>\n",
        "    <tr>\n",
        "      <th>MCC</th>\n",
        "      <td>NaN</td>\n",
        "    </tr>\n",
        "    <tr>\n",
        "      <th>corr_thrbin</th>\n",
        "      <td>NaN</td>\n",
        "    </tr>\n",
        "    <tr>\n",
        "      <th>MK</th>\n",
        "      <td>NaN</td>\n",
        "    </tr>\n",
        "    <tr>\n",
        "      <th>TN</th>\n",
        "      <td>7.154589e+06</td>\n",
        "    </tr>\n",
        "    <tr>\n",
        "      <th>TP</th>\n",
        "      <td>0.000000e+00</td>\n",
        "    </tr>\n",
        "    <tr>\n",
        "      <th>FDR</th>\n",
        "      <td>NaN</td>\n",
        "    </tr>\n",
        "    <tr>\n",
        "      <th>corr_nothr</th>\n",
        "      <td>NaN</td>\n",
        "    </tr>\n",
        "    <tr>\n",
        "      <th>TPR</th>\n",
        "      <td>NaN</td>\n",
        "    </tr>\n",
        "    <tr>\n",
        "      <th>FPR</th>\n",
        "      <td>0.000000e+00</td>\n",
        "    </tr>\n",
        "    <tr>\n",
        "      <th>NPV</th>\n",
        "      <td>1.000000e+00</td>\n",
        "    </tr>\n",
        "    <tr>\n",
        "      <th>FP</th>\n",
        "      <td>0.000000e+00</td>\n",
        "    </tr>\n",
        "    <tr>\n",
        "      <th>FN</th>\n",
        "      <td>0.000000e+00</td>\n",
        "    </tr>\n",
        "    <tr>\n",
        "      <th>PPV</th>\n",
        "      <td>NaN</td>\n",
        "    </tr>\n",
        "    <tr>\n",
        "      <th rowspan=\"11\" valign=\"top\">0_to_1</th>\n",
        "      <th>ACC</th>\n",
        "      <td>9.775258e-01</td>\n",
        "    </tr>\n",
        "    <tr>\n",
        "      <th>F1</th>\n",
        "      <td>7.208954e-04</td>\n",
        "    </tr>\n",
        "    <tr>\n",
        "      <th>FNR</th>\n",
        "      <td>0.000000e+00</td>\n",
        "    </tr>\n",
        "    <tr>\n",
        "      <th>TNR</th>\n",
        "      <td>9.775256e-01</td>\n",
        "    </tr>\n",
        "    <tr>\n",
        "      <th>BM</th>\n",
        "      <td>9.775256e-01</td>\n",
        "    </tr>\n",
        "    <tr>\n",
        "      <th>corr_thr</th>\n",
        "      <td>-7.156460e-03</td>\n",
        "    </tr>\n",
        "    <tr>\n",
        "      <th>MCC</th>\n",
        "      <td>1.877429e-02</td>\n",
        "    </tr>\n",
        "    <tr>\n",
        "      <th>corr_thrbin</th>\n",
        "      <td>-1.397583e-02</td>\n",
        "    </tr>\n",
        "    <tr>\n",
        "      <th>MK</th>\n",
        "      <td>3.605777e-04</td>\n",
        "    </tr>\n",
        "    <tr>\n",
        "      <th>TN</th>\n",
        "      <td>6.993794e+06</td>\n",
        "    </tr>\n",
        "    <tr>\n",
        "      <th>TP</th>\n",
        "      <td>5.800000e+01</td>\n",
        "    </tr>\n",
        "    <tr>\n",
        "      <th>...</th>\n",
        "      <th>...</th>\n",
        "      <td>...</td>\n",
        "    </tr>\n",
        "    <tr>\n",
        "      <th rowspan=\"11\" valign=\"top\">0_to_8</th>\n",
        "      <th>MK</th>\n",
        "      <td>2.946092e-03</td>\n",
        "    </tr>\n",
        "    <tr>\n",
        "      <th>TN</th>\n",
        "      <td>6.716657e+06</td>\n",
        "    </tr>\n",
        "    <tr>\n",
        "      <th>TP</th>\n",
        "      <td>1.294000e+03</td>\n",
        "    </tr>\n",
        "    <tr>\n",
        "      <th>FDR</th>\n",
        "      <td>9.970539e-01</td>\n",
        "    </tr>\n",
        "    <tr>\n",
        "      <th>corr_nothr</th>\n",
        "      <td>-1.419978e-02</td>\n",
        "    </tr>\n",
        "    <tr>\n",
        "      <th>TPR</th>\n",
        "      <td>1.000000e+00</td>\n",
        "    </tr>\n",
        "    <tr>\n",
        "      <th>FPR</th>\n",
        "      <td>6.120995e-02</td>\n",
        "    </tr>\n",
        "    <tr>\n",
        "      <th>NPV</th>\n",
        "      <td>1.000000e+00</td>\n",
        "    </tr>\n",
        "    <tr>\n",
        "      <th>FP</th>\n",
        "      <td>4.379320e+05</td>\n",
        "    </tr>\n",
        "    <tr>\n",
        "      <th>FN</th>\n",
        "      <td>0.000000e+00</td>\n",
        "    </tr>\n",
        "    <tr>\n",
        "      <th>PPV</th>\n",
        "      <td>2.946092e-03</td>\n",
        "    </tr>\n",
        "    <tr>\n",
        "      <th rowspan=\"19\" valign=\"top\">0_to_9</th>\n",
        "      <th>ACC</th>\n",
        "      <td>9.744870e-01</td>\n",
        "    </tr>\n",
        "    <tr>\n",
        "      <th>F1</th>\n",
        "      <td>0.000000e+00</td>\n",
        "    </tr>\n",
        "    <tr>\n",
        "      <th>FNR</th>\n",
        "      <td>NaN</td>\n",
        "    </tr>\n",
        "    <tr>\n",
        "      <th>TNR</th>\n",
        "      <td>9.744870e-01</td>\n",
        "    </tr>\n",
        "    <tr>\n",
        "      <th>BM</th>\n",
        "      <td>NaN</td>\n",
        "    </tr>\n",
        "    <tr>\n",
        "      <th>corr_thr</th>\n",
        "      <td>-8.087002e-03</td>\n",
        "    </tr>\n",
        "    <tr>\n",
        "      <th>MCC</th>\n",
        "      <td>NaN</td>\n",
        "    </tr>\n",
        "    <tr>\n",
        "      <th>corr_thrbin</th>\n",
        "      <td>-1.551906e-02</td>\n",
        "    </tr>\n",
        "    <tr>\n",
        "      <th>MK</th>\n",
        "      <td>0.000000e+00</td>\n",
        "    </tr>\n",
        "    <tr>\n",
        "      <th>TN</th>\n",
        "      <td>6.972054e+06</td>\n",
        "    </tr>\n",
        "    <tr>\n",
        "      <th>TP</th>\n",
        "      <td>0.000000e+00</td>\n",
        "    </tr>\n",
        "    <tr>\n",
        "      <th>FDR</th>\n",
        "      <td>1.000000e+00</td>\n",
        "    </tr>\n",
        "    <tr>\n",
        "      <th>corr_nothr</th>\n",
        "      <td>-8.087002e-03</td>\n",
        "    </tr>\n",
        "    <tr>\n",
        "      <th>TPR</th>\n",
        "      <td>NaN</td>\n",
        "    </tr>\n",
        "    <tr>\n",
        "      <th>FPR</th>\n",
        "      <td>2.551300e-02</td>\n",
        "    </tr>\n",
        "    <tr>\n",
        "      <th>NPV</th>\n",
        "      <td>1.000000e+00</td>\n",
        "    </tr>\n",
        "    <tr>\n",
        "      <th>FP</th>\n",
        "      <td>1.825350e+05</td>\n",
        "    </tr>\n",
        "    <tr>\n",
        "      <th>FN</th>\n",
        "      <td>0.000000e+00</td>\n",
        "    </tr>\n",
        "    <tr>\n",
        "      <th>PPV</th>\n",
        "      <td>0.000000e+00</td>\n",
        "    </tr>\n",
        "  </tbody>\n",
        "</table>\n",
        "<p>190 rows \u00d7 1 columns</p>\n",
        "</div>"
       ],
       "metadata": {},
       "output_type": "pyout",
       "prompt_number": 52,
       "text": [
        "                                val\n",
        "structure metric                   \n",
        "0_to_0    ACC          1.000000e+00\n",
        "          F1                    NaN\n",
        "          FNR                   NaN\n",
        "          TNR          1.000000e+00\n",
        "          BM                    NaN\n",
        "          corr_thr              NaN\n",
        "          MCC                   NaN\n",
        "          corr_thrbin           NaN\n",
        "          MK                    NaN\n",
        "          TN           7.154589e+06\n",
        "          TP           0.000000e+00\n",
        "          FDR                   NaN\n",
        "          corr_nothr            NaN\n",
        "          TPR                   NaN\n",
        "          FPR          0.000000e+00\n",
        "          NPV          1.000000e+00\n",
        "          FP           0.000000e+00\n",
        "          FN           0.000000e+00\n",
        "          PPV                   NaN\n",
        "0_to_1    ACC          9.775258e-01\n",
        "          F1           7.208954e-04\n",
        "          FNR          0.000000e+00\n",
        "          TNR          9.775256e-01\n",
        "          BM           9.775256e-01\n",
        "          corr_thr    -7.156460e-03\n",
        "          MCC          1.877429e-02\n",
        "          corr_thrbin -1.397583e-02\n",
        "          MK           3.605777e-04\n",
        "          TN           6.993794e+06\n",
        "          TP           5.800000e+01\n",
        "...                             ...\n",
        "0_to_8    MK           2.946092e-03\n",
        "          TN           6.716657e+06\n",
        "          TP           1.294000e+03\n",
        "          FDR          9.970539e-01\n",
        "          corr_nothr  -1.419978e-02\n",
        "          TPR          1.000000e+00\n",
        "          FPR          6.120995e-02\n",
        "          NPV          1.000000e+00\n",
        "          FP           4.379320e+05\n",
        "          FN           0.000000e+00\n",
        "          PPV          2.946092e-03\n",
        "0_to_9    ACC          9.744870e-01\n",
        "          F1           0.000000e+00\n",
        "          FNR                   NaN\n",
        "          TNR          9.744870e-01\n",
        "          BM                    NaN\n",
        "          corr_thr    -8.087002e-03\n",
        "          MCC                   NaN\n",
        "          corr_thrbin -1.551906e-02\n",
        "          MK           0.000000e+00\n",
        "          TN           6.972054e+06\n",
        "          TP           0.000000e+00\n",
        "          FDR          1.000000e+00\n",
        "          corr_nothr  -8.087002e-03\n",
        "          TPR                   NaN\n",
        "          FPR          2.551300e-02\n",
        "          NPV          1.000000e+00\n",
        "          FP           1.825350e+05\n",
        "          FN           0.000000e+00\n",
        "          PPV          0.000000e+00\n",
        "\n",
        "[190 rows x 1 columns]"
       ]
      }
     ],
     "prompt_number": 52
    },
    {
     "cell_type": "markdown",
     "metadata": {},
     "source": [
      "canonical connectome"
     ]
    },
    {
     "cell_type": "code",
     "collapsed": false,
     "input": [
      "import pandas as pd"
     ],
     "language": "python",
     "metadata": {
      "run_control": {
       "state": "n"
      }
     },
     "outputs": [],
     "prompt_number": 29
    },
    {
     "cell_type": "code",
     "collapsed": false,
     "input": [
      "df = pd.read_hdf('../atlases/volumetric/dipy_dsi_l2k8_sc33/cancon_l2k8_sc33.h5', 'df_cm_avg')"
     ],
     "language": "python",
     "metadata": {
      "run_control": {
       "state": "n"
      }
     },
     "outputs": [
      {
       "output_type": "stream",
       "stream": "stdout",
       "text": [
        "Opening ../atlases/volumetric/dipy_dsi_l2k8_sc33/cancon_l2k8_sc33.h5 in read-only mode\n"
       ]
      }
     ],
     "prompt_number": 30
    },
    {
     "cell_type": "code",
     "collapsed": false,
     "input": [
      "import numpy as np"
     ],
     "language": "python",
     "metadata": {
      "run_control": {
       "state": "n"
      }
     },
     "outputs": [],
     "prompt_number": 34
    },
    {
     "cell_type": "code",
     "collapsed": false,
     "input": [
      "mask = (df.values!=0)*((np.eye(df.shape[0])*-1)+1)==False\n",
      "sns.heatmap(np.log1p(df.values), xticklabels='',yticklabels='',\n",
      "            mask=mask)"
     ],
     "language": "python",
     "metadata": {
      "run_control": {
       "state": "n"
      }
     },
     "outputs": [
      {
       "metadata": {},
       "output_type": "pyout",
       "prompt_number": 44,
       "text": [
        "<matplotlib.axes._subplots.AxesSubplot at 0x7fe3326d0e10>"
       ]
      },
      {
       "metadata": {},
       "output_type": "display_data",
       "png": "[encoded data removed]",
       "text": [
        "<matplotlib.figure.Figure at 0x7fe3326b16d0>"
       ]
      }
     ],
     "prompt_number": 44
    },
    {
     "cell_type": "heading",
     "level": 2,
     "metadata": {},
     "source": [
      "Graveyard"
     ]
    },
    {
     "cell_type": "code",
     "collapsed": false,
     "input": [
      "len(res)"
     ],
     "language": "python",
     "metadata": {
      "run_control": {
       "state": "n"
      }
     },
     "outputs": [
      {
       "metadata": {},
       "output_type": "pyout",
       "prompt_number": 15,
       "text": [
        "20"
       ]
      }
     ],
     "prompt_number": 15
    },
    {
     "cell_type": "code",
     "collapsed": false,
     "input": [
      "res[0]"
     ],
     "language": "python",
     "metadata": {
      "run_control": {
       "state": "n"
      }
     },
     "outputs": [
      {
       "metadata": {},
       "output_type": "pyout",
       "prompt_number": 16,
       "text": [
        "['Anterior thalamic radiation L',\n",
        " '/usr/share/fsl/data/atlases/JHU/JHU-ICBM-tracts-prob-2mm.nii.gz',\n",
        " 0,\n",
        " {'ACC': 0.98796847874375848,\n",
        "  'BM': 0.98795168693024293,\n",
        "  'F1': 0.1880980861244019,\n",
        "  'FDR': 0.89618748968476647,\n",
        "  'FN': 0,\n",
        "  'FNR': 0.0,\n",
        "  'FP': 10860.0,\n",
        "  'FPR': 0.01204831306975707,\n",
        "  'MCC': 0.32025262635987578,\n",
        "  'MK': 0.10381251031523364,\n",
        "  'NPV': 1,\n",
        "  'PPV': 0.10381251031523353,\n",
        "  'TN': 890511,\n",
        "  'TNR': 0.98795168693024293,\n",
        "  'TP': 1258.0,\n",
        "  'TPR': 1.0,\n",
        "  'corr_nothr': 0.86519832016660103,\n",
        "  'corr_thr': 0.86519832016660103,\n",
        "  'corr_thrbin': 0.32025262635987012}]"
       ]
      }
     ],
     "prompt_number": 16
    },
    {
     "cell_type": "code",
     "collapsed": false,
     "input": [
      "df.unstack('structure').ix['corr_thrbin'].plot(kind='bar')"
     ],
     "language": "python",
     "metadata": {
      "run_control": {
       "state": "n"
      }
     },
     "outputs": [
      {
       "metadata": {},
       "output_type": "pyout",
       "prompt_number": 28,
       "text": [
        "<matplotlib.axes._subplots.AxesSubplot at 0x7fece86dfb50>"
       ]
      },
      {
       "metadata": {},
       "output_type": "display_data",
       "png": "[encoded data removed]",
       "text": [
        "<matplotlib.figure.Figure at 0x7fecf4e37f90>"
       ]
      }
     ],
     "prompt_number": 28
    },
    {
     "cell_type": "code",
     "collapsed": false,
     "input": [
      "# this is right I think; made the roi from the first image, which is anterior thalamic radiation"
     ],
     "language": "python",
     "metadata": {
      "run_control": {
       "state": "n"
      }
     },
     "outputs": [],
     "prompt_number": 32
    },
    {
     "cell_type": "code",
     "collapsed": false,
     "input": [
      "va.atlas_info['mappings'][0]"
     ],
     "language": "python",
     "metadata": {
      "run_control": {
       "state": "n"
      }
     },
     "outputs": [
      {
       "metadata": {},
       "output_type": "pyout",
       "prompt_number": 31,
       "text": [
        "['Anterior thalamic radiation L',\n",
        " '/usr/share/fsl/data/atlases/JHU/JHU-ICBM-tracts-prob-2mm.nii.gz',\n",
        " 0]"
       ]
      }
     ],
     "prompt_number": 31
    },
    {
     "cell_type": "code",
     "collapsed": false,
     "input": [],
     "language": "python",
     "metadata": {
      "run_control": {
       "state": "n"
      }
     },
     "outputs": []
    }
   ],
   "metadata": {}
  }
 ]
}